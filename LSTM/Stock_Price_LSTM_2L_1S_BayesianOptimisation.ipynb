{
  "nbformat": 4,
  "nbformat_minor": 0,
  "metadata": {
    "colab": {
      "provenance": [],
      "toc_visible": true
    },
    "kernelspec": {
      "name": "python3",
      "display_name": "Python 3"
    },
    "language_info": {
      "name": "python"
    }
  },
  "cells": [
    {
      "cell_type": "markdown",
      "source": [
        "**This Notebook has the best performing model for LSTM**\n",
        "\n",
        "\n",
        "Architecture\n",
        "\n",
        "4 Hidden Layers\n",
        "\n",
        "2 Stacks of LSTM"
      ],
      "metadata": {
        "id": "p8qp7Pz1Lr--"
      }
    },
    {
      "cell_type": "markdown",
      "source": [
        "#Imports"
      ],
      "metadata": {
        "id": "hAaj8cj_NgpT"
      }
    },
    {
      "cell_type": "code",
      "execution_count": 75,
      "metadata": {
        "id": "vvBFGth2MI96"
      },
      "outputs": [],
      "source": [
        "import pandas as pd\n",
        "import numpy as np\n",
        "import matplotlib.pyplot as plt\n",
        "import torch\n",
        "import torch.nn as nn\n",
        "from copy import deepcopy as dc\n",
        "from sklearn.preprocessing import MinMaxScaler\n",
        "from torch.utils.data import Dataset\n",
        "from torch.utils.data import DataLoader\n"
      ]
    },
    {
      "cell_type": "markdown",
      "source": [
        "#Data Pipeline Functions"
      ],
      "metadata": {
        "id": "lwg1D4oqR9Jn"
      }
    },
    {
      "cell_type": "code",
      "source": [
        "def data(filename):\n",
        "  df = pd.read_csv(filename)\n",
        "  df = df[['Date','Close']]\n",
        "  df[\"Date\"] = pd.to_datetime(df['Date'])\n",
        "  return df"
      ],
      "metadata": {
        "id": "8heTIRYKQ9Ps"
      },
      "execution_count": 76,
      "outputs": []
    },
    {
      "cell_type": "code",
      "source": [
        "def split_data(stock_tr,stock_ts, lookback):\n",
        "    data_raw_tr = stock_tr.to_numpy()\n",
        "    data_tr = []\n",
        "    for index in range(len(data_raw_tr) - lookback):\n",
        "        data_tr.append(data_raw_tr[index: index + lookback])\n",
        "\n",
        "    data_raw_ts = stock_ts.to_numpy()\n",
        "    data_ts = []\n",
        "\n",
        "    for index in range(len(data_raw_ts) - lookback):\n",
        "        data_ts.append(data_raw_ts[index: index + lookback])\n",
        "\n",
        "    data_tr = np.array(data_tr);\n",
        "    data_ts = np.array(data_ts);\n",
        "\n",
        "    x_train = data_tr[:,:-1,:]\n",
        "    y_train = data_tr[:,-1,:]\n",
        "\n",
        "    x_test = data_ts[:,:-1]\n",
        "    y_test = data_ts[:,-1,:]\n",
        "\n",
        "    return [x_train, y_train, x_test, y_test]"
      ],
      "metadata": {
        "id": "exoUFlrqGCfm"
      },
      "execution_count": 77,
      "outputs": []
    },
    {
      "cell_type": "code",
      "source": [
        "class TimeSeriesDataset(Dataset):\n",
        "    def __init__(self, X, y):\n",
        "        self.X = X\n",
        "        self.y = y\n",
        "\n",
        "    def __len__(self):\n",
        "        return len(self.X)\n",
        "\n",
        "    def __getitem__(self, i):\n",
        "        return self.X[i], self.y[i]"
      ],
      "metadata": {
        "id": "nDQpBgtAcOLK"
      },
      "execution_count": 78,
      "outputs": []
    },
    {
      "cell_type": "code",
      "source": [
        "device = 'cuda:0' if torch.cuda.is_available() else 'cpu'\n",
        "device"
      ],
      "metadata": {
        "colab": {
          "base_uri": "https://localhost:8080/",
          "height": 35
        },
        "id": "LgVV7zBA-Ifx",
        "outputId": "a0177a7a-25b9-4870-a2e4-2336394d14d2"
      },
      "execution_count": 79,
      "outputs": [
        {
          "output_type": "execute_result",
          "data": {
            "text/plain": [
              "'cpu'"
            ],
            "application/vnd.google.colaboratory.intrinsic+json": {
              "type": "string"
            }
          },
          "metadata": {},
          "execution_count": 79
        }
      ]
    },
    {
      "cell_type": "markdown",
      "source": [
        "#Load Data"
      ],
      "metadata": {
        "id": "5M58xUHzNkTv"
      }
    },
    {
      "cell_type": "code",
      "source": [
        "main_df = data(\"/content/drive/MyDrive/STOCK PRICE PRED/NSE_train.csv\")"
      ],
      "metadata": {
        "id": "owREpY5RRnON"
      },
      "execution_count": 80,
      "outputs": []
    },
    {
      "cell_type": "code",
      "source": [
        "test_df = data(\"/content/drive/MyDrive/STOCK PRICE PRED/NSE_test.csv\")"
      ],
      "metadata": {
        "id": "CPB6hgzic6Cl"
      },
      "execution_count": 81,
      "outputs": []
    },
    {
      "cell_type": "code",
      "source": [
        "test_df.info()"
      ],
      "metadata": {
        "colab": {
          "base_uri": "https://localhost:8080/"
        },
        "id": "k-TBDuRbdD2Q",
        "outputId": "509a2ce3-4db4-4b77-d449-295de496fd90"
      },
      "execution_count": 82,
      "outputs": [
        {
          "output_type": "stream",
          "name": "stdout",
          "text": [
            "<class 'pandas.core.frame.DataFrame'>\n",
            "RangeIndex: 51 entries, 0 to 50\n",
            "Data columns (total 2 columns):\n",
            " #   Column  Non-Null Count  Dtype         \n",
            "---  ------  --------------  -----         \n",
            " 0   Date    51 non-null     datetime64[ns]\n",
            " 1   Close   51 non-null     float64       \n",
            "dtypes: datetime64[ns](1), float64(1)\n",
            "memory usage: 944.0 bytes\n"
          ]
        }
      ]
    },
    {
      "cell_type": "code",
      "source": [
        "main_df.info()"
      ],
      "metadata": {
        "colab": {
          "base_uri": "https://localhost:8080/"
        },
        "id": "ruyWWP9ZRvKT",
        "outputId": "ff3212cf-78c0-45ff-8590-f55bbaebc853"
      },
      "execution_count": 83,
      "outputs": [
        {
          "output_type": "stream",
          "name": "stdout",
          "text": [
            "<class 'pandas.core.frame.DataFrame'>\n",
            "RangeIndex: 991 entries, 0 to 990\n",
            "Data columns (total 2 columns):\n",
            " #   Column  Non-Null Count  Dtype         \n",
            "---  ------  --------------  -----         \n",
            " 0   Date    991 non-null    datetime64[ns]\n",
            " 1   Close   991 non-null    float64       \n",
            "dtypes: datetime64[ns](1), float64(1)\n",
            "memory usage: 15.6 KB\n"
          ]
        }
      ]
    },
    {
      "cell_type": "markdown",
      "source": [
        "#Scale Features"
      ],
      "metadata": {
        "id": "myDsC1D5FbJn"
      }
    },
    {
      "cell_type": "code",
      "source": [
        "price_train = main_df[['Close']]\n",
        "\n",
        "scaler = MinMaxScaler(feature_range=(-1, 1))\n",
        "price_train['Close'] = scaler.fit_transform(price_train['Close'].values.reshape(-1,1))\n",
        "print(price_train.head())\n",
        "print(price_train.shape)\n",
        "\n",
        "price_test = test_df[['Close']]\n",
        "\n",
        "scaler = MinMaxScaler(feature_range=(-1, 1))\n",
        "price_test['Close'] = scaler.fit_transform(price_test['Close'].values.reshape(-1,1))\n",
        "print(price_test.shape)"
      ],
      "metadata": {
        "colab": {
          "base_uri": "https://localhost:8080/"
        },
        "id": "nInMc5ZrFKoE",
        "outputId": "2fcfb3e5-1161-4004-945e-1a4008088341"
      },
      "execution_count": 84,
      "outputs": [
        {
          "output_type": "stream",
          "name": "stdout",
          "text": [
            "      Close\n",
            "0 -0.354587\n",
            "1 -0.340514\n",
            "2 -0.348355\n",
            "3 -0.381330\n",
            "4 -0.372874\n",
            "(991, 1)\n",
            "(51, 1)\n"
          ]
        },
        {
          "output_type": "stream",
          "name": "stderr",
          "text": [
            "<ipython-input-84-4d2e8f9f7ed6>:4: SettingWithCopyWarning: \n",
            "A value is trying to be set on a copy of a slice from a DataFrame.\n",
            "Try using .loc[row_indexer,col_indexer] = value instead\n",
            "\n",
            "See the caveats in the documentation: https://pandas.pydata.org/pandas-docs/stable/user_guide/indexing.html#returning-a-view-versus-a-copy\n",
            "  price_train['Close'] = scaler.fit_transform(price_train['Close'].values.reshape(-1,1))\n",
            "<ipython-input-84-4d2e8f9f7ed6>:11: SettingWithCopyWarning: \n",
            "A value is trying to be set on a copy of a slice from a DataFrame.\n",
            "Try using .loc[row_indexer,col_indexer] = value instead\n",
            "\n",
            "See the caveats in the documentation: https://pandas.pydata.org/pandas-docs/stable/user_guide/indexing.html#returning-a-view-versus-a-copy\n",
            "  price_test['Close'] = scaler.fit_transform(price_test['Close'].values.reshape(-1,1))\n"
          ]
        }
      ]
    },
    {
      "cell_type": "code",
      "source": [
        "price_train"
      ],
      "metadata": {
        "colab": {
          "base_uri": "https://localhost:8080/",
          "height": 423
        },
        "id": "ZTQWlliRFh5-",
        "outputId": "d280b059-ccc0-4e27-8831-6738e4dfffb9"
      },
      "execution_count": 85,
      "outputs": [
        {
          "output_type": "execute_result",
          "data": {
            "text/plain": [
              "        Close\n",
              "0   -0.354587\n",
              "1   -0.340514\n",
              "2   -0.348355\n",
              "3   -0.381330\n",
              "4   -0.372874\n",
              "..        ...\n",
              "986  0.939401\n",
              "987  0.952380\n",
              "988  0.982503\n",
              "989  1.000000\n",
              "990  0.993323\n",
              "\n",
              "[991 rows x 1 columns]"
            ],
            "text/html": [
              "\n",
              "  <div id=\"df-daa0b814-1420-480d-b3d7-22711a0d2e06\" class=\"colab-df-container\">\n",
              "    <div>\n",
              "<style scoped>\n",
              "    .dataframe tbody tr th:only-of-type {\n",
              "        vertical-align: middle;\n",
              "    }\n",
              "\n",
              "    .dataframe tbody tr th {\n",
              "        vertical-align: top;\n",
              "    }\n",
              "\n",
              "    .dataframe thead th {\n",
              "        text-align: right;\n",
              "    }\n",
              "</style>\n",
              "<table border=\"1\" class=\"dataframe\">\n",
              "  <thead>\n",
              "    <tr style=\"text-align: right;\">\n",
              "      <th></th>\n",
              "      <th>Close</th>\n",
              "    </tr>\n",
              "  </thead>\n",
              "  <tbody>\n",
              "    <tr>\n",
              "      <th>0</th>\n",
              "      <td>-0.354587</td>\n",
              "    </tr>\n",
              "    <tr>\n",
              "      <th>1</th>\n",
              "      <td>-0.340514</td>\n",
              "    </tr>\n",
              "    <tr>\n",
              "      <th>2</th>\n",
              "      <td>-0.348355</td>\n",
              "    </tr>\n",
              "    <tr>\n",
              "      <th>3</th>\n",
              "      <td>-0.381330</td>\n",
              "    </tr>\n",
              "    <tr>\n",
              "      <th>4</th>\n",
              "      <td>-0.372874</td>\n",
              "    </tr>\n",
              "    <tr>\n",
              "      <th>...</th>\n",
              "      <td>...</td>\n",
              "    </tr>\n",
              "    <tr>\n",
              "      <th>986</th>\n",
              "      <td>0.939401</td>\n",
              "    </tr>\n",
              "    <tr>\n",
              "      <th>987</th>\n",
              "      <td>0.952380</td>\n",
              "    </tr>\n",
              "    <tr>\n",
              "      <th>988</th>\n",
              "      <td>0.982503</td>\n",
              "    </tr>\n",
              "    <tr>\n",
              "      <th>989</th>\n",
              "      <td>1.000000</td>\n",
              "    </tr>\n",
              "    <tr>\n",
              "      <th>990</th>\n",
              "      <td>0.993323</td>\n",
              "    </tr>\n",
              "  </tbody>\n",
              "</table>\n",
              "<p>991 rows × 1 columns</p>\n",
              "</div>\n",
              "    <div class=\"colab-df-buttons\">\n",
              "\n",
              "  <div class=\"colab-df-container\">\n",
              "    <button class=\"colab-df-convert\" onclick=\"convertToInteractive('df-daa0b814-1420-480d-b3d7-22711a0d2e06')\"\n",
              "            title=\"Convert this dataframe to an interactive table.\"\n",
              "            style=\"display:none;\">\n",
              "\n",
              "  <svg xmlns=\"http://www.w3.org/2000/svg\" height=\"24px\" viewBox=\"0 -960 960 960\">\n",
              "    <path d=\"M120-120v-720h720v720H120Zm60-500h600v-160H180v160Zm220 220h160v-160H400v160Zm0 220h160v-160H400v160ZM180-400h160v-160H180v160Zm440 0h160v-160H620v160ZM180-180h160v-160H180v160Zm440 0h160v-160H620v160Z\"/>\n",
              "  </svg>\n",
              "    </button>\n",
              "\n",
              "  <style>\n",
              "    .colab-df-container {\n",
              "      display:flex;\n",
              "      gap: 12px;\n",
              "    }\n",
              "\n",
              "    .colab-df-convert {\n",
              "      background-color: #E8F0FE;\n",
              "      border: none;\n",
              "      border-radius: 50%;\n",
              "      cursor: pointer;\n",
              "      display: none;\n",
              "      fill: #1967D2;\n",
              "      height: 32px;\n",
              "      padding: 0 0 0 0;\n",
              "      width: 32px;\n",
              "    }\n",
              "\n",
              "    .colab-df-convert:hover {\n",
              "      background-color: #E2EBFA;\n",
              "      box-shadow: 0px 1px 2px rgba(60, 64, 67, 0.3), 0px 1px 3px 1px rgba(60, 64, 67, 0.15);\n",
              "      fill: #174EA6;\n",
              "    }\n",
              "\n",
              "    .colab-df-buttons div {\n",
              "      margin-bottom: 4px;\n",
              "    }\n",
              "\n",
              "    [theme=dark] .colab-df-convert {\n",
              "      background-color: #3B4455;\n",
              "      fill: #D2E3FC;\n",
              "    }\n",
              "\n",
              "    [theme=dark] .colab-df-convert:hover {\n",
              "      background-color: #434B5C;\n",
              "      box-shadow: 0px 1px 3px 1px rgba(0, 0, 0, 0.15);\n",
              "      filter: drop-shadow(0px 1px 2px rgba(0, 0, 0, 0.3));\n",
              "      fill: #FFFFFF;\n",
              "    }\n",
              "  </style>\n",
              "\n",
              "    <script>\n",
              "      const buttonEl =\n",
              "        document.querySelector('#df-daa0b814-1420-480d-b3d7-22711a0d2e06 button.colab-df-convert');\n",
              "      buttonEl.style.display =\n",
              "        google.colab.kernel.accessAllowed ? 'block' : 'none';\n",
              "\n",
              "      async function convertToInteractive(key) {\n",
              "        const element = document.querySelector('#df-daa0b814-1420-480d-b3d7-22711a0d2e06');\n",
              "        const dataTable =\n",
              "          await google.colab.kernel.invokeFunction('convertToInteractive',\n",
              "                                                    [key], {});\n",
              "        if (!dataTable) return;\n",
              "\n",
              "        const docLinkHtml = 'Like what you see? Visit the ' +\n",
              "          '<a target=\"_blank\" href=https://colab.research.google.com/notebooks/data_table.ipynb>data table notebook</a>'\n",
              "          + ' to learn more about interactive tables.';\n",
              "        element.innerHTML = '';\n",
              "        dataTable['output_type'] = 'display_data';\n",
              "        await google.colab.output.renderOutput(dataTable, element);\n",
              "        const docLink = document.createElement('div');\n",
              "        docLink.innerHTML = docLinkHtml;\n",
              "        element.appendChild(docLink);\n",
              "      }\n",
              "    </script>\n",
              "  </div>\n",
              "\n",
              "\n",
              "<div id=\"df-426f2960-acc3-4581-b089-a63396424b3a\">\n",
              "  <button class=\"colab-df-quickchart\" onclick=\"quickchart('df-426f2960-acc3-4581-b089-a63396424b3a')\"\n",
              "            title=\"Suggest charts\"\n",
              "            style=\"display:none;\">\n",
              "\n",
              "<svg xmlns=\"http://www.w3.org/2000/svg\" height=\"24px\"viewBox=\"0 0 24 24\"\n",
              "     width=\"24px\">\n",
              "    <g>\n",
              "        <path d=\"M19 3H5c-1.1 0-2 .9-2 2v14c0 1.1.9 2 2 2h14c1.1 0 2-.9 2-2V5c0-1.1-.9-2-2-2zM9 17H7v-7h2v7zm4 0h-2V7h2v10zm4 0h-2v-4h2v4z\"/>\n",
              "    </g>\n",
              "</svg>\n",
              "  </button>\n",
              "\n",
              "<style>\n",
              "  .colab-df-quickchart {\n",
              "      --bg-color: #E8F0FE;\n",
              "      --fill-color: #1967D2;\n",
              "      --hover-bg-color: #E2EBFA;\n",
              "      --hover-fill-color: #174EA6;\n",
              "      --disabled-fill-color: #AAA;\n",
              "      --disabled-bg-color: #DDD;\n",
              "  }\n",
              "\n",
              "  [theme=dark] .colab-df-quickchart {\n",
              "      --bg-color: #3B4455;\n",
              "      --fill-color: #D2E3FC;\n",
              "      --hover-bg-color: #434B5C;\n",
              "      --hover-fill-color: #FFFFFF;\n",
              "      --disabled-bg-color: #3B4455;\n",
              "      --disabled-fill-color: #666;\n",
              "  }\n",
              "\n",
              "  .colab-df-quickchart {\n",
              "    background-color: var(--bg-color);\n",
              "    border: none;\n",
              "    border-radius: 50%;\n",
              "    cursor: pointer;\n",
              "    display: none;\n",
              "    fill: var(--fill-color);\n",
              "    height: 32px;\n",
              "    padding: 0;\n",
              "    width: 32px;\n",
              "  }\n",
              "\n",
              "  .colab-df-quickchart:hover {\n",
              "    background-color: var(--hover-bg-color);\n",
              "    box-shadow: 0 1px 2px rgba(60, 64, 67, 0.3), 0 1px 3px 1px rgba(60, 64, 67, 0.15);\n",
              "    fill: var(--button-hover-fill-color);\n",
              "  }\n",
              "\n",
              "  .colab-df-quickchart-complete:disabled,\n",
              "  .colab-df-quickchart-complete:disabled:hover {\n",
              "    background-color: var(--disabled-bg-color);\n",
              "    fill: var(--disabled-fill-color);\n",
              "    box-shadow: none;\n",
              "  }\n",
              "\n",
              "  .colab-df-spinner {\n",
              "    border: 2px solid var(--fill-color);\n",
              "    border-color: transparent;\n",
              "    border-bottom-color: var(--fill-color);\n",
              "    animation:\n",
              "      spin 1s steps(1) infinite;\n",
              "  }\n",
              "\n",
              "  @keyframes spin {\n",
              "    0% {\n",
              "      border-color: transparent;\n",
              "      border-bottom-color: var(--fill-color);\n",
              "      border-left-color: var(--fill-color);\n",
              "    }\n",
              "    20% {\n",
              "      border-color: transparent;\n",
              "      border-left-color: var(--fill-color);\n",
              "      border-top-color: var(--fill-color);\n",
              "    }\n",
              "    30% {\n",
              "      border-color: transparent;\n",
              "      border-left-color: var(--fill-color);\n",
              "      border-top-color: var(--fill-color);\n",
              "      border-right-color: var(--fill-color);\n",
              "    }\n",
              "    40% {\n",
              "      border-color: transparent;\n",
              "      border-right-color: var(--fill-color);\n",
              "      border-top-color: var(--fill-color);\n",
              "    }\n",
              "    60% {\n",
              "      border-color: transparent;\n",
              "      border-right-color: var(--fill-color);\n",
              "    }\n",
              "    80% {\n",
              "      border-color: transparent;\n",
              "      border-right-color: var(--fill-color);\n",
              "      border-bottom-color: var(--fill-color);\n",
              "    }\n",
              "    90% {\n",
              "      border-color: transparent;\n",
              "      border-bottom-color: var(--fill-color);\n",
              "    }\n",
              "  }\n",
              "</style>\n",
              "\n",
              "  <script>\n",
              "    async function quickchart(key) {\n",
              "      const quickchartButtonEl =\n",
              "        document.querySelector('#' + key + ' button');\n",
              "      quickchartButtonEl.disabled = true;  // To prevent multiple clicks.\n",
              "      quickchartButtonEl.classList.add('colab-df-spinner');\n",
              "      try {\n",
              "        const charts = await google.colab.kernel.invokeFunction(\n",
              "            'suggestCharts', [key], {});\n",
              "      } catch (error) {\n",
              "        console.error('Error during call to suggestCharts:', error);\n",
              "      }\n",
              "      quickchartButtonEl.classList.remove('colab-df-spinner');\n",
              "      quickchartButtonEl.classList.add('colab-df-quickchart-complete');\n",
              "    }\n",
              "    (() => {\n",
              "      let quickchartButtonEl =\n",
              "        document.querySelector('#df-426f2960-acc3-4581-b089-a63396424b3a button');\n",
              "      quickchartButtonEl.style.display =\n",
              "        google.colab.kernel.accessAllowed ? 'block' : 'none';\n",
              "    })();\n",
              "  </script>\n",
              "</div>\n",
              "\n",
              "  <div id=\"id_442afb7d-bf41-476f-9f15-8311fbe06cee\">\n",
              "    <style>\n",
              "      .colab-df-generate {\n",
              "        background-color: #E8F0FE;\n",
              "        border: none;\n",
              "        border-radius: 50%;\n",
              "        cursor: pointer;\n",
              "        display: none;\n",
              "        fill: #1967D2;\n",
              "        height: 32px;\n",
              "        padding: 0 0 0 0;\n",
              "        width: 32px;\n",
              "      }\n",
              "\n",
              "      .colab-df-generate:hover {\n",
              "        background-color: #E2EBFA;\n",
              "        box-shadow: 0px 1px 2px rgba(60, 64, 67, 0.3), 0px 1px 3px 1px rgba(60, 64, 67, 0.15);\n",
              "        fill: #174EA6;\n",
              "      }\n",
              "\n",
              "      [theme=dark] .colab-df-generate {\n",
              "        background-color: #3B4455;\n",
              "        fill: #D2E3FC;\n",
              "      }\n",
              "\n",
              "      [theme=dark] .colab-df-generate:hover {\n",
              "        background-color: #434B5C;\n",
              "        box-shadow: 0px 1px 3px 1px rgba(0, 0, 0, 0.15);\n",
              "        filter: drop-shadow(0px 1px 2px rgba(0, 0, 0, 0.3));\n",
              "        fill: #FFFFFF;\n",
              "      }\n",
              "    </style>\n",
              "    <button class=\"colab-df-generate\" onclick=\"generateWithVariable('price_train')\"\n",
              "            title=\"Generate code using this dataframe.\"\n",
              "            style=\"display:none;\">\n",
              "\n",
              "  <svg xmlns=\"http://www.w3.org/2000/svg\" height=\"24px\"viewBox=\"0 0 24 24\"\n",
              "       width=\"24px\">\n",
              "    <path d=\"M7,19H8.4L18.45,9,17,7.55,7,17.6ZM5,21V16.75L18.45,3.32a2,2,0,0,1,2.83,0l1.4,1.43a1.91,1.91,0,0,1,.58,1.4,1.91,1.91,0,0,1-.58,1.4L9.25,21ZM18.45,9,17,7.55Zm-12,3A5.31,5.31,0,0,0,4.9,8.1,5.31,5.31,0,0,0,1,6.5,5.31,5.31,0,0,0,4.9,4.9,5.31,5.31,0,0,0,6.5,1,5.31,5.31,0,0,0,8.1,4.9,5.31,5.31,0,0,0,12,6.5,5.46,5.46,0,0,0,6.5,12Z\"/>\n",
              "  </svg>\n",
              "    </button>\n",
              "    <script>\n",
              "      (() => {\n",
              "      const buttonEl =\n",
              "        document.querySelector('#id_442afb7d-bf41-476f-9f15-8311fbe06cee button.colab-df-generate');\n",
              "      buttonEl.style.display =\n",
              "        google.colab.kernel.accessAllowed ? 'block' : 'none';\n",
              "\n",
              "      buttonEl.onclick = () => {\n",
              "        google.colab.notebook.generateWithVariable('price_train');\n",
              "      }\n",
              "      })();\n",
              "    </script>\n",
              "  </div>\n",
              "\n",
              "    </div>\n",
              "  </div>\n"
            ],
            "application/vnd.google.colaboratory.intrinsic+json": {
              "type": "dataframe",
              "variable_name": "price_train",
              "summary": "{\n  \"name\": \"price_train\",\n  \"rows\": 991,\n  \"fields\": [\n    {\n      \"column\": \"Close\",\n      \"properties\": {\n        \"dtype\": \"number\",\n        \"std\": 0.4409835556116085,\n        \"min\": -0.9999999999999998,\n        \"max\": 1.0000000000000004,\n        \"num_unique_values\": 987,\n        \"samples\": [\n          -0.0005327914162269742,\n          -0.5029025759534482,\n          0.4307353238365508\n        ],\n        \"semantic_type\": \"\",\n        \"description\": \"\"\n      }\n    }\n  ]\n}"
            }
          },
          "metadata": {},
          "execution_count": 85
        }
      ]
    },
    {
      "cell_type": "markdown",
      "source": [
        "#Prepare Historical Dataset for LSTM training and testing"
      ],
      "metadata": {
        "id": "0nCmdnHuNvsZ"
      }
    },
    {
      "cell_type": "markdown",
      "source": [
        "create a dataset that has historical value upto a week before, leading up to the current price"
      ],
      "metadata": {
        "id": "w4iPYXkPC14s"
      }
    },
    {
      "cell_type": "code",
      "source": [
        "lookback = 7\n",
        "X, y, X_test, y_test = split_data(price_train,price_test, lookback)\n",
        "print('x_train.shape = ',X.shape)\n",
        "print('y_train.shape = ',y.shape)\n",
        "print('x_test.shape = ',X_test.shape)\n",
        "print('y_test.shape = ',y_test.shape)"
      ],
      "metadata": {
        "colab": {
          "base_uri": "https://localhost:8080/"
        },
        "id": "7YbVaSBDHBU5",
        "outputId": "e8837f15-f598-41d5-cbff-dbaee1f5dae6"
      },
      "execution_count": 86,
      "outputs": [
        {
          "output_type": "stream",
          "name": "stdout",
          "text": [
            "x_train.shape =  (984, 6, 1)\n",
            "y_train.shape =  (984, 1)\n",
            "x_test.shape =  (44, 6, 1)\n",
            "y_test.shape =  (44, 1)\n"
          ]
        }
      ]
    },
    {
      "cell_type": "markdown",
      "source": [
        "#Split into train-val"
      ],
      "metadata": {
        "id": "TfYhnMUeGfSB"
      }
    },
    {
      "cell_type": "code",
      "source": [
        "split_index = int(len(X) * 0.95)\n",
        "\n",
        "X_train = X[:split_index]\n",
        "X_val = X[split_index:]\n",
        "\n",
        "y_train = y[:split_index]\n",
        "y_val = y[split_index:]\n",
        "\n",
        "X_train.shape, X_val.shape, y_train.shape, y_val.shape"
      ],
      "metadata": {
        "colab": {
          "base_uri": "https://localhost:8080/"
        },
        "id": "H8Pj0hVcGejr",
        "outputId": "c7c136d3-348b-4185-b513-f46307e81882"
      },
      "execution_count": 87,
      "outputs": [
        {
          "output_type": "execute_result",
          "data": {
            "text/plain": [
              "((934, 6, 1), (50, 6, 1), (934, 1), (50, 1))"
            ]
          },
          "metadata": {},
          "execution_count": 87
        }
      ]
    },
    {
      "cell_type": "markdown",
      "source": [
        "#Make torch tensors, make a Dataset and wrap in Data loaders"
      ],
      "metadata": {
        "id": "ylOQ399VOJIU"
      }
    },
    {
      "cell_type": "markdown",
      "source": [
        "Wrap in torch tensors"
      ],
      "metadata": {
        "id": "ZZvalhyoDdc4"
      }
    },
    {
      "cell_type": "code",
      "source": [
        "X_train = torch.tensor(X_train).float()\n",
        "y_train = torch.tensor(y_train).float()\n",
        "X_val = torch.tensor(X_val).float()\n",
        "y_val = torch.tensor(y_val).float()\n",
        "\n",
        "X_train.shape, X_val.shape, y_train.shape, y_val.shape"
      ],
      "metadata": {
        "colab": {
          "base_uri": "https://localhost:8080/"
        },
        "id": "baSlLLOtCUSg",
        "outputId": "2c148879-1b1f-4280-ac37-83ff08c6343f"
      },
      "execution_count": 88,
      "outputs": [
        {
          "output_type": "execute_result",
          "data": {
            "text/plain": [
              "(torch.Size([934, 6, 1]),\n",
              " torch.Size([50, 6, 1]),\n",
              " torch.Size([934, 1]),\n",
              " torch.Size([50, 1]))"
            ]
          },
          "metadata": {},
          "execution_count": 88
        }
      ]
    },
    {
      "cell_type": "code",
      "source": [
        "X_test = torch.tensor(X_test).float()\n",
        "y_test = torch.tensor(y_test).float()\n",
        "\n",
        "X_test.shape, y_test.shape"
      ],
      "metadata": {
        "colab": {
          "base_uri": "https://localhost:8080/"
        },
        "id": "bYb4Gg9nd_MJ",
        "outputId": "19cbe033-ad0c-4bcd-cd0f-b642f44aebf4"
      },
      "execution_count": 89,
      "outputs": [
        {
          "output_type": "execute_result",
          "data": {
            "text/plain": [
              "(torch.Size([44, 6, 1]), torch.Size([44, 1]))"
            ]
          },
          "metadata": {},
          "execution_count": 89
        }
      ]
    },
    {
      "cell_type": "markdown",
      "source": [
        "Make a torch dataset"
      ],
      "metadata": {
        "id": "bhaR-0uODzZl"
      }
    },
    {
      "cell_type": "code",
      "source": [
        "train_dataset = TimeSeriesDataset(X_train, y_train)\n",
        "val_dataset = TimeSeriesDataset(X_val, y_val)\n",
        "unseen_dataset = TimeSeriesDataset(X_test, y_test)"
      ],
      "metadata": {
        "id": "trCLgPr7DmRv"
      },
      "execution_count": 90,
      "outputs": []
    },
    {
      "cell_type": "code",
      "source": [
        "train_dataset"
      ],
      "metadata": {
        "colab": {
          "base_uri": "https://localhost:8080/"
        },
        "id": "JHvpaStQDmV4",
        "outputId": "68ac66b6-9568-4381-cbb8-6038969f4715"
      },
      "execution_count": 91,
      "outputs": [
        {
          "output_type": "execute_result",
          "data": {
            "text/plain": [
              "<__main__.TimeSeriesDataset at 0x78259ce4d810>"
            ]
          },
          "metadata": {},
          "execution_count": 91
        }
      ]
    },
    {
      "cell_type": "markdown",
      "source": [
        "Wrap dataset in data loaders"
      ],
      "metadata": {
        "id": "GQEcHFBCELdD"
      }
    },
    {
      "cell_type": "code",
      "source": [
        "batch_size = 16\n",
        "\n",
        "train_loader = DataLoader(train_dataset, batch_size=batch_size, shuffle=True)\n",
        "val_loader = DataLoader(val_dataset, batch_size=batch_size, shuffle=False)\n",
        "unseen_loader = DataLoader(unseen_dataset, batch_size=batch_size, shuffle=False)"
      ],
      "metadata": {
        "id": "bIc01aodDmam"
      },
      "execution_count": 92,
      "outputs": []
    },
    {
      "cell_type": "markdown",
      "source": [
        "ex-visualisation"
      ],
      "metadata": {
        "id": "Tq3LAvJhEwu-"
      }
    },
    {
      "cell_type": "code",
      "source": [
        "for _, batch in enumerate(train_loader):\n",
        "    x_batch, y_batch = batch[0].to(device), batch[1].to(device)\n",
        "    print(x_batch.shape, y_batch.shape)\n",
        "    break"
      ],
      "metadata": {
        "colab": {
          "base_uri": "https://localhost:8080/"
        },
        "id": "SPuVe7RqDmdw",
        "outputId": "7e40263b-48f9-478f-eb5a-29fda194b6ee"
      },
      "execution_count": 93,
      "outputs": [
        {
          "output_type": "stream",
          "name": "stdout",
          "text": [
            "torch.Size([16, 6, 1]) torch.Size([16, 1])\n"
          ]
        }
      ]
    },
    {
      "cell_type": "markdown",
      "source": [
        "#LSTM"
      ],
      "metadata": {
        "id": "FNaaKaJ2Ode_"
      }
    },
    {
      "cell_type": "markdown",
      "source": [
        "LSTM"
      ],
      "metadata": {
        "id": "TCyP3PcBE4Yz"
      }
    },
    {
      "cell_type": "code",
      "source": [
        "#{'target': -0.00024517017300240695, 'params': {'dropout': 0.19741807866772093, 'learning_rate': 0.01614581718546204}}"
      ],
      "metadata": {
        "id": "IVXm_KgurUzm"
      },
      "execution_count": 179,
      "outputs": []
    },
    {
      "cell_type": "code",
      "source": [
        "class LSTM(nn.Module):\n",
        "    def __init__(self, input_size, hidden_size, num_stacked_layers, dropout):\n",
        "        super().__init__()\n",
        "        self.hidden_size = hidden_size\n",
        "        self.num_stacked_layers = num_stacked_layers\n",
        "        self.dropout = dropout\n",
        "\n",
        "        self.lstm = nn.LSTM(input_size, hidden_size, num_stacked_layers, batch_first=True, dropout=self.dropout if num_stacked_layers > 1 else 0)\n",
        "        # Apply dropout only if there are more than one stacked layer\n",
        "\n",
        "        self.fc = nn.Linear(hidden_size, 1)\n",
        "\n",
        "    def forward(self, x):\n",
        "        batch_size = x.size(0)\n",
        "        h0 = torch.zeros(self.num_stacked_layers, batch_size, self.hidden_size).to(x.device)\n",
        "        c0 = torch.zeros(self.num_stacked_layers, batch_size, self.hidden_size).to(x.device)\n",
        "\n",
        "        out, _ = self.lstm(x, (h0, c0))\n",
        "\n",
        "        out = self.fc(out[:, -1, :])\n",
        "        return out\n",
        "\n",
        "model = LSTM(1,2,1,0.2) #lstm with 4 hidden layers\n",
        "model.to(device)\n",
        "model"
      ],
      "metadata": {
        "colab": {
          "base_uri": "https://localhost:8080/"
        },
        "id": "zUZQHCulEg-E",
        "outputId": "9306e451-7c31-4fe8-fc31-d7a44bce7f1d"
      },
      "execution_count": 275,
      "outputs": [
        {
          "output_type": "execute_result",
          "data": {
            "text/plain": [
              "LSTM(\n",
              "  (lstm): LSTM(1, 2, batch_first=True)\n",
              "  (fc): Linear(in_features=2, out_features=1, bias=True)\n",
              ")"
            ]
          },
          "metadata": {},
          "execution_count": 275
        }
      ]
    },
    {
      "cell_type": "code",
      "source": [
        "# train_loss = []\n",
        "def train_one_epoch():\n",
        "    model.train(True)\n",
        "    print(f'Epoch: {epoch + 1}')\n",
        "    running_loss = 0.0\n",
        "\n",
        "    for batch_index, batch in enumerate(train_loader):\n",
        "        x_batch, y_batch = batch[0].to(device), batch[1].to(device)   #extracts the input features (x_batch) and target labels (y_batch) from the batch\n",
        "        x_batch = x_batch.float()\n",
        "        y_batch = y_batch.float()\n",
        "        model.to(torch.float32)\n",
        "\n",
        "        output = model(x_batch)\n",
        "        loss = loss_function(output, y_batch)\n",
        "        running_loss += loss.item()\n",
        "\n",
        "        optimizer.zero_grad()\n",
        "        loss.backward()\n",
        "        optimizer.step()\n",
        "\n",
        "        if batch_index % 100 == 99:  # print every 100 batches\n",
        "            avg_loss_across_batches = running_loss / 100\n",
        "            print('Batch {0}, Loss: {1:.3f}'.format(batch_index+1,avg_loss_across_batches))\n",
        "            running_loss = 0.0\n",
        "    avg_loss_across_batches_b = running_loss / len(train_loader)\n",
        "    # print('Batch Loss: {0:.3f}'.format(avg_loss_across_batches_b))\n",
        "    # train_loss.append(avg_loss_across_batches_b)\n",
        "\n",
        "    print()"
      ],
      "metadata": {
        "id": "RFI8dx8_ILMg"
      },
      "execution_count": 277,
      "outputs": []
    },
    {
      "cell_type": "code",
      "source": [
        "val_loss=[]\n",
        "def validate_one_epoch():\n",
        "    model.train(False)\n",
        "    running_loss = 0.0\n",
        "\n",
        "    for batch_index, batch in enumerate(val_loader):\n",
        "        x_batch, y_batch = batch[0].to(device), batch[1].to(device)\n",
        "        x_batch = x_batch.float()\n",
        "        y_batch = y_batch.float()\n",
        "        model.to(torch.float32)\n",
        "        #no gradients since no updates\n",
        "        with torch.no_grad():\n",
        "            output = model(x_batch)\n",
        "            loss = loss_function(output, y_batch)\n",
        "            running_loss += loss.item()\n",
        "\n",
        "    avg_loss_across_batches = running_loss\n",
        "    val_loss.append(avg_loss_across_batches)\n",
        "    print('Val Loss: {0:.3f}'.format(avg_loss_across_batches))\n",
        "    print('***************************************************')\n",
        "    print()"
      ],
      "metadata": {
        "id": "M5zZGPToITdS"
      },
      "execution_count": 278,
      "outputs": []
    },
    {
      "cell_type": "code",
      "source": [
        "  learning_rate = 0.01\n",
        "  num_epochs = 25\n",
        "  loss_function = nn.MSELoss()\n",
        "  optimizer = torch.optim.Adam(model.parameters(), lr=learning_rate)\n",
        "\n",
        "  for epoch in range(num_epochs):\n",
        "      train_one_epoch()\n",
        "      validate_one_epoch()"
      ],
      "metadata": {
        "colab": {
          "base_uri": "https://localhost:8080/"
        },
        "id": "esTriMfYpVYU",
        "outputId": "8ac57c50-872e-4fa9-b4f8-68c1f4b85275"
      },
      "execution_count": 279,
      "outputs": [
        {
          "output_type": "stream",
          "name": "stdout",
          "text": [
            "Epoch: 1\n",
            "\n",
            "Val Loss: 0.402\n",
            "***************************************************\n",
            "\n",
            "Epoch: 2\n",
            "\n",
            "Val Loss: 0.254\n",
            "***************************************************\n",
            "\n",
            "Epoch: 3\n",
            "\n",
            "Val Loss: 0.162\n",
            "***************************************************\n",
            "\n",
            "Epoch: 4\n",
            "\n",
            "Val Loss: 0.100\n",
            "***************************************************\n",
            "\n",
            "Epoch: 5\n",
            "\n",
            "Val Loss: 0.076\n",
            "***************************************************\n",
            "\n",
            "Epoch: 6\n",
            "\n",
            "Val Loss: 0.052\n",
            "***************************************************\n",
            "\n",
            "Epoch: 7\n",
            "\n",
            "Val Loss: 0.040\n",
            "***************************************************\n",
            "\n",
            "Epoch: 8\n",
            "\n",
            "Val Loss: 0.046\n",
            "***************************************************\n",
            "\n",
            "Epoch: 9\n",
            "\n",
            "Val Loss: 0.032\n",
            "***************************************************\n",
            "\n",
            "Epoch: 10\n",
            "\n",
            "Val Loss: 0.031\n",
            "***************************************************\n",
            "\n",
            "Epoch: 11\n",
            "\n",
            "Val Loss: 0.028\n",
            "***************************************************\n",
            "\n",
            "Epoch: 12\n",
            "\n",
            "Val Loss: 0.023\n",
            "***************************************************\n",
            "\n",
            "Epoch: 13\n",
            "\n",
            "Val Loss: 0.023\n",
            "***************************************************\n",
            "\n",
            "Epoch: 14\n",
            "\n",
            "Val Loss: 0.016\n",
            "***************************************************\n",
            "\n",
            "Epoch: 15\n",
            "\n",
            "Val Loss: 0.020\n",
            "***************************************************\n",
            "\n",
            "Epoch: 16\n",
            "\n",
            "Val Loss: 0.015\n",
            "***************************************************\n",
            "\n",
            "Epoch: 17\n",
            "\n",
            "Val Loss: 0.022\n",
            "***************************************************\n",
            "\n",
            "Epoch: 18\n",
            "\n",
            "Val Loss: 0.021\n",
            "***************************************************\n",
            "\n",
            "Epoch: 19\n",
            "\n",
            "Val Loss: 0.015\n",
            "***************************************************\n",
            "\n",
            "Epoch: 20\n",
            "\n",
            "Val Loss: 0.020\n",
            "***************************************************\n",
            "\n",
            "Epoch: 21\n",
            "\n",
            "Val Loss: 0.012\n",
            "***************************************************\n",
            "\n",
            "Epoch: 22\n",
            "\n",
            "Val Loss: 0.014\n",
            "***************************************************\n",
            "\n",
            "Epoch: 23\n",
            "\n",
            "Val Loss: 0.016\n",
            "***************************************************\n",
            "\n",
            "Epoch: 24\n",
            "\n",
            "Val Loss: 0.015\n",
            "***************************************************\n",
            "\n",
            "Epoch: 25\n",
            "\n",
            "Val Loss: 0.015\n",
            "***************************************************\n",
            "\n"
          ]
        }
      ]
    },
    {
      "cell_type": "code",
      "source": [
        "epochs = np.arange(num_epochs)\n",
        "plt.figure(figsize=(10,5))\n",
        "plt.plot(epochs, val_loss, color = '#f46a9b', linewidth=2, label = 'Validation  Loss')\n",
        "plt.title('Error Loss')\n",
        "plt.xlabel('Epoch')\n",
        "plt.ylabel('Loss')\n",
        "plt.legend()\n",
        "plt.show()"
      ],
      "metadata": {
        "colab": {
          "base_uri": "https://localhost:8080/",
          "height": 487
        },
        "id": "NTtkxdftjZw-",
        "outputId": "e0205d50-dbff-41a9-a574-37e920939886"
      },
      "execution_count": 280,
      "outputs": [
        {
          "output_type": "display_data",
          "data": {
            "text/plain": [
              "<Figure size 1000x500 with 1 Axes>"
            ],
            "image/png": "[encoded data removed]"
          },
          "metadata": {}
        }
      ]
    },
    {
      "cell_type": "code",
      "source": [
        "from torchviz import make_dot\n",
        "\n",
        "y = model(X_train)"
      ],
      "metadata": {
        "id": "lwyB1U-8HYuA"
      },
      "execution_count": 306,
      "outputs": []
    },
    {
      "cell_type": "code",
      "source": [
        "make_dot(y.mean(), params=dict(model.named_parameters())).render(\"lstm_Bayesian\", format=\"png\")"
      ],
      "metadata": {
        "colab": {
          "base_uri": "https://localhost:8080/",
          "height": 35
        },
        "id": "xXLtzqHlJvNy",
        "outputId": "ee3ebcf2-5c32-43c8-cd95-1d07a1a5ad01"
      },
      "execution_count": 308,
      "outputs": [
        {
          "output_type": "execute_result",
          "data": {
            "text/plain": [
              "'lstm_Bayesian.png'"
            ],
            "application/vnd.google.colaboratory.intrinsic+json": {
              "type": "string"
            }
          },
          "metadata": {},
          "execution_count": 308
        }
      ]
    },
    {
      "cell_type": "markdown",
      "source": [
        "#Training Predictions"
      ],
      "metadata": {
        "id": "PwlFdvBmP8-c"
      }
    },
    {
      "cell_type": "code",
      "source": [
        "with torch.no_grad():\n",
        "  predicted = model(X_train.to(device)).detach().cpu().numpy().flatten()"
      ],
      "metadata": {
        "id": "kKQ9Z0B_jXKF"
      },
      "execution_count": 283,
      "outputs": []
    },
    {
      "cell_type": "code",
      "source": [
        "plt.plot(y_train, label='Actual Close',color = '#27aeef')\n",
        "plt.plot(predicted, label='Predicted Close',color = '#f46a9b')\n",
        "plt.xlabel('Day')\n",
        "plt.ylabel('Close')\n",
        "plt.legend()\n",
        "plt.show()"
      ],
      "metadata": {
        "colab": {
          "base_uri": "https://localhost:8080/",
          "height": 449
        },
        "id": "iV2eX6TwP2Nn",
        "outputId": "469a7759-7eb8-4e95-9491-4fd50837fe3b"
      },
      "execution_count": 284,
      "outputs": [
        {
          "output_type": "display_data",
          "data": {
            "text/plain": [
              "<Figure size 640x480 with 1 Axes>"
            ],
            "image/png": "[encoded data removed]"
          },
          "metadata": {}
        }
      ]
    },
    {
      "cell_type": "code",
      "source": [
        "train_predictions = predicted\n",
        "\n",
        "dummies = np.zeros((X_train.shape[0], lookback+1))\n",
        "dummies[:, 0] = train_predictions\n",
        "dummies = scaler.inverse_transform(dummies)\n",
        "\n",
        "train_predictions = dc(dummies[:, 0])\n",
        "# train_predictions"
      ],
      "metadata": {
        "id": "WkxScz5hM9ud"
      },
      "execution_count": 286,
      "outputs": []
    },
    {
      "cell_type": "code",
      "source": [
        "dummies = np.zeros((X_train.shape[0], lookback+1))\n",
        "dummies[:, 0] = y_train.flatten()\n",
        "dummies = scaler.inverse_transform(dummies)\n",
        "\n",
        "new_y_train = dc(dummies[:, 0])\n",
        "# new_y_train"
      ],
      "metadata": {
        "id": "PU57pAGPNosU"
      },
      "execution_count": 287,
      "outputs": []
    },
    {
      "cell_type": "code",
      "source": [
        "plt.plot(new_y_train, label='Actual Close',color = '#27aeef')\n",
        "plt.plot(train_predictions, label='Predicted Close',color = '#f46a9b')\n",
        "plt.xlabel('Day')\n",
        "plt.ylabel('Close')\n",
        "plt.title(\"Train Predictions for NIFTY\")\n",
        "plt.legend()\n",
        "plt.show()"
      ],
      "metadata": {
        "colab": {
          "base_uri": "https://localhost:8080/",
          "height": 472
        },
        "id": "CHyxM3O9Npg5",
        "outputId": "41944661-a7b4-4088-f65a-b2aaa9115143"
      },
      "execution_count": 288,
      "outputs": [
        {
          "output_type": "display_data",
          "data": {
            "text/plain": [
              "<Figure size 640x480 with 1 Axes>"
            ],
            "image/png": "[encoded data removed]"
          },
          "metadata": {}
        }
      ]
    },
    {
      "cell_type": "code",
      "source": [
        "train_predictions.shape"
      ],
      "metadata": {
        "colab": {
          "base_uri": "https://localhost:8080/"
        },
        "id": "dUPB1DZUI2rY",
        "outputId": "1f6d086a-1a80-4eed-e4de-919dafd81875"
      },
      "execution_count": 289,
      "outputs": [
        {
          "output_type": "execute_result",
          "data": {
            "text/plain": [
              "(934,)"
            ]
          },
          "metadata": {},
          "execution_count": 289
        }
      ]
    },
    {
      "cell_type": "code",
      "source": [
        "new_y_train.shape"
      ],
      "metadata": {
        "colab": {
          "base_uri": "https://localhost:8080/"
        },
        "id": "6jFE8n7aJIAB",
        "outputId": "e411c2ed-6308-41d5-9429-27ac92aeecfa"
      },
      "execution_count": 290,
      "outputs": [
        {
          "output_type": "execute_result",
          "data": {
            "text/plain": [
              "(934,)"
            ]
          },
          "metadata": {},
          "execution_count": 290
        }
      ]
    },
    {
      "cell_type": "code",
      "source": [
        "rmse = np.sqrt(np.mean((train_predictions - new_y_train)**2))\n",
        "print(f\"Score (RMSE): {rmse:.4f}\")"
      ],
      "metadata": {
        "colab": {
          "base_uri": "https://localhost:8080/"
        },
        "id": "1o-_U07fIlPM",
        "outputId": "92501d9a-ebe3-49e0-b3f5-a8a083d1d5af"
      },
      "execution_count": 291,
      "outputs": [
        {
          "output_type": "stream",
          "name": "stdout",
          "text": [
            "Score (RMSE): 18.6989\n"
          ]
        }
      ]
    },
    {
      "cell_type": "markdown",
      "source": [
        "#Validation Predictions"
      ],
      "metadata": {
        "id": "47mjG2PhQPiQ"
      }
    },
    {
      "cell_type": "code",
      "source": [
        "X_val.shape"
      ],
      "metadata": {
        "colab": {
          "base_uri": "https://localhost:8080/"
        },
        "id": "eFpqGlC0J5ih",
        "outputId": "01401f48-f262-4309-ef7e-f9d5e6925a2e"
      },
      "execution_count": 292,
      "outputs": [
        {
          "output_type": "execute_result",
          "data": {
            "text/plain": [
              "torch.Size([50, 6, 1])"
            ]
          },
          "metadata": {},
          "execution_count": 292
        }
      ]
    },
    {
      "cell_type": "code",
      "source": [
        "val_predictions = model(X_val.to(device)).detach().cpu().numpy().flatten()\n",
        "\n",
        "dummies = np.zeros((X_val.shape[0], lookback+1))\n",
        "dummies[:, 0] = val_predictions\n",
        "dummies = scaler.inverse_transform(dummies)\n",
        "\n",
        "val_predictions = dc(dummies[:, 0])\n",
        "val_predictions"
      ],
      "metadata": {
        "colab": {
          "base_uri": "https://localhost:8080/"
        },
        "id": "rP-yghxKpj9I",
        "outputId": "5368cad2-b2b5-476b-cb88-5a219f1a8018"
      },
      "execution_count": 293,
      "outputs": [
        {
          "output_type": "execute_result",
          "data": {
            "text/plain": [
              "array([22310.22083154, 22308.58048598, 22312.27834974, 22306.48318008,\n",
              "       22301.65375984, 22295.52824748, 22278.65205108, 22263.17119171,\n",
              "       22241.59593217, 22247.52691853, 22255.84995396, 22254.27961084,\n",
              "       22247.70506576, 22254.68870628, 22263.08376345, 22276.02374378,\n",
              "       22279.59356889, 22282.47481234, 22280.74150415, 22281.84695929,\n",
              "       22283.38409613, 22296.56975809, 22305.80589154, 22307.10018873,\n",
              "       22305.47255729, 22309.57091576, 22312.74480829, 22313.32718967,\n",
              "       22313.06707378, 22317.75117913, 22329.55481648, 22335.72467868,\n",
              "       22344.03477563, 22364.52656797, 22379.26238003, 22388.57734102,\n",
              "       22391.58213578, 22395.37857135, 22398.34342882, 22396.71265624,\n",
              "       22396.40512417, 22404.19297004, 22415.77882203, 22420.43794788,\n",
              "       22423.49157982, 22417.16555834, 22416.72998762, 22419.14215492,\n",
              "       22422.58842872, 22429.5419293 ])"
            ]
          },
          "metadata": {},
          "execution_count": 293
        }
      ]
    },
    {
      "cell_type": "code",
      "source": [
        "dummies = np.zeros((X_val.shape[0], lookback+1))\n",
        "dummies[:, 0] = y_val.flatten()\n",
        "dummies = scaler.inverse_transform(dummies)\n",
        "\n",
        "new_y_val = dc(dummies[:, 0])\n",
        "new_y_val"
      ],
      "metadata": {
        "colab": {
          "base_uri": "https://localhost:8080/"
        },
        "id": "kpMlkvZSpyy1",
        "outputId": "43dd3832-1c56-43e9-98b6-783f764c150d"
      },
      "execution_count": 294,
      "outputs": [
        {
          "output_type": "execute_result",
          "data": {
            "text/plain": [
              "array([22312.27408677, 22319.3367044 , 22306.90293293, 22302.79373007,\n",
              "       22295.52753698, 22272.42235774, 22258.28829738, 22234.82884299,\n",
              "       22251.65515517, 22259.94879856, 22254.52001985, 22246.50990129,\n",
              "       22259.27124827, 22267.89250455, 22283.93506616, 22283.48779098,\n",
              "       22286.7468307 , 22282.47832742, 22285.13942967, 22286.75131804,\n",
              "       22307.28813331, 22315.23632663, 22312.27857411, 22308.9309843 ,\n",
              "       22316.84821501, 22319.36766702, 22318.49540375, 22317.84885347,\n",
              "       22326.26197217, 22344.58496038, 22347.82189997, 22359.75525872,\n",
              "       22396.85284809, 22411.75730919, 22419.07230206, 22415.83554944,\n",
              "       22421.87972884, 22424.33276828, 22416.30047481, 22418.06717626,\n",
              "       22440.76935536, 22465.0303227 , 22461.66504531, 22464.71587265,\n",
              "       22437.8868405 , 22447.17678459, 22455.53231581, 22463.6752969 ,\n",
              "       22482.5738981 , 22493.55078125])"
            ]
          },
          "metadata": {},
          "execution_count": 294
        }
      ]
    },
    {
      "cell_type": "code",
      "source": [
        "plt.figure(figsize=(15,7))\n",
        "plt.plot(new_y_val, label='Actual Close',color = '#27aeef')\n",
        "plt.plot(val_predictions, label='Predicted Close',color = '#f46a9b')\n",
        "plt.xlabel('Day')\n",
        "plt.ylabel('Close')\n",
        "plt.title(\"Validation Predictions for NIFTY\")\n",
        "plt.legend()\n",
        "plt.show()"
      ],
      "metadata": {
        "colab": {
          "base_uri": "https://localhost:8080/",
          "height": 602
        },
        "id": "NWwzolvUp4Sm",
        "outputId": "d5ab5892-c8e3-4709-a3e7-fec1ff7d801b"
      },
      "execution_count": 295,
      "outputs": [
        {
          "output_type": "display_data",
          "data": {
            "text/plain": [
              "<Figure size 1500x700 with 1 Axes>"
            ],
            "image/png": "[encoded data removed]"
          },
          "metadata": {}
        }
      ]
    },
    {
      "cell_type": "code",
      "source": [
        "rmse = np.sqrt(np.mean((val_predictions - new_y_val)**2))\n",
        "print(f\"Score (RMSE): {rmse:.4f}\")"
      ],
      "metadata": {
        "colab": {
          "base_uri": "https://localhost:8080/"
        },
        "id": "dTNoImu9JvJf",
        "outputId": "0e1e875e-6132-4fed-d4c2-9ab044a697cc"
      },
      "execution_count": 296,
      "outputs": [
        {
          "output_type": "stream",
          "name": "stdout",
          "text": [
            "Score (RMSE): 27.6125\n"
          ]
        }
      ]
    },
    {
      "cell_type": "code",
      "source": [
        "newdf=pd.DataFrame()\n",
        "newdf[\"Actual\"]=new_y_val\n",
        "newdf[\"Predicted\"]=val_predictions\n",
        "newdf[\"Difference\"]=newdf[\"Actual\"]-newdf[\"Predicted\"]"
      ],
      "metadata": {
        "id": "PHaBS9EIvzCf"
      },
      "execution_count": 297,
      "outputs": []
    },
    {
      "cell_type": "code",
      "source": [
        "newdf"
      ],
      "metadata": {
        "colab": {
          "base_uri": "https://localhost:8080/",
          "height": 1000
        },
        "id": "carYZQiGwMNY",
        "outputId": "77341bd9-0ca2-44eb-f0af-2bf1cf5b354a"
      },
      "execution_count": 298,
      "outputs": [
        {
          "output_type": "execute_result",
          "data": {
            "text/plain": [
              "          Actual     Predicted  Difference\n",
              "0   22312.274087  22310.220832    2.053255\n",
              "1   22319.336704  22308.580486   10.756218\n",
              "2   22306.902933  22312.278350   -5.375417\n",
              "3   22302.793730  22306.483180   -3.689450\n",
              "4   22295.527537  22301.653760   -6.126223\n",
              "5   22272.422358  22295.528247  -23.105890\n",
              "6   22258.288297  22278.652051  -20.363754\n",
              "7   22234.828843  22263.171192  -28.342349\n",
              "8   22251.655155  22241.595932   10.059223\n",
              "9   22259.948799  22247.526919   12.421880\n",
              "10  22254.520020  22255.849954   -1.329934\n",
              "11  22246.509901  22254.279611   -7.769710\n",
              "12  22259.271248  22247.705066   11.566183\n",
              "13  22267.892505  22254.688706   13.203798\n",
              "14  22283.935066  22263.083763   20.851303\n",
              "15  22283.487791  22276.023744    7.464047\n",
              "16  22286.746831  22279.593569    7.153262\n",
              "17  22282.478327  22282.474812    0.003515\n",
              "18  22285.139430  22280.741504    4.397926\n",
              "19  22286.751318  22281.846959    4.904359\n",
              "20  22307.288133  22283.384096   23.904037\n",
              "21  22315.236327  22296.569758   18.666569\n",
              "22  22312.278574  22305.805892    6.472683\n",
              "23  22308.930984  22307.100189    1.830796\n",
              "24  22316.848215  22305.472557   11.375658\n",
              "25  22319.367667  22309.570916    9.796751\n",
              "26  22318.495404  22312.744808    5.750595\n",
              "27  22317.848853  22313.327190    4.521664\n",
              "28  22326.261972  22313.067074   13.194898\n",
              "29  22344.584960  22317.751179   26.833781\n",
              "30  22347.821900  22329.554816   18.267083\n",
              "31  22359.755259  22335.724679   24.030580\n",
              "32  22396.852848  22344.034776   52.818072\n",
              "33  22411.757309  22364.526568   47.230741\n",
              "34  22419.072302  22379.262380   39.809922\n",
              "35  22415.835549  22388.577341   27.258208\n",
              "36  22421.879729  22391.582136   30.297593\n",
              "37  22424.332768  22395.378571   28.954197\n",
              "38  22416.300475  22398.343429   17.957046\n",
              "39  22418.067176  22396.712656   21.354520\n",
              "40  22440.769355  22396.405124   44.364231\n",
              "41  22465.030323  22404.192970   60.837353\n",
              "42  22461.665045  22415.778822   45.886223\n",
              "43  22464.715873  22420.437948   44.277925\n",
              "44  22437.886840  22423.491580   14.395261\n",
              "45  22447.176785  22417.165558   30.011226\n",
              "46  22455.532316  22416.729988   38.802328\n",
              "47  22463.675297  22419.142155   44.533142\n",
              "48  22482.573898  22422.588429   59.985469\n",
              "49  22493.550781  22429.541929   64.008852"
            ],
            "text/html": [
              "\n",
              "  <div id=\"df-762e02f9-6ac0-4d9f-abaf-b9c27a707298\" class=\"colab-df-container\">\n",
              "    <div>\n",
              "<style scoped>\n",
              "    .dataframe tbody tr th:only-of-type {\n",
              "        vertical-align: middle;\n",
              "    }\n",
              "\n",
              "    .dataframe tbody tr th {\n",
              "        vertical-align: top;\n",
              "    }\n",
              "\n",
              "    .dataframe thead th {\n",
              "        text-align: right;\n",
              "    }\n",
              "</style>\n",
              "<table border=\"1\" class=\"dataframe\">\n",
              "  <thead>\n",
              "    <tr style=\"text-align: right;\">\n",
              "      <th></th>\n",
              "      <th>Actual</th>\n",
              "      <th>Predicted</th>\n",
              "      <th>Difference</th>\n",
              "    </tr>\n",
              "  </thead>\n",
              "  <tbody>\n",
              "    <tr>\n",
              "      <th>0</th>\n",
              "      <td>22312.274087</td>\n",
              "      <td>22310.220832</td>\n",
              "      <td>2.053255</td>\n",
              "    </tr>\n",
              "    <tr>\n",
              "      <th>1</th>\n",
              "      <td>22319.336704</td>\n",
              "      <td>22308.580486</td>\n",
              "      <td>10.756218</td>\n",
              "    </tr>\n",
              "    <tr>\n",
              "      <th>2</th>\n",
              "      <td>22306.902933</td>\n",
              "      <td>22312.278350</td>\n",
              "      <td>-5.375417</td>\n",
              "    </tr>\n",
              "    <tr>\n",
              "      <th>3</th>\n",
              "      <td>22302.793730</td>\n",
              "      <td>22306.483180</td>\n",
              "      <td>-3.689450</td>\n",
              "    </tr>\n",
              "    <tr>\n",
              "      <th>4</th>\n",
              "      <td>22295.527537</td>\n",
              "      <td>22301.653760</td>\n",
              "      <td>-6.126223</td>\n",
              "    </tr>\n",
              "    <tr>\n",
              "      <th>5</th>\n",
              "      <td>22272.422358</td>\n",
              "      <td>22295.528247</td>\n",
              "      <td>-23.105890</td>\n",
              "    </tr>\n",
              "    <tr>\n",
              "      <th>6</th>\n",
              "      <td>22258.288297</td>\n",
              "      <td>22278.652051</td>\n",
              "      <td>-20.363754</td>\n",
              "    </tr>\n",
              "    <tr>\n",
              "      <th>7</th>\n",
              "      <td>22234.828843</td>\n",
              "      <td>22263.171192</td>\n",
              "      <td>-28.342349</td>\n",
              "    </tr>\n",
              "    <tr>\n",
              "      <th>8</th>\n",
              "      <td>22251.655155</td>\n",
              "      <td>22241.595932</td>\n",
              "      <td>10.059223</td>\n",
              "    </tr>\n",
              "    <tr>\n",
              "      <th>9</th>\n",
              "      <td>22259.948799</td>\n",
              "      <td>22247.526919</td>\n",
              "      <td>12.421880</td>\n",
              "    </tr>\n",
              "    <tr>\n",
              "      <th>10</th>\n",
              "      <td>22254.520020</td>\n",
              "      <td>22255.849954</td>\n",
              "      <td>-1.329934</td>\n",
              "    </tr>\n",
              "    <tr>\n",
              "      <th>11</th>\n",
              "      <td>22246.509901</td>\n",
              "      <td>22254.279611</td>\n",
              "      <td>-7.769710</td>\n",
              "    </tr>\n",
              "    <tr>\n",
              "      <th>12</th>\n",
              "      <td>22259.271248</td>\n",
              "      <td>22247.705066</td>\n",
              "      <td>11.566183</td>\n",
              "    </tr>\n",
              "    <tr>\n",
              "      <th>13</th>\n",
              "      <td>22267.892505</td>\n",
              "      <td>22254.688706</td>\n",
              "      <td>13.203798</td>\n",
              "    </tr>\n",
              "    <tr>\n",
              "      <th>14</th>\n",
              "      <td>22283.935066</td>\n",
              "      <td>22263.083763</td>\n",
              "      <td>20.851303</td>\n",
              "    </tr>\n",
              "    <tr>\n",
              "      <th>15</th>\n",
              "      <td>22283.487791</td>\n",
              "      <td>22276.023744</td>\n",
              "      <td>7.464047</td>\n",
              "    </tr>\n",
              "    <tr>\n",
              "      <th>16</th>\n",
              "      <td>22286.746831</td>\n",
              "      <td>22279.593569</td>\n",
              "      <td>7.153262</td>\n",
              "    </tr>\n",
              "    <tr>\n",
              "      <th>17</th>\n",
              "      <td>22282.478327</td>\n",
              "      <td>22282.474812</td>\n",
              "      <td>0.003515</td>\n",
              "    </tr>\n",
              "    <tr>\n",
              "      <th>18</th>\n",
              "      <td>22285.139430</td>\n",
              "      <td>22280.741504</td>\n",
              "      <td>4.397926</td>\n",
              "    </tr>\n",
              "    <tr>\n",
              "      <th>19</th>\n",
              "      <td>22286.751318</td>\n",
              "      <td>22281.846959</td>\n",
              "      <td>4.904359</td>\n",
              "    </tr>\n",
              "    <tr>\n",
              "      <th>20</th>\n",
              "      <td>22307.288133</td>\n",
              "      <td>22283.384096</td>\n",
              "      <td>23.904037</td>\n",
              "    </tr>\n",
              "    <tr>\n",
              "      <th>21</th>\n",
              "      <td>22315.236327</td>\n",
              "      <td>22296.569758</td>\n",
              "      <td>18.666569</td>\n",
              "    </tr>\n",
              "    <tr>\n",
              "      <th>22</th>\n",
              "      <td>22312.278574</td>\n",
              "      <td>22305.805892</td>\n",
              "      <td>6.472683</td>\n",
              "    </tr>\n",
              "    <tr>\n",
              "      <th>23</th>\n",
              "      <td>22308.930984</td>\n",
              "      <td>22307.100189</td>\n",
              "      <td>1.830796</td>\n",
              "    </tr>\n",
              "    <tr>\n",
              "      <th>24</th>\n",
              "      <td>22316.848215</td>\n",
              "      <td>22305.472557</td>\n",
              "      <td>11.375658</td>\n",
              "    </tr>\n",
              "    <tr>\n",
              "      <th>25</th>\n",
              "      <td>22319.367667</td>\n",
              "      <td>22309.570916</td>\n",
              "      <td>9.796751</td>\n",
              "    </tr>\n",
              "    <tr>\n",
              "      <th>26</th>\n",
              "      <td>22318.495404</td>\n",
              "      <td>22312.744808</td>\n",
              "      <td>5.750595</td>\n",
              "    </tr>\n",
              "    <tr>\n",
              "      <th>27</th>\n",
              "      <td>22317.848853</td>\n",
              "      <td>22313.327190</td>\n",
              "      <td>4.521664</td>\n",
              "    </tr>\n",
              "    <tr>\n",
              "      <th>28</th>\n",
              "      <td>22326.261972</td>\n",
              "      <td>22313.067074</td>\n",
              "      <td>13.194898</td>\n",
              "    </tr>\n",
              "    <tr>\n",
              "      <th>29</th>\n",
              "      <td>22344.584960</td>\n",
              "      <td>22317.751179</td>\n",
              "      <td>26.833781</td>\n",
              "    </tr>\n",
              "    <tr>\n",
              "      <th>30</th>\n",
              "      <td>22347.821900</td>\n",
              "      <td>22329.554816</td>\n",
              "      <td>18.267083</td>\n",
              "    </tr>\n",
              "    <tr>\n",
              "      <th>31</th>\n",
              "      <td>22359.755259</td>\n",
              "      <td>22335.724679</td>\n",
              "      <td>24.030580</td>\n",
              "    </tr>\n",
              "    <tr>\n",
              "      <th>32</th>\n",
              "      <td>22396.852848</td>\n",
              "      <td>22344.034776</td>\n",
              "      <td>52.818072</td>\n",
              "    </tr>\n",
              "    <tr>\n",
              "      <th>33</th>\n",
              "      <td>22411.757309</td>\n",
              "      <td>22364.526568</td>\n",
              "      <td>47.230741</td>\n",
              "    </tr>\n",
              "    <tr>\n",
              "      <th>34</th>\n",
              "      <td>22419.072302</td>\n",
              "      <td>22379.262380</td>\n",
              "      <td>39.809922</td>\n",
              "    </tr>\n",
              "    <tr>\n",
              "      <th>35</th>\n",
              "      <td>22415.835549</td>\n",
              "      <td>22388.577341</td>\n",
              "      <td>27.258208</td>\n",
              "    </tr>\n",
              "    <tr>\n",
              "      <th>36</th>\n",
              "      <td>22421.879729</td>\n",
              "      <td>22391.582136</td>\n",
              "      <td>30.297593</td>\n",
              "    </tr>\n",
              "    <tr>\n",
              "      <th>37</th>\n",
              "      <td>22424.332768</td>\n",
              "      <td>22395.378571</td>\n",
              "      <td>28.954197</td>\n",
              "    </tr>\n",
              "    <tr>\n",
              "      <th>38</th>\n",
              "      <td>22416.300475</td>\n",
              "      <td>22398.343429</td>\n",
              "      <td>17.957046</td>\n",
              "    </tr>\n",
              "    <tr>\n",
              "      <th>39</th>\n",
              "      <td>22418.067176</td>\n",
              "      <td>22396.712656</td>\n",
              "      <td>21.354520</td>\n",
              "    </tr>\n",
              "    <tr>\n",
              "      <th>40</th>\n",
              "      <td>22440.769355</td>\n",
              "      <td>22396.405124</td>\n",
              "      <td>44.364231</td>\n",
              "    </tr>\n",
              "    <tr>\n",
              "      <th>41</th>\n",
              "      <td>22465.030323</td>\n",
              "      <td>22404.192970</td>\n",
              "      <td>60.837353</td>\n",
              "    </tr>\n",
              "    <tr>\n",
              "      <th>42</th>\n",
              "      <td>22461.665045</td>\n",
              "      <td>22415.778822</td>\n",
              "      <td>45.886223</td>\n",
              "    </tr>\n",
              "    <tr>\n",
              "      <th>43</th>\n",
              "      <td>22464.715873</td>\n",
              "      <td>22420.437948</td>\n",
              "      <td>44.277925</td>\n",
              "    </tr>\n",
              "    <tr>\n",
              "      <th>44</th>\n",
              "      <td>22437.886840</td>\n",
              "      <td>22423.491580</td>\n",
              "      <td>14.395261</td>\n",
              "    </tr>\n",
              "    <tr>\n",
              "      <th>45</th>\n",
              "      <td>22447.176785</td>\n",
              "      <td>22417.165558</td>\n",
              "      <td>30.011226</td>\n",
              "    </tr>\n",
              "    <tr>\n",
              "      <th>46</th>\n",
              "      <td>22455.532316</td>\n",
              "      <td>22416.729988</td>\n",
              "      <td>38.802328</td>\n",
              "    </tr>\n",
              "    <tr>\n",
              "      <th>47</th>\n",
              "      <td>22463.675297</td>\n",
              "      <td>22419.142155</td>\n",
              "      <td>44.533142</td>\n",
              "    </tr>\n",
              "    <tr>\n",
              "      <th>48</th>\n",
              "      <td>22482.573898</td>\n",
              "      <td>22422.588429</td>\n",
              "      <td>59.985469</td>\n",
              "    </tr>\n",
              "    <tr>\n",
              "      <th>49</th>\n",
              "      <td>22493.550781</td>\n",
              "      <td>22429.541929</td>\n",
              "      <td>64.008852</td>\n",
              "    </tr>\n",
              "  </tbody>\n",
              "</table>\n",
              "</div>\n",
              "    <div class=\"colab-df-buttons\">\n",
              "\n",
              "  <div class=\"colab-df-container\">\n",
              "    <button class=\"colab-df-convert\" onclick=\"convertToInteractive('df-762e02f9-6ac0-4d9f-abaf-b9c27a707298')\"\n",
              "            title=\"Convert this dataframe to an interactive table.\"\n",
              "            style=\"display:none;\">\n",
              "\n",
              "  <svg xmlns=\"http://www.w3.org/2000/svg\" height=\"24px\" viewBox=\"0 -960 960 960\">\n",
              "    <path d=\"M120-120v-720h720v720H120Zm60-500h600v-160H180v160Zm220 220h160v-160H400v160Zm0 220h160v-160H400v160ZM180-400h160v-160H180v160Zm440 0h160v-160H620v160ZM180-180h160v-160H180v160Zm440 0h160v-160H620v160Z\"/>\n",
              "  </svg>\n",
              "    </button>\n",
              "\n",
              "  <style>\n",
              "    .colab-df-container {\n",
              "      display:flex;\n",
              "      gap: 12px;\n",
              "    }\n",
              "\n",
              "    .colab-df-convert {\n",
              "      background-color: #E8F0FE;\n",
              "      border: none;\n",
              "      border-radius: 50%;\n",
              "      cursor: pointer;\n",
              "      display: none;\n",
              "      fill: #1967D2;\n",
              "      height: 32px;\n",
              "      padding: 0 0 0 0;\n",
              "      width: 32px;\n",
              "    }\n",
              "\n",
              "    .colab-df-convert:hover {\n",
              "      background-color: #E2EBFA;\n",
              "      box-shadow: 0px 1px 2px rgba(60, 64, 67, 0.3), 0px 1px 3px 1px rgba(60, 64, 67, 0.15);\n",
              "      fill: #174EA6;\n",
              "    }\n",
              "\n",
              "    .colab-df-buttons div {\n",
              "      margin-bottom: 4px;\n",
              "    }\n",
              "\n",
              "    [theme=dark] .colab-df-convert {\n",
              "      background-color: #3B4455;\n",
              "      fill: #D2E3FC;\n",
              "    }\n",
              "\n",
              "    [theme=dark] .colab-df-convert:hover {\n",
              "      background-color: #434B5C;\n",
              "      box-shadow: 0px 1px 3px 1px rgba(0, 0, 0, 0.15);\n",
              "      filter: drop-shadow(0px 1px 2px rgba(0, 0, 0, 0.3));\n",
              "      fill: #FFFFFF;\n",
              "    }\n",
              "  </style>\n",
              "\n",
              "    <script>\n",
              "      const buttonEl =\n",
              "        document.querySelector('#df-762e02f9-6ac0-4d9f-abaf-b9c27a707298 button.colab-df-convert');\n",
              "      buttonEl.style.display =\n",
              "        google.colab.kernel.accessAllowed ? 'block' : 'none';\n",
              "\n",
              "      async function convertToInteractive(key) {\n",
              "        const element = document.querySelector('#df-762e02f9-6ac0-4d9f-abaf-b9c27a707298');\n",
              "        const dataTable =\n",
              "          await google.colab.kernel.invokeFunction('convertToInteractive',\n",
              "                                                    [key], {});\n",
              "        if (!dataTable) return;\n",
              "\n",
              "        const docLinkHtml = 'Like what you see? Visit the ' +\n",
              "          '<a target=\"_blank\" href=https://colab.research.google.com/notebooks/data_table.ipynb>data table notebook</a>'\n",
              "          + ' to learn more about interactive tables.';\n",
              "        element.innerHTML = '';\n",
              "        dataTable['output_type'] = 'display_data';\n",
              "        await google.colab.output.renderOutput(dataTable, element);\n",
              "        const docLink = document.createElement('div');\n",
              "        docLink.innerHTML = docLinkHtml;\n",
              "        element.appendChild(docLink);\n",
              "      }\n",
              "    </script>\n",
              "  </div>\n",
              "\n",
              "\n",
              "<div id=\"df-06e3cb0d-0277-4621-a173-7f11d235981e\">\n",
              "  <button class=\"colab-df-quickchart\" onclick=\"quickchart('df-06e3cb0d-0277-4621-a173-7f11d235981e')\"\n",
              "            title=\"Suggest charts\"\n",
              "            style=\"display:none;\">\n",
              "\n",
              "<svg xmlns=\"http://www.w3.org/2000/svg\" height=\"24px\"viewBox=\"0 0 24 24\"\n",
              "     width=\"24px\">\n",
              "    <g>\n",
              "        <path d=\"M19 3H5c-1.1 0-2 .9-2 2v14c0 1.1.9 2 2 2h14c1.1 0 2-.9 2-2V5c0-1.1-.9-2-2-2zM9 17H7v-7h2v7zm4 0h-2V7h2v10zm4 0h-2v-4h2v4z\"/>\n",
              "    </g>\n",
              "</svg>\n",
              "  </button>\n",
              "\n",
              "<style>\n",
              "  .colab-df-quickchart {\n",
              "      --bg-color: #E8F0FE;\n",
              "      --fill-color: #1967D2;\n",
              "      --hover-bg-color: #E2EBFA;\n",
              "      --hover-fill-color: #174EA6;\n",
              "      --disabled-fill-color: #AAA;\n",
              "      --disabled-bg-color: #DDD;\n",
              "  }\n",
              "\n",
              "  [theme=dark] .colab-df-quickchart {\n",
              "      --bg-color: #3B4455;\n",
              "      --fill-color: #D2E3FC;\n",
              "      --hover-bg-color: #434B5C;\n",
              "      --hover-fill-color: #FFFFFF;\n",
              "      --disabled-bg-color: #3B4455;\n",
              "      --disabled-fill-color: #666;\n",
              "  }\n",
              "\n",
              "  .colab-df-quickchart {\n",
              "    background-color: var(--bg-color);\n",
              "    border: none;\n",
              "    border-radius: 50%;\n",
              "    cursor: pointer;\n",
              "    display: none;\n",
              "    fill: var(--fill-color);\n",
              "    height: 32px;\n",
              "    padding: 0;\n",
              "    width: 32px;\n",
              "  }\n",
              "\n",
              "  .colab-df-quickchart:hover {\n",
              "    background-color: var(--hover-bg-color);\n",
              "    box-shadow: 0 1px 2px rgba(60, 64, 67, 0.3), 0 1px 3px 1px rgba(60, 64, 67, 0.15);\n",
              "    fill: var(--button-hover-fill-color);\n",
              "  }\n",
              "\n",
              "  .colab-df-quickchart-complete:disabled,\n",
              "  .colab-df-quickchart-complete:disabled:hover {\n",
              "    background-color: var(--disabled-bg-color);\n",
              "    fill: var(--disabled-fill-color);\n",
              "    box-shadow: none;\n",
              "  }\n",
              "\n",
              "  .colab-df-spinner {\n",
              "    border: 2px solid var(--fill-color);\n",
              "    border-color: transparent;\n",
              "    border-bottom-color: var(--fill-color);\n",
              "    animation:\n",
              "      spin 1s steps(1) infinite;\n",
              "  }\n",
              "\n",
              "  @keyframes spin {\n",
              "    0% {\n",
              "      border-color: transparent;\n",
              "      border-bottom-color: var(--fill-color);\n",
              "      border-left-color: var(--fill-color);\n",
              "    }\n",
              "    20% {\n",
              "      border-color: transparent;\n",
              "      border-left-color: var(--fill-color);\n",
              "      border-top-color: var(--fill-color);\n",
              "    }\n",
              "    30% {\n",
              "      border-color: transparent;\n",
              "      border-left-color: var(--fill-color);\n",
              "      border-top-color: var(--fill-color);\n",
              "      border-right-color: var(--fill-color);\n",
              "    }\n",
              "    40% {\n",
              "      border-color: transparent;\n",
              "      border-right-color: var(--fill-color);\n",
              "      border-top-color: var(--fill-color);\n",
              "    }\n",
              "    60% {\n",
              "      border-color: transparent;\n",
              "      border-right-color: var(--fill-color);\n",
              "    }\n",
              "    80% {\n",
              "      border-color: transparent;\n",
              "      border-right-color: var(--fill-color);\n",
              "      border-bottom-color: var(--fill-color);\n",
              "    }\n",
              "    90% {\n",
              "      border-color: transparent;\n",
              "      border-bottom-color: var(--fill-color);\n",
              "    }\n",
              "  }\n",
              "</style>\n",
              "\n",
              "  <script>\n",
              "    async function quickchart(key) {\n",
              "      const quickchartButtonEl =\n",
              "        document.querySelector('#' + key + ' button');\n",
              "      quickchartButtonEl.disabled = true;  // To prevent multiple clicks.\n",
              "      quickchartButtonEl.classList.add('colab-df-spinner');\n",
              "      try {\n",
              "        const charts = await google.colab.kernel.invokeFunction(\n",
              "            'suggestCharts', [key], {});\n",
              "      } catch (error) {\n",
              "        console.error('Error during call to suggestCharts:', error);\n",
              "      }\n",
              "      quickchartButtonEl.classList.remove('colab-df-spinner');\n",
              "      quickchartButtonEl.classList.add('colab-df-quickchart-complete');\n",
              "    }\n",
              "    (() => {\n",
              "      let quickchartButtonEl =\n",
              "        document.querySelector('#df-06e3cb0d-0277-4621-a173-7f11d235981e button');\n",
              "      quickchartButtonEl.style.display =\n",
              "        google.colab.kernel.accessAllowed ? 'block' : 'none';\n",
              "    })();\n",
              "  </script>\n",
              "</div>\n",
              "\n",
              "  <div id=\"id_89b5bbaa-b9ae-4e95-9911-f8caf017292e\">\n",
              "    <style>\n",
              "      .colab-df-generate {\n",
              "        background-color: #E8F0FE;\n",
              "        border: none;\n",
              "        border-radius: 50%;\n",
              "        cursor: pointer;\n",
              "        display: none;\n",
              "        fill: #1967D2;\n",
              "        height: 32px;\n",
              "        padding: 0 0 0 0;\n",
              "        width: 32px;\n",
              "      }\n",
              "\n",
              "      .colab-df-generate:hover {\n",
              "        background-color: #E2EBFA;\n",
              "        box-shadow: 0px 1px 2px rgba(60, 64, 67, 0.3), 0px 1px 3px 1px rgba(60, 64, 67, 0.15);\n",
              "        fill: #174EA6;\n",
              "      }\n",
              "\n",
              "      [theme=dark] .colab-df-generate {\n",
              "        background-color: #3B4455;\n",
              "        fill: #D2E3FC;\n",
              "      }\n",
              "\n",
              "      [theme=dark] .colab-df-generate:hover {\n",
              "        background-color: #434B5C;\n",
              "        box-shadow: 0px 1px 3px 1px rgba(0, 0, 0, 0.15);\n",
              "        filter: drop-shadow(0px 1px 2px rgba(0, 0, 0, 0.3));\n",
              "        fill: #FFFFFF;\n",
              "      }\n",
              "    </style>\n",
              "    <button class=\"colab-df-generate\" onclick=\"generateWithVariable('newdf')\"\n",
              "            title=\"Generate code using this dataframe.\"\n",
              "            style=\"display:none;\">\n",
              "\n",
              "  <svg xmlns=\"http://www.w3.org/2000/svg\" height=\"24px\"viewBox=\"0 0 24 24\"\n",
              "       width=\"24px\">\n",
              "    <path d=\"M7,19H8.4L18.45,9,17,7.55,7,17.6ZM5,21V16.75L18.45,3.32a2,2,0,0,1,2.83,0l1.4,1.43a1.91,1.91,0,0,1,.58,1.4,1.91,1.91,0,0,1-.58,1.4L9.25,21ZM18.45,9,17,7.55Zm-12,3A5.31,5.31,0,0,0,4.9,8.1,5.31,5.31,0,0,0,1,6.5,5.31,5.31,0,0,0,4.9,4.9,5.31,5.31,0,0,0,6.5,1,5.31,5.31,0,0,0,8.1,4.9,5.31,5.31,0,0,0,12,6.5,5.46,5.46,0,0,0,6.5,12Z\"/>\n",
              "  </svg>\n",
              "    </button>\n",
              "    <script>\n",
              "      (() => {\n",
              "      const buttonEl =\n",
              "        document.querySelector('#id_89b5bbaa-b9ae-4e95-9911-f8caf017292e button.colab-df-generate');\n",
              "      buttonEl.style.display =\n",
              "        google.colab.kernel.accessAllowed ? 'block' : 'none';\n",
              "\n",
              "      buttonEl.onclick = () => {\n",
              "        google.colab.notebook.generateWithVariable('newdf');\n",
              "      }\n",
              "      })();\n",
              "    </script>\n",
              "  </div>\n",
              "\n",
              "    </div>\n",
              "  </div>\n"
            ],
            "application/vnd.google.colaboratory.intrinsic+json": {
              "type": "dataframe",
              "variable_name": "newdf",
              "summary": "{\n  \"name\": \"newdf\",\n  \"rows\": 50,\n  \"fields\": [\n    {\n      \"column\": \"Actual\",\n      \"properties\": {\n        \"dtype\": \"number\",\n        \"std\": 76.56026906567406,\n        \"min\": 22234.8288429901,\n        \"max\": 22493.55078125,\n        \"num_unique_values\": 50,\n        \"samples\": [\n          22267.892504550517,\n          22418.067176260054,\n          22347.821899972856\n        ],\n        \"semantic_type\": \"\",\n        \"description\": \"\"\n      }\n    },\n    {\n      \"column\": \"Predicted\",\n      \"properties\": {\n        \"dtype\": \"number\",\n        \"std\": 59.3639180856715,\n        \"min\": 22241.59593217075,\n        \"max\": 22429.5419293046,\n        \"num_unique_values\": 50,\n        \"samples\": [\n          22254.6887062788,\n          22396.712656244636,\n          22329.55481648445\n        ],\n        \"semantic_type\": \"\",\n        \"description\": \"\"\n      }\n    },\n    {\n      \"column\": \"Difference\",\n      \"properties\": {\n        \"dtype\": \"number\",\n        \"std\": 21.388997526937064,\n        \"min\": -28.342348717153072,\n        \"max\": 64.00885194540024,\n        \"num_unique_values\": 50,\n        \"samples\": [\n          13.203798271715641,\n          21.35452001541853,\n          18.26708348840475\n        ],\n        \"semantic_type\": \"\",\n        \"description\": \"\"\n      }\n    }\n  ]\n}"
            }
          },
          "metadata": {},
          "execution_count": 298
        }
      ]
    },
    {
      "cell_type": "markdown",
      "source": [
        "#Unseen Data"
      ],
      "metadata": {
        "id": "ZJ1nzJ_bkeuU"
      }
    },
    {
      "cell_type": "code",
      "source": [
        "X_test.shape"
      ],
      "metadata": {
        "colab": {
          "base_uri": "https://localhost:8080/"
        },
        "id": "WmV_a4F53yWJ",
        "outputId": "63995cda-5705-4f75-fc4b-7fb5842e22fa"
      },
      "execution_count": 299,
      "outputs": [
        {
          "output_type": "execute_result",
          "data": {
            "text/plain": [
              "torch.Size([44, 6, 1])"
            ]
          },
          "metadata": {},
          "execution_count": 299
        }
      ]
    },
    {
      "cell_type": "code",
      "source": [
        "unseen_predictions = model(X_test.to(device)).detach().cpu().numpy().flatten()\n",
        "\n",
        "dummies = np.zeros((X_test.shape[0], lookback+1))\n",
        "dummies[:, 0] = unseen_predictions\n",
        "dummies = scaler.inverse_transform(dummies)\n",
        "\n",
        "unseen_predictions = dc(dummies[:, 0])\n",
        "unseen_predictions"
      ],
      "metadata": {
        "colab": {
          "base_uri": "https://localhost:8080/"
        },
        "id": "JbxdrP-8kibD",
        "outputId": "054d9a67-d18f-44f8-ff4a-19840c65acaf"
      },
      "execution_count": 300,
      "outputs": [
        {
          "output_type": "execute_result",
          "data": {
            "text/plain": [
              "array([21563.63048533, 21525.7132467 , 21622.8020268 , 21685.2123402 ,\n",
              "       21936.36560155, 22144.58029564, 22092.17748871, 21630.91991621,\n",
              "       21425.94279741, 21569.05176644, 21372.41890444, 21417.36989217,\n",
              "       21395.62433824, 21704.2689704 , 21606.4743324 , 21727.42298681,\n",
              "       21740.08406053, 21886.08067682, 21813.09933174, 21941.68661876,\n",
              "       21971.59926385, 21726.98623817, 21747.32193667, 21626.43688089,\n",
              "       21733.52946539, 21886.57412949, 21963.35850559, 22073.51849254,\n",
              "       22147.33497753, 22205.1502405 , 22083.28123353, 22191.39939861,\n",
              "       22217.64365613, 22140.27583759, 22184.82380648, 21966.97760726,\n",
              "       21951.03161685, 22251.80843508, 22347.15885873, 22350.707369  ,\n",
              "       22393.30863819, 22418.25844894, 22376.10987714, 22350.04227106])"
            ]
          },
          "metadata": {},
          "execution_count": 300
        }
      ]
    },
    {
      "cell_type": "code",
      "source": [
        "dummies = np.zeros((X_test.shape[0], lookback+1))\n",
        "dummies[:, 0] = y_test.flatten()\n",
        "dummies = scaler.inverse_transform(dummies)\n",
        "\n",
        "new_y_unseen = dc(dummies[:, 0])\n",
        "new_y_unseen"
      ],
      "metadata": {
        "colab": {
          "base_uri": "https://localhost:8080/"
        },
        "id": "-jncK53-kwlk",
        "outputId": "2413e304-8521-4df0-bf0d-1ef270ca098d"
      },
      "execution_count": 301,
      "outputs": [
        {
          "output_type": "execute_result",
          "data": {
            "text/plain": [
              "array([21544.8496019 , 21618.69921839, 21647.19922217, 21894.55078235,\n",
              "       22097.44921067, 22032.30078113, 21571.9492204 , 21462.25001738,\n",
              "       21622.40039156, 21238.80078125, 21453.94923165, 21352.59961414,\n",
              "       21737.59960974, 21522.09959528, 21725.69921421, 21697.44921112,\n",
              "       21853.80078102, 21771.69921948, 21929.40039182, 21930.49999941,\n",
              "       21717.94922089, 21782.50000275, 21616.05077418, 21743.24999739,\n",
              "       21840.05078168, 21910.75000105, 22040.6992225 , 22122.25000449,\n",
              "       22196.9492232 , 22055.05078775, 22217.44920492, 22212.69921052,\n",
              "       22122.05078548, 22198.34960848, 21951.15039101, 21982.8007849 ,\n",
              "       22338.750003  , 22405.5996002 , 22356.30079553, 22474.05076489,\n",
              "       22493.55078125, 22332.650405  , 22335.69921305, 21997.69921614])"
            ]
          },
          "metadata": {},
          "execution_count": 301
        }
      ]
    },
    {
      "cell_type": "code",
      "source": [
        "plt.figure(figsize=(15,7))\n",
        "plt.plot(new_y_unseen, label='Actual Close',color = '#27aeef')\n",
        "plt.plot(unseen_predictions, label='Predicted Close', color = '#f46a9b')\n",
        "plt.xlabel('Day')\n",
        "plt.ylabel('Close')\n",
        "plt.title(\"Predictions for NIFTY 1st January 2024 to 15th March 2024\")\n",
        "plt.legend()\n",
        "plt.show()"
      ],
      "metadata": {
        "colab": {
          "base_uri": "https://localhost:8080/",
          "height": 602
        },
        "id": "_rhC-LMmk5cO",
        "outputId": "f76578f8-b659-4dba-dead-ebc74e453517"
      },
      "execution_count": 302,
      "outputs": [
        {
          "output_type": "display_data",
          "data": {
            "text/plain": [
              "<Figure size 1500x700 with 1 Axes>"
            ],
            "image/png": "[encoded data removed]"
          },
          "metadata": {}
        }
      ]
    },
    {
      "cell_type": "code",
      "source": [
        "rmse = np.sqrt(np.mean((unseen_predictions - new_y_unseen)**2))\n",
        "print(f\"Score (RMSE): {rmse:.4f}\")"
      ],
      "metadata": {
        "colab": {
          "base_uri": "https://localhost:8080/"
        },
        "id": "3TRl7kPwdnTw",
        "outputId": "d8d61713-8649-4ac5-bd34-20a9be5615a8"
      },
      "execution_count": 303,
      "outputs": [
        {
          "output_type": "stream",
          "name": "stdout",
          "text": [
            "Score (RMSE): 172.9621\n"
          ]
        }
      ]
    },
    {
      "cell_type": "code",
      "source": [
        "neww=pd.DataFrame()\n",
        "neww[\"Actual\"]=new_y_unseen\n",
        "neww[\"Predicted\"]=unseen_predictions\n",
        "neww[\"Difference\"]=neww[\"Actual\"]-neww[\"Predicted\"]"
      ],
      "metadata": {
        "id": "OVnOL805xTe9"
      },
      "execution_count": 304,
      "outputs": []
    },
    {
      "cell_type": "code",
      "source": [
        "neww"
      ],
      "metadata": {
        "colab": {
          "base_uri": "https://localhost:8080/",
          "height": 1000
        },
        "id": "aMK7-7GRxcMy",
        "outputId": "4dd487b2-2fda-4d1d-f2ba-82c83040956e"
      },
      "execution_count": 305,
      "outputs": [
        {
          "output_type": "execute_result",
          "data": {
            "text/plain": [
              "          Actual     Predicted  Difference\n",
              "0   21544.849602  21563.630485  -18.780883\n",
              "1   21618.699218  21525.713247   92.985972\n",
              "2   21647.199222  21622.802027   24.397195\n",
              "3   21894.550782  21685.212340  209.338442\n",
              "4   22097.449211  21936.365602  161.083609\n",
              "5   22032.300781  22144.580296 -112.279515\n",
              "6   21571.949220  22092.177489 -520.228268\n",
              "7   21462.250017  21630.919916 -168.669899\n",
              "8   21622.400392  21425.942797  196.457594\n",
              "9   21238.800781  21569.051766 -330.250985\n",
              "10  21453.949232  21372.418904   81.530327\n",
              "11  21352.599614  21417.369892  -64.770278\n",
              "12  21737.599610  21395.624338  341.975271\n",
              "13  21522.099595  21704.268970 -182.169375\n",
              "14  21725.699214  21606.474332  119.224882\n",
              "15  21697.449211  21727.422987  -29.973776\n",
              "16  21853.800781  21740.084061  113.716720\n",
              "17  21771.699219  21886.080677 -114.381457\n",
              "18  21929.400392  21813.099332  116.301060\n",
              "19  21930.499999  21941.686619  -11.186619\n",
              "20  21717.949221  21971.599264 -253.650043\n",
              "21  21782.500003  21726.986238   55.513765\n",
              "22  21616.050774  21747.321937 -131.271162\n",
              "23  21743.249997  21626.436881  116.813117\n",
              "24  21840.050782  21733.529465  106.521316\n",
              "25  21910.750001  21886.574129   24.175872\n",
              "26  22040.699222  21963.358506   77.340717\n",
              "27  22122.250004  22073.518493   48.731512\n",
              "28  22196.949223  22147.334978   49.614246\n",
              "29  22055.050788  22205.150240 -150.099453\n",
              "30  22217.449205  22083.281234  134.167971\n",
              "31  22212.699211  22191.399399   21.299812\n",
              "32  22122.050785  22217.643656  -95.592871\n",
              "33  22198.349608  22140.275838   58.073771\n",
              "34  21951.150391  22184.823806 -233.673415\n",
              "35  21982.800785  21966.977607   15.823178\n",
              "36  22338.750003  21951.031617  387.718386\n",
              "37  22405.599600  22251.808435  153.791165\n",
              "38  22356.300796  22347.158859    9.141937\n",
              "39  22474.050765  22350.707369  123.343396\n",
              "40  22493.550781  22393.308638  100.242143\n",
              "41  22332.650405  22418.258449  -85.608044\n",
              "42  22335.699213  22376.109877  -40.410664\n",
              "43  21997.699216  22350.042271 -352.343055"
            ],
            "text/html": [
              "\n",
              "  <div id=\"df-305caa18-c8ff-49c6-a1f1-f777814d5a23\" class=\"colab-df-container\">\n",
              "    <div>\n",
              "<style scoped>\n",
              "    .dataframe tbody tr th:only-of-type {\n",
              "        vertical-align: middle;\n",
              "    }\n",
              "\n",
              "    .dataframe tbody tr th {\n",
              "        vertical-align: top;\n",
              "    }\n",
              "\n",
              "    .dataframe thead th {\n",
              "        text-align: right;\n",
              "    }\n",
              "</style>\n",
              "<table border=\"1\" class=\"dataframe\">\n",
              "  <thead>\n",
              "    <tr style=\"text-align: right;\">\n",
              "      <th></th>\n",
              "      <th>Actual</th>\n",
              "      <th>Predicted</th>\n",
              "      <th>Difference</th>\n",
              "    </tr>\n",
              "  </thead>\n",
              "  <tbody>\n",
              "    <tr>\n",
              "      <th>0</th>\n",
              "      <td>21544.849602</td>\n",
              "      <td>21563.630485</td>\n",
              "      <td>-18.780883</td>\n",
              "    </tr>\n",
              "    <tr>\n",
              "      <th>1</th>\n",
              "      <td>21618.699218</td>\n",
              "      <td>21525.713247</td>\n",
              "      <td>92.985972</td>\n",
              "    </tr>\n",
              "    <tr>\n",
              "      <th>2</th>\n",
              "      <td>21647.199222</td>\n",
              "      <td>21622.802027</td>\n",
              "      <td>24.397195</td>\n",
              "    </tr>\n",
              "    <tr>\n",
              "      <th>3</th>\n",
              "      <td>21894.550782</td>\n",
              "      <td>21685.212340</td>\n",
              "      <td>209.338442</td>\n",
              "    </tr>\n",
              "    <tr>\n",
              "      <th>4</th>\n",
              "      <td>22097.449211</td>\n",
              "      <td>21936.365602</td>\n",
              "      <td>161.083609</td>\n",
              "    </tr>\n",
              "    <tr>\n",
              "      <th>5</th>\n",
              "      <td>22032.300781</td>\n",
              "      <td>22144.580296</td>\n",
              "      <td>-112.279515</td>\n",
              "    </tr>\n",
              "    <tr>\n",
              "      <th>6</th>\n",
              "      <td>21571.949220</td>\n",
              "      <td>22092.177489</td>\n",
              "      <td>-520.228268</td>\n",
              "    </tr>\n",
              "    <tr>\n",
              "      <th>7</th>\n",
              "      <td>21462.250017</td>\n",
              "      <td>21630.919916</td>\n",
              "      <td>-168.669899</td>\n",
              "    </tr>\n",
              "    <tr>\n",
              "      <th>8</th>\n",
              "      <td>21622.400392</td>\n",
              "      <td>21425.942797</td>\n",
              "      <td>196.457594</td>\n",
              "    </tr>\n",
              "    <tr>\n",
              "      <th>9</th>\n",
              "      <td>21238.800781</td>\n",
              "      <td>21569.051766</td>\n",
              "      <td>-330.250985</td>\n",
              "    </tr>\n",
              "    <tr>\n",
              "      <th>10</th>\n",
              "      <td>21453.949232</td>\n",
              "      <td>21372.418904</td>\n",
              "      <td>81.530327</td>\n",
              "    </tr>\n",
              "    <tr>\n",
              "      <th>11</th>\n",
              "      <td>21352.599614</td>\n",
              "      <td>21417.369892</td>\n",
              "      <td>-64.770278</td>\n",
              "    </tr>\n",
              "    <tr>\n",
              "      <th>12</th>\n",
              "      <td>21737.599610</td>\n",
              "      <td>21395.624338</td>\n",
              "      <td>341.975271</td>\n",
              "    </tr>\n",
              "    <tr>\n",
              "      <th>13</th>\n",
              "      <td>21522.099595</td>\n",
              "      <td>21704.268970</td>\n",
              "      <td>-182.169375</td>\n",
              "    </tr>\n",
              "    <tr>\n",
              "      <th>14</th>\n",
              "      <td>21725.699214</td>\n",
              "      <td>21606.474332</td>\n",
              "      <td>119.224882</td>\n",
              "    </tr>\n",
              "    <tr>\n",
              "      <th>15</th>\n",
              "      <td>21697.449211</td>\n",
              "      <td>21727.422987</td>\n",
              "      <td>-29.973776</td>\n",
              "    </tr>\n",
              "    <tr>\n",
              "      <th>16</th>\n",
              "      <td>21853.800781</td>\n",
              "      <td>21740.084061</td>\n",
              "      <td>113.716720</td>\n",
              "    </tr>\n",
              "    <tr>\n",
              "      <th>17</th>\n",
              "      <td>21771.699219</td>\n",
              "      <td>21886.080677</td>\n",
              "      <td>-114.381457</td>\n",
              "    </tr>\n",
              "    <tr>\n",
              "      <th>18</th>\n",
              "      <td>21929.400392</td>\n",
              "      <td>21813.099332</td>\n",
              "      <td>116.301060</td>\n",
              "    </tr>\n",
              "    <tr>\n",
              "      <th>19</th>\n",
              "      <td>21930.499999</td>\n",
              "      <td>21941.686619</td>\n",
              "      <td>-11.186619</td>\n",
              "    </tr>\n",
              "    <tr>\n",
              "      <th>20</th>\n",
              "      <td>21717.949221</td>\n",
              "      <td>21971.599264</td>\n",
              "      <td>-253.650043</td>\n",
              "    </tr>\n",
              "    <tr>\n",
              "      <th>21</th>\n",
              "      <td>21782.500003</td>\n",
              "      <td>21726.986238</td>\n",
              "      <td>55.513765</td>\n",
              "    </tr>\n",
              "    <tr>\n",
              "      <th>22</th>\n",
              "      <td>21616.050774</td>\n",
              "      <td>21747.321937</td>\n",
              "      <td>-131.271162</td>\n",
              "    </tr>\n",
              "    <tr>\n",
              "      <th>23</th>\n",
              "      <td>21743.249997</td>\n",
              "      <td>21626.436881</td>\n",
              "      <td>116.813117</td>\n",
              "    </tr>\n",
              "    <tr>\n",
              "      <th>24</th>\n",
              "      <td>21840.050782</td>\n",
              "      <td>21733.529465</td>\n",
              "      <td>106.521316</td>\n",
              "    </tr>\n",
              "    <tr>\n",
              "      <th>25</th>\n",
              "      <td>21910.750001</td>\n",
              "      <td>21886.574129</td>\n",
              "      <td>24.175872</td>\n",
              "    </tr>\n",
              "    <tr>\n",
              "      <th>26</th>\n",
              "      <td>22040.699222</td>\n",
              "      <td>21963.358506</td>\n",
              "      <td>77.340717</td>\n",
              "    </tr>\n",
              "    <tr>\n",
              "      <th>27</th>\n",
              "      <td>22122.250004</td>\n",
              "      <td>22073.518493</td>\n",
              "      <td>48.731512</td>\n",
              "    </tr>\n",
              "    <tr>\n",
              "      <th>28</th>\n",
              "      <td>22196.949223</td>\n",
              "      <td>22147.334978</td>\n",
              "      <td>49.614246</td>\n",
              "    </tr>\n",
              "    <tr>\n",
              "      <th>29</th>\n",
              "      <td>22055.050788</td>\n",
              "      <td>22205.150240</td>\n",
              "      <td>-150.099453</td>\n",
              "    </tr>\n",
              "    <tr>\n",
              "      <th>30</th>\n",
              "      <td>22217.449205</td>\n",
              "      <td>22083.281234</td>\n",
              "      <td>134.167971</td>\n",
              "    </tr>\n",
              "    <tr>\n",
              "      <th>31</th>\n",
              "      <td>22212.699211</td>\n",
              "      <td>22191.399399</td>\n",
              "      <td>21.299812</td>\n",
              "    </tr>\n",
              "    <tr>\n",
              "      <th>32</th>\n",
              "      <td>22122.050785</td>\n",
              "      <td>22217.643656</td>\n",
              "      <td>-95.592871</td>\n",
              "    </tr>\n",
              "    <tr>\n",
              "      <th>33</th>\n",
              "      <td>22198.349608</td>\n",
              "      <td>22140.275838</td>\n",
              "      <td>58.073771</td>\n",
              "    </tr>\n",
              "    <tr>\n",
              "      <th>34</th>\n",
              "      <td>21951.150391</td>\n",
              "      <td>22184.823806</td>\n",
              "      <td>-233.673415</td>\n",
              "    </tr>\n",
              "    <tr>\n",
              "      <th>35</th>\n",
              "      <td>21982.800785</td>\n",
              "      <td>21966.977607</td>\n",
              "      <td>15.823178</td>\n",
              "    </tr>\n",
              "    <tr>\n",
              "      <th>36</th>\n",
              "      <td>22338.750003</td>\n",
              "      <td>21951.031617</td>\n",
              "      <td>387.718386</td>\n",
              "    </tr>\n",
              "    <tr>\n",
              "      <th>37</th>\n",
              "      <td>22405.599600</td>\n",
              "      <td>22251.808435</td>\n",
              "      <td>153.791165</td>\n",
              "    </tr>\n",
              "    <tr>\n",
              "      <th>38</th>\n",
              "      <td>22356.300796</td>\n",
              "      <td>22347.158859</td>\n",
              "      <td>9.141937</td>\n",
              "    </tr>\n",
              "    <tr>\n",
              "      <th>39</th>\n",
              "      <td>22474.050765</td>\n",
              "      <td>22350.707369</td>\n",
              "      <td>123.343396</td>\n",
              "    </tr>\n",
              "    <tr>\n",
              "      <th>40</th>\n",
              "      <td>22493.550781</td>\n",
              "      <td>22393.308638</td>\n",
              "      <td>100.242143</td>\n",
              "    </tr>\n",
              "    <tr>\n",
              "      <th>41</th>\n",
              "      <td>22332.650405</td>\n",
              "      <td>22418.258449</td>\n",
              "      <td>-85.608044</td>\n",
              "    </tr>\n",
              "    <tr>\n",
              "      <th>42</th>\n",
              "      <td>22335.699213</td>\n",
              "      <td>22376.109877</td>\n",
              "      <td>-40.410664</td>\n",
              "    </tr>\n",
              "    <tr>\n",
              "      <th>43</th>\n",
              "      <td>21997.699216</td>\n",
              "      <td>22350.042271</td>\n",
              "      <td>-352.343055</td>\n",
              "    </tr>\n",
              "  </tbody>\n",
              "</table>\n",
              "</div>\n",
              "    <div class=\"colab-df-buttons\">\n",
              "\n",
              "  <div class=\"colab-df-container\">\n",
              "    <button class=\"colab-df-convert\" onclick=\"convertToInteractive('df-305caa18-c8ff-49c6-a1f1-f777814d5a23')\"\n",
              "            title=\"Convert this dataframe to an interactive table.\"\n",
              "            style=\"display:none;\">\n",
              "\n",
              "  <svg xmlns=\"http://www.w3.org/2000/svg\" height=\"24px\" viewBox=\"0 -960 960 960\">\n",
              "    <path d=\"M120-120v-720h720v720H120Zm60-500h600v-160H180v160Zm220 220h160v-160H400v160Zm0 220h160v-160H400v160ZM180-400h160v-160H180v160Zm440 0h160v-160H620v160ZM180-180h160v-160H180v160Zm440 0h160v-160H620v160Z\"/>\n",
              "  </svg>\n",
              "    </button>\n",
              "\n",
              "  <style>\n",
              "    .colab-df-container {\n",
              "      display:flex;\n",
              "      gap: 12px;\n",
              "    }\n",
              "\n",
              "    .colab-df-convert {\n",
              "      background-color: #E8F0FE;\n",
              "      border: none;\n",
              "      border-radius: 50%;\n",
              "      cursor: pointer;\n",
              "      display: none;\n",
              "      fill: #1967D2;\n",
              "      height: 32px;\n",
              "      padding: 0 0 0 0;\n",
              "      width: 32px;\n",
              "    }\n",
              "\n",
              "    .colab-df-convert:hover {\n",
              "      background-color: #E2EBFA;\n",
              "      box-shadow: 0px 1px 2px rgba(60, 64, 67, 0.3), 0px 1px 3px 1px rgba(60, 64, 67, 0.15);\n",
              "      fill: #174EA6;\n",
              "    }\n",
              "\n",
              "    .colab-df-buttons div {\n",
              "      margin-bottom: 4px;\n",
              "    }\n",
              "\n",
              "    [theme=dark] .colab-df-convert {\n",
              "      background-color: #3B4455;\n",
              "      fill: #D2E3FC;\n",
              "    }\n",
              "\n",
              "    [theme=dark] .colab-df-convert:hover {\n",
              "      background-color: #434B5C;\n",
              "      box-shadow: 0px 1px 3px 1px rgba(0, 0, 0, 0.15);\n",
              "      filter: drop-shadow(0px 1px 2px rgba(0, 0, 0, 0.3));\n",
              "      fill: #FFFFFF;\n",
              "    }\n",
              "  </style>\n",
              "\n",
              "    <script>\n",
              "      const buttonEl =\n",
              "        document.querySelector('#df-305caa18-c8ff-49c6-a1f1-f777814d5a23 button.colab-df-convert');\n",
              "      buttonEl.style.display =\n",
              "        google.colab.kernel.accessAllowed ? 'block' : 'none';\n",
              "\n",
              "      async function convertToInteractive(key) {\n",
              "        const element = document.querySelector('#df-305caa18-c8ff-49c6-a1f1-f777814d5a23');\n",
              "        const dataTable =\n",
              "          await google.colab.kernel.invokeFunction('convertToInteractive',\n",
              "                                                    [key], {});\n",
              "        if (!dataTable) return;\n",
              "\n",
              "        const docLinkHtml = 'Like what you see? Visit the ' +\n",
              "          '<a target=\"_blank\" href=https://colab.research.google.com/notebooks/data_table.ipynb>data table notebook</a>'\n",
              "          + ' to learn more about interactive tables.';\n",
              "        element.innerHTML = '';\n",
              "        dataTable['output_type'] = 'display_data';\n",
              "        await google.colab.output.renderOutput(dataTable, element);\n",
              "        const docLink = document.createElement('div');\n",
              "        docLink.innerHTML = docLinkHtml;\n",
              "        element.appendChild(docLink);\n",
              "      }\n",
              "    </script>\n",
              "  </div>\n",
              "\n",
              "\n",
              "<div id=\"df-aa6621ef-0022-45a4-8311-d3a315dcdcc8\">\n",
              "  <button class=\"colab-df-quickchart\" onclick=\"quickchart('df-aa6621ef-0022-45a4-8311-d3a315dcdcc8')\"\n",
              "            title=\"Suggest charts\"\n",
              "            style=\"display:none;\">\n",
              "\n",
              "<svg xmlns=\"http://www.w3.org/2000/svg\" height=\"24px\"viewBox=\"0 0 24 24\"\n",
              "     width=\"24px\">\n",
              "    <g>\n",
              "        <path d=\"M19 3H5c-1.1 0-2 .9-2 2v14c0 1.1.9 2 2 2h14c1.1 0 2-.9 2-2V5c0-1.1-.9-2-2-2zM9 17H7v-7h2v7zm4 0h-2V7h2v10zm4 0h-2v-4h2v4z\"/>\n",
              "    </g>\n",
              "</svg>\n",
              "  </button>\n",
              "\n",
              "<style>\n",
              "  .colab-df-quickchart {\n",
              "      --bg-color: #E8F0FE;\n",
              "      --fill-color: #1967D2;\n",
              "      --hover-bg-color: #E2EBFA;\n",
              "      --hover-fill-color: #174EA6;\n",
              "      --disabled-fill-color: #AAA;\n",
              "      --disabled-bg-color: #DDD;\n",
              "  }\n",
              "\n",
              "  [theme=dark] .colab-df-quickchart {\n",
              "      --bg-color: #3B4455;\n",
              "      --fill-color: #D2E3FC;\n",
              "      --hover-bg-color: #434B5C;\n",
              "      --hover-fill-color: #FFFFFF;\n",
              "      --disabled-bg-color: #3B4455;\n",
              "      --disabled-fill-color: #666;\n",
              "  }\n",
              "\n",
              "  .colab-df-quickchart {\n",
              "    background-color: var(--bg-color);\n",
              "    border: none;\n",
              "    border-radius: 50%;\n",
              "    cursor: pointer;\n",
              "    display: none;\n",
              "    fill: var(--fill-color);\n",
              "    height: 32px;\n",
              "    padding: 0;\n",
              "    width: 32px;\n",
              "  }\n",
              "\n",
              "  .colab-df-quickchart:hover {\n",
              "    background-color: var(--hover-bg-color);\n",
              "    box-shadow: 0 1px 2px rgba(60, 64, 67, 0.3), 0 1px 3px 1px rgba(60, 64, 67, 0.15);\n",
              "    fill: var(--button-hover-fill-color);\n",
              "  }\n",
              "\n",
              "  .colab-df-quickchart-complete:disabled,\n",
              "  .colab-df-quickchart-complete:disabled:hover {\n",
              "    background-color: var(--disabled-bg-color);\n",
              "    fill: var(--disabled-fill-color);\n",
              "    box-shadow: none;\n",
              "  }\n",
              "\n",
              "  .colab-df-spinner {\n",
              "    border: 2px solid var(--fill-color);\n",
              "    border-color: transparent;\n",
              "    border-bottom-color: var(--fill-color);\n",
              "    animation:\n",
              "      spin 1s steps(1) infinite;\n",
              "  }\n",
              "\n",
              "  @keyframes spin {\n",
              "    0% {\n",
              "      border-color: transparent;\n",
              "      border-bottom-color: var(--fill-color);\n",
              "      border-left-color: var(--fill-color);\n",
              "    }\n",
              "    20% {\n",
              "      border-color: transparent;\n",
              "      border-left-color: var(--fill-color);\n",
              "      border-top-color: var(--fill-color);\n",
              "    }\n",
              "    30% {\n",
              "      border-color: transparent;\n",
              "      border-left-color: var(--fill-color);\n",
              "      border-top-color: var(--fill-color);\n",
              "      border-right-color: var(--fill-color);\n",
              "    }\n",
              "    40% {\n",
              "      border-color: transparent;\n",
              "      border-right-color: var(--fill-color);\n",
              "      border-top-color: var(--fill-color);\n",
              "    }\n",
              "    60% {\n",
              "      border-color: transparent;\n",
              "      border-right-color: var(--fill-color);\n",
              "    }\n",
              "    80% {\n",
              "      border-color: transparent;\n",
              "      border-right-color: var(--fill-color);\n",
              "      border-bottom-color: var(--fill-color);\n",
              "    }\n",
              "    90% {\n",
              "      border-color: transparent;\n",
              "      border-bottom-color: var(--fill-color);\n",
              "    }\n",
              "  }\n",
              "</style>\n",
              "\n",
              "  <script>\n",
              "    async function quickchart(key) {\n",
              "      const quickchartButtonEl =\n",
              "        document.querySelector('#' + key + ' button');\n",
              "      quickchartButtonEl.disabled = true;  // To prevent multiple clicks.\n",
              "      quickchartButtonEl.classList.add('colab-df-spinner');\n",
              "      try {\n",
              "        const charts = await google.colab.kernel.invokeFunction(\n",
              "            'suggestCharts', [key], {});\n",
              "      } catch (error) {\n",
              "        console.error('Error during call to suggestCharts:', error);\n",
              "      }\n",
              "      quickchartButtonEl.classList.remove('colab-df-spinner');\n",
              "      quickchartButtonEl.classList.add('colab-df-quickchart-complete');\n",
              "    }\n",
              "    (() => {\n",
              "      let quickchartButtonEl =\n",
              "        document.querySelector('#df-aa6621ef-0022-45a4-8311-d3a315dcdcc8 button');\n",
              "      quickchartButtonEl.style.display =\n",
              "        google.colab.kernel.accessAllowed ? 'block' : 'none';\n",
              "    })();\n",
              "  </script>\n",
              "</div>\n",
              "\n",
              "  <div id=\"id_0bca98ff-6398-488f-943b-3727d89fbe97\">\n",
              "    <style>\n",
              "      .colab-df-generate {\n",
              "        background-color: #E8F0FE;\n",
              "        border: none;\n",
              "        border-radius: 50%;\n",
              "        cursor: pointer;\n",
              "        display: none;\n",
              "        fill: #1967D2;\n",
              "        height: 32px;\n",
              "        padding: 0 0 0 0;\n",
              "        width: 32px;\n",
              "      }\n",
              "\n",
              "      .colab-df-generate:hover {\n",
              "        background-color: #E2EBFA;\n",
              "        box-shadow: 0px 1px 2px rgba(60, 64, 67, 0.3), 0px 1px 3px 1px rgba(60, 64, 67, 0.15);\n",
              "        fill: #174EA6;\n",
              "      }\n",
              "\n",
              "      [theme=dark] .colab-df-generate {\n",
              "        background-color: #3B4455;\n",
              "        fill: #D2E3FC;\n",
              "      }\n",
              "\n",
              "      [theme=dark] .colab-df-generate:hover {\n",
              "        background-color: #434B5C;\n",
              "        box-shadow: 0px 1px 3px 1px rgba(0, 0, 0, 0.15);\n",
              "        filter: drop-shadow(0px 1px 2px rgba(0, 0, 0, 0.3));\n",
              "        fill: #FFFFFF;\n",
              "      }\n",
              "    </style>\n",
              "    <button class=\"colab-df-generate\" onclick=\"generateWithVariable('neww')\"\n",
              "            title=\"Generate code using this dataframe.\"\n",
              "            style=\"display:none;\">\n",
              "\n",
              "  <svg xmlns=\"http://www.w3.org/2000/svg\" height=\"24px\"viewBox=\"0 0 24 24\"\n",
              "       width=\"24px\">\n",
              "    <path d=\"M7,19H8.4L18.45,9,17,7.55,7,17.6ZM5,21V16.75L18.45,3.32a2,2,0,0,1,2.83,0l1.4,1.43a1.91,1.91,0,0,1,.58,1.4,1.91,1.91,0,0,1-.58,1.4L9.25,21ZM18.45,9,17,7.55Zm-12,3A5.31,5.31,0,0,0,4.9,8.1,5.31,5.31,0,0,0,1,6.5,5.31,5.31,0,0,0,4.9,4.9,5.31,5.31,0,0,0,6.5,1,5.31,5.31,0,0,0,8.1,4.9,5.31,5.31,0,0,0,12,6.5,5.46,5.46,0,0,0,6.5,12Z\"/>\n",
              "  </svg>\n",
              "    </button>\n",
              "    <script>\n",
              "      (() => {\n",
              "      const buttonEl =\n",
              "        document.querySelector('#id_0bca98ff-6398-488f-943b-3727d89fbe97 button.colab-df-generate');\n",
              "      buttonEl.style.display =\n",
              "        google.colab.kernel.accessAllowed ? 'block' : 'none';\n",
              "\n",
              "      buttonEl.onclick = () => {\n",
              "        google.colab.notebook.generateWithVariable('neww');\n",
              "      }\n",
              "      })();\n",
              "    </script>\n",
              "  </div>\n",
              "\n",
              "    </div>\n",
              "  </div>\n"
            ],
            "application/vnd.google.colaboratory.intrinsic+json": {
              "type": "dataframe",
              "variable_name": "neww",
              "summary": "{\n  \"name\": \"neww\",\n  \"rows\": 44,\n  \"fields\": [\n    {\n      \"column\": \"Actual\",\n      \"properties\": {\n        \"dtype\": \"number\",\n        \"std\": 316.2373637101991,\n        \"min\": 21238.80078125,\n        \"max\": 22493.55078125,\n        \"num_unique_values\": 44,\n        \"samples\": [\n          22405.599600195885,\n          21840.0507816826,\n          21910.750001054257\n        ],\n        \"semantic_type\": \"\",\n        \"description\": \"\"\n      }\n    },\n    {\n      \"column\": \"Predicted\",\n      \"properties\": {\n        \"dtype\": \"number\",\n        \"std\": 305.4921872497446,\n        \"min\": 21372.418904438615,\n        \"max\": 22418.258448943496,\n        \"num_unique_values\": 44,\n        \"samples\": [\n          22251.808435082436,\n          21733.529465392232,\n          21886.57412949484\n        ],\n        \"semantic_type\": \"\",\n        \"description\": \"\"\n      }\n    },\n    {\n      \"column\": \"Difference\",\n      \"properties\": {\n        \"dtype\": \"number\",\n        \"std\": 174.9588326455666,\n        \"min\": -520.2282683104277,\n        \"max\": 387.71838615462184,\n        \"num_unique_values\": 44,\n        \"samples\": [\n          153.7911651134491,\n          106.5213162903674,\n          24.175871559418738\n        ],\n        \"semantic_type\": \"\",\n        \"description\": \"\"\n      }\n    }\n  ]\n}"
            }
          },
          "metadata": {},
          "execution_count": 305
        }
      ]
    },
    {
      "cell_type": "code",
      "source": [],
      "metadata": {
        "id": "skgaiLmpxcns"
      },
      "execution_count": 125,
      "outputs": []
    },
    {
      "cell_type": "markdown",
      "source": [
        "#Bayesian Optimisation"
      ],
      "metadata": {
        "id": "7hLgD5Snl7EP"
      }
    },
    {
      "cell_type": "code",
      "source": [
        "!pip install bayesian-optimization\n"
      ],
      "metadata": {
        "colab": {
          "base_uri": "https://localhost:8080/"
        },
        "id": "KNX3CShxl-GR",
        "outputId": "3c992934-c237-4df0-a07d-9abc36d8b16a"
      },
      "execution_count": 126,
      "outputs": [
        {
          "output_type": "stream",
          "name": "stdout",
          "text": [
            "Collecting bayesian-optimization\n",
            "  Downloading bayesian_optimization-1.4.3-py3-none-any.whl (18 kB)\n",
            "Requirement already satisfied: numpy>=1.9.0 in /usr/local/lib/python3.10/dist-packages (from bayesian-optimization) (1.25.2)\n",
            "Requirement already satisfied: scipy>=1.0.0 in /usr/local/lib/python3.10/dist-packages (from bayesian-optimization) (1.11.4)\n",
            "Requirement already satisfied: scikit-learn>=0.18.0 in /usr/local/lib/python3.10/dist-packages (from bayesian-optimization) (1.2.2)\n",
            "Collecting colorama>=0.4.6 (from bayesian-optimization)\n",
            "  Downloading colorama-0.4.6-py2.py3-none-any.whl (25 kB)\n",
            "Requirement already satisfied: joblib>=1.1.1 in /usr/local/lib/python3.10/dist-packages (from scikit-learn>=0.18.0->bayesian-optimization) (1.3.2)\n",
            "Requirement already satisfied: threadpoolctl>=2.0.0 in /usr/local/lib/python3.10/dist-packages (from scikit-learn>=0.18.0->bayesian-optimization) (3.3.0)\n",
            "Installing collected packages: colorama, bayesian-optimization\n",
            "Successfully installed bayesian-optimization-1.4.3 colorama-0.4.6\n"
          ]
        }
      ]
    },
    {
      "cell_type": "code",
      "source": [
        "import time\n",
        "import statistics\n",
        "from scipy.stats import zscore\n",
        "from sklearn import metrics\n",
        "from sklearn.model_selection import StratifiedShuffleSplit"
      ],
      "metadata": {
        "id": "5jpLSgLynnkS"
      },
      "execution_count": 235,
      "outputs": []
    },
    {
      "cell_type": "code",
      "source": [
        "SPLITS = 2\n",
        "EPOCHS = 500\n",
        "PATIENCE = 10\n",
        "def evaluate_network(learning_rate, dropout):\n",
        "    boot = StratifiedShuffleSplit(n_splits=SPLITS, test_size=0.1)\n",
        "    mean_benchmark = []\n",
        "    epochs_needed = []\n",
        "\n",
        "    model = LSTM(1,2,1, dropout=dropout).to(device)\n",
        "    criterion = nn.MSELoss()\n",
        "    optimizer = torch.optim.Adam(model.parameters(), lr=learning_rate)\n",
        "\n",
        "    loader_train = train_loader\n",
        "\n",
        "    best_loss = float('inf')\n",
        "    patience_counter = 0\n",
        "\n",
        "    for epoch in range(EPOCHS):\n",
        "        model.train()\n",
        "        for batch_x, batch_y in loader_train:\n",
        "            optimizer.zero_grad()\n",
        "            outputs = model(batch_x)\n",
        "            loss = criterion(outputs, batch_y)\n",
        "            loss.backward()\n",
        "            optimizer.step()\n",
        "\n",
        "        model.eval()\n",
        "        with torch.no_grad():\n",
        "            outputs_test = model(X_test)\n",
        "            val_loss = criterion(outputs_test, y_test).item()\n",
        "\n",
        "        if val_loss < best_loss:\n",
        "            best_loss = val_loss\n",
        "            patience_counter = 0\n",
        "        else:\n",
        "            patience_counter += 1\n",
        "\n",
        "        if patience_counter >= PATIENCE:\n",
        "            epochs_needed.append(epoch)\n",
        "            break\n",
        "\n",
        "    running_loss = 0.0\n",
        "    with torch.no_grad():\n",
        "        output = model(x_batch)\n",
        "        loss = loss_function(output, y_batch)\n",
        "        running_loss += loss.item()\n",
        "\n",
        "    avg_loss_across_batches = running_loss\n",
        "    return -avg_loss_across_batches  # Minimize the loss, so negate it\n",
        "\n"
      ],
      "metadata": {
        "id": "qEsy8495nfJd"
      },
      "execution_count": 271,
      "outputs": []
    },
    {
      "cell_type": "code",
      "source": [
        "from bayes_opt import BayesianOptimization\n",
        "import time\n",
        "\n",
        "# Supress NaN warnings\n",
        "import warnings\n",
        "warnings.filterwarnings(\"ignore\", category=RuntimeWarning)\n",
        "\n",
        "# Bounded region of parameter space\n",
        "pbounds = {'dropout': (0.0, 0.499),\n",
        "           'learning_rate': (0.0, 0.1)\n",
        "           }\n",
        "\n",
        "optimizer = BayesianOptimization(\n",
        "    f=evaluate_network,\n",
        "    pbounds=pbounds,\n",
        "    verbose=2,\n",
        "    random_state=1,\n",
        ")\n",
        "\n",
        "start_time = time.time()\n",
        "optimizer.maximize(init_points=10, n_iter=20)\n",
        "time_took = time.time() - start_time\n",
        "\n",
        "print(optimizer.max)"
      ],
      "metadata": {
        "colab": {
          "base_uri": "https://localhost:8080/"
        },
        "id": "lDFQnJXUl_GH",
        "outputId": "0ba52263-4df9-4c93-c742-5f2411fd8761"
      },
      "execution_count": 272,
      "outputs": [
        {
          "output_type": "stream",
          "name": "stdout",
          "text": [
            "|   iter    |  target   |  dropout  | learni... |\n",
            "-------------------------------------------------\n",
            "| \u001b[0m1        \u001b[0m | \u001b[0m-0.000362\u001b[0m | \u001b[0m0.2081   \u001b[0m | \u001b[0m0.07203  \u001b[0m |\n",
            "| \u001b[0m2        \u001b[0m | \u001b[0m-0.000402\u001b[0m | \u001b[0m5.707e-05\u001b[0m | \u001b[0m0.03023  \u001b[0m |\n",
            "| \u001b[0m3        \u001b[0m | \u001b[0m-0.000396\u001b[0m | \u001b[0m0.07323  \u001b[0m | \u001b[0m0.009234 \u001b[0m |\n",
            "| \u001b[0m4        \u001b[0m | \u001b[0m-0.000859\u001b[0m | \u001b[0m0.09294  \u001b[0m | \u001b[0m0.03456  \u001b[0m |\n",
            "| \u001b[95m5        \u001b[0m | \u001b[95m-0.000284\u001b[0m | \u001b[95m0.198    \u001b[0m | \u001b[95m0.05388  \u001b[0m |\n",
            "| \u001b[0m6        \u001b[0m | \u001b[0m-0.000614\u001b[0m | \u001b[0m0.2092   \u001b[0m | \u001b[0m0.06852  \u001b[0m |\n",
            "| \u001b[0m7        \u001b[0m | \u001b[0m-0.000514\u001b[0m | \u001b[0m0.102    \u001b[0m | \u001b[0m0.08781  \u001b[0m |\n",
            "| \u001b[0m8        \u001b[0m | \u001b[0m-0.001473\u001b[0m | \u001b[0m0.01367  \u001b[0m | \u001b[0m0.06705  \u001b[0m |\n",
            "| \u001b[0m9        \u001b[0m | \u001b[0m-0.000553\u001b[0m | \u001b[0m0.2082   \u001b[0m | \u001b[0m0.05587  \u001b[0m |\n",
            "| \u001b[0m10       \u001b[0m | \u001b[0m-0.000354\u001b[0m | \u001b[0m0.07005  \u001b[0m | \u001b[0m0.01981  \u001b[0m |\n",
            "| \u001b[0m11       \u001b[0m | \u001b[0m-0.000768\u001b[0m | \u001b[0m0.205    \u001b[0m | \u001b[0m0.08054  \u001b[0m |\n",
            "| \u001b[0m12       \u001b[0m | \u001b[0m-0.000697\u001b[0m | \u001b[0m0.4142   \u001b[0m | \u001b[0m0.06601  \u001b[0m |\n",
            "| \u001b[0m13       \u001b[0m | \u001b[0m-0.000473\u001b[0m | \u001b[0m0.0745   \u001b[0m | \u001b[0m0.06288  \u001b[0m |\n",
            "| \u001b[0m14       \u001b[0m | \u001b[0m-0.001273\u001b[0m | \u001b[0m0.2012   \u001b[0m | \u001b[0m0.0561   \u001b[0m |\n",
            "| \u001b[95m15       \u001b[0m | \u001b[95m-0.000245\u001b[0m | \u001b[95m0.1974   \u001b[0m | \u001b[95m0.01615  \u001b[0m |\n",
            "| \u001b[0m16       \u001b[0m | \u001b[0m-0.000378\u001b[0m | \u001b[0m0.443    \u001b[0m | \u001b[0m0.04472  \u001b[0m |\n",
            "| \u001b[0m17       \u001b[0m | \u001b[0m-0.000280\u001b[0m | \u001b[0m0.2157   \u001b[0m | \u001b[0m0.0352   \u001b[0m |\n",
            "| \u001b[0m18       \u001b[0m | \u001b[0m-0.000294\u001b[0m | \u001b[0m0.3043   \u001b[0m | \u001b[0m0.03929  \u001b[0m |\n",
            "| \u001b[0m19       \u001b[0m | \u001b[0m-0.000515\u001b[0m | \u001b[0m0.276    \u001b[0m | \u001b[0m0.0702   \u001b[0m |\n",
            "| \u001b[0m20       \u001b[0m | \u001b[0m-0.000339\u001b[0m | \u001b[0m0.07407  \u001b[0m | \u001b[0m0.04067  \u001b[0m |\n",
            "| \u001b[0m21       \u001b[0m | \u001b[0m-0.000532\u001b[0m | \u001b[0m0.03334  \u001b[0m | \u001b[0m0.05343  \u001b[0m |\n",
            "| \u001b[0m22       \u001b[0m | \u001b[0m-0.001058\u001b[0m | \u001b[0m0.1693   \u001b[0m | \u001b[0m0.02749  \u001b[0m |\n",
            "| \u001b[0m23       \u001b[0m | \u001b[0m-0.000827\u001b[0m | \u001b[0m0.208    \u001b[0m | \u001b[0m0.07204  \u001b[0m |\n",
            "| \u001b[0m24       \u001b[0m | \u001b[0m-0.000482\u001b[0m | \u001b[0m0.454    \u001b[0m | \u001b[0m0.04161  \u001b[0m |\n",
            "| \u001b[0m25       \u001b[0m | \u001b[0m-0.000990\u001b[0m | \u001b[0m0.2762   \u001b[0m | \u001b[0m0.07017  \u001b[0m |\n",
            "| \u001b[0m26       \u001b[0m | \u001b[0m-0.000639\u001b[0m | \u001b[0m0.3578   \u001b[0m | \u001b[0m0.03999  \u001b[0m |\n",
            "| \u001b[0m27       \u001b[0m | \u001b[0m-0.000503\u001b[0m | \u001b[0m0.03979  \u001b[0m | \u001b[0m0.06272  \u001b[0m |\n",
            "| \u001b[0m28       \u001b[0m | \u001b[0m-0.001416\u001b[0m | \u001b[0m0.005484 \u001b[0m | \u001b[0m0.03749  \u001b[0m |\n",
            "| \u001b[0m29       \u001b[0m | \u001b[0m-0.000749\u001b[0m | \u001b[0m0.1095   \u001b[0m | \u001b[0m0.08328  \u001b[0m |\n",
            "| \u001b[0m30       \u001b[0m | \u001b[0m-0.000773\u001b[0m | \u001b[0m0.2547   \u001b[0m | \u001b[0m0.07786  \u001b[0m |\n",
            "=================================================\n",
            "{'target': -0.00024517017300240695, 'params': {'dropout': 0.19741807866772093, 'learning_rate': 0.01614581718546204}}\n"
          ]
        }
      ]
    }
  ]
}