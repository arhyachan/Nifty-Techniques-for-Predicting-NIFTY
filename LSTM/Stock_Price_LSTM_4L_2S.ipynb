{
  "nbformat": 4,
  "nbformat_minor": 0,
  "metadata": {
    "colab": {
      "provenance": [],
      "toc_visible": true
    },
    "kernelspec": {
      "name": "python3",
      "display_name": "Python 3"
    },
    "language_info": {
      "name": "python"
    }
  },
  "cells": [
    {
      "cell_type": "markdown",
      "source": [
        "**This Notebook has the best performing model for LSTM**\n",
        "\n",
        "\n",
        "Architecture\n",
        "\n",
        "4 Hidden Layers\n",
        "\n",
        "2 Stacks of LSTM"
      ],
      "metadata": {
        "id": "p8qp7Pz1Lr--"
      }
    },
    {
      "cell_type": "markdown",
      "source": [
        "#Imports"
      ],
      "metadata": {
        "id": "hAaj8cj_NgpT"
      }
    },
    {
      "cell_type": "code",
      "execution_count": 2720,
      "metadata": {
        "id": "vvBFGth2MI96"
      },
      "outputs": [],
      "source": [
        "import pandas as pd\n",
        "import numpy as np\n",
        "import matplotlib.pyplot as plt\n",
        "import torch\n",
        "import torch.nn as nn\n",
        "from copy import deepcopy as dc\n",
        "from sklearn.preprocessing import MinMaxScaler\n",
        "from torch.utils.data import Dataset\n",
        "from torch.utils.data import DataLoader\n"
      ]
    },
    {
      "cell_type": "markdown",
      "source": [
        "#Data Pipeline Functions"
      ],
      "metadata": {
        "id": "lwg1D4oqR9Jn"
      }
    },
    {
      "cell_type": "code",
      "source": [
        "def data(filename):\n",
        "  df = pd.read_csv(filename)\n",
        "  df = df[['Date','Close']]\n",
        "  df[\"Date\"] = pd.to_datetime(df['Date'])\n",
        "  return df"
      ],
      "metadata": {
        "id": "8heTIRYKQ9Ps"
      },
      "execution_count": 2721,
      "outputs": []
    },
    {
      "cell_type": "code",
      "source": [
        "def split_data(stock_tr,stock_ts, lookback):\n",
        "    data_raw_tr = stock_tr.to_numpy()\n",
        "    data_tr = []\n",
        "    for index in range(len(data_raw_tr) - lookback):\n",
        "        data_tr.append(data_raw_tr[index: index + lookback])\n",
        "\n",
        "    data_raw_ts = stock_ts.to_numpy()\n",
        "    data_ts = []\n",
        "\n",
        "    for index in range(len(data_raw_ts) - lookback):\n",
        "        data_ts.append(data_raw_ts[index: index + lookback])\n",
        "\n",
        "    data_tr = np.array(data_tr);\n",
        "    data_ts = np.array(data_ts);\n",
        "\n",
        "    x_train = data_tr[:,:-1,:]\n",
        "    y_train = data_tr[:,-1,:]\n",
        "\n",
        "    x_test = data_ts[:,:-1]\n",
        "    y_test = data_ts[:,-1,:]\n",
        "\n",
        "    return [x_train, y_train, x_test, y_test]"
      ],
      "metadata": {
        "id": "exoUFlrqGCfm"
      },
      "execution_count": 2722,
      "outputs": []
    },
    {
      "cell_type": "code",
      "source": [
        "class TimeSeriesDataset(Dataset):\n",
        "    def __init__(self, X, y):\n",
        "        self.X = X\n",
        "        self.y = y\n",
        "\n",
        "    def __len__(self):\n",
        "        return len(self.X)\n",
        "\n",
        "    def __getitem__(self, i):\n",
        "        return self.X[i], self.y[i]"
      ],
      "metadata": {
        "id": "nDQpBgtAcOLK"
      },
      "execution_count": 2723,
      "outputs": []
    },
    {
      "cell_type": "code",
      "source": [
        "device = 'cuda:0' if torch.cuda.is_available() else 'cpu'\n",
        "device"
      ],
      "metadata": {
        "colab": {
          "base_uri": "https://localhost:8080/",
          "height": 35
        },
        "id": "LgVV7zBA-Ifx",
        "outputId": "f9c191d7-404b-4650-8ee9-c98c19534ad3"
      },
      "execution_count": 2724,
      "outputs": [
        {
          "output_type": "execute_result",
          "data": {
            "text/plain": [
              "'cpu'"
            ],
            "application/vnd.google.colaboratory.intrinsic+json": {
              "type": "string"
            }
          },
          "metadata": {},
          "execution_count": 2724
        }
      ]
    },
    {
      "cell_type": "markdown",
      "source": [
        "#Load Data"
      ],
      "metadata": {
        "id": "5M58xUHzNkTv"
      }
    },
    {
      "cell_type": "code",
      "source": [
        "main_df = data(\"/content/drive/MyDrive/STOCK PRICE PRED/NSE_train.csv\")"
      ],
      "metadata": {
        "id": "owREpY5RRnON"
      },
      "execution_count": 2766,
      "outputs": []
    },
    {
      "cell_type": "code",
      "source": [
        "test_df = data(\"/content/drive/MyDrive/STOCK PRICE PRED/NSE_test.csv\")"
      ],
      "metadata": {
        "id": "CPB6hgzic6Cl"
      },
      "execution_count": 2767,
      "outputs": []
    },
    {
      "cell_type": "code",
      "source": [
        "test_df.info()"
      ],
      "metadata": {
        "colab": {
          "base_uri": "https://localhost:8080/"
        },
        "id": "k-TBDuRbdD2Q",
        "outputId": "50bd7317-28fb-433b-ad89-9cfbd28a7c08"
      },
      "execution_count": 2768,
      "outputs": [
        {
          "output_type": "stream",
          "name": "stdout",
          "text": [
            "<class 'pandas.core.frame.DataFrame'>\n",
            "RangeIndex: 51 entries, 0 to 50\n",
            "Data columns (total 2 columns):\n",
            " #   Column  Non-Null Count  Dtype         \n",
            "---  ------  --------------  -----         \n",
            " 0   Date    51 non-null     datetime64[ns]\n",
            " 1   Close   51 non-null     float64       \n",
            "dtypes: datetime64[ns](1), float64(1)\n",
            "memory usage: 944.0 bytes\n"
          ]
        }
      ]
    },
    {
      "cell_type": "code",
      "source": [
        "main_df.info()"
      ],
      "metadata": {
        "colab": {
          "base_uri": "https://localhost:8080/"
        },
        "id": "ruyWWP9ZRvKT",
        "outputId": "22acf3a1-5111-4075-9194-2597247172ea"
      },
      "execution_count": 2769,
      "outputs": [
        {
          "output_type": "stream",
          "name": "stdout",
          "text": [
            "<class 'pandas.core.frame.DataFrame'>\n",
            "RangeIndex: 991 entries, 0 to 990\n",
            "Data columns (total 2 columns):\n",
            " #   Column  Non-Null Count  Dtype         \n",
            "---  ------  --------------  -----         \n",
            " 0   Date    991 non-null    datetime64[ns]\n",
            " 1   Close   991 non-null    float64       \n",
            "dtypes: datetime64[ns](1), float64(1)\n",
            "memory usage: 15.6 KB\n"
          ]
        }
      ]
    },
    {
      "cell_type": "markdown",
      "source": [
        "#Scale Features"
      ],
      "metadata": {
        "id": "myDsC1D5FbJn"
      }
    },
    {
      "cell_type": "code",
      "source": [
        "price_train = main_df[['Close']]\n",
        "\n",
        "scaler = MinMaxScaler(feature_range=(-1, 1))\n",
        "price_train['Close'] = scaler.fit_transform(price_train['Close'].values.reshape(-1,1))\n",
        "print(price_train.head())\n",
        "print(price_train.shape)\n",
        "\n",
        "price_test = test_df[['Close']]\n",
        "\n",
        "scaler = MinMaxScaler(feature_range=(-1, 1))\n",
        "price_test['Close'] = scaler.fit_transform(price_test['Close'].values.reshape(-1,1))\n",
        "print(price_test.shape)"
      ],
      "metadata": {
        "colab": {
          "base_uri": "https://localhost:8080/"
        },
        "id": "nInMc5ZrFKoE",
        "outputId": "a501fb64-53f7-4381-c686-6f704e221e15"
      },
      "execution_count": 2729,
      "outputs": [
        {
          "output_type": "stream",
          "name": "stdout",
          "text": [
            "      Close\n",
            "0 -0.354587\n",
            "1 -0.340514\n",
            "2 -0.348355\n",
            "3 -0.381330\n",
            "4 -0.372874\n",
            "(991, 1)\n",
            "(51, 1)\n"
          ]
        },
        {
          "output_type": "stream",
          "name": "stderr",
          "text": [
            "<ipython-input-2729-4d2e8f9f7ed6>:4: SettingWithCopyWarning: \n",
            "A value is trying to be set on a copy of a slice from a DataFrame.\n",
            "Try using .loc[row_indexer,col_indexer] = value instead\n",
            "\n",
            "See the caveats in the documentation: https://pandas.pydata.org/pandas-docs/stable/user_guide/indexing.html#returning-a-view-versus-a-copy\n",
            "  price_train['Close'] = scaler.fit_transform(price_train['Close'].values.reshape(-1,1))\n",
            "<ipython-input-2729-4d2e8f9f7ed6>:11: SettingWithCopyWarning: \n",
            "A value is trying to be set on a copy of a slice from a DataFrame.\n",
            "Try using .loc[row_indexer,col_indexer] = value instead\n",
            "\n",
            "See the caveats in the documentation: https://pandas.pydata.org/pandas-docs/stable/user_guide/indexing.html#returning-a-view-versus-a-copy\n",
            "  price_test['Close'] = scaler.fit_transform(price_test['Close'].values.reshape(-1,1))\n"
          ]
        }
      ]
    },
    {
      "cell_type": "code",
      "source": [
        "price_train"
      ],
      "metadata": {
        "colab": {
          "base_uri": "https://localhost:8080/",
          "height": 0
        },
        "id": "ZTQWlliRFh5-",
        "outputId": "49d401cc-b625-4aad-fe90-be2a69584268"
      },
      "execution_count": 2730,
      "outputs": [
        {
          "output_type": "execute_result",
          "data": {
            "text/plain": [
              "        Close\n",
              "0   -0.354587\n",
              "1   -0.340514\n",
              "2   -0.348355\n",
              "3   -0.381330\n",
              "4   -0.372874\n",
              "..        ...\n",
              "986  0.939401\n",
              "987  0.952380\n",
              "988  0.982503\n",
              "989  1.000000\n",
              "990  0.993323\n",
              "\n",
              "[991 rows x 1 columns]"
            ],
            "text/html": [
              "\n",
              "  <div id=\"df-d28d201d-09ed-4665-8dd6-2eb186dda466\" class=\"colab-df-container\">\n",
              "    <div>\n",
              "<style scoped>\n",
              "    .dataframe tbody tr th:only-of-type {\n",
              "        vertical-align: middle;\n",
              "    }\n",
              "\n",
              "    .dataframe tbody tr th {\n",
              "        vertical-align: top;\n",
              "    }\n",
              "\n",
              "    .dataframe thead th {\n",
              "        text-align: right;\n",
              "    }\n",
              "</style>\n",
              "<table border=\"1\" class=\"dataframe\">\n",
              "  <thead>\n",
              "    <tr style=\"text-align: right;\">\n",
              "      <th></th>\n",
              "      <th>Close</th>\n",
              "    </tr>\n",
              "  </thead>\n",
              "  <tbody>\n",
              "    <tr>\n",
              "      <th>0</th>\n",
              "      <td>-0.354587</td>\n",
              "    </tr>\n",
              "    <tr>\n",
              "      <th>1</th>\n",
              "      <td>-0.340514</td>\n",
              "    </tr>\n",
              "    <tr>\n",
              "      <th>2</th>\n",
              "      <td>-0.348355</td>\n",
              "    </tr>\n",
              "    <tr>\n",
              "      <th>3</th>\n",
              "      <td>-0.381330</td>\n",
              "    </tr>\n",
              "    <tr>\n",
              "      <th>4</th>\n",
              "      <td>-0.372874</td>\n",
              "    </tr>\n",
              "    <tr>\n",
              "      <th>...</th>\n",
              "      <td>...</td>\n",
              "    </tr>\n",
              "    <tr>\n",
              "      <th>986</th>\n",
              "      <td>0.939401</td>\n",
              "    </tr>\n",
              "    <tr>\n",
              "      <th>987</th>\n",
              "      <td>0.952380</td>\n",
              "    </tr>\n",
              "    <tr>\n",
              "      <th>988</th>\n",
              "      <td>0.982503</td>\n",
              "    </tr>\n",
              "    <tr>\n",
              "      <th>989</th>\n",
              "      <td>1.000000</td>\n",
              "    </tr>\n",
              "    <tr>\n",
              "      <th>990</th>\n",
              "      <td>0.993323</td>\n",
              "    </tr>\n",
              "  </tbody>\n",
              "</table>\n",
              "<p>991 rows × 1 columns</p>\n",
              "</div>\n",
              "    <div class=\"colab-df-buttons\">\n",
              "\n",
              "  <div class=\"colab-df-container\">\n",
              "    <button class=\"colab-df-convert\" onclick=\"convertToInteractive('df-d28d201d-09ed-4665-8dd6-2eb186dda466')\"\n",
              "            title=\"Convert this dataframe to an interactive table.\"\n",
              "            style=\"display:none;\">\n",
              "\n",
              "  <svg xmlns=\"http://www.w3.org/2000/svg\" height=\"24px\" viewBox=\"0 -960 960 960\">\n",
              "    <path d=\"M120-120v-720h720v720H120Zm60-500h600v-160H180v160Zm220 220h160v-160H400v160Zm0 220h160v-160H400v160ZM180-400h160v-160H180v160Zm440 0h160v-160H620v160ZM180-180h160v-160H180v160Zm440 0h160v-160H620v160Z\"/>\n",
              "  </svg>\n",
              "    </button>\n",
              "\n",
              "  <style>\n",
              "    .colab-df-container {\n",
              "      display:flex;\n",
              "      gap: 12px;\n",
              "    }\n",
              "\n",
              "    .colab-df-convert {\n",
              "      background-color: #E8F0FE;\n",
              "      border: none;\n",
              "      border-radius: 50%;\n",
              "      cursor: pointer;\n",
              "      display: none;\n",
              "      fill: #1967D2;\n",
              "      height: 32px;\n",
              "      padding: 0 0 0 0;\n",
              "      width: 32px;\n",
              "    }\n",
              "\n",
              "    .colab-df-convert:hover {\n",
              "      background-color: #E2EBFA;\n",
              "      box-shadow: 0px 1px 2px rgba(60, 64, 67, 0.3), 0px 1px 3px 1px rgba(60, 64, 67, 0.15);\n",
              "      fill: #174EA6;\n",
              "    }\n",
              "\n",
              "    .colab-df-buttons div {\n",
              "      margin-bottom: 4px;\n",
              "    }\n",
              "\n",
              "    [theme=dark] .colab-df-convert {\n",
              "      background-color: #3B4455;\n",
              "      fill: #D2E3FC;\n",
              "    }\n",
              "\n",
              "    [theme=dark] .colab-df-convert:hover {\n",
              "      background-color: #434B5C;\n",
              "      box-shadow: 0px 1px 3px 1px rgba(0, 0, 0, 0.15);\n",
              "      filter: drop-shadow(0px 1px 2px rgba(0, 0, 0, 0.3));\n",
              "      fill: #FFFFFF;\n",
              "    }\n",
              "  </style>\n",
              "\n",
              "    <script>\n",
              "      const buttonEl =\n",
              "        document.querySelector('#df-d28d201d-09ed-4665-8dd6-2eb186dda466 button.colab-df-convert');\n",
              "      buttonEl.style.display =\n",
              "        google.colab.kernel.accessAllowed ? 'block' : 'none';\n",
              "\n",
              "      async function convertToInteractive(key) {\n",
              "        const element = document.querySelector('#df-d28d201d-09ed-4665-8dd6-2eb186dda466');\n",
              "        const dataTable =\n",
              "          await google.colab.kernel.invokeFunction('convertToInteractive',\n",
              "                                                    [key], {});\n",
              "        if (!dataTable) return;\n",
              "\n",
              "        const docLinkHtml = 'Like what you see? Visit the ' +\n",
              "          '<a target=\"_blank\" href=https://colab.research.google.com/notebooks/data_table.ipynb>data table notebook</a>'\n",
              "          + ' to learn more about interactive tables.';\n",
              "        element.innerHTML = '';\n",
              "        dataTable['output_type'] = 'display_data';\n",
              "        await google.colab.output.renderOutput(dataTable, element);\n",
              "        const docLink = document.createElement('div');\n",
              "        docLink.innerHTML = docLinkHtml;\n",
              "        element.appendChild(docLink);\n",
              "      }\n",
              "    </script>\n",
              "  </div>\n",
              "\n",
              "\n",
              "<div id=\"df-f44a638c-d23e-4b13-a097-939b103131c7\">\n",
              "  <button class=\"colab-df-quickchart\" onclick=\"quickchart('df-f44a638c-d23e-4b13-a097-939b103131c7')\"\n",
              "            title=\"Suggest charts\"\n",
              "            style=\"display:none;\">\n",
              "\n",
              "<svg xmlns=\"http://www.w3.org/2000/svg\" height=\"24px\"viewBox=\"0 0 24 24\"\n",
              "     width=\"24px\">\n",
              "    <g>\n",
              "        <path d=\"M19 3H5c-1.1 0-2 .9-2 2v14c0 1.1.9 2 2 2h14c1.1 0 2-.9 2-2V5c0-1.1-.9-2-2-2zM9 17H7v-7h2v7zm4 0h-2V7h2v10zm4 0h-2v-4h2v4z\"/>\n",
              "    </g>\n",
              "</svg>\n",
              "  </button>\n",
              "\n",
              "<style>\n",
              "  .colab-df-quickchart {\n",
              "      --bg-color: #E8F0FE;\n",
              "      --fill-color: #1967D2;\n",
              "      --hover-bg-color: #E2EBFA;\n",
              "      --hover-fill-color: #174EA6;\n",
              "      --disabled-fill-color: #AAA;\n",
              "      --disabled-bg-color: #DDD;\n",
              "  }\n",
              "\n",
              "  [theme=dark] .colab-df-quickchart {\n",
              "      --bg-color: #3B4455;\n",
              "      --fill-color: #D2E3FC;\n",
              "      --hover-bg-color: #434B5C;\n",
              "      --hover-fill-color: #FFFFFF;\n",
              "      --disabled-bg-color: #3B4455;\n",
              "      --disabled-fill-color: #666;\n",
              "  }\n",
              "\n",
              "  .colab-df-quickchart {\n",
              "    background-color: var(--bg-color);\n",
              "    border: none;\n",
              "    border-radius: 50%;\n",
              "    cursor: pointer;\n",
              "    display: none;\n",
              "    fill: var(--fill-color);\n",
              "    height: 32px;\n",
              "    padding: 0;\n",
              "    width: 32px;\n",
              "  }\n",
              "\n",
              "  .colab-df-quickchart:hover {\n",
              "    background-color: var(--hover-bg-color);\n",
              "    box-shadow: 0 1px 2px rgba(60, 64, 67, 0.3), 0 1px 3px 1px rgba(60, 64, 67, 0.15);\n",
              "    fill: var(--button-hover-fill-color);\n",
              "  }\n",
              "\n",
              "  .colab-df-quickchart-complete:disabled,\n",
              "  .colab-df-quickchart-complete:disabled:hover {\n",
              "    background-color: var(--disabled-bg-color);\n",
              "    fill: var(--disabled-fill-color);\n",
              "    box-shadow: none;\n",
              "  }\n",
              "\n",
              "  .colab-df-spinner {\n",
              "    border: 2px solid var(--fill-color);\n",
              "    border-color: transparent;\n",
              "    border-bottom-color: var(--fill-color);\n",
              "    animation:\n",
              "      spin 1s steps(1) infinite;\n",
              "  }\n",
              "\n",
              "  @keyframes spin {\n",
              "    0% {\n",
              "      border-color: transparent;\n",
              "      border-bottom-color: var(--fill-color);\n",
              "      border-left-color: var(--fill-color);\n",
              "    }\n",
              "    20% {\n",
              "      border-color: transparent;\n",
              "      border-left-color: var(--fill-color);\n",
              "      border-top-color: var(--fill-color);\n",
              "    }\n",
              "    30% {\n",
              "      border-color: transparent;\n",
              "      border-left-color: var(--fill-color);\n",
              "      border-top-color: var(--fill-color);\n",
              "      border-right-color: var(--fill-color);\n",
              "    }\n",
              "    40% {\n",
              "      border-color: transparent;\n",
              "      border-right-color: var(--fill-color);\n",
              "      border-top-color: var(--fill-color);\n",
              "    }\n",
              "    60% {\n",
              "      border-color: transparent;\n",
              "      border-right-color: var(--fill-color);\n",
              "    }\n",
              "    80% {\n",
              "      border-color: transparent;\n",
              "      border-right-color: var(--fill-color);\n",
              "      border-bottom-color: var(--fill-color);\n",
              "    }\n",
              "    90% {\n",
              "      border-color: transparent;\n",
              "      border-bottom-color: var(--fill-color);\n",
              "    }\n",
              "  }\n",
              "</style>\n",
              "\n",
              "  <script>\n",
              "    async function quickchart(key) {\n",
              "      const quickchartButtonEl =\n",
              "        document.querySelector('#' + key + ' button');\n",
              "      quickchartButtonEl.disabled = true;  // To prevent multiple clicks.\n",
              "      quickchartButtonEl.classList.add('colab-df-spinner');\n",
              "      try {\n",
              "        const charts = await google.colab.kernel.invokeFunction(\n",
              "            'suggestCharts', [key], {});\n",
              "      } catch (error) {\n",
              "        console.error('Error during call to suggestCharts:', error);\n",
              "      }\n",
              "      quickchartButtonEl.classList.remove('colab-df-spinner');\n",
              "      quickchartButtonEl.classList.add('colab-df-quickchart-complete');\n",
              "    }\n",
              "    (() => {\n",
              "      let quickchartButtonEl =\n",
              "        document.querySelector('#df-f44a638c-d23e-4b13-a097-939b103131c7 button');\n",
              "      quickchartButtonEl.style.display =\n",
              "        google.colab.kernel.accessAllowed ? 'block' : 'none';\n",
              "    })();\n",
              "  </script>\n",
              "</div>\n",
              "\n",
              "  <div id=\"id_e777bb0b-a0bb-4d99-9730-e1157b6e15fc\">\n",
              "    <style>\n",
              "      .colab-df-generate {\n",
              "        background-color: #E8F0FE;\n",
              "        border: none;\n",
              "        border-radius: 50%;\n",
              "        cursor: pointer;\n",
              "        display: none;\n",
              "        fill: #1967D2;\n",
              "        height: 32px;\n",
              "        padding: 0 0 0 0;\n",
              "        width: 32px;\n",
              "      }\n",
              "\n",
              "      .colab-df-generate:hover {\n",
              "        background-color: #E2EBFA;\n",
              "        box-shadow: 0px 1px 2px rgba(60, 64, 67, 0.3), 0px 1px 3px 1px rgba(60, 64, 67, 0.15);\n",
              "        fill: #174EA6;\n",
              "      }\n",
              "\n",
              "      [theme=dark] .colab-df-generate {\n",
              "        background-color: #3B4455;\n",
              "        fill: #D2E3FC;\n",
              "      }\n",
              "\n",
              "      [theme=dark] .colab-df-generate:hover {\n",
              "        background-color: #434B5C;\n",
              "        box-shadow: 0px 1px 3px 1px rgba(0, 0, 0, 0.15);\n",
              "        filter: drop-shadow(0px 1px 2px rgba(0, 0, 0, 0.3));\n",
              "        fill: #FFFFFF;\n",
              "      }\n",
              "    </style>\n",
              "    <button class=\"colab-df-generate\" onclick=\"generateWithVariable('price_train')\"\n",
              "            title=\"Generate code using this dataframe.\"\n",
              "            style=\"display:none;\">\n",
              "\n",
              "  <svg xmlns=\"http://www.w3.org/2000/svg\" height=\"24px\"viewBox=\"0 0 24 24\"\n",
              "       width=\"24px\">\n",
              "    <path d=\"M7,19H8.4L18.45,9,17,7.55,7,17.6ZM5,21V16.75L18.45,3.32a2,2,0,0,1,2.83,0l1.4,1.43a1.91,1.91,0,0,1,.58,1.4,1.91,1.91,0,0,1-.58,1.4L9.25,21ZM18.45,9,17,7.55Zm-12,3A5.31,5.31,0,0,0,4.9,8.1,5.31,5.31,0,0,0,1,6.5,5.31,5.31,0,0,0,4.9,4.9,5.31,5.31,0,0,0,6.5,1,5.31,5.31,0,0,0,8.1,4.9,5.31,5.31,0,0,0,12,6.5,5.46,5.46,0,0,0,6.5,12Z\"/>\n",
              "  </svg>\n",
              "    </button>\n",
              "    <script>\n",
              "      (() => {\n",
              "      const buttonEl =\n",
              "        document.querySelector('#id_e777bb0b-a0bb-4d99-9730-e1157b6e15fc button.colab-df-generate');\n",
              "      buttonEl.style.display =\n",
              "        google.colab.kernel.accessAllowed ? 'block' : 'none';\n",
              "\n",
              "      buttonEl.onclick = () => {\n",
              "        google.colab.notebook.generateWithVariable('price_train');\n",
              "      }\n",
              "      })();\n",
              "    </script>\n",
              "  </div>\n",
              "\n",
              "    </div>\n",
              "  </div>\n"
            ],
            "application/vnd.google.colaboratory.intrinsic+json": {
              "type": "dataframe",
              "variable_name": "price_train",
              "summary": "{\n  \"name\": \"price_train\",\n  \"rows\": 991,\n  \"fields\": [\n    {\n      \"column\": \"Close\",\n      \"properties\": {\n        \"dtype\": \"number\",\n        \"std\": 0.4409835556116085,\n        \"min\": -0.9999999999999998,\n        \"max\": 1.0000000000000004,\n        \"num_unique_values\": 987,\n        \"samples\": [\n          -0.0005327914162269742,\n          -0.5029025759534482,\n          0.4307353238365508\n        ],\n        \"semantic_type\": \"\",\n        \"description\": \"\"\n      }\n    }\n  ]\n}"
            }
          },
          "metadata": {},
          "execution_count": 2730
        }
      ]
    },
    {
      "cell_type": "markdown",
      "source": [
        "#Prepare Historical Dataset for LSTM training and testing"
      ],
      "metadata": {
        "id": "0nCmdnHuNvsZ"
      }
    },
    {
      "cell_type": "markdown",
      "source": [
        "create a dataset that has historical value upto a week before, leading up to the current price"
      ],
      "metadata": {
        "id": "w4iPYXkPC14s"
      }
    },
    {
      "cell_type": "code",
      "source": [
        "lookback = 7\n",
        "X, y, X_test, y_test = split_data(price_train,price_test, lookback)\n",
        "print('x_train.shape = ',X.shape)\n",
        "print('y_train.shape = ',y.shape)\n",
        "print('x_test.shape = ',X_test.shape)\n",
        "print('y_test.shape = ',y_test.shape)"
      ],
      "metadata": {
        "colab": {
          "base_uri": "https://localhost:8080/"
        },
        "id": "7YbVaSBDHBU5",
        "outputId": "41fa70c8-4607-49cc-b729-61fac63e6720"
      },
      "execution_count": 2731,
      "outputs": [
        {
          "output_type": "stream",
          "name": "stdout",
          "text": [
            "x_train.shape =  (984, 6, 1)\n",
            "y_train.shape =  (984, 1)\n",
            "x_test.shape =  (44, 6, 1)\n",
            "y_test.shape =  (44, 1)\n"
          ]
        }
      ]
    },
    {
      "cell_type": "markdown",
      "source": [
        "#Split into train-val"
      ],
      "metadata": {
        "id": "TfYhnMUeGfSB"
      }
    },
    {
      "cell_type": "code",
      "source": [
        "split_index = int(len(X) * 0.95)\n",
        "\n",
        "X_train = X[:split_index]\n",
        "X_val = X[split_index:]\n",
        "\n",
        "y_train = y[:split_index]\n",
        "y_val = y[split_index:]\n",
        "\n",
        "X_train.shape, X_val.shape, y_train.shape, y_val.shape"
      ],
      "metadata": {
        "colab": {
          "base_uri": "https://localhost:8080/"
        },
        "id": "H8Pj0hVcGejr",
        "outputId": "730295f8-af3c-48c9-e78f-0e38af07dfd6"
      },
      "execution_count": 2732,
      "outputs": [
        {
          "output_type": "execute_result",
          "data": {
            "text/plain": [
              "((934, 6, 1), (50, 6, 1), (934, 1), (50, 1))"
            ]
          },
          "metadata": {},
          "execution_count": 2732
        }
      ]
    },
    {
      "cell_type": "markdown",
      "source": [
        "#Make torch tensors, make a Dataset and wrap in Data loaders"
      ],
      "metadata": {
        "id": "ylOQ399VOJIU"
      }
    },
    {
      "cell_type": "markdown",
      "source": [
        "Wrap in torch tensors"
      ],
      "metadata": {
        "id": "ZZvalhyoDdc4"
      }
    },
    {
      "cell_type": "code",
      "source": [
        "X_train = torch.tensor(X_train).float()\n",
        "y_train = torch.tensor(y_train).float()\n",
        "X_val = torch.tensor(X_val).float()\n",
        "y_val = torch.tensor(y_val).float()\n",
        "\n",
        "X_train.shape, X_val.shape, y_train.shape, y_val.shape"
      ],
      "metadata": {
        "colab": {
          "base_uri": "https://localhost:8080/"
        },
        "id": "baSlLLOtCUSg",
        "outputId": "f201681f-edf7-4a0d-97a0-537334c55e96"
      },
      "execution_count": 2733,
      "outputs": [
        {
          "output_type": "execute_result",
          "data": {
            "text/plain": [
              "(torch.Size([934, 6, 1]),\n",
              " torch.Size([50, 6, 1]),\n",
              " torch.Size([934, 1]),\n",
              " torch.Size([50, 1]))"
            ]
          },
          "metadata": {},
          "execution_count": 2733
        }
      ]
    },
    {
      "cell_type": "code",
      "source": [
        "X_test = torch.tensor(X_test).float()\n",
        "y_test = torch.tensor(y_test).float()\n",
        "\n",
        "X_test.shape, y_test.shape"
      ],
      "metadata": {
        "colab": {
          "base_uri": "https://localhost:8080/"
        },
        "id": "bYb4Gg9nd_MJ",
        "outputId": "586a5e02-67b5-4bcc-c41d-4425bde9e013"
      },
      "execution_count": 2734,
      "outputs": [
        {
          "output_type": "execute_result",
          "data": {
            "text/plain": [
              "(torch.Size([44, 6, 1]), torch.Size([44, 1]))"
            ]
          },
          "metadata": {},
          "execution_count": 2734
        }
      ]
    },
    {
      "cell_type": "markdown",
      "source": [
        "Make a torch dataset"
      ],
      "metadata": {
        "id": "bhaR-0uODzZl"
      }
    },
    {
      "cell_type": "code",
      "source": [
        "train_dataset = TimeSeriesDataset(X_train, y_train)\n",
        "val_dataset = TimeSeriesDataset(X_val, y_val)\n",
        "unseen_dataset = TimeSeriesDataset(X_test, y_test)"
      ],
      "metadata": {
        "id": "trCLgPr7DmRv"
      },
      "execution_count": 2735,
      "outputs": []
    },
    {
      "cell_type": "code",
      "source": [
        "train_dataset"
      ],
      "metadata": {
        "colab": {
          "base_uri": "https://localhost:8080/"
        },
        "id": "JHvpaStQDmV4",
        "outputId": "b4cc4fe1-0ed6-4e45-b8be-5285c36f81c7"
      },
      "execution_count": 2736,
      "outputs": [
        {
          "output_type": "execute_result",
          "data": {
            "text/plain": [
              "<__main__.TimeSeriesDataset at 0x78d48a7b0af0>"
            ]
          },
          "metadata": {},
          "execution_count": 2736
        }
      ]
    },
    {
      "cell_type": "markdown",
      "source": [
        "Wrap dataset in data loaders"
      ],
      "metadata": {
        "id": "GQEcHFBCELdD"
      }
    },
    {
      "cell_type": "code",
      "source": [
        "batch_size = 16\n",
        "\n",
        "train_loader = DataLoader(train_dataset, batch_size=batch_size, shuffle=True)\n",
        "val_loader = DataLoader(val_dataset, batch_size=batch_size, shuffle=False)\n",
        "unseen_loader = DataLoader(unseen_dataset, batch_size=batch_size, shuffle=False)"
      ],
      "metadata": {
        "id": "bIc01aodDmam"
      },
      "execution_count": 2737,
      "outputs": []
    },
    {
      "cell_type": "markdown",
      "source": [
        "ex-visualisation"
      ],
      "metadata": {
        "id": "Tq3LAvJhEwu-"
      }
    },
    {
      "cell_type": "code",
      "source": [
        "for _, batch in enumerate(train_loader):\n",
        "    x_batch, y_batch = batch[0].to(device), batch[1].to(device)\n",
        "    print(x_batch.shape, y_batch.shape)\n",
        "    break"
      ],
      "metadata": {
        "colab": {
          "base_uri": "https://localhost:8080/"
        },
        "id": "SPuVe7RqDmdw",
        "outputId": "4ba2c2e9-3581-47ec-c57a-c66016d96bb9"
      },
      "execution_count": 2738,
      "outputs": [
        {
          "output_type": "stream",
          "name": "stdout",
          "text": [
            "torch.Size([16, 6, 1]) torch.Size([16, 1])\n"
          ]
        }
      ]
    },
    {
      "cell_type": "markdown",
      "source": [
        "#LSTM"
      ],
      "metadata": {
        "id": "FNaaKaJ2Ode_"
      }
    },
    {
      "cell_type": "markdown",
      "source": [
        "LSTM"
      ],
      "metadata": {
        "id": "TCyP3PcBE4Yz"
      }
    },
    {
      "cell_type": "code",
      "source": [
        "class LSTM(nn.Module):\n",
        "    def __init__(self, input_size, hidden_size, num_stacked_layers, dropout=0.0):\n",
        "        super().__init__()\n",
        "        self.hidden_size = hidden_size\n",
        "        self.num_stacked_layers = num_stacked_layers\n",
        "        self.dropout = dropout\n",
        "\n",
        "        self.lstm = nn.LSTM(input_size, hidden_size, num_stacked_layers, batch_first=True, dropout=self.dropout if num_stacked_layers > 1 else 0)\n",
        "        # Apply dropout only if there are more than one stacked layer\n",
        "\n",
        "        self.fc = nn.Linear(hidden_size, 1)\n",
        "\n",
        "    def forward(self, x):\n",
        "        batch_size = x.size(0)\n",
        "        h0 = torch.zeros(self.num_stacked_layers, batch_size, self.hidden_size).to(x.device)\n",
        "        c0 = torch.zeros(self.num_stacked_layers, batch_size, self.hidden_size).to(x.device)\n",
        "\n",
        "        out, _ = self.lstm(x, (h0, c0))\n",
        "\n",
        "        out = self.fc(out[:, -1, :])\n",
        "        return out\n",
        "\n",
        "model = LSTM(1, 4, 2) #lstm with 4 hidden layers\n",
        "model.to(device)\n",
        "model"
      ],
      "metadata": {
        "colab": {
          "base_uri": "https://localhost:8080/"
        },
        "id": "zUZQHCulEg-E",
        "outputId": "931e63de-b0ee-4fb0-c780-bf69ac9b913e"
      },
      "execution_count": 2739,
      "outputs": [
        {
          "output_type": "execute_result",
          "data": {
            "text/plain": [
              "LSTM(\n",
              "  (lstm): LSTM(1, 4, num_layers=2, batch_first=True)\n",
              "  (fc): Linear(in_features=4, out_features=1, bias=True)\n",
              ")"
            ]
          },
          "metadata": {},
          "execution_count": 2739
        }
      ]
    },
    {
      "cell_type": "code",
      "source": [
        "# train_loss = []\n",
        "def train_one_epoch():\n",
        "    model.train(True)\n",
        "    print(f'Epoch: {epoch + 1}')\n",
        "    running_loss = 0.0\n",
        "\n",
        "    for batch_index, batch in enumerate(train_loader):\n",
        "        x_batch, y_batch = batch[0].to(device), batch[1].to(device)   #extracts the input features (x_batch) and target labels (y_batch) from the batch\n",
        "        x_batch = x_batch.float()\n",
        "        y_batch = y_batch.float()\n",
        "        model.to(torch.float32)\n",
        "\n",
        "        output = model(x_batch)\n",
        "        loss = loss_function(output, y_batch)\n",
        "        running_loss += loss.item()\n",
        "\n",
        "        optimizer.zero_grad()\n",
        "        loss.backward()\n",
        "        optimizer.step()\n",
        "\n",
        "        if batch_index % 100 == 99:  # print every 100 batches\n",
        "            avg_loss_across_batches = running_loss / 100\n",
        "            print('Batch {0}, Loss: {1:.3f}'.format(batch_index+1,avg_loss_across_batches))\n",
        "            running_loss = 0.0\n",
        "    avg_loss_across_batches_b = running_loss / len(train_loader)\n",
        "    # print('Batch Loss: {0:.3f}'.format(avg_loss_across_batches_b))\n",
        "    # train_loss.append(avg_loss_across_batches_b)\n",
        "\n",
        "    print()"
      ],
      "metadata": {
        "id": "RFI8dx8_ILMg"
      },
      "execution_count": 2740,
      "outputs": []
    },
    {
      "cell_type": "code",
      "source": [
        "val_loss=[]\n",
        "def validate_one_epoch():\n",
        "    model.train(False)\n",
        "    running_loss = 0.0\n",
        "\n",
        "    for batch_index, batch in enumerate(test_loader):\n",
        "        x_batch, y_batch = batch[0].to(device), batch[1].to(device)\n",
        "        x_batch = x_batch.float()\n",
        "        y_batch = y_batch.float()\n",
        "        model.to(torch.float32)\n",
        "        #no gradients since no updates\n",
        "        with torch.no_grad():\n",
        "            output = model(x_batch)\n",
        "            loss = loss_function(output, y_batch)\n",
        "            running_loss += loss.item()\n",
        "\n",
        "    avg_loss_across_batches = running_loss\n",
        "    val_loss.append(avg_loss_across_batches)\n",
        "    print('Val Loss: {0:.3f}'.format(avg_loss_across_batches))\n",
        "    print('***************************************************')\n",
        "    print()"
      ],
      "metadata": {
        "id": "M5zZGPToITdS"
      },
      "execution_count": 2741,
      "outputs": []
    },
    {
      "cell_type": "code",
      "source": [
        "learning_rate = 0.01\n",
        "num_epochs = 25\n",
        "loss_function = nn.MSELoss()\n",
        "optimizer = torch.optim.Adam(model.parameters(), lr=learning_rate)\n",
        "\n",
        "for epoch in range(num_epochs):\n",
        "    train_one_epoch()\n",
        "    validate_one_epoch()"
      ],
      "metadata": {
        "colab": {
          "base_uri": "https://localhost:8080/"
        },
        "id": "esTriMfYpVYU",
        "outputId": "0bf3de70-d421-4448-de7b-25458a46bbc9"
      },
      "execution_count": 2742,
      "outputs": [
        {
          "output_type": "stream",
          "name": "stdout",
          "text": [
            "Epoch: 1\n",
            "\n",
            "Val Loss: 0.209\n",
            "***************************************************\n",
            "\n",
            "Epoch: 2\n",
            "\n",
            "Val Loss: 0.284\n",
            "***************************************************\n",
            "\n",
            "Epoch: 3\n",
            "\n",
            "Val Loss: 0.158\n",
            "***************************************************\n",
            "\n",
            "Epoch: 4\n",
            "\n",
            "Val Loss: 0.090\n",
            "***************************************************\n",
            "\n",
            "Epoch: 5\n",
            "\n",
            "Val Loss: 0.033\n",
            "***************************************************\n",
            "\n",
            "Epoch: 6\n",
            "\n",
            "Val Loss: 0.029\n",
            "***************************************************\n",
            "\n",
            "Epoch: 7\n",
            "\n",
            "Val Loss: 0.025\n",
            "***************************************************\n",
            "\n",
            "Epoch: 8\n",
            "\n",
            "Val Loss: 0.019\n",
            "***************************************************\n",
            "\n",
            "Epoch: 9\n",
            "\n",
            "Val Loss: 0.024\n",
            "***************************************************\n",
            "\n",
            "Epoch: 10\n",
            "\n",
            "Val Loss: 0.020\n",
            "***************************************************\n",
            "\n",
            "Epoch: 11\n",
            "\n",
            "Val Loss: 0.017\n",
            "***************************************************\n",
            "\n",
            "Epoch: 12\n",
            "\n",
            "Val Loss: 0.017\n",
            "***************************************************\n",
            "\n",
            "Epoch: 13\n",
            "\n",
            "Val Loss: 0.017\n",
            "***************************************************\n",
            "\n",
            "Epoch: 14\n",
            "\n",
            "Val Loss: 0.011\n",
            "***************************************************\n",
            "\n",
            "Epoch: 15\n",
            "\n",
            "Val Loss: 0.018\n",
            "***************************************************\n",
            "\n",
            "Epoch: 16\n",
            "\n",
            "Val Loss: 0.009\n",
            "***************************************************\n",
            "\n",
            "Epoch: 17\n",
            "\n",
            "Val Loss: 0.011\n",
            "***************************************************\n",
            "\n",
            "Epoch: 18\n",
            "\n",
            "Val Loss: 0.013\n",
            "***************************************************\n",
            "\n",
            "Epoch: 19\n",
            "\n",
            "Val Loss: 0.018\n",
            "***************************************************\n",
            "\n",
            "Epoch: 20\n",
            "\n",
            "Val Loss: 0.014\n",
            "***************************************************\n",
            "\n",
            "Epoch: 21\n",
            "\n",
            "Val Loss: 0.008\n",
            "***************************************************\n",
            "\n",
            "Epoch: 22\n",
            "\n",
            "Val Loss: 0.006\n",
            "***************************************************\n",
            "\n",
            "Epoch: 23\n",
            "\n",
            "Val Loss: 0.009\n",
            "***************************************************\n",
            "\n",
            "Epoch: 24\n",
            "\n",
            "Val Loss: 0.011\n",
            "***************************************************\n",
            "\n",
            "Epoch: 25\n",
            "\n",
            "Val Loss: 0.009\n",
            "***************************************************\n",
            "\n"
          ]
        }
      ]
    },
    {
      "cell_type": "code",
      "source": [
        "epochs = np.arange(num_epochs)\n",
        "plt.figure(figsize=(10,5))\n",
        "plt.plot(epochs, val_loss, color = '#f46a9b', linewidth=2, label = 'Validation  Loss')\n",
        "plt.title('Error Loss')\n",
        "plt.xlabel('Epoch')\n",
        "plt.ylabel('Loss')\n",
        "plt.legend()\n",
        "plt.show()"
      ],
      "metadata": {
        "colab": {
          "base_uri": "https://localhost:8080/",
          "height": 487
        },
        "id": "NTtkxdftjZw-",
        "outputId": "ceec2bd2-1ab5-4089-ba88-cad3e40f07ab"
      },
      "execution_count": 2743,
      "outputs": [
        {
          "output_type": "display_data",
          "data": {
            "text/plain": [
              "<Figure size 1000x500 with 1 Axes>"
            ],
            "image/png": "[encoded data removed]"
          },
          "metadata": {}
        }
      ]
    },
    {
      "cell_type": "markdown",
      "source": [
        "#Training Predictions"
      ],
      "metadata": {
        "id": "PwlFdvBmP8-c"
      }
    },
    {
      "cell_type": "code",
      "source": [
        "with torch.no_grad():\n",
        "  predicted = model(X_train.to(device)).detach().cpu().numpy().flatten()"
      ],
      "metadata": {
        "id": "kKQ9Z0B_jXKF"
      },
      "execution_count": 2744,
      "outputs": []
    },
    {
      "cell_type": "code",
      "source": [
        "plt.plot(y_train, label='Actual Close',color = '#27aeef')\n",
        "plt.plot(predicted, label='Predicted Close',color = '#f46a9b')\n",
        "plt.xlabel('Day')\n",
        "plt.ylabel('Close')\n",
        "plt.legend()\n",
        "plt.show()"
      ],
      "metadata": {
        "colab": {
          "base_uri": "https://localhost:8080/",
          "height": 449
        },
        "id": "iV2eX6TwP2Nn",
        "outputId": "8ecb7911-65e9-4f0c-cd03-43e631e0b9bc"
      },
      "execution_count": 2745,
      "outputs": [
        {
          "output_type": "display_data",
          "data": {
            "text/plain": [
              "<Figure size 640x480 with 1 Axes>"
            ],
            "image/png": "[encoded data removed]"
          },
          "metadata": {}
        }
      ]
    },
    {
      "cell_type": "code",
      "source": [
        "train_predictions = predicted\n",
        "\n",
        "dummies = np.zeros((X_train.shape[0], lookback+1))\n",
        "dummies[:, 0] = train_predictions\n",
        "dummies = scaler.inverse_transform(dummies)\n",
        "\n",
        "train_predictions = dc(dummies[:, 0])\n",
        "# train_predictions"
      ],
      "metadata": {
        "id": "WkxScz5hM9ud"
      },
      "execution_count": 2746,
      "outputs": []
    },
    {
      "cell_type": "code",
      "source": [
        "dummies = np.zeros((X_train.shape[0], lookback+1))\n",
        "dummies[:, 0] = y_train.flatten()\n",
        "dummies = scaler.inverse_transform(dummies)\n",
        "\n",
        "new_y_train = dc(dummies[:, 0])\n",
        "# new_y_train"
      ],
      "metadata": {
        "id": "PU57pAGPNosU"
      },
      "execution_count": 2747,
      "outputs": []
    },
    {
      "cell_type": "code",
      "source": [
        "plt.plot(new_y_train, label='Actual Close',color = '#27aeef')\n",
        "plt.plot(train_predictions, label='Predicted Close',color = '#f46a9b')\n",
        "plt.xlabel('Day')\n",
        "plt.ylabel('Close')\n",
        "plt.title(\"Train Predictions for NIFTY\")\n",
        "plt.legend()\n",
        "plt.show()"
      ],
      "metadata": {
        "colab": {
          "base_uri": "https://localhost:8080/",
          "height": 472
        },
        "id": "CHyxM3O9Npg5",
        "outputId": "c3d1ff5b-c2be-4e3a-9240-d613b84c4b48"
      },
      "execution_count": 2748,
      "outputs": [
        {
          "output_type": "display_data",
          "data": {
            "text/plain": [
              "<Figure size 640x480 with 1 Axes>"
            ],
            "image/png": "[encoded data removed]"
          },
          "metadata": {}
        }
      ]
    },
    {
      "cell_type": "code",
      "source": [
        "train_predictions.shape"
      ],
      "metadata": {
        "colab": {
          "base_uri": "https://localhost:8080/"
        },
        "id": "dUPB1DZUI2rY",
        "outputId": "e8254215-bd3b-458d-8da0-ab342f4ed306"
      },
      "execution_count": 2749,
      "outputs": [
        {
          "output_type": "execute_result",
          "data": {
            "text/plain": [
              "(934,)"
            ]
          },
          "metadata": {},
          "execution_count": 2749
        }
      ]
    },
    {
      "cell_type": "code",
      "source": [
        "new_y_train.shape"
      ],
      "metadata": {
        "colab": {
          "base_uri": "https://localhost:8080/"
        },
        "id": "6jFE8n7aJIAB",
        "outputId": "72dc7776-ca88-4f53-9599-788ef6b7d141"
      },
      "execution_count": 2750,
      "outputs": [
        {
          "output_type": "execute_result",
          "data": {
            "text/plain": [
              "(934,)"
            ]
          },
          "metadata": {},
          "execution_count": 2750
        }
      ]
    },
    {
      "cell_type": "code",
      "source": [
        "rmse = np.sqrt(np.mean((train_predictions - new_y_train)**2))\n",
        "print(f\"Score (RMSE): {rmse:.4f}\")"
      ],
      "metadata": {
        "colab": {
          "base_uri": "https://localhost:8080/"
        },
        "id": "1o-_U07fIlPM",
        "outputId": "3671ec5c-8aa8-45e1-c253-851356b3727c"
      },
      "execution_count": 2751,
      "outputs": [
        {
          "output_type": "stream",
          "name": "stdout",
          "text": [
            "Score (RMSE): 15.4902\n"
          ]
        }
      ]
    },
    {
      "cell_type": "markdown",
      "source": [
        "#Validation Predictions"
      ],
      "metadata": {
        "id": "47mjG2PhQPiQ"
      }
    },
    {
      "cell_type": "code",
      "source": [
        "X_val.shape"
      ],
      "metadata": {
        "colab": {
          "base_uri": "https://localhost:8080/"
        },
        "id": "eFpqGlC0J5ih",
        "outputId": "aaf830d7-c924-4c5b-cdc7-51b6318e0fee"
      },
      "execution_count": 2752,
      "outputs": [
        {
          "output_type": "execute_result",
          "data": {
            "text/plain": [
              "torch.Size([50, 6, 1])"
            ]
          },
          "metadata": {},
          "execution_count": 2752
        }
      ]
    },
    {
      "cell_type": "code",
      "source": [
        "val_predictions = model(X_val.to(device)).detach().cpu().numpy().flatten()\n",
        "\n",
        "dummies = np.zeros((X_val.shape[0], lookback+1))\n",
        "dummies[:, 0] = val_predictions\n",
        "dummies = scaler.inverse_transform(dummies)\n",
        "\n",
        "val_predictions = dc(dummies[:, 0])\n",
        "val_predictions"
      ],
      "metadata": {
        "colab": {
          "base_uri": "https://localhost:8080/"
        },
        "id": "rP-yghxKpj9I",
        "outputId": "32f82013-3263-4971-cd37-9aacb94586ac"
      },
      "execution_count": 2753,
      "outputs": [
        {
          "output_type": "execute_result",
          "data": {
            "text/plain": [
              "array([22308.30290688, 22306.95416335, 22311.11108155, 22304.61753287,\n",
              "       22299.99247338, 22293.94227347, 22276.24728788, 22261.64658201,\n",
              "       22239.94309686, 22248.79627361, 22255.24771612, 22251.80578008,\n",
              "       22245.10035437, 22253.74228979, 22261.60223218, 22274.31979024,\n",
              "       22277.04906259, 22280.31913368, 22278.61345999, 22280.29961377,\n",
              "       22281.87706184, 22295.53924145, 22304.19998629, 22305.0151856 ,\n",
              "       22303.48717301, 22308.27523497, 22311.4079188 , 22311.76099733,\n",
              "       22311.48416612, 22316.52894107, 22328.5469235 , 22334.44889175,\n",
              "       22342.84768837, 22363.76293562, 22379.2119349 , 22389.04099498,\n",
              "       22392.46976817, 22396.70207361, 22399.95935579, 22398.24048186,\n",
              "       22397.86100284, 22406.14896227, 22418.66765656, 22424.2205101 ,\n",
              "       22427.885018  , 22421.31735349, 22420.68486353, 22423.23912979,\n",
              "       22426.93983553, 22434.55275009])"
            ]
          },
          "metadata": {},
          "execution_count": 2753
        }
      ]
    },
    {
      "cell_type": "code",
      "source": [
        "dummies = np.zeros((X_val.shape[0], lookback+1))\n",
        "dummies[:, 0] = y_val.flatten()\n",
        "dummies = scaler.inverse_transform(dummies)\n",
        "\n",
        "new_y_val = dc(dummies[:, 0])\n",
        "new_y_val"
      ],
      "metadata": {
        "colab": {
          "base_uri": "https://localhost:8080/"
        },
        "id": "kpMlkvZSpyy1",
        "outputId": "c36203eb-9e2a-4b2e-da01-b1e92edb601c"
      },
      "execution_count": 2754,
      "outputs": [
        {
          "output_type": "execute_result",
          "data": {
            "text/plain": [
              "array([22312.27408677, 22319.3367044 , 22306.90293293, 22302.79373007,\n",
              "       22295.52753698, 22272.42235774, 22258.28829738, 22234.82884299,\n",
              "       22251.65515517, 22259.94879856, 22254.52001985, 22246.50990129,\n",
              "       22259.27124827, 22267.89250455, 22283.93506616, 22283.48779098,\n",
              "       22286.7468307 , 22282.47832742, 22285.13942967, 22286.75131804,\n",
              "       22307.28813331, 22315.23632663, 22312.27857411, 22308.9309843 ,\n",
              "       22316.84821501, 22319.36766702, 22318.49540375, 22317.84885347,\n",
              "       22326.26197217, 22344.58496038, 22347.82189997, 22359.75525872,\n",
              "       22396.85284809, 22411.75730919, 22419.07230206, 22415.83554944,\n",
              "       22421.87972884, 22424.33276828, 22416.30047481, 22418.06717626,\n",
              "       22440.76935536, 22465.0303227 , 22461.66504531, 22464.71587265,\n",
              "       22437.8868405 , 22447.17678459, 22455.53231581, 22463.6752969 ,\n",
              "       22482.5738981 , 22493.55078125])"
            ]
          },
          "metadata": {},
          "execution_count": 2754
        }
      ]
    },
    {
      "cell_type": "code",
      "source": [
        "plt.figure(figsize=(15,7))\n",
        "plt.plot(new_y_val, label='Actual Close',color = '#27aeef')\n",
        "plt.plot(val_predictions, label='Predicted Close',color = '#f46a9b')\n",
        "plt.xlabel('Day')\n",
        "plt.ylabel('Close')\n",
        "plt.title(\"Validation Predictions for NIFTY\")\n",
        "plt.legend()\n",
        "plt.show()"
      ],
      "metadata": {
        "colab": {
          "base_uri": "https://localhost:8080/",
          "height": 602
        },
        "id": "NWwzolvUp4Sm",
        "outputId": "1045458c-76af-4403-db6f-4bb9176cc265"
      },
      "execution_count": 2755,
      "outputs": [
        {
          "output_type": "display_data",
          "data": {
            "text/plain": [
              "<Figure size 1500x700 with 1 Axes>"
            ],
            "image/png": "[encoded data removed]"
          },
          "metadata": {}
        }
      ]
    },
    {
      "cell_type": "code",
      "source": [
        "rmse = np.sqrt(np.mean((val_predictions - new_y_val)**2))\n",
        "print(f\"Score (RMSE): {rmse:.4f}\")"
      ],
      "metadata": {
        "colab": {
          "base_uri": "https://localhost:8080/"
        },
        "id": "dTNoImu9JvJf",
        "outputId": "b06a9e41-fc7d-4a2a-8e55-8b6c1b49198b"
      },
      "execution_count": 2756,
      "outputs": [
        {
          "output_type": "stream",
          "name": "stdout",
          "text": [
            "Score (RMSE): 26.6453\n"
          ]
        }
      ]
    },
    {
      "cell_type": "code",
      "source": [
        "newdf=pd.DataFrame()\n",
        "newdf[\"Actual\"]=new_y_val\n",
        "newdf[\"Predicted\"]=val_predictions\n",
        "newdf[\"Difference\"]=newdf[\"Actual\"]-newdf[\"Predicted\"]"
      ],
      "metadata": {
        "id": "PHaBS9EIvzCf"
      },
      "execution_count": 2757,
      "outputs": []
    },
    {
      "cell_type": "code",
      "source": [
        "newdf"
      ],
      "metadata": {
        "colab": {
          "base_uri": "https://localhost:8080/",
          "height": 1000
        },
        "id": "carYZQiGwMNY",
        "outputId": "5b8a1a9c-13cd-482f-bb29-85711232d107"
      },
      "execution_count": 2758,
      "outputs": [
        {
          "output_type": "execute_result",
          "data": {
            "text/plain": [
              "          Actual     Predicted  Difference\n",
              "0   22312.274087  22308.302907    3.971180\n",
              "1   22319.336704  22306.954163   12.382541\n",
              "2   22306.902933  22311.111082   -4.208149\n",
              "3   22302.793730  22304.617533   -1.823803\n",
              "4   22295.527537  22299.992473   -4.464936\n",
              "5   22272.422358  22293.942273  -21.519916\n",
              "6   22258.288297  22276.247288  -17.958990\n",
              "7   22234.828843  22261.646582  -26.817739\n",
              "8   22251.655155  22239.943097   11.712058\n",
              "9   22259.948799  22248.796274   11.152525\n",
              "10  22254.520020  22255.247716   -0.727696\n",
              "11  22246.509901  22251.805780   -5.295879\n",
              "12  22259.271248  22245.100354   14.170894\n",
              "13  22267.892505  22253.742290   14.150215\n",
              "14  22283.935066  22261.602232   22.332834\n",
              "15  22283.487791  22274.319790    9.168001\n",
              "16  22286.746831  22277.049063    9.697768\n",
              "17  22282.478327  22280.319134    2.159194\n",
              "18  22285.139430  22278.613460    6.525970\n",
              "19  22286.751318  22280.299614    6.451704\n",
              "20  22307.288133  22281.877062   25.411071\n",
              "21  22315.236327  22295.539241   19.697085\n",
              "22  22312.278574  22304.199986    8.078588\n",
              "23  22308.930984  22305.015186    3.915799\n",
              "24  22316.848215  22303.487173   13.361042\n",
              "25  22319.367667  22308.275235   11.092432\n",
              "26  22318.495404  22311.407919    7.087485\n",
              "27  22317.848853  22311.760997    6.087856\n",
              "28  22326.261972  22311.484166   14.777806\n",
              "29  22344.584960  22316.528941   28.056019\n",
              "30  22347.821900  22328.546923   19.274976\n",
              "31  22359.755259  22334.448892   25.306367\n",
              "32  22396.852848  22342.847688   54.005160\n",
              "33  22411.757309  22363.762936   47.994374\n",
              "34  22419.072302  22379.211935   39.860367\n",
              "35  22415.835549  22389.040995   26.794554\n",
              "36  22421.879729  22392.469768   29.409961\n",
              "37  22424.332768  22396.702074   27.630695\n",
              "38  22416.300475  22399.959356   16.341119\n",
              "39  22418.067176  22398.240482   19.826694\n",
              "40  22440.769355  22397.861003   42.908353\n",
              "41  22465.030323  22406.148962   58.881360\n",
              "42  22461.665045  22418.667657   42.997389\n",
              "43  22464.715873  22424.220510   40.495363\n",
              "44  22437.886840  22427.885018   10.001823\n",
              "45  22447.176785  22421.317353   25.859431\n",
              "46  22455.532316  22420.684864   34.847452\n",
              "47  22463.675297  22423.239130   40.436167\n",
              "48  22482.573898  22426.939836   55.634063\n",
              "49  22493.550781  22434.552750   58.998031"
            ],
            "text/html": [
              "\n",
              "  <div id=\"df-836dedf5-eaef-4431-b4fa-2470d3f197c0\" class=\"colab-df-container\">\n",
              "    <div>\n",
              "<style scoped>\n",
              "    .dataframe tbody tr th:only-of-type {\n",
              "        vertical-align: middle;\n",
              "    }\n",
              "\n",
              "    .dataframe tbody tr th {\n",
              "        vertical-align: top;\n",
              "    }\n",
              "\n",
              "    .dataframe thead th {\n",
              "        text-align: right;\n",
              "    }\n",
              "</style>\n",
              "<table border=\"1\" class=\"dataframe\">\n",
              "  <thead>\n",
              "    <tr style=\"text-align: right;\">\n",
              "      <th></th>\n",
              "      <th>Actual</th>\n",
              "      <th>Predicted</th>\n",
              "      <th>Difference</th>\n",
              "    </tr>\n",
              "  </thead>\n",
              "  <tbody>\n",
              "    <tr>\n",
              "      <th>0</th>\n",
              "      <td>22312.274087</td>\n",
              "      <td>22308.302907</td>\n",
              "      <td>3.971180</td>\n",
              "    </tr>\n",
              "    <tr>\n",
              "      <th>1</th>\n",
              "      <td>22319.336704</td>\n",
              "      <td>22306.954163</td>\n",
              "      <td>12.382541</td>\n",
              "    </tr>\n",
              "    <tr>\n",
              "      <th>2</th>\n",
              "      <td>22306.902933</td>\n",
              "      <td>22311.111082</td>\n",
              "      <td>-4.208149</td>\n",
              "    </tr>\n",
              "    <tr>\n",
              "      <th>3</th>\n",
              "      <td>22302.793730</td>\n",
              "      <td>22304.617533</td>\n",
              "      <td>-1.823803</td>\n",
              "    </tr>\n",
              "    <tr>\n",
              "      <th>4</th>\n",
              "      <td>22295.527537</td>\n",
              "      <td>22299.992473</td>\n",
              "      <td>-4.464936</td>\n",
              "    </tr>\n",
              "    <tr>\n",
              "      <th>5</th>\n",
              "      <td>22272.422358</td>\n",
              "      <td>22293.942273</td>\n",
              "      <td>-21.519916</td>\n",
              "    </tr>\n",
              "    <tr>\n",
              "      <th>6</th>\n",
              "      <td>22258.288297</td>\n",
              "      <td>22276.247288</td>\n",
              "      <td>-17.958990</td>\n",
              "    </tr>\n",
              "    <tr>\n",
              "      <th>7</th>\n",
              "      <td>22234.828843</td>\n",
              "      <td>22261.646582</td>\n",
              "      <td>-26.817739</td>\n",
              "    </tr>\n",
              "    <tr>\n",
              "      <th>8</th>\n",
              "      <td>22251.655155</td>\n",
              "      <td>22239.943097</td>\n",
              "      <td>11.712058</td>\n",
              "    </tr>\n",
              "    <tr>\n",
              "      <th>9</th>\n",
              "      <td>22259.948799</td>\n",
              "      <td>22248.796274</td>\n",
              "      <td>11.152525</td>\n",
              "    </tr>\n",
              "    <tr>\n",
              "      <th>10</th>\n",
              "      <td>22254.520020</td>\n",
              "      <td>22255.247716</td>\n",
              "      <td>-0.727696</td>\n",
              "    </tr>\n",
              "    <tr>\n",
              "      <th>11</th>\n",
              "      <td>22246.509901</td>\n",
              "      <td>22251.805780</td>\n",
              "      <td>-5.295879</td>\n",
              "    </tr>\n",
              "    <tr>\n",
              "      <th>12</th>\n",
              "      <td>22259.271248</td>\n",
              "      <td>22245.100354</td>\n",
              "      <td>14.170894</td>\n",
              "    </tr>\n",
              "    <tr>\n",
              "      <th>13</th>\n",
              "      <td>22267.892505</td>\n",
              "      <td>22253.742290</td>\n",
              "      <td>14.150215</td>\n",
              "    </tr>\n",
              "    <tr>\n",
              "      <th>14</th>\n",
              "      <td>22283.935066</td>\n",
              "      <td>22261.602232</td>\n",
              "      <td>22.332834</td>\n",
              "    </tr>\n",
              "    <tr>\n",
              "      <th>15</th>\n",
              "      <td>22283.487791</td>\n",
              "      <td>22274.319790</td>\n",
              "      <td>9.168001</td>\n",
              "    </tr>\n",
              "    <tr>\n",
              "      <th>16</th>\n",
              "      <td>22286.746831</td>\n",
              "      <td>22277.049063</td>\n",
              "      <td>9.697768</td>\n",
              "    </tr>\n",
              "    <tr>\n",
              "      <th>17</th>\n",
              "      <td>22282.478327</td>\n",
              "      <td>22280.319134</td>\n",
              "      <td>2.159194</td>\n",
              "    </tr>\n",
              "    <tr>\n",
              "      <th>18</th>\n",
              "      <td>22285.139430</td>\n",
              "      <td>22278.613460</td>\n",
              "      <td>6.525970</td>\n",
              "    </tr>\n",
              "    <tr>\n",
              "      <th>19</th>\n",
              "      <td>22286.751318</td>\n",
              "      <td>22280.299614</td>\n",
              "      <td>6.451704</td>\n",
              "    </tr>\n",
              "    <tr>\n",
              "      <th>20</th>\n",
              "      <td>22307.288133</td>\n",
              "      <td>22281.877062</td>\n",
              "      <td>25.411071</td>\n",
              "    </tr>\n",
              "    <tr>\n",
              "      <th>21</th>\n",
              "      <td>22315.236327</td>\n",
              "      <td>22295.539241</td>\n",
              "      <td>19.697085</td>\n",
              "    </tr>\n",
              "    <tr>\n",
              "      <th>22</th>\n",
              "      <td>22312.278574</td>\n",
              "      <td>22304.199986</td>\n",
              "      <td>8.078588</td>\n",
              "    </tr>\n",
              "    <tr>\n",
              "      <th>23</th>\n",
              "      <td>22308.930984</td>\n",
              "      <td>22305.015186</td>\n",
              "      <td>3.915799</td>\n",
              "    </tr>\n",
              "    <tr>\n",
              "      <th>24</th>\n",
              "      <td>22316.848215</td>\n",
              "      <td>22303.487173</td>\n",
              "      <td>13.361042</td>\n",
              "    </tr>\n",
              "    <tr>\n",
              "      <th>25</th>\n",
              "      <td>22319.367667</td>\n",
              "      <td>22308.275235</td>\n",
              "      <td>11.092432</td>\n",
              "    </tr>\n",
              "    <tr>\n",
              "      <th>26</th>\n",
              "      <td>22318.495404</td>\n",
              "      <td>22311.407919</td>\n",
              "      <td>7.087485</td>\n",
              "    </tr>\n",
              "    <tr>\n",
              "      <th>27</th>\n",
              "      <td>22317.848853</td>\n",
              "      <td>22311.760997</td>\n",
              "      <td>6.087856</td>\n",
              "    </tr>\n",
              "    <tr>\n",
              "      <th>28</th>\n",
              "      <td>22326.261972</td>\n",
              "      <td>22311.484166</td>\n",
              "      <td>14.777806</td>\n",
              "    </tr>\n",
              "    <tr>\n",
              "      <th>29</th>\n",
              "      <td>22344.584960</td>\n",
              "      <td>22316.528941</td>\n",
              "      <td>28.056019</td>\n",
              "    </tr>\n",
              "    <tr>\n",
              "      <th>30</th>\n",
              "      <td>22347.821900</td>\n",
              "      <td>22328.546923</td>\n",
              "      <td>19.274976</td>\n",
              "    </tr>\n",
              "    <tr>\n",
              "      <th>31</th>\n",
              "      <td>22359.755259</td>\n",
              "      <td>22334.448892</td>\n",
              "      <td>25.306367</td>\n",
              "    </tr>\n",
              "    <tr>\n",
              "      <th>32</th>\n",
              "      <td>22396.852848</td>\n",
              "      <td>22342.847688</td>\n",
              "      <td>54.005160</td>\n",
              "    </tr>\n",
              "    <tr>\n",
              "      <th>33</th>\n",
              "      <td>22411.757309</td>\n",
              "      <td>22363.762936</td>\n",
              "      <td>47.994374</td>\n",
              "    </tr>\n",
              "    <tr>\n",
              "      <th>34</th>\n",
              "      <td>22419.072302</td>\n",
              "      <td>22379.211935</td>\n",
              "      <td>39.860367</td>\n",
              "    </tr>\n",
              "    <tr>\n",
              "      <th>35</th>\n",
              "      <td>22415.835549</td>\n",
              "      <td>22389.040995</td>\n",
              "      <td>26.794554</td>\n",
              "    </tr>\n",
              "    <tr>\n",
              "      <th>36</th>\n",
              "      <td>22421.879729</td>\n",
              "      <td>22392.469768</td>\n",
              "      <td>29.409961</td>\n",
              "    </tr>\n",
              "    <tr>\n",
              "      <th>37</th>\n",
              "      <td>22424.332768</td>\n",
              "      <td>22396.702074</td>\n",
              "      <td>27.630695</td>\n",
              "    </tr>\n",
              "    <tr>\n",
              "      <th>38</th>\n",
              "      <td>22416.300475</td>\n",
              "      <td>22399.959356</td>\n",
              "      <td>16.341119</td>\n",
              "    </tr>\n",
              "    <tr>\n",
              "      <th>39</th>\n",
              "      <td>22418.067176</td>\n",
              "      <td>22398.240482</td>\n",
              "      <td>19.826694</td>\n",
              "    </tr>\n",
              "    <tr>\n",
              "      <th>40</th>\n",
              "      <td>22440.769355</td>\n",
              "      <td>22397.861003</td>\n",
              "      <td>42.908353</td>\n",
              "    </tr>\n",
              "    <tr>\n",
              "      <th>41</th>\n",
              "      <td>22465.030323</td>\n",
              "      <td>22406.148962</td>\n",
              "      <td>58.881360</td>\n",
              "    </tr>\n",
              "    <tr>\n",
              "      <th>42</th>\n",
              "      <td>22461.665045</td>\n",
              "      <td>22418.667657</td>\n",
              "      <td>42.997389</td>\n",
              "    </tr>\n",
              "    <tr>\n",
              "      <th>43</th>\n",
              "      <td>22464.715873</td>\n",
              "      <td>22424.220510</td>\n",
              "      <td>40.495363</td>\n",
              "    </tr>\n",
              "    <tr>\n",
              "      <th>44</th>\n",
              "      <td>22437.886840</td>\n",
              "      <td>22427.885018</td>\n",
              "      <td>10.001823</td>\n",
              "    </tr>\n",
              "    <tr>\n",
              "      <th>45</th>\n",
              "      <td>22447.176785</td>\n",
              "      <td>22421.317353</td>\n",
              "      <td>25.859431</td>\n",
              "    </tr>\n",
              "    <tr>\n",
              "      <th>46</th>\n",
              "      <td>22455.532316</td>\n",
              "      <td>22420.684864</td>\n",
              "      <td>34.847452</td>\n",
              "    </tr>\n",
              "    <tr>\n",
              "      <th>47</th>\n",
              "      <td>22463.675297</td>\n",
              "      <td>22423.239130</td>\n",
              "      <td>40.436167</td>\n",
              "    </tr>\n",
              "    <tr>\n",
              "      <th>48</th>\n",
              "      <td>22482.573898</td>\n",
              "      <td>22426.939836</td>\n",
              "      <td>55.634063</td>\n",
              "    </tr>\n",
              "    <tr>\n",
              "      <th>49</th>\n",
              "      <td>22493.550781</td>\n",
              "      <td>22434.552750</td>\n",
              "      <td>58.998031</td>\n",
              "    </tr>\n",
              "  </tbody>\n",
              "</table>\n",
              "</div>\n",
              "    <div class=\"colab-df-buttons\">\n",
              "\n",
              "  <div class=\"colab-df-container\">\n",
              "    <button class=\"colab-df-convert\" onclick=\"convertToInteractive('df-836dedf5-eaef-4431-b4fa-2470d3f197c0')\"\n",
              "            title=\"Convert this dataframe to an interactive table.\"\n",
              "            style=\"display:none;\">\n",
              "\n",
              "  <svg xmlns=\"http://www.w3.org/2000/svg\" height=\"24px\" viewBox=\"0 -960 960 960\">\n",
              "    <path d=\"M120-120v-720h720v720H120Zm60-500h600v-160H180v160Zm220 220h160v-160H400v160Zm0 220h160v-160H400v160ZM180-400h160v-160H180v160Zm440 0h160v-160H620v160ZM180-180h160v-160H180v160Zm440 0h160v-160H620v160Z\"/>\n",
              "  </svg>\n",
              "    </button>\n",
              "\n",
              "  <style>\n",
              "    .colab-df-container {\n",
              "      display:flex;\n",
              "      gap: 12px;\n",
              "    }\n",
              "\n",
              "    .colab-df-convert {\n",
              "      background-color: #E8F0FE;\n",
              "      border: none;\n",
              "      border-radius: 50%;\n",
              "      cursor: pointer;\n",
              "      display: none;\n",
              "      fill: #1967D2;\n",
              "      height: 32px;\n",
              "      padding: 0 0 0 0;\n",
              "      width: 32px;\n",
              "    }\n",
              "\n",
              "    .colab-df-convert:hover {\n",
              "      background-color: #E2EBFA;\n",
              "      box-shadow: 0px 1px 2px rgba(60, 64, 67, 0.3), 0px 1px 3px 1px rgba(60, 64, 67, 0.15);\n",
              "      fill: #174EA6;\n",
              "    }\n",
              "\n",
              "    .colab-df-buttons div {\n",
              "      margin-bottom: 4px;\n",
              "    }\n",
              "\n",
              "    [theme=dark] .colab-df-convert {\n",
              "      background-color: #3B4455;\n",
              "      fill: #D2E3FC;\n",
              "    }\n",
              "\n",
              "    [theme=dark] .colab-df-convert:hover {\n",
              "      background-color: #434B5C;\n",
              "      box-shadow: 0px 1px 3px 1px rgba(0, 0, 0, 0.15);\n",
              "      filter: drop-shadow(0px 1px 2px rgba(0, 0, 0, 0.3));\n",
              "      fill: #FFFFFF;\n",
              "    }\n",
              "  </style>\n",
              "\n",
              "    <script>\n",
              "      const buttonEl =\n",
              "        document.querySelector('#df-836dedf5-eaef-4431-b4fa-2470d3f197c0 button.colab-df-convert');\n",
              "      buttonEl.style.display =\n",
              "        google.colab.kernel.accessAllowed ? 'block' : 'none';\n",
              "\n",
              "      async function convertToInteractive(key) {\n",
              "        const element = document.querySelector('#df-836dedf5-eaef-4431-b4fa-2470d3f197c0');\n",
              "        const dataTable =\n",
              "          await google.colab.kernel.invokeFunction('convertToInteractive',\n",
              "                                                    [key], {});\n",
              "        if (!dataTable) return;\n",
              "\n",
              "        const docLinkHtml = 'Like what you see? Visit the ' +\n",
              "          '<a target=\"_blank\" href=https://colab.research.google.com/notebooks/data_table.ipynb>data table notebook</a>'\n",
              "          + ' to learn more about interactive tables.';\n",
              "        element.innerHTML = '';\n",
              "        dataTable['output_type'] = 'display_data';\n",
              "        await google.colab.output.renderOutput(dataTable, element);\n",
              "        const docLink = document.createElement('div');\n",
              "        docLink.innerHTML = docLinkHtml;\n",
              "        element.appendChild(docLink);\n",
              "      }\n",
              "    </script>\n",
              "  </div>\n",
              "\n",
              "\n",
              "<div id=\"df-f94955f9-bfc7-4d33-8834-8da0f99d39ea\">\n",
              "  <button class=\"colab-df-quickchart\" onclick=\"quickchart('df-f94955f9-bfc7-4d33-8834-8da0f99d39ea')\"\n",
              "            title=\"Suggest charts\"\n",
              "            style=\"display:none;\">\n",
              "\n",
              "<svg xmlns=\"http://www.w3.org/2000/svg\" height=\"24px\"viewBox=\"0 0 24 24\"\n",
              "     width=\"24px\">\n",
              "    <g>\n",
              "        <path d=\"M19 3H5c-1.1 0-2 .9-2 2v14c0 1.1.9 2 2 2h14c1.1 0 2-.9 2-2V5c0-1.1-.9-2-2-2zM9 17H7v-7h2v7zm4 0h-2V7h2v10zm4 0h-2v-4h2v4z\"/>\n",
              "    </g>\n",
              "</svg>\n",
              "  </button>\n",
              "\n",
              "<style>\n",
              "  .colab-df-quickchart {\n",
              "      --bg-color: #E8F0FE;\n",
              "      --fill-color: #1967D2;\n",
              "      --hover-bg-color: #E2EBFA;\n",
              "      --hover-fill-color: #174EA6;\n",
              "      --disabled-fill-color: #AAA;\n",
              "      --disabled-bg-color: #DDD;\n",
              "  }\n",
              "\n",
              "  [theme=dark] .colab-df-quickchart {\n",
              "      --bg-color: #3B4455;\n",
              "      --fill-color: #D2E3FC;\n",
              "      --hover-bg-color: #434B5C;\n",
              "      --hover-fill-color: #FFFFFF;\n",
              "      --disabled-bg-color: #3B4455;\n",
              "      --disabled-fill-color: #666;\n",
              "  }\n",
              "\n",
              "  .colab-df-quickchart {\n",
              "    background-color: var(--bg-color);\n",
              "    border: none;\n",
              "    border-radius: 50%;\n",
              "    cursor: pointer;\n",
              "    display: none;\n",
              "    fill: var(--fill-color);\n",
              "    height: 32px;\n",
              "    padding: 0;\n",
              "    width: 32px;\n",
              "  }\n",
              "\n",
              "  .colab-df-quickchart:hover {\n",
              "    background-color: var(--hover-bg-color);\n",
              "    box-shadow: 0 1px 2px rgba(60, 64, 67, 0.3), 0 1px 3px 1px rgba(60, 64, 67, 0.15);\n",
              "    fill: var(--button-hover-fill-color);\n",
              "  }\n",
              "\n",
              "  .colab-df-quickchart-complete:disabled,\n",
              "  .colab-df-quickchart-complete:disabled:hover {\n",
              "    background-color: var(--disabled-bg-color);\n",
              "    fill: var(--disabled-fill-color);\n",
              "    box-shadow: none;\n",
              "  }\n",
              "\n",
              "  .colab-df-spinner {\n",
              "    border: 2px solid var(--fill-color);\n",
              "    border-color: transparent;\n",
              "    border-bottom-color: var(--fill-color);\n",
              "    animation:\n",
              "      spin 1s steps(1) infinite;\n",
              "  }\n",
              "\n",
              "  @keyframes spin {\n",
              "    0% {\n",
              "      border-color: transparent;\n",
              "      border-bottom-color: var(--fill-color);\n",
              "      border-left-color: var(--fill-color);\n",
              "    }\n",
              "    20% {\n",
              "      border-color: transparent;\n",
              "      border-left-color: var(--fill-color);\n",
              "      border-top-color: var(--fill-color);\n",
              "    }\n",
              "    30% {\n",
              "      border-color: transparent;\n",
              "      border-left-color: var(--fill-color);\n",
              "      border-top-color: var(--fill-color);\n",
              "      border-right-color: var(--fill-color);\n",
              "    }\n",
              "    40% {\n",
              "      border-color: transparent;\n",
              "      border-right-color: var(--fill-color);\n",
              "      border-top-color: var(--fill-color);\n",
              "    }\n",
              "    60% {\n",
              "      border-color: transparent;\n",
              "      border-right-color: var(--fill-color);\n",
              "    }\n",
              "    80% {\n",
              "      border-color: transparent;\n",
              "      border-right-color: var(--fill-color);\n",
              "      border-bottom-color: var(--fill-color);\n",
              "    }\n",
              "    90% {\n",
              "      border-color: transparent;\n",
              "      border-bottom-color: var(--fill-color);\n",
              "    }\n",
              "  }\n",
              "</style>\n",
              "\n",
              "  <script>\n",
              "    async function quickchart(key) {\n",
              "      const quickchartButtonEl =\n",
              "        document.querySelector('#' + key + ' button');\n",
              "      quickchartButtonEl.disabled = true;  // To prevent multiple clicks.\n",
              "      quickchartButtonEl.classList.add('colab-df-spinner');\n",
              "      try {\n",
              "        const charts = await google.colab.kernel.invokeFunction(\n",
              "            'suggestCharts', [key], {});\n",
              "      } catch (error) {\n",
              "        console.error('Error during call to suggestCharts:', error);\n",
              "      }\n",
              "      quickchartButtonEl.classList.remove('colab-df-spinner');\n",
              "      quickchartButtonEl.classList.add('colab-df-quickchart-complete');\n",
              "    }\n",
              "    (() => {\n",
              "      let quickchartButtonEl =\n",
              "        document.querySelector('#df-f94955f9-bfc7-4d33-8834-8da0f99d39ea button');\n",
              "      quickchartButtonEl.style.display =\n",
              "        google.colab.kernel.accessAllowed ? 'block' : 'none';\n",
              "    })();\n",
              "  </script>\n",
              "</div>\n",
              "\n",
              "  <div id=\"id_eb7eb7ec-9ec7-4b72-816f-c5881a52e038\">\n",
              "    <style>\n",
              "      .colab-df-generate {\n",
              "        background-color: #E8F0FE;\n",
              "        border: none;\n",
              "        border-radius: 50%;\n",
              "        cursor: pointer;\n",
              "        display: none;\n",
              "        fill: #1967D2;\n",
              "        height: 32px;\n",
              "        padding: 0 0 0 0;\n",
              "        width: 32px;\n",
              "      }\n",
              "\n",
              "      .colab-df-generate:hover {\n",
              "        background-color: #E2EBFA;\n",
              "        box-shadow: 0px 1px 2px rgba(60, 64, 67, 0.3), 0px 1px 3px 1px rgba(60, 64, 67, 0.15);\n",
              "        fill: #174EA6;\n",
              "      }\n",
              "\n",
              "      [theme=dark] .colab-df-generate {\n",
              "        background-color: #3B4455;\n",
              "        fill: #D2E3FC;\n",
              "      }\n",
              "\n",
              "      [theme=dark] .colab-df-generate:hover {\n",
              "        background-color: #434B5C;\n",
              "        box-shadow: 0px 1px 3px 1px rgba(0, 0, 0, 0.15);\n",
              "        filter: drop-shadow(0px 1px 2px rgba(0, 0, 0, 0.3));\n",
              "        fill: #FFFFFF;\n",
              "      }\n",
              "    </style>\n",
              "    <button class=\"colab-df-generate\" onclick=\"generateWithVariable('newdf')\"\n",
              "            title=\"Generate code using this dataframe.\"\n",
              "            style=\"display:none;\">\n",
              "\n",
              "  <svg xmlns=\"http://www.w3.org/2000/svg\" height=\"24px\"viewBox=\"0 0 24 24\"\n",
              "       width=\"24px\">\n",
              "    <path d=\"M7,19H8.4L18.45,9,17,7.55,7,17.6ZM5,21V16.75L18.45,3.32a2,2,0,0,1,2.83,0l1.4,1.43a1.91,1.91,0,0,1,.58,1.4,1.91,1.91,0,0,1-.58,1.4L9.25,21ZM18.45,9,17,7.55Zm-12,3A5.31,5.31,0,0,0,4.9,8.1,5.31,5.31,0,0,0,1,6.5,5.31,5.31,0,0,0,4.9,4.9,5.31,5.31,0,0,0,6.5,1,5.31,5.31,0,0,0,8.1,4.9,5.31,5.31,0,0,0,12,6.5,5.46,5.46,0,0,0,6.5,12Z\"/>\n",
              "  </svg>\n",
              "    </button>\n",
              "    <script>\n",
              "      (() => {\n",
              "      const buttonEl =\n",
              "        document.querySelector('#id_eb7eb7ec-9ec7-4b72-816f-c5881a52e038 button.colab-df-generate');\n",
              "      buttonEl.style.display =\n",
              "        google.colab.kernel.accessAllowed ? 'block' : 'none';\n",
              "\n",
              "      buttonEl.onclick = () => {\n",
              "        google.colab.notebook.generateWithVariable('newdf');\n",
              "      }\n",
              "      })();\n",
              "    </script>\n",
              "  </div>\n",
              "\n",
              "    </div>\n",
              "  </div>\n"
            ],
            "application/vnd.google.colaboratory.intrinsic+json": {
              "type": "dataframe",
              "variable_name": "newdf",
              "summary": "{\n  \"name\": \"newdf\",\n  \"rows\": 50,\n  \"fields\": [\n    {\n      \"column\": \"Actual\",\n      \"properties\": {\n        \"dtype\": \"number\",\n        \"std\": 76.56026906567406,\n        \"min\": 22234.8288429901,\n        \"max\": 22493.55078125,\n        \"num_unique_values\": 50,\n        \"samples\": [\n          22267.892504550517,\n          22418.067176260054,\n          22347.821899972856\n        ],\n        \"semantic_type\": \"\",\n        \"description\": \"\"\n      }\n    },\n    {\n      \"column\": \"Predicted\",\n      \"properties\": {\n        \"dtype\": \"number\",\n        \"std\": 61.27382760602931,\n        \"min\": 22239.943096861243,\n        \"max\": 22434.552750088274,\n        \"num_unique_values\": 50,\n        \"samples\": [\n          22253.74228978902,\n          22398.240481860936,\n          22328.54692349583\n        ],\n        \"semantic_type\": \"\",\n        \"description\": \"\"\n      }\n    },\n    {\n      \"column\": \"Difference\",\n      \"properties\": {\n        \"dtype\": \"number\",\n        \"std\": 19.917056700872724,\n        \"min\": -26.81773902475834,\n        \"max\": 58.99803116172552,\n        \"num_unique_values\": 50,\n        \"samples\": [\n          14.15021476149559,\n          19.826694399118423,\n          19.27497647702694\n        ],\n        \"semantic_type\": \"\",\n        \"description\": \"\"\n      }\n    }\n  ]\n}"
            }
          },
          "metadata": {},
          "execution_count": 2758
        }
      ]
    },
    {
      "cell_type": "markdown",
      "source": [
        "#Unseen Data"
      ],
      "metadata": {
        "id": "ZJ1nzJ_bkeuU"
      }
    },
    {
      "cell_type": "code",
      "source": [
        "X_test.shape"
      ],
      "metadata": {
        "colab": {
          "base_uri": "https://localhost:8080/"
        },
        "id": "WmV_a4F53yWJ",
        "outputId": "fb9fb549-06a1-4719-8688-f3a740c981bd"
      },
      "execution_count": 2759,
      "outputs": [
        {
          "output_type": "execute_result",
          "data": {
            "text/plain": [
              "torch.Size([44, 6, 1])"
            ]
          },
          "metadata": {},
          "execution_count": 2759
        }
      ]
    },
    {
      "cell_type": "code",
      "source": [
        "unseen_predictions = model(X_test.to(device)).detach().cpu().numpy().flatten()\n",
        "\n",
        "dummies = np.zeros((X_test.shape[0], lookback+1))\n",
        "dummies[:, 0] = unseen_predictions\n",
        "dummies = scaler.inverse_transform(dummies)\n",
        "\n",
        "unseen_predictions = dc(dummies[:, 0])\n",
        "unseen_predictions"
      ],
      "metadata": {
        "colab": {
          "base_uri": "https://localhost:8080/"
        },
        "id": "JbxdrP-8kibD",
        "outputId": "cc5714be-1ed5-44f7-ac66-e3f55d2c3b16"
      },
      "execution_count": 2760,
      "outputs": [
        {
          "output_type": "execute_result",
          "data": {
            "text/plain": [
              "array([21549.64667593, 21525.65506092, 21611.86919433, 21651.2235583 ,\n",
              "       21896.25843093, 22068.09190141, 21975.72583644, 21672.14701363,\n",
              "       21521.78473389, 21583.96970825, 21383.79751632, 21417.76335672,\n",
              "       21372.7237815 , 21717.19988257, 21533.61290202, 21669.326424  ,\n",
              "       21674.34468628, 21833.64149442, 21749.8307967 , 21903.8510029 ,\n",
              "       21912.26475731, 21728.51655987, 21764.22087825, 21641.63548684,\n",
              "       21741.22264717, 21855.63495494, 21896.69579658, 22012.55633585,\n",
              "       22090.22837706, 22166.49360114, 22036.42013659, 22190.21522812,\n",
              "       22205.3467858 , 22119.23462709, 22189.71848006, 21944.87717987,\n",
              "       21990.86721017, 22236.71976885, 22333.24030267, 22342.02702946,\n",
              "       22393.04930758, 22424.36073934, 22372.61308341, 22348.3431788 ])"
            ]
          },
          "metadata": {},
          "execution_count": 2760
        }
      ]
    },
    {
      "cell_type": "code",
      "source": [
        "dummies = np.zeros((X_test.shape[0], lookback+1))\n",
        "dummies[:, 0] = y_test.flatten()\n",
        "dummies = scaler.inverse_transform(dummies)\n",
        "\n",
        "new_y_unseen = dc(dummies[:, 0])\n",
        "new_y_unseen"
      ],
      "metadata": {
        "colab": {
          "base_uri": "https://localhost:8080/"
        },
        "id": "-jncK53-kwlk",
        "outputId": "9d8c8617-58a4-4c0c-e6d4-5f2d910dede8"
      },
      "execution_count": 2761,
      "outputs": [
        {
          "output_type": "execute_result",
          "data": {
            "text/plain": [
              "array([21544.8496019 , 21618.69921839, 21647.19922217, 21894.55078235,\n",
              "       22097.44921067, 22032.30078113, 21571.9492204 , 21462.25001738,\n",
              "       21622.40039156, 21238.80078125, 21453.94923165, 21352.59961414,\n",
              "       21737.59960974, 21522.09959528, 21725.69921421, 21697.44921112,\n",
              "       21853.80078102, 21771.69921948, 21929.40039182, 21930.49999941,\n",
              "       21717.94922089, 21782.50000275, 21616.05077418, 21743.24999739,\n",
              "       21840.05078168, 21910.75000105, 22040.6992225 , 22122.25000449,\n",
              "       22196.9492232 , 22055.05078775, 22217.44920492, 22212.69921052,\n",
              "       22122.05078548, 22198.34960848, 21951.15039101, 21982.8007849 ,\n",
              "       22338.750003  , 22405.5996002 , 22356.30079553, 22474.05076489,\n",
              "       22493.55078125, 22332.650405  , 22335.69921305, 21997.69921614])"
            ]
          },
          "metadata": {},
          "execution_count": 2761
        }
      ]
    },
    {
      "cell_type": "code",
      "source": [
        "plt.figure(figsize=(15,7))\n",
        "plt.plot(new_y_unseen, label='Actual Close',color = '#27aeef')\n",
        "plt.plot(unseen_predictions, label='Predicted Close', color = '#f46a9b')\n",
        "plt.xlabel('Day')\n",
        "plt.ylabel('Close')\n",
        "plt.title(\"Predictions for NIFTY 1st January 2024 to 15th March 2024\")\n",
        "plt.legend()\n",
        "plt.show()"
      ],
      "metadata": {
        "colab": {
          "base_uri": "https://localhost:8080/",
          "height": 602
        },
        "id": "_rhC-LMmk5cO",
        "outputId": "f199b54f-7c37-41fc-8480-f31162f9a01d"
      },
      "execution_count": 2762,
      "outputs": [
        {
          "output_type": "display_data",
          "data": {
            "text/plain": [
              "<Figure size 1500x700 with 1 Axes>"
            ],
            "image/png": "[encoded data removed]"
          },
          "metadata": {}
        }
      ]
    },
    {
      "cell_type": "code",
      "source": [
        "rmse = np.sqrt(np.mean((unseen_predictions - new_y_unseen)**2))\n",
        "print(f\"Score (RMSE): {rmse:.4f}\")"
      ],
      "metadata": {
        "colab": {
          "base_uri": "https://localhost:8080/"
        },
        "id": "3TRl7kPwdnTw",
        "outputId": "4e24c661-e88f-4145-c0ff-aeab7fde91bd"
      },
      "execution_count": 2763,
      "outputs": [
        {
          "output_type": "stream",
          "name": "stdout",
          "text": [
            "Score (RMSE): 171.3447\n"
          ]
        }
      ]
    },
    {
      "cell_type": "code",
      "source": [
        "neww=pd.DataFrame()\n",
        "neww[\"Actual\"]=new_y_unseen\n",
        "neww[\"Predicted\"]=unseen_predictions\n",
        "neww[\"Difference\"]=neww[\"Actual\"]-neww[\"Predicted\"]"
      ],
      "metadata": {
        "id": "OVnOL805xTe9"
      },
      "execution_count": 2764,
      "outputs": []
    },
    {
      "cell_type": "code",
      "source": [
        "neww"
      ],
      "metadata": {
        "colab": {
          "base_uri": "https://localhost:8080/",
          "height": 1000
        },
        "id": "aMK7-7GRxcMy",
        "outputId": "3e924ed0-aa61-4efe-ba9d-8228f5a9239a"
      },
      "execution_count": 2765,
      "outputs": [
        {
          "output_type": "execute_result",
          "data": {
            "text/plain": [
              "          Actual     Predicted  Difference\n",
              "0   21544.849602  21549.646676   -4.797074\n",
              "1   21618.699218  21525.655061   93.044157\n",
              "2   21647.199222  21611.869194   35.330028\n",
              "3   21894.550782  21651.223558  243.327224\n",
              "4   22097.449211  21896.258431  201.190780\n",
              "5   22032.300781  22068.091901  -35.791120\n",
              "6   21571.949220  21975.725836 -403.776616\n",
              "7   21462.250017  21672.147014 -209.896996\n",
              "8   21622.400392  21521.784734  100.615658\n",
              "9   21238.800781  21583.969708 -345.168927\n",
              "10  21453.949232  21383.797516   70.151715\n",
              "11  21352.599614  21417.763357  -65.163743\n",
              "12  21737.599610  21372.723782  364.875828\n",
              "13  21522.099595  21717.199883 -195.100287\n",
              "14  21725.699214  21533.612902  192.086312\n",
              "15  21697.449211  21669.326424   28.122787\n",
              "16  21853.800781  21674.344686  179.456095\n",
              "17  21771.699219  21833.641494  -61.942275\n",
              "18  21929.400392  21749.830797  179.569595\n",
              "19  21930.499999  21903.851003   26.648997\n",
              "20  21717.949221  21912.264757 -194.315536\n",
              "21  21782.500003  21728.516560   53.983443\n",
              "22  21616.050774  21764.220878 -148.170104\n",
              "23  21743.249997  21641.635487  101.614511\n",
              "24  21840.050782  21741.222647   98.828135\n",
              "25  21910.750001  21855.634955   55.115046\n",
              "26  22040.699222  21896.695797  144.003426\n",
              "27  22122.250004  22012.556336  109.693669\n",
              "28  22196.949223  22090.228377  106.720846\n",
              "29  22055.050788  22166.493601 -111.442813\n",
              "30  22217.449205  22036.420137  181.029068\n",
              "31  22212.699211  22190.215228   22.483982\n",
              "32  22122.050785  22205.346786  -83.296000\n",
              "33  22198.349608  22119.234627   79.114981\n",
              "34  21951.150391  22189.718480 -238.568089\n",
              "35  21982.800785  21944.877180   37.923605\n",
              "36  22338.750003  21990.867210  347.882793\n",
              "37  22405.599600  22236.719769  168.879831\n",
              "38  22356.300796  22333.240303   23.060493\n",
              "39  22474.050765  22342.027029  132.023735\n",
              "40  22493.550781  22393.049308  100.501474\n",
              "41  22332.650405  22424.360739  -91.710334\n",
              "42  22335.699213  22372.613083  -36.913870\n",
              "43  21997.699216  22348.343179 -350.643963"
            ],
            "text/html": [
              "\n",
              "  <div id=\"df-626c5431-eb0a-4e47-95c5-d6e636d54870\" class=\"colab-df-container\">\n",
              "    <div>\n",
              "<style scoped>\n",
              "    .dataframe tbody tr th:only-of-type {\n",
              "        vertical-align: middle;\n",
              "    }\n",
              "\n",
              "    .dataframe tbody tr th {\n",
              "        vertical-align: top;\n",
              "    }\n",
              "\n",
              "    .dataframe thead th {\n",
              "        text-align: right;\n",
              "    }\n",
              "</style>\n",
              "<table border=\"1\" class=\"dataframe\">\n",
              "  <thead>\n",
              "    <tr style=\"text-align: right;\">\n",
              "      <th></th>\n",
              "      <th>Actual</th>\n",
              "      <th>Predicted</th>\n",
              "      <th>Difference</th>\n",
              "    </tr>\n",
              "  </thead>\n",
              "  <tbody>\n",
              "    <tr>\n",
              "      <th>0</th>\n",
              "      <td>21544.849602</td>\n",
              "      <td>21549.646676</td>\n",
              "      <td>-4.797074</td>\n",
              "    </tr>\n",
              "    <tr>\n",
              "      <th>1</th>\n",
              "      <td>21618.699218</td>\n",
              "      <td>21525.655061</td>\n",
              "      <td>93.044157</td>\n",
              "    </tr>\n",
              "    <tr>\n",
              "      <th>2</th>\n",
              "      <td>21647.199222</td>\n",
              "      <td>21611.869194</td>\n",
              "      <td>35.330028</td>\n",
              "    </tr>\n",
              "    <tr>\n",
              "      <th>3</th>\n",
              "      <td>21894.550782</td>\n",
              "      <td>21651.223558</td>\n",
              "      <td>243.327224</td>\n",
              "    </tr>\n",
              "    <tr>\n",
              "      <th>4</th>\n",
              "      <td>22097.449211</td>\n",
              "      <td>21896.258431</td>\n",
              "      <td>201.190780</td>\n",
              "    </tr>\n",
              "    <tr>\n",
              "      <th>5</th>\n",
              "      <td>22032.300781</td>\n",
              "      <td>22068.091901</td>\n",
              "      <td>-35.791120</td>\n",
              "    </tr>\n",
              "    <tr>\n",
              "      <th>6</th>\n",
              "      <td>21571.949220</td>\n",
              "      <td>21975.725836</td>\n",
              "      <td>-403.776616</td>\n",
              "    </tr>\n",
              "    <tr>\n",
              "      <th>7</th>\n",
              "      <td>21462.250017</td>\n",
              "      <td>21672.147014</td>\n",
              "      <td>-209.896996</td>\n",
              "    </tr>\n",
              "    <tr>\n",
              "      <th>8</th>\n",
              "      <td>21622.400392</td>\n",
              "      <td>21521.784734</td>\n",
              "      <td>100.615658</td>\n",
              "    </tr>\n",
              "    <tr>\n",
              "      <th>9</th>\n",
              "      <td>21238.800781</td>\n",
              "      <td>21583.969708</td>\n",
              "      <td>-345.168927</td>\n",
              "    </tr>\n",
              "    <tr>\n",
              "      <th>10</th>\n",
              "      <td>21453.949232</td>\n",
              "      <td>21383.797516</td>\n",
              "      <td>70.151715</td>\n",
              "    </tr>\n",
              "    <tr>\n",
              "      <th>11</th>\n",
              "      <td>21352.599614</td>\n",
              "      <td>21417.763357</td>\n",
              "      <td>-65.163743</td>\n",
              "    </tr>\n",
              "    <tr>\n",
              "      <th>12</th>\n",
              "      <td>21737.599610</td>\n",
              "      <td>21372.723782</td>\n",
              "      <td>364.875828</td>\n",
              "    </tr>\n",
              "    <tr>\n",
              "      <th>13</th>\n",
              "      <td>21522.099595</td>\n",
              "      <td>21717.199883</td>\n",
              "      <td>-195.100287</td>\n",
              "    </tr>\n",
              "    <tr>\n",
              "      <th>14</th>\n",
              "      <td>21725.699214</td>\n",
              "      <td>21533.612902</td>\n",
              "      <td>192.086312</td>\n",
              "    </tr>\n",
              "    <tr>\n",
              "      <th>15</th>\n",
              "      <td>21697.449211</td>\n",
              "      <td>21669.326424</td>\n",
              "      <td>28.122787</td>\n",
              "    </tr>\n",
              "    <tr>\n",
              "      <th>16</th>\n",
              "      <td>21853.800781</td>\n",
              "      <td>21674.344686</td>\n",
              "      <td>179.456095</td>\n",
              "    </tr>\n",
              "    <tr>\n",
              "      <th>17</th>\n",
              "      <td>21771.699219</td>\n",
              "      <td>21833.641494</td>\n",
              "      <td>-61.942275</td>\n",
              "    </tr>\n",
              "    <tr>\n",
              "      <th>18</th>\n",
              "      <td>21929.400392</td>\n",
              "      <td>21749.830797</td>\n",
              "      <td>179.569595</td>\n",
              "    </tr>\n",
              "    <tr>\n",
              "      <th>19</th>\n",
              "      <td>21930.499999</td>\n",
              "      <td>21903.851003</td>\n",
              "      <td>26.648997</td>\n",
              "    </tr>\n",
              "    <tr>\n",
              "      <th>20</th>\n",
              "      <td>21717.949221</td>\n",
              "      <td>21912.264757</td>\n",
              "      <td>-194.315536</td>\n",
              "    </tr>\n",
              "    <tr>\n",
              "      <th>21</th>\n",
              "      <td>21782.500003</td>\n",
              "      <td>21728.516560</td>\n",
              "      <td>53.983443</td>\n",
              "    </tr>\n",
              "    <tr>\n",
              "      <th>22</th>\n",
              "      <td>21616.050774</td>\n",
              "      <td>21764.220878</td>\n",
              "      <td>-148.170104</td>\n",
              "    </tr>\n",
              "    <tr>\n",
              "      <th>23</th>\n",
              "      <td>21743.249997</td>\n",
              "      <td>21641.635487</td>\n",
              "      <td>101.614511</td>\n",
              "    </tr>\n",
              "    <tr>\n",
              "      <th>24</th>\n",
              "      <td>21840.050782</td>\n",
              "      <td>21741.222647</td>\n",
              "      <td>98.828135</td>\n",
              "    </tr>\n",
              "    <tr>\n",
              "      <th>25</th>\n",
              "      <td>21910.750001</td>\n",
              "      <td>21855.634955</td>\n",
              "      <td>55.115046</td>\n",
              "    </tr>\n",
              "    <tr>\n",
              "      <th>26</th>\n",
              "      <td>22040.699222</td>\n",
              "      <td>21896.695797</td>\n",
              "      <td>144.003426</td>\n",
              "    </tr>\n",
              "    <tr>\n",
              "      <th>27</th>\n",
              "      <td>22122.250004</td>\n",
              "      <td>22012.556336</td>\n",
              "      <td>109.693669</td>\n",
              "    </tr>\n",
              "    <tr>\n",
              "      <th>28</th>\n",
              "      <td>22196.949223</td>\n",
              "      <td>22090.228377</td>\n",
              "      <td>106.720846</td>\n",
              "    </tr>\n",
              "    <tr>\n",
              "      <th>29</th>\n",
              "      <td>22055.050788</td>\n",
              "      <td>22166.493601</td>\n",
              "      <td>-111.442813</td>\n",
              "    </tr>\n",
              "    <tr>\n",
              "      <th>30</th>\n",
              "      <td>22217.449205</td>\n",
              "      <td>22036.420137</td>\n",
              "      <td>181.029068</td>\n",
              "    </tr>\n",
              "    <tr>\n",
              "      <th>31</th>\n",
              "      <td>22212.699211</td>\n",
              "      <td>22190.215228</td>\n",
              "      <td>22.483982</td>\n",
              "    </tr>\n",
              "    <tr>\n",
              "      <th>32</th>\n",
              "      <td>22122.050785</td>\n",
              "      <td>22205.346786</td>\n",
              "      <td>-83.296000</td>\n",
              "    </tr>\n",
              "    <tr>\n",
              "      <th>33</th>\n",
              "      <td>22198.349608</td>\n",
              "      <td>22119.234627</td>\n",
              "      <td>79.114981</td>\n",
              "    </tr>\n",
              "    <tr>\n",
              "      <th>34</th>\n",
              "      <td>21951.150391</td>\n",
              "      <td>22189.718480</td>\n",
              "      <td>-238.568089</td>\n",
              "    </tr>\n",
              "    <tr>\n",
              "      <th>35</th>\n",
              "      <td>21982.800785</td>\n",
              "      <td>21944.877180</td>\n",
              "      <td>37.923605</td>\n",
              "    </tr>\n",
              "    <tr>\n",
              "      <th>36</th>\n",
              "      <td>22338.750003</td>\n",
              "      <td>21990.867210</td>\n",
              "      <td>347.882793</td>\n",
              "    </tr>\n",
              "    <tr>\n",
              "      <th>37</th>\n",
              "      <td>22405.599600</td>\n",
              "      <td>22236.719769</td>\n",
              "      <td>168.879831</td>\n",
              "    </tr>\n",
              "    <tr>\n",
              "      <th>38</th>\n",
              "      <td>22356.300796</td>\n",
              "      <td>22333.240303</td>\n",
              "      <td>23.060493</td>\n",
              "    </tr>\n",
              "    <tr>\n",
              "      <th>39</th>\n",
              "      <td>22474.050765</td>\n",
              "      <td>22342.027029</td>\n",
              "      <td>132.023735</td>\n",
              "    </tr>\n",
              "    <tr>\n",
              "      <th>40</th>\n",
              "      <td>22493.550781</td>\n",
              "      <td>22393.049308</td>\n",
              "      <td>100.501474</td>\n",
              "    </tr>\n",
              "    <tr>\n",
              "      <th>41</th>\n",
              "      <td>22332.650405</td>\n",
              "      <td>22424.360739</td>\n",
              "      <td>-91.710334</td>\n",
              "    </tr>\n",
              "    <tr>\n",
              "      <th>42</th>\n",
              "      <td>22335.699213</td>\n",
              "      <td>22372.613083</td>\n",
              "      <td>-36.913870</td>\n",
              "    </tr>\n",
              "    <tr>\n",
              "      <th>43</th>\n",
              "      <td>21997.699216</td>\n",
              "      <td>22348.343179</td>\n",
              "      <td>-350.643963</td>\n",
              "    </tr>\n",
              "  </tbody>\n",
              "</table>\n",
              "</div>\n",
              "    <div class=\"colab-df-buttons\">\n",
              "\n",
              "  <div class=\"colab-df-container\">\n",
              "    <button class=\"colab-df-convert\" onclick=\"convertToInteractive('df-626c5431-eb0a-4e47-95c5-d6e636d54870')\"\n",
              "            title=\"Convert this dataframe to an interactive table.\"\n",
              "            style=\"display:none;\">\n",
              "\n",
              "  <svg xmlns=\"http://www.w3.org/2000/svg\" height=\"24px\" viewBox=\"0 -960 960 960\">\n",
              "    <path d=\"M120-120v-720h720v720H120Zm60-500h600v-160H180v160Zm220 220h160v-160H400v160Zm0 220h160v-160H400v160ZM180-400h160v-160H180v160Zm440 0h160v-160H620v160ZM180-180h160v-160H180v160Zm440 0h160v-160H620v160Z\"/>\n",
              "  </svg>\n",
              "    </button>\n",
              "\n",
              "  <style>\n",
              "    .colab-df-container {\n",
              "      display:flex;\n",
              "      gap: 12px;\n",
              "    }\n",
              "\n",
              "    .colab-df-convert {\n",
              "      background-color: #E8F0FE;\n",
              "      border: none;\n",
              "      border-radius: 50%;\n",
              "      cursor: pointer;\n",
              "      display: none;\n",
              "      fill: #1967D2;\n",
              "      height: 32px;\n",
              "      padding: 0 0 0 0;\n",
              "      width: 32px;\n",
              "    }\n",
              "\n",
              "    .colab-df-convert:hover {\n",
              "      background-color: #E2EBFA;\n",
              "      box-shadow: 0px 1px 2px rgba(60, 64, 67, 0.3), 0px 1px 3px 1px rgba(60, 64, 67, 0.15);\n",
              "      fill: #174EA6;\n",
              "    }\n",
              "\n",
              "    .colab-df-buttons div {\n",
              "      margin-bottom: 4px;\n",
              "    }\n",
              "\n",
              "    [theme=dark] .colab-df-convert {\n",
              "      background-color: #3B4455;\n",
              "      fill: #D2E3FC;\n",
              "    }\n",
              "\n",
              "    [theme=dark] .colab-df-convert:hover {\n",
              "      background-color: #434B5C;\n",
              "      box-shadow: 0px 1px 3px 1px rgba(0, 0, 0, 0.15);\n",
              "      filter: drop-shadow(0px 1px 2px rgba(0, 0, 0, 0.3));\n",
              "      fill: #FFFFFF;\n",
              "    }\n",
              "  </style>\n",
              "\n",
              "    <script>\n",
              "      const buttonEl =\n",
              "        document.querySelector('#df-626c5431-eb0a-4e47-95c5-d6e636d54870 button.colab-df-convert');\n",
              "      buttonEl.style.display =\n",
              "        google.colab.kernel.accessAllowed ? 'block' : 'none';\n",
              "\n",
              "      async function convertToInteractive(key) {\n",
              "        const element = document.querySelector('#df-626c5431-eb0a-4e47-95c5-d6e636d54870');\n",
              "        const dataTable =\n",
              "          await google.colab.kernel.invokeFunction('convertToInteractive',\n",
              "                                                    [key], {});\n",
              "        if (!dataTable) return;\n",
              "\n",
              "        const docLinkHtml = 'Like what you see? Visit the ' +\n",
              "          '<a target=\"_blank\" href=https://colab.research.google.com/notebooks/data_table.ipynb>data table notebook</a>'\n",
              "          + ' to learn more about interactive tables.';\n",
              "        element.innerHTML = '';\n",
              "        dataTable['output_type'] = 'display_data';\n",
              "        await google.colab.output.renderOutput(dataTable, element);\n",
              "        const docLink = document.createElement('div');\n",
              "        docLink.innerHTML = docLinkHtml;\n",
              "        element.appendChild(docLink);\n",
              "      }\n",
              "    </script>\n",
              "  </div>\n",
              "\n",
              "\n",
              "<div id=\"df-3c1dd783-17ca-4f7a-8de4-20b57c418041\">\n",
              "  <button class=\"colab-df-quickchart\" onclick=\"quickchart('df-3c1dd783-17ca-4f7a-8de4-20b57c418041')\"\n",
              "            title=\"Suggest charts\"\n",
              "            style=\"display:none;\">\n",
              "\n",
              "<svg xmlns=\"http://www.w3.org/2000/svg\" height=\"24px\"viewBox=\"0 0 24 24\"\n",
              "     width=\"24px\">\n",
              "    <g>\n",
              "        <path d=\"M19 3H5c-1.1 0-2 .9-2 2v14c0 1.1.9 2 2 2h14c1.1 0 2-.9 2-2V5c0-1.1-.9-2-2-2zM9 17H7v-7h2v7zm4 0h-2V7h2v10zm4 0h-2v-4h2v4z\"/>\n",
              "    </g>\n",
              "</svg>\n",
              "  </button>\n",
              "\n",
              "<style>\n",
              "  .colab-df-quickchart {\n",
              "      --bg-color: #E8F0FE;\n",
              "      --fill-color: #1967D2;\n",
              "      --hover-bg-color: #E2EBFA;\n",
              "      --hover-fill-color: #174EA6;\n",
              "      --disabled-fill-color: #AAA;\n",
              "      --disabled-bg-color: #DDD;\n",
              "  }\n",
              "\n",
              "  [theme=dark] .colab-df-quickchart {\n",
              "      --bg-color: #3B4455;\n",
              "      --fill-color: #D2E3FC;\n",
              "      --hover-bg-color: #434B5C;\n",
              "      --hover-fill-color: #FFFFFF;\n",
              "      --disabled-bg-color: #3B4455;\n",
              "      --disabled-fill-color: #666;\n",
              "  }\n",
              "\n",
              "  .colab-df-quickchart {\n",
              "    background-color: var(--bg-color);\n",
              "    border: none;\n",
              "    border-radius: 50%;\n",
              "    cursor: pointer;\n",
              "    display: none;\n",
              "    fill: var(--fill-color);\n",
              "    height: 32px;\n",
              "    padding: 0;\n",
              "    width: 32px;\n",
              "  }\n",
              "\n",
              "  .colab-df-quickchart:hover {\n",
              "    background-color: var(--hover-bg-color);\n",
              "    box-shadow: 0 1px 2px rgba(60, 64, 67, 0.3), 0 1px 3px 1px rgba(60, 64, 67, 0.15);\n",
              "    fill: var(--button-hover-fill-color);\n",
              "  }\n",
              "\n",
              "  .colab-df-quickchart-complete:disabled,\n",
              "  .colab-df-quickchart-complete:disabled:hover {\n",
              "    background-color: var(--disabled-bg-color);\n",
              "    fill: var(--disabled-fill-color);\n",
              "    box-shadow: none;\n",
              "  }\n",
              "\n",
              "  .colab-df-spinner {\n",
              "    border: 2px solid var(--fill-color);\n",
              "    border-color: transparent;\n",
              "    border-bottom-color: var(--fill-color);\n",
              "    animation:\n",
              "      spin 1s steps(1) infinite;\n",
              "  }\n",
              "\n",
              "  @keyframes spin {\n",
              "    0% {\n",
              "      border-color: transparent;\n",
              "      border-bottom-color: var(--fill-color);\n",
              "      border-left-color: var(--fill-color);\n",
              "    }\n",
              "    20% {\n",
              "      border-color: transparent;\n",
              "      border-left-color: var(--fill-color);\n",
              "      border-top-color: var(--fill-color);\n",
              "    }\n",
              "    30% {\n",
              "      border-color: transparent;\n",
              "      border-left-color: var(--fill-color);\n",
              "      border-top-color: var(--fill-color);\n",
              "      border-right-color: var(--fill-color);\n",
              "    }\n",
              "    40% {\n",
              "      border-color: transparent;\n",
              "      border-right-color: var(--fill-color);\n",
              "      border-top-color: var(--fill-color);\n",
              "    }\n",
              "    60% {\n",
              "      border-color: transparent;\n",
              "      border-right-color: var(--fill-color);\n",
              "    }\n",
              "    80% {\n",
              "      border-color: transparent;\n",
              "      border-right-color: var(--fill-color);\n",
              "      border-bottom-color: var(--fill-color);\n",
              "    }\n",
              "    90% {\n",
              "      border-color: transparent;\n",
              "      border-bottom-color: var(--fill-color);\n",
              "    }\n",
              "  }\n",
              "</style>\n",
              "\n",
              "  <script>\n",
              "    async function quickchart(key) {\n",
              "      const quickchartButtonEl =\n",
              "        document.querySelector('#' + key + ' button');\n",
              "      quickchartButtonEl.disabled = true;  // To prevent multiple clicks.\n",
              "      quickchartButtonEl.classList.add('colab-df-spinner');\n",
              "      try {\n",
              "        const charts = await google.colab.kernel.invokeFunction(\n",
              "            'suggestCharts', [key], {});\n",
              "      } catch (error) {\n",
              "        console.error('Error during call to suggestCharts:', error);\n",
              "      }\n",
              "      quickchartButtonEl.classList.remove('colab-df-spinner');\n",
              "      quickchartButtonEl.classList.add('colab-df-quickchart-complete');\n",
              "    }\n",
              "    (() => {\n",
              "      let quickchartButtonEl =\n",
              "        document.querySelector('#df-3c1dd783-17ca-4f7a-8de4-20b57c418041 button');\n",
              "      quickchartButtonEl.style.display =\n",
              "        google.colab.kernel.accessAllowed ? 'block' : 'none';\n",
              "    })();\n",
              "  </script>\n",
              "</div>\n",
              "\n",
              "  <div id=\"id_c6327c02-7549-4038-ac10-14e486ca7c7e\">\n",
              "    <style>\n",
              "      .colab-df-generate {\n",
              "        background-color: #E8F0FE;\n",
              "        border: none;\n",
              "        border-radius: 50%;\n",
              "        cursor: pointer;\n",
              "        display: none;\n",
              "        fill: #1967D2;\n",
              "        height: 32px;\n",
              "        padding: 0 0 0 0;\n",
              "        width: 32px;\n",
              "      }\n",
              "\n",
              "      .colab-df-generate:hover {\n",
              "        background-color: #E2EBFA;\n",
              "        box-shadow: 0px 1px 2px rgba(60, 64, 67, 0.3), 0px 1px 3px 1px rgba(60, 64, 67, 0.15);\n",
              "        fill: #174EA6;\n",
              "      }\n",
              "\n",
              "      [theme=dark] .colab-df-generate {\n",
              "        background-color: #3B4455;\n",
              "        fill: #D2E3FC;\n",
              "      }\n",
              "\n",
              "      [theme=dark] .colab-df-generate:hover {\n",
              "        background-color: #434B5C;\n",
              "        box-shadow: 0px 1px 3px 1px rgba(0, 0, 0, 0.15);\n",
              "        filter: drop-shadow(0px 1px 2px rgba(0, 0, 0, 0.3));\n",
              "        fill: #FFFFFF;\n",
              "      }\n",
              "    </style>\n",
              "    <button class=\"colab-df-generate\" onclick=\"generateWithVariable('neww')\"\n",
              "            title=\"Generate code using this dataframe.\"\n",
              "            style=\"display:none;\">\n",
              "\n",
              "  <svg xmlns=\"http://www.w3.org/2000/svg\" height=\"24px\"viewBox=\"0 0 24 24\"\n",
              "       width=\"24px\">\n",
              "    <path d=\"M7,19H8.4L18.45,9,17,7.55,7,17.6ZM5,21V16.75L18.45,3.32a2,2,0,0,1,2.83,0l1.4,1.43a1.91,1.91,0,0,1,.58,1.4,1.91,1.91,0,0,1-.58,1.4L9.25,21ZM18.45,9,17,7.55Zm-12,3A5.31,5.31,0,0,0,4.9,8.1,5.31,5.31,0,0,0,1,6.5,5.31,5.31,0,0,0,4.9,4.9,5.31,5.31,0,0,0,6.5,1,5.31,5.31,0,0,0,8.1,4.9,5.31,5.31,0,0,0,12,6.5,5.46,5.46,0,0,0,6.5,12Z\"/>\n",
              "  </svg>\n",
              "    </button>\n",
              "    <script>\n",
              "      (() => {\n",
              "      const buttonEl =\n",
              "        document.querySelector('#id_c6327c02-7549-4038-ac10-14e486ca7c7e button.colab-df-generate');\n",
              "      buttonEl.style.display =\n",
              "        google.colab.kernel.accessAllowed ? 'block' : 'none';\n",
              "\n",
              "      buttonEl.onclick = () => {\n",
              "        google.colab.notebook.generateWithVariable('neww');\n",
              "      }\n",
              "      })();\n",
              "    </script>\n",
              "  </div>\n",
              "\n",
              "    </div>\n",
              "  </div>\n"
            ],
            "application/vnd.google.colaboratory.intrinsic+json": {
              "type": "dataframe",
              "variable_name": "neww",
              "summary": "{\n  \"name\": \"neww\",\n  \"rows\": 44,\n  \"fields\": [\n    {\n      \"column\": \"Actual\",\n      \"properties\": {\n        \"dtype\": \"number\",\n        \"std\": 316.2373637101991,\n        \"min\": 21238.80078125,\n        \"max\": 22493.55078125,\n        \"num_unique_values\": 44,\n        \"samples\": [\n          22405.599600195885,\n          21840.0507816826,\n          21910.750001054257\n        ],\n        \"semantic_type\": \"\",\n        \"description\": \"\"\n      }\n    },\n    {\n      \"column\": \"Predicted\",\n      \"properties\": {\n        \"dtype\": \"number\",\n        \"std\": 299.17208293997504,\n        \"min\": 21372.723781503737,\n        \"max\": 22424.36073934287,\n        \"num_unique_values\": 44,\n        \"samples\": [\n          22236.719768851995,\n          21741.222647171468,\n          21855.634954944253\n        ],\n        \"semantic_type\": \"\",\n        \"description\": \"\"\n      }\n    },\n    {\n      \"column\": \"Difference\",\n      \"properties\": {\n        \"dtype\": \"number\",\n        \"std\": 172.0846181598018,\n        \"min\": -403.7766160480678,\n        \"max\": 364.8758282326162,\n        \"num_unique_values\": 44,\n        \"samples\": [\n          168.87983134388924,\n          98.8281345111318,\n          55.11504611000419\n        ],\n        \"semantic_type\": \"\",\n        \"description\": \"\"\n      }\n    }\n  ]\n}"
            }
          },
          "metadata": {},
          "execution_count": 2765
        }
      ]
    },
    {
      "cell_type": "code",
      "source": [],
      "metadata": {
        "id": "skgaiLmpxcns"
      },
      "execution_count": 2765,
      "outputs": []
    }
  ]
}