{
  "nbformat": 4,
  "nbformat_minor": 0,
  "metadata": {
    "colab": {
      "provenance": [],
      "toc_visible": true,
      "collapsed_sections": [
        "7hLgD5Snl7EP"
      ]
    },
    "kernelspec": {
      "name": "python3",
      "display_name": "Python 3"
    },
    "language_info": {
      "name": "python"
    }
  },
  "cells": [
    {
      "cell_type": "markdown",
      "source": [
        "**This Notebook has the best performing model for LSTM**\n",
        "\n",
        "\n",
        "Architecture\n",
        "\n",
        "4 Hidden Layers\n",
        "\n",
        "2 Stacks of LSTM"
      ],
      "metadata": {
        "id": "p8qp7Pz1Lr--"
      }
    },
    {
      "cell_type": "markdown",
      "source": [
        "#Imports"
      ],
      "metadata": {
        "id": "hAaj8cj_NgpT"
      }
    },
    {
      "cell_type": "code",
      "execution_count": 75,
      "metadata": {
        "id": "vvBFGth2MI96"
      },
      "outputs": [],
      "source": [
        "import pandas as pd\n",
        "import numpy as np\n",
        "import matplotlib.pyplot as plt\n",
        "import torch\n",
        "import torch.nn as nn\n",
        "from copy import deepcopy as dc\n",
        "from sklearn.preprocessing import MinMaxScaler\n",
        "from torch.utils.data import Dataset\n",
        "from torch.utils.data import DataLoader\n"
      ]
    },
    {
      "cell_type": "markdown",
      "source": [
        "#Data Pipeline Functions"
      ],
      "metadata": {
        "id": "lwg1D4oqR9Jn"
      }
    },
    {
      "cell_type": "code",
      "source": [
        "def data(filename):\n",
        "  df = pd.read_csv(filename)\n",
        "  df = df[['Date','Close']]\n",
        "  df[\"Date\"] = pd.to_datetime(df['Date'])\n",
        "  return df"
      ],
      "metadata": {
        "id": "8heTIRYKQ9Ps"
      },
      "execution_count": 76,
      "outputs": []
    },
    {
      "cell_type": "code",
      "source": [
        "def split_data(stock_tr,stock_ts, lookback):\n",
        "    data_raw_tr = stock_tr.to_numpy()\n",
        "    data_tr = []\n",
        "    for index in range(len(data_raw_tr) - lookback):\n",
        "        data_tr.append(data_raw_tr[index: index + lookback])\n",
        "\n",
        "    data_raw_ts = stock_ts.to_numpy()\n",
        "    data_ts = []\n",
        "\n",
        "    for index in range(len(data_raw_ts) - lookback):\n",
        "        data_ts.append(data_raw_ts[index: index + lookback])\n",
        "\n",
        "    data_tr = np.array(data_tr);\n",
        "    data_ts = np.array(data_ts);\n",
        "\n",
        "    x_train = data_tr[:,:-1,:]\n",
        "    y_train = data_tr[:,-1,:]\n",
        "\n",
        "    x_test = data_ts[:,:-1]\n",
        "    y_test = data_ts[:,-1,:]\n",
        "\n",
        "    return [x_train, y_train, x_test, y_test]"
      ],
      "metadata": {
        "id": "exoUFlrqGCfm"
      },
      "execution_count": 77,
      "outputs": []
    },
    {
      "cell_type": "code",
      "source": [
        "class TimeSeriesDataset(Dataset):\n",
        "    def __init__(self, X, y):\n",
        "        self.X = X\n",
        "        self.y = y\n",
        "\n",
        "    def __len__(self):\n",
        "        return len(self.X)\n",
        "\n",
        "    def __getitem__(self, i):\n",
        "        return self.X[i], self.y[i]"
      ],
      "metadata": {
        "id": "nDQpBgtAcOLK"
      },
      "execution_count": 78,
      "outputs": []
    },
    {
      "cell_type": "code",
      "source": [
        "device = 'cuda:0' if torch.cuda.is_available() else 'cpu'\n",
        "device"
      ],
      "metadata": {
        "colab": {
          "base_uri": "https://localhost:8080/",
          "height": 35
        },
        "id": "LgVV7zBA-Ifx",
        "outputId": "a0177a7a-25b9-4870-a2e4-2336394d14d2"
      },
      "execution_count": 79,
      "outputs": [
        {
          "output_type": "execute_result",
          "data": {
            "text/plain": [
              "'cpu'"
            ],
            "application/vnd.google.colaboratory.intrinsic+json": {
              "type": "string"
            }
          },
          "metadata": {},
          "execution_count": 79
        }
      ]
    },
    {
      "cell_type": "markdown",
      "source": [
        "#Load Data"
      ],
      "metadata": {
        "id": "5M58xUHzNkTv"
      }
    },
    {
      "cell_type": "code",
      "source": [
        "main_df = data(\"/content/drive/MyDrive/STOCK PRICE PRED/NSE_train.csv\")"
      ],
      "metadata": {
        "id": "owREpY5RRnON"
      },
      "execution_count": 80,
      "outputs": []
    },
    {
      "cell_type": "code",
      "source": [
        "test_df = data(\"/content/drive/MyDrive/STOCK PRICE PRED/NSE_test.csv\")"
      ],
      "metadata": {
        "id": "CPB6hgzic6Cl"
      },
      "execution_count": 81,
      "outputs": []
    },
    {
      "cell_type": "code",
      "source": [
        "test_df.info()"
      ],
      "metadata": {
        "colab": {
          "base_uri": "https://localhost:8080/"
        },
        "id": "k-TBDuRbdD2Q",
        "outputId": "509a2ce3-4db4-4b77-d449-295de496fd90"
      },
      "execution_count": 82,
      "outputs": [
        {
          "output_type": "stream",
          "name": "stdout",
          "text": [
            "<class 'pandas.core.frame.DataFrame'>\n",
            "RangeIndex: 51 entries, 0 to 50\n",
            "Data columns (total 2 columns):\n",
            " #   Column  Non-Null Count  Dtype         \n",
            "---  ------  --------------  -----         \n",
            " 0   Date    51 non-null     datetime64[ns]\n",
            " 1   Close   51 non-null     float64       \n",
            "dtypes: datetime64[ns](1), float64(1)\n",
            "memory usage: 944.0 bytes\n"
          ]
        }
      ]
    },
    {
      "cell_type": "code",
      "source": [
        "main_df.info()"
      ],
      "metadata": {
        "colab": {
          "base_uri": "https://localhost:8080/"
        },
        "id": "ruyWWP9ZRvKT",
        "outputId": "ff3212cf-78c0-45ff-8590-f55bbaebc853"
      },
      "execution_count": 83,
      "outputs": [
        {
          "output_type": "stream",
          "name": "stdout",
          "text": [
            "<class 'pandas.core.frame.DataFrame'>\n",
            "RangeIndex: 991 entries, 0 to 990\n",
            "Data columns (total 2 columns):\n",
            " #   Column  Non-Null Count  Dtype         \n",
            "---  ------  --------------  -----         \n",
            " 0   Date    991 non-null    datetime64[ns]\n",
            " 1   Close   991 non-null    float64       \n",
            "dtypes: datetime64[ns](1), float64(1)\n",
            "memory usage: 15.6 KB\n"
          ]
        }
      ]
    },
    {
      "cell_type": "markdown",
      "source": [
        "#Scale Features"
      ],
      "metadata": {
        "id": "myDsC1D5FbJn"
      }
    },
    {
      "cell_type": "code",
      "source": [
        "price_train = main_df[['Close']]\n",
        "\n",
        "scaler = MinMaxScaler(feature_range=(-1, 1))\n",
        "price_train['Close'] = scaler.fit_transform(price_train['Close'].values.reshape(-1,1))\n",
        "print(price_train.head())\n",
        "print(price_train.shape)\n",
        "\n",
        "price_test = test_df[['Close']]\n",
        "\n",
        "scaler = MinMaxScaler(feature_range=(-1, 1))\n",
        "price_test['Close'] = scaler.fit_transform(price_test['Close'].values.reshape(-1,1))\n",
        "print(price_test.shape)"
      ],
      "metadata": {
        "colab": {
          "base_uri": "https://localhost:8080/"
        },
        "id": "nInMc5ZrFKoE",
        "outputId": "2fcfb3e5-1161-4004-945e-1a4008088341"
      },
      "execution_count": 84,
      "outputs": [
        {
          "output_type": "stream",
          "name": "stdout",
          "text": [
            "      Close\n",
            "0 -0.354587\n",
            "1 -0.340514\n",
            "2 -0.348355\n",
            "3 -0.381330\n",
            "4 -0.372874\n",
            "(991, 1)\n",
            "(51, 1)\n"
          ]
        },
        {
          "output_type": "stream",
          "name": "stderr",
          "text": [
            "<ipython-input-84-4d2e8f9f7ed6>:4: SettingWithCopyWarning: \n",
            "A value is trying to be set on a copy of a slice from a DataFrame.\n",
            "Try using .loc[row_indexer,col_indexer] = value instead\n",
            "\n",
            "See the caveats in the documentation: https://pandas.pydata.org/pandas-docs/stable/user_guide/indexing.html#returning-a-view-versus-a-copy\n",
            "  price_train['Close'] = scaler.fit_transform(price_train['Close'].values.reshape(-1,1))\n",
            "<ipython-input-84-4d2e8f9f7ed6>:11: SettingWithCopyWarning: \n",
            "A value is trying to be set on a copy of a slice from a DataFrame.\n",
            "Try using .loc[row_indexer,col_indexer] = value instead\n",
            "\n",
            "See the caveats in the documentation: https://pandas.pydata.org/pandas-docs/stable/user_guide/indexing.html#returning-a-view-versus-a-copy\n",
            "  price_test['Close'] = scaler.fit_transform(price_test['Close'].values.reshape(-1,1))\n"
          ]
        }
      ]
    },
    {
      "cell_type": "code",
      "source": [
        "price_train"
      ],
      "metadata": {
        "colab": {
          "base_uri": "https://localhost:8080/",
          "height": 423
        },
        "id": "ZTQWlliRFh5-",
        "outputId": "d280b059-ccc0-4e27-8831-6738e4dfffb9"
      },
      "execution_count": 85,
      "outputs": [
        {
          "output_type": "execute_result",
          "data": {
            "text/plain": [
              "        Close\n",
              "0   -0.354587\n",
              "1   -0.340514\n",
              "2   -0.348355\n",
              "3   -0.381330\n",
              "4   -0.372874\n",
              "..        ...\n",
              "986  0.939401\n",
              "987  0.952380\n",
              "988  0.982503\n",
              "989  1.000000\n",
              "990  0.993323\n",
              "\n",
              "[991 rows x 1 columns]"
            ],
            "text/html": [
              "\n",
              "  <div id=\"df-daa0b814-1420-480d-b3d7-22711a0d2e06\" class=\"colab-df-container\">\n",
              "    <div>\n",
              "<style scoped>\n",
              "    .dataframe tbody tr th:only-of-type {\n",
              "        vertical-align: middle;\n",
              "    }\n",
              "\n",
              "    .dataframe tbody tr th {\n",
              "        vertical-align: top;\n",
              "    }\n",
              "\n",
              "    .dataframe thead th {\n",
              "        text-align: right;\n",
              "    }\n",
              "</style>\n",
              "<table border=\"1\" class=\"dataframe\">\n",
              "  <thead>\n",
              "    <tr style=\"text-align: right;\">\n",
              "      <th></th>\n",
              "      <th>Close</th>\n",
              "    </tr>\n",
              "  </thead>\n",
              "  <tbody>\n",
              "    <tr>\n",
              "      <th>0</th>\n",
              "      <td>-0.354587</td>\n",
              "    </tr>\n",
              "    <tr>\n",
              "      <th>1</th>\n",
              "      <td>-0.340514</td>\n",
              "    </tr>\n",
              "    <tr>\n",
              "      <th>2</th>\n",
              "      <td>-0.348355</td>\n",
              "    </tr>\n",
              "    <tr>\n",
              "      <th>3</th>\n",
              "      <td>-0.381330</td>\n",
              "    </tr>\n",
              "    <tr>\n",
              "      <th>4</th>\n",
              "      <td>-0.372874</td>\n",
              "    </tr>\n",
              "    <tr>\n",
              "      <th>...</th>\n",
              "      <td>...</td>\n",
              "    </tr>\n",
              "    <tr>\n",
              "      <th>986</th>\n",
              "      <td>0.939401</td>\n",
              "    </tr>\n",
              "    <tr>\n",
              "      <th>987</th>\n",
              "      <td>0.952380</td>\n",
              "    </tr>\n",
              "    <tr>\n",
              "      <th>988</th>\n",
              "      <td>0.982503</td>\n",
              "    </tr>\n",
              "    <tr>\n",
              "      <th>989</th>\n",
              "      <td>1.000000</td>\n",
              "    </tr>\n",
              "    <tr>\n",
              "      <th>990</th>\n",
              "      <td>0.993323</td>\n",
              "    </tr>\n",
              "  </tbody>\n",
              "</table>\n",
              "<p>991 rows × 1 columns</p>\n",
              "</div>\n",
              "    <div class=\"colab-df-buttons\">\n",
              "\n",
              "  <div class=\"colab-df-container\">\n",
              "    <button class=\"colab-df-convert\" onclick=\"convertToInteractive('df-daa0b814-1420-480d-b3d7-22711a0d2e06')\"\n",
              "            title=\"Convert this dataframe to an interactive table.\"\n",
              "            style=\"display:none;\">\n",
              "\n",
              "  <svg xmlns=\"http://www.w3.org/2000/svg\" height=\"24px\" viewBox=\"0 -960 960 960\">\n",
              "    <path d=\"M120-120v-720h720v720H120Zm60-500h600v-160H180v160Zm220 220h160v-160H400v160Zm0 220h160v-160H400v160ZM180-400h160v-160H180v160Zm440 0h160v-160H620v160ZM180-180h160v-160H180v160Zm440 0h160v-160H620v160Z\"/>\n",
              "  </svg>\n",
              "    </button>\n",
              "\n",
              "  <style>\n",
              "    .colab-df-container {\n",
              "      display:flex;\n",
              "      gap: 12px;\n",
              "    }\n",
              "\n",
              "    .colab-df-convert {\n",
              "      background-color: #E8F0FE;\n",
              "      border: none;\n",
              "      border-radius: 50%;\n",
              "      cursor: pointer;\n",
              "      display: none;\n",
              "      fill: #1967D2;\n",
              "      height: 32px;\n",
              "      padding: 0 0 0 0;\n",
              "      width: 32px;\n",
              "    }\n",
              "\n",
              "    .colab-df-convert:hover {\n",
              "      background-color: #E2EBFA;\n",
              "      box-shadow: 0px 1px 2px rgba(60, 64, 67, 0.3), 0px 1px 3px 1px rgba(60, 64, 67, 0.15);\n",
              "      fill: #174EA6;\n",
              "    }\n",
              "\n",
              "    .colab-df-buttons div {\n",
              "      margin-bottom: 4px;\n",
              "    }\n",
              "\n",
              "    [theme=dark] .colab-df-convert {\n",
              "      background-color: #3B4455;\n",
              "      fill: #D2E3FC;\n",
              "    }\n",
              "\n",
              "    [theme=dark] .colab-df-convert:hover {\n",
              "      background-color: #434B5C;\n",
              "      box-shadow: 0px 1px 3px 1px rgba(0, 0, 0, 0.15);\n",
              "      filter: drop-shadow(0px 1px 2px rgba(0, 0, 0, 0.3));\n",
              "      fill: #FFFFFF;\n",
              "    }\n",
              "  </style>\n",
              "\n",
              "    <script>\n",
              "      const buttonEl =\n",
              "        document.querySelector('#df-daa0b814-1420-480d-b3d7-22711a0d2e06 button.colab-df-convert');\n",
              "      buttonEl.style.display =\n",
              "        google.colab.kernel.accessAllowed ? 'block' : 'none';\n",
              "\n",
              "      async function convertToInteractive(key) {\n",
              "        const element = document.querySelector('#df-daa0b814-1420-480d-b3d7-22711a0d2e06');\n",
              "        const dataTable =\n",
              "          await google.colab.kernel.invokeFunction('convertToInteractive',\n",
              "                                                    [key], {});\n",
              "        if (!dataTable) return;\n",
              "\n",
              "        const docLinkHtml = 'Like what you see? Visit the ' +\n",
              "          '<a target=\"_blank\" href=https://colab.research.google.com/notebooks/data_table.ipynb>data table notebook</a>'\n",
              "          + ' to learn more about interactive tables.';\n",
              "        element.innerHTML = '';\n",
              "        dataTable['output_type'] = 'display_data';\n",
              "        await google.colab.output.renderOutput(dataTable, element);\n",
              "        const docLink = document.createElement('div');\n",
              "        docLink.innerHTML = docLinkHtml;\n",
              "        element.appendChild(docLink);\n",
              "      }\n",
              "    </script>\n",
              "  </div>\n",
              "\n",
              "\n",
              "<div id=\"df-426f2960-acc3-4581-b089-a63396424b3a\">\n",
              "  <button class=\"colab-df-quickchart\" onclick=\"quickchart('df-426f2960-acc3-4581-b089-a63396424b3a')\"\n",
              "            title=\"Suggest charts\"\n",
              "            style=\"display:none;\">\n",
              "\n",
              "<svg xmlns=\"http://www.w3.org/2000/svg\" height=\"24px\"viewBox=\"0 0 24 24\"\n",
              "     width=\"24px\">\n",
              "    <g>\n",
              "        <path d=\"M19 3H5c-1.1 0-2 .9-2 2v14c0 1.1.9 2 2 2h14c1.1 0 2-.9 2-2V5c0-1.1-.9-2-2-2zM9 17H7v-7h2v7zm4 0h-2V7h2v10zm4 0h-2v-4h2v4z\"/>\n",
              "    </g>\n",
              "</svg>\n",
              "  </button>\n",
              "\n",
              "<style>\n",
              "  .colab-df-quickchart {\n",
              "      --bg-color: #E8F0FE;\n",
              "      --fill-color: #1967D2;\n",
              "      --hover-bg-color: #E2EBFA;\n",
              "      --hover-fill-color: #174EA6;\n",
              "      --disabled-fill-color: #AAA;\n",
              "      --disabled-bg-color: #DDD;\n",
              "  }\n",
              "\n",
              "  [theme=dark] .colab-df-quickchart {\n",
              "      --bg-color: #3B4455;\n",
              "      --fill-color: #D2E3FC;\n",
              "      --hover-bg-color: #434B5C;\n",
              "      --hover-fill-color: #FFFFFF;\n",
              "      --disabled-bg-color: #3B4455;\n",
              "      --disabled-fill-color: #666;\n",
              "  }\n",
              "\n",
              "  .colab-df-quickchart {\n",
              "    background-color: var(--bg-color);\n",
              "    border: none;\n",
              "    border-radius: 50%;\n",
              "    cursor: pointer;\n",
              "    display: none;\n",
              "    fill: var(--fill-color);\n",
              "    height: 32px;\n",
              "    padding: 0;\n",
              "    width: 32px;\n",
              "  }\n",
              "\n",
              "  .colab-df-quickchart:hover {\n",
              "    background-color: var(--hover-bg-color);\n",
              "    box-shadow: 0 1px 2px rgba(60, 64, 67, 0.3), 0 1px 3px 1px rgba(60, 64, 67, 0.15);\n",
              "    fill: var(--button-hover-fill-color);\n",
              "  }\n",
              "\n",
              "  .colab-df-quickchart-complete:disabled,\n",
              "  .colab-df-quickchart-complete:disabled:hover {\n",
              "    background-color: var(--disabled-bg-color);\n",
              "    fill: var(--disabled-fill-color);\n",
              "    box-shadow: none;\n",
              "  }\n",
              "\n",
              "  .colab-df-spinner {\n",
              "    border: 2px solid var(--fill-color);\n",
              "    border-color: transparent;\n",
              "    border-bottom-color: var(--fill-color);\n",
              "    animation:\n",
              "      spin 1s steps(1) infinite;\n",
              "  }\n",
              "\n",
              "  @keyframes spin {\n",
              "    0% {\n",
              "      border-color: transparent;\n",
              "      border-bottom-color: var(--fill-color);\n",
              "      border-left-color: var(--fill-color);\n",
              "    }\n",
              "    20% {\n",
              "      border-color: transparent;\n",
              "      border-left-color: var(--fill-color);\n",
              "      border-top-color: var(--fill-color);\n",
              "    }\n",
              "    30% {\n",
              "      border-color: transparent;\n",
              "      border-left-color: var(--fill-color);\n",
              "      border-top-color: var(--fill-color);\n",
              "      border-right-color: var(--fill-color);\n",
              "    }\n",
              "    40% {\n",
              "      border-color: transparent;\n",
              "      border-right-color: var(--fill-color);\n",
              "      border-top-color: var(--fill-color);\n",
              "    }\n",
              "    60% {\n",
              "      border-color: transparent;\n",
              "      border-right-color: var(--fill-color);\n",
              "    }\n",
              "    80% {\n",
              "      border-color: transparent;\n",
              "      border-right-color: var(--fill-color);\n",
              "      border-bottom-color: var(--fill-color);\n",
              "    }\n",
              "    90% {\n",
              "      border-color: transparent;\n",
              "      border-bottom-color: var(--fill-color);\n",
              "    }\n",
              "  }\n",
              "</style>\n",
              "\n",
              "  <script>\n",
              "    async function quickchart(key) {\n",
              "      const quickchartButtonEl =\n",
              "        document.querySelector('#' + key + ' button');\n",
              "      quickchartButtonEl.disabled = true;  // To prevent multiple clicks.\n",
              "      quickchartButtonEl.classList.add('colab-df-spinner');\n",
              "      try {\n",
              "        const charts = await google.colab.kernel.invokeFunction(\n",
              "            'suggestCharts', [key], {});\n",
              "      } catch (error) {\n",
              "        console.error('Error during call to suggestCharts:', error);\n",
              "      }\n",
              "      quickchartButtonEl.classList.remove('colab-df-spinner');\n",
              "      quickchartButtonEl.classList.add('colab-df-quickchart-complete');\n",
              "    }\n",
              "    (() => {\n",
              "      let quickchartButtonEl =\n",
              "        document.querySelector('#df-426f2960-acc3-4581-b089-a63396424b3a button');\n",
              "      quickchartButtonEl.style.display =\n",
              "        google.colab.kernel.accessAllowed ? 'block' : 'none';\n",
              "    })();\n",
              "  </script>\n",
              "</div>\n",
              "\n",
              "  <div id=\"id_442afb7d-bf41-476f-9f15-8311fbe06cee\">\n",
              "    <style>\n",
              "      .colab-df-generate {\n",
              "        background-color: #E8F0FE;\n",
              "        border: none;\n",
              "        border-radius: 50%;\n",
              "        cursor: pointer;\n",
              "        display: none;\n",
              "        fill: #1967D2;\n",
              "        height: 32px;\n",
              "        padding: 0 0 0 0;\n",
              "        width: 32px;\n",
              "      }\n",
              "\n",
              "      .colab-df-generate:hover {\n",
              "        background-color: #E2EBFA;\n",
              "        box-shadow: 0px 1px 2px rgba(60, 64, 67, 0.3), 0px 1px 3px 1px rgba(60, 64, 67, 0.15);\n",
              "        fill: #174EA6;\n",
              "      }\n",
              "\n",
              "      [theme=dark] .colab-df-generate {\n",
              "        background-color: #3B4455;\n",
              "        fill: #D2E3FC;\n",
              "      }\n",
              "\n",
              "      [theme=dark] .colab-df-generate:hover {\n",
              "        background-color: #434B5C;\n",
              "        box-shadow: 0px 1px 3px 1px rgba(0, 0, 0, 0.15);\n",
              "        filter: drop-shadow(0px 1px 2px rgba(0, 0, 0, 0.3));\n",
              "        fill: #FFFFFF;\n",
              "      }\n",
              "    </style>\n",
              "    <button class=\"colab-df-generate\" onclick=\"generateWithVariable('price_train')\"\n",
              "            title=\"Generate code using this dataframe.\"\n",
              "            style=\"display:none;\">\n",
              "\n",
              "  <svg xmlns=\"http://www.w3.org/2000/svg\" height=\"24px\"viewBox=\"0 0 24 24\"\n",
              "       width=\"24px\">\n",
              "    <path d=\"M7,19H8.4L18.45,9,17,7.55,7,17.6ZM5,21V16.75L18.45,3.32a2,2,0,0,1,2.83,0l1.4,1.43a1.91,1.91,0,0,1,.58,1.4,1.91,1.91,0,0,1-.58,1.4L9.25,21ZM18.45,9,17,7.55Zm-12,3A5.31,5.31,0,0,0,4.9,8.1,5.31,5.31,0,0,0,1,6.5,5.31,5.31,0,0,0,4.9,4.9,5.31,5.31,0,0,0,6.5,1,5.31,5.31,0,0,0,8.1,4.9,5.31,5.31,0,0,0,12,6.5,5.46,5.46,0,0,0,6.5,12Z\"/>\n",
              "  </svg>\n",
              "    </button>\n",
              "    <script>\n",
              "      (() => {\n",
              "      const buttonEl =\n",
              "        document.querySelector('#id_442afb7d-bf41-476f-9f15-8311fbe06cee button.colab-df-generate');\n",
              "      buttonEl.style.display =\n",
              "        google.colab.kernel.accessAllowed ? 'block' : 'none';\n",
              "\n",
              "      buttonEl.onclick = () => {\n",
              "        google.colab.notebook.generateWithVariable('price_train');\n",
              "      }\n",
              "      })();\n",
              "    </script>\n",
              "  </div>\n",
              "\n",
              "    </div>\n",
              "  </div>\n"
            ],
            "application/vnd.google.colaboratory.intrinsic+json": {
              "type": "dataframe",
              "variable_name": "price_train",
              "summary": "{\n  \"name\": \"price_train\",\n  \"rows\": 991,\n  \"fields\": [\n    {\n      \"column\": \"Close\",\n      \"properties\": {\n        \"dtype\": \"number\",\n        \"std\": 0.4409835556116085,\n        \"min\": -0.9999999999999998,\n        \"max\": 1.0000000000000004,\n        \"num_unique_values\": 987,\n        \"samples\": [\n          -0.0005327914162269742,\n          -0.5029025759534482,\n          0.4307353238365508\n        ],\n        \"semantic_type\": \"\",\n        \"description\": \"\"\n      }\n    }\n  ]\n}"
            }
          },
          "metadata": {},
          "execution_count": 85
        }
      ]
    },
    {
      "cell_type": "markdown",
      "source": [
        "#Prepare Historical Dataset for LSTM training and testing"
      ],
      "metadata": {
        "id": "0nCmdnHuNvsZ"
      }
    },
    {
      "cell_type": "markdown",
      "source": [
        "create a dataset that has historical value upto a week before, leading up to the current price"
      ],
      "metadata": {
        "id": "w4iPYXkPC14s"
      }
    },
    {
      "cell_type": "code",
      "source": [
        "lookback = 7\n",
        "X, y, X_test, y_test = split_data(price_train,price_test, lookback)\n",
        "print('x_train.shape = ',X.shape)\n",
        "print('y_train.shape = ',y.shape)\n",
        "print('x_test.shape = ',X_test.shape)\n",
        "print('y_test.shape = ',y_test.shape)"
      ],
      "metadata": {
        "colab": {
          "base_uri": "https://localhost:8080/"
        },
        "id": "7YbVaSBDHBU5",
        "outputId": "e8837f15-f598-41d5-cbff-dbaee1f5dae6"
      },
      "execution_count": 86,
      "outputs": [
        {
          "output_type": "stream",
          "name": "stdout",
          "text": [
            "x_train.shape =  (984, 6, 1)\n",
            "y_train.shape =  (984, 1)\n",
            "x_test.shape =  (44, 6, 1)\n",
            "y_test.shape =  (44, 1)\n"
          ]
        }
      ]
    },
    {
      "cell_type": "markdown",
      "source": [
        "#Split into train-val"
      ],
      "metadata": {
        "id": "TfYhnMUeGfSB"
      }
    },
    {
      "cell_type": "code",
      "source": [
        "split_index = int(len(X) * 0.95)\n",
        "\n",
        "X_train = X[:split_index]\n",
        "X_val = X[split_index:]\n",
        "\n",
        "y_train = y[:split_index]\n",
        "y_val = y[split_index:]\n",
        "\n",
        "X_train.shape, X_val.shape, y_train.shape, y_val.shape"
      ],
      "metadata": {
        "colab": {
          "base_uri": "https://localhost:8080/"
        },
        "id": "H8Pj0hVcGejr",
        "outputId": "c7c136d3-348b-4185-b513-f46307e81882"
      },
      "execution_count": 87,
      "outputs": [
        {
          "output_type": "execute_result",
          "data": {
            "text/plain": [
              "((934, 6, 1), (50, 6, 1), (934, 1), (50, 1))"
            ]
          },
          "metadata": {},
          "execution_count": 87
        }
      ]
    },
    {
      "cell_type": "markdown",
      "source": [
        "#Make torch tensors, make a Dataset and wrap in Data loaders"
      ],
      "metadata": {
        "id": "ylOQ399VOJIU"
      }
    },
    {
      "cell_type": "markdown",
      "source": [
        "Wrap in torch tensors"
      ],
      "metadata": {
        "id": "ZZvalhyoDdc4"
      }
    },
    {
      "cell_type": "code",
      "source": [
        "X_train = torch.tensor(X_train).float()\n",
        "y_train = torch.tensor(y_train).float()\n",
        "X_val = torch.tensor(X_val).float()\n",
        "y_val = torch.tensor(y_val).float()\n",
        "\n",
        "X_train.shape, X_val.shape, y_train.shape, y_val.shape"
      ],
      "metadata": {
        "colab": {
          "base_uri": "https://localhost:8080/"
        },
        "id": "baSlLLOtCUSg",
        "outputId": "2c148879-1b1f-4280-ac37-83ff08c6343f"
      },
      "execution_count": 88,
      "outputs": [
        {
          "output_type": "execute_result",
          "data": {
            "text/plain": [
              "(torch.Size([934, 6, 1]),\n",
              " torch.Size([50, 6, 1]),\n",
              " torch.Size([934, 1]),\n",
              " torch.Size([50, 1]))"
            ]
          },
          "metadata": {},
          "execution_count": 88
        }
      ]
    },
    {
      "cell_type": "code",
      "source": [
        "X_test = torch.tensor(X_test).float()\n",
        "y_test = torch.tensor(y_test).float()\n",
        "\n",
        "X_test.shape, y_test.shape"
      ],
      "metadata": {
        "colab": {
          "base_uri": "https://localhost:8080/"
        },
        "id": "bYb4Gg9nd_MJ",
        "outputId": "19cbe033-ad0c-4bcd-cd0f-b642f44aebf4"
      },
      "execution_count": 89,
      "outputs": [
        {
          "output_type": "execute_result",
          "data": {
            "text/plain": [
              "(torch.Size([44, 6, 1]), torch.Size([44, 1]))"
            ]
          },
          "metadata": {},
          "execution_count": 89
        }
      ]
    },
    {
      "cell_type": "markdown",
      "source": [
        "Make a torch dataset"
      ],
      "metadata": {
        "id": "bhaR-0uODzZl"
      }
    },
    {
      "cell_type": "code",
      "source": [
        "train_dataset = TimeSeriesDataset(X_train, y_train)\n",
        "val_dataset = TimeSeriesDataset(X_val, y_val)\n",
        "unseen_dataset = TimeSeriesDataset(X_test, y_test)"
      ],
      "metadata": {
        "id": "trCLgPr7DmRv"
      },
      "execution_count": 90,
      "outputs": []
    },
    {
      "cell_type": "code",
      "source": [
        "train_dataset"
      ],
      "metadata": {
        "colab": {
          "base_uri": "https://localhost:8080/"
        },
        "id": "JHvpaStQDmV4",
        "outputId": "68ac66b6-9568-4381-cbb8-6038969f4715"
      },
      "execution_count": 91,
      "outputs": [
        {
          "output_type": "execute_result",
          "data": {
            "text/plain": [
              "<__main__.TimeSeriesDataset at 0x78259ce4d810>"
            ]
          },
          "metadata": {},
          "execution_count": 91
        }
      ]
    },
    {
      "cell_type": "markdown",
      "source": [
        "Wrap dataset in data loaders"
      ],
      "metadata": {
        "id": "GQEcHFBCELdD"
      }
    },
    {
      "cell_type": "code",
      "source": [
        "batch_size = 16\n",
        "\n",
        "train_loader = DataLoader(train_dataset, batch_size=batch_size, shuffle=True)\n",
        "val_loader = DataLoader(val_dataset, batch_size=batch_size, shuffle=False)\n",
        "unseen_loader = DataLoader(unseen_dataset, batch_size=batch_size, shuffle=False)"
      ],
      "metadata": {
        "id": "bIc01aodDmam"
      },
      "execution_count": 92,
      "outputs": []
    },
    {
      "cell_type": "markdown",
      "source": [
        "ex-visualisation"
      ],
      "metadata": {
        "id": "Tq3LAvJhEwu-"
      }
    },
    {
      "cell_type": "code",
      "source": [
        "for _, batch in enumerate(train_loader):\n",
        "    x_batch, y_batch = batch[0].to(device), batch[1].to(device)\n",
        "    print(x_batch.shape, y_batch.shape)\n",
        "    break"
      ],
      "metadata": {
        "colab": {
          "base_uri": "https://localhost:8080/"
        },
        "id": "SPuVe7RqDmdw",
        "outputId": "7e40263b-48f9-478f-eb5a-29fda194b6ee"
      },
      "execution_count": 93,
      "outputs": [
        {
          "output_type": "stream",
          "name": "stdout",
          "text": [
            "torch.Size([16, 6, 1]) torch.Size([16, 1])\n"
          ]
        }
      ]
    },
    {
      "cell_type": "markdown",
      "source": [
        "#LSTM"
      ],
      "metadata": {
        "id": "FNaaKaJ2Ode_"
      }
    },
    {
      "cell_type": "markdown",
      "source": [
        "LSTM"
      ],
      "metadata": {
        "id": "TCyP3PcBE4Yz"
      }
    },
    {
      "cell_type": "code",
      "source": [
        "#{'target': -0.00031288916943594813, 'params': {'dropout': 0.07005308235902165, 'learning_rate': 0.019810148908487882}}"
      ],
      "metadata": {
        "id": "IVXm_KgurUzm"
      },
      "execution_count": 179,
      "outputs": []
    },
    {
      "cell_type": "code",
      "source": [
        "class LSTM(nn.Module):\n",
        "    def __init__(self, input_size, hidden_size, num_stacked_layers, dropout):\n",
        "        super().__init__()\n",
        "        self.hidden_size = hidden_size\n",
        "        self.num_stacked_layers = num_stacked_layers\n",
        "        self.dropout = dropout\n",
        "\n",
        "        self.lstm = nn.LSTM(input_size, hidden_size, num_stacked_layers, batch_first=True, dropout=self.dropout if num_stacked_layers > 1 else 0)\n",
        "        # Apply dropout only if there are more than one stacked layer\n",
        "\n",
        "        self.fc = nn.Linear(hidden_size, 1)\n",
        "\n",
        "    def forward(self, x):\n",
        "        batch_size = x.size(0)\n",
        "        h0 = torch.zeros(self.num_stacked_layers, batch_size, self.hidden_size).to(x.device)\n",
        "        c0 = torch.zeros(self.num_stacked_layers, batch_size, self.hidden_size).to(x.device)\n",
        "\n",
        "        out, _ = self.lstm(x, (h0, c0))\n",
        "\n",
        "        out = self.fc(out[:, -1, :])\n",
        "        return out\n",
        "\n",
        "model = LSTM(1,4,2,0) #lstm with 4 hidden layers\n",
        "model.to(device)\n",
        "model"
      ],
      "metadata": {
        "colab": {
          "base_uri": "https://localhost:8080/"
        },
        "id": "zUZQHCulEg-E",
        "outputId": "7d3545b7-ec5e-478a-c4aa-bf645abf24ac"
      },
      "execution_count": 397,
      "outputs": [
        {
          "output_type": "execute_result",
          "data": {
            "text/plain": [
              "LSTM(\n",
              "  (lstm): LSTM(1, 4, num_layers=2, batch_first=True)\n",
              "  (fc): Linear(in_features=4, out_features=1, bias=True)\n",
              ")"
            ]
          },
          "metadata": {},
          "execution_count": 397
        }
      ]
    },
    {
      "cell_type": "code",
      "source": [
        "# train_loss = []\n",
        "def train_one_epoch():\n",
        "    model.train(True)\n",
        "    print(f'Epoch: {epoch + 1}')\n",
        "    running_loss = 0.0\n",
        "\n",
        "    for batch_index, batch in enumerate(train_loader):\n",
        "        x_batch, y_batch = batch[0].to(device), batch[1].to(device)   #extracts the input features (x_batch) and target labels (y_batch) from the batch\n",
        "        x_batch = x_batch.float()\n",
        "        y_batch = y_batch.float()\n",
        "        model.to(torch.float32)\n",
        "\n",
        "        output = model(x_batch)\n",
        "        loss = loss_function(output, y_batch)\n",
        "        running_loss += loss.item()\n",
        "\n",
        "        optimizer.zero_grad()\n",
        "        loss.backward()\n",
        "        optimizer.step()\n",
        "\n",
        "        if batch_index % 100 == 99:  # print every 100 batches\n",
        "            avg_loss_across_batches = running_loss / 100\n",
        "            print('Batch {0}, Loss: {1:.3f}'.format(batch_index+1,avg_loss_across_batches))\n",
        "            running_loss = 0.0\n",
        "    avg_loss_across_batches_b = running_loss / len(train_loader)\n",
        "    # print('Batch Loss: {0:.3f}'.format(avg_loss_across_batches_b))\n",
        "    # train_loss.append(avg_loss_across_batches_b)\n",
        "\n",
        "    print()"
      ],
      "metadata": {
        "id": "RFI8dx8_ILMg"
      },
      "execution_count": 398,
      "outputs": []
    },
    {
      "cell_type": "code",
      "source": [
        "val_loss=[]\n",
        "def validate_one_epoch():\n",
        "    model.train(False)\n",
        "    running_loss = 0.0\n",
        "\n",
        "    for batch_index, batch in enumerate(val_loader):\n",
        "        x_batch, y_batch = batch[0].to(device), batch[1].to(device)\n",
        "        x_batch = x_batch.float()\n",
        "        y_batch = y_batch.float()\n",
        "        model.to(torch.float32)\n",
        "        #no gradients since no updates\n",
        "        with torch.no_grad():\n",
        "            output = model(x_batch)\n",
        "            loss = loss_function(output, y_batch)\n",
        "            running_loss += loss.item()\n",
        "\n",
        "    avg_loss_across_batches = running_loss\n",
        "    val_loss.append(avg_loss_across_batches)\n",
        "    print('Val Loss: {0:.3f}'.format(avg_loss_across_batches))\n",
        "    print('***************************************************')\n",
        "    print()"
      ],
      "metadata": {
        "id": "M5zZGPToITdS"
      },
      "execution_count": 399,
      "outputs": []
    },
    {
      "cell_type": "code",
      "source": [
        "  learning_rate = 0.01\n",
        "  num_epochs = 25\n",
        "  loss_function = nn.MSELoss()\n",
        "  optimizer = torch.optim.Adam(model.parameters(), lr=learning_rate)\n",
        "\n",
        "  for epoch in range(num_epochs):\n",
        "      train_one_epoch()\n",
        "      validate_one_epoch()"
      ],
      "metadata": {
        "colab": {
          "base_uri": "https://localhost:8080/"
        },
        "id": "esTriMfYpVYU",
        "outputId": "11ea0476-350b-48c9-abd1-e6f2ce81a8ba"
      },
      "execution_count": 400,
      "outputs": [
        {
          "output_type": "stream",
          "name": "stdout",
          "text": [
            "Epoch: 1\n",
            "\n",
            "Val Loss: 0.652\n",
            "***************************************************\n",
            "\n",
            "Epoch: 2\n",
            "\n",
            "Val Loss: 0.191\n",
            "***************************************************\n",
            "\n",
            "Epoch: 3\n",
            "\n",
            "Val Loss: 0.048\n",
            "***************************************************\n",
            "\n",
            "Epoch: 4\n",
            "\n",
            "Val Loss: 0.044\n",
            "***************************************************\n",
            "\n",
            "Epoch: 5\n",
            "\n",
            "Val Loss: 0.030\n",
            "***************************************************\n",
            "\n",
            "Epoch: 6\n",
            "\n",
            "Val Loss: 0.024\n",
            "***************************************************\n",
            "\n",
            "Epoch: 7\n",
            "\n",
            "Val Loss: 0.016\n",
            "***************************************************\n",
            "\n",
            "Epoch: 8\n",
            "\n",
            "Val Loss: 0.017\n",
            "***************************************************\n",
            "\n",
            "Epoch: 9\n",
            "\n",
            "Val Loss: 0.016\n",
            "***************************************************\n",
            "\n",
            "Epoch: 10\n",
            "\n",
            "Val Loss: 0.024\n",
            "***************************************************\n",
            "\n",
            "Epoch: 11\n",
            "\n",
            "Val Loss: 0.021\n",
            "***************************************************\n",
            "\n",
            "Epoch: 12\n",
            "\n",
            "Val Loss: 0.017\n",
            "***************************************************\n",
            "\n",
            "Epoch: 13\n",
            "\n",
            "Val Loss: 0.026\n",
            "***************************************************\n",
            "\n",
            "Epoch: 14\n",
            "\n",
            "Val Loss: 0.017\n",
            "***************************************************\n",
            "\n",
            "Epoch: 15\n",
            "\n",
            "Val Loss: 0.024\n",
            "***************************************************\n",
            "\n",
            "Epoch: 16\n",
            "\n",
            "Val Loss: 0.031\n",
            "***************************************************\n",
            "\n",
            "Epoch: 17\n",
            "\n",
            "Val Loss: 0.018\n",
            "***************************************************\n",
            "\n",
            "Epoch: 18\n",
            "\n",
            "Val Loss: 0.025\n",
            "***************************************************\n",
            "\n",
            "Epoch: 19\n",
            "\n",
            "Val Loss: 0.011\n",
            "***************************************************\n",
            "\n",
            "Epoch: 20\n",
            "\n",
            "Val Loss: 0.020\n",
            "***************************************************\n",
            "\n",
            "Epoch: 21\n",
            "\n",
            "Val Loss: 0.019\n",
            "***************************************************\n",
            "\n",
            "Epoch: 22\n",
            "\n",
            "Val Loss: 0.021\n",
            "***************************************************\n",
            "\n",
            "Epoch: 23\n",
            "\n",
            "Val Loss: 0.011\n",
            "***************************************************\n",
            "\n",
            "Epoch: 24\n",
            "\n",
            "Val Loss: 0.022\n",
            "***************************************************\n",
            "\n",
            "Epoch: 25\n",
            "\n",
            "Val Loss: 0.010\n",
            "***************************************************\n",
            "\n"
          ]
        }
      ]
    },
    {
      "cell_type": "code",
      "source": [
        "epochs = np.arange(num_epochs)\n",
        "plt.figure(figsize=(10,5))\n",
        "plt.plot(epochs, val_loss, color = '#f46a9b', linewidth=2, label = 'Validation  Loss')\n",
        "plt.title('Error Loss')\n",
        "plt.xlabel('Epoch')\n",
        "plt.ylabel('Loss')\n",
        "plt.legend()\n",
        "plt.show()"
      ],
      "metadata": {
        "colab": {
          "base_uri": "https://localhost:8080/",
          "height": 487
        },
        "id": "NTtkxdftjZw-",
        "outputId": "092760b7-b6e8-49cc-c7cd-293133eb1ffb"
      },
      "execution_count": 401,
      "outputs": [
        {
          "output_type": "display_data",
          "data": {
            "text/plain": [
              "<Figure size 1000x500 with 1 Axes>"
            ],
            "image/png": "[encoded data removed]"
          },
          "metadata": {}
        }
      ]
    },
    {
      "cell_type": "code",
      "source": [
        "from torchviz import make_dot\n",
        "\n",
        "y = model(X_train)"
      ],
      "metadata": {
        "id": "lwyB1U-8HYuA"
      },
      "execution_count": 402,
      "outputs": []
    },
    {
      "cell_type": "code",
      "source": [
        "make_dot(y.mean(), params=dict(model.named_parameters())).render(\"lstm_Bayesian\", format=\"png\")"
      ],
      "metadata": {
        "colab": {
          "base_uri": "https://localhost:8080/",
          "height": 35
        },
        "id": "xXLtzqHlJvNy",
        "outputId": "29fd2721-43b1-44e6-e53a-66934c67c28e"
      },
      "execution_count": 351,
      "outputs": [
        {
          "output_type": "execute_result",
          "data": {
            "text/plain": [
              "'lstm_Bayesian.png'"
            ],
            "application/vnd.google.colaboratory.intrinsic+json": {
              "type": "string"
            }
          },
          "metadata": {},
          "execution_count": 351
        }
      ]
    },
    {
      "cell_type": "markdown",
      "source": [
        "#Training Predictions"
      ],
      "metadata": {
        "id": "PwlFdvBmP8-c"
      }
    },
    {
      "cell_type": "code",
      "source": [
        "with torch.no_grad():\n",
        "  predicted = model(X_train.to(device)).detach().cpu().numpy().flatten()"
      ],
      "metadata": {
        "id": "kKQ9Z0B_jXKF"
      },
      "execution_count": 403,
      "outputs": []
    },
    {
      "cell_type": "code",
      "source": [
        "plt.plot(y_train, label='Actual Close',color = '#27aeef')\n",
        "plt.plot(predicted, label='Predicted Close',color = '#f46a9b')\n",
        "plt.xlabel('Day')\n",
        "plt.ylabel('Close')\n",
        "plt.legend()\n",
        "plt.show()"
      ],
      "metadata": {
        "colab": {
          "base_uri": "https://localhost:8080/",
          "height": 449
        },
        "id": "iV2eX6TwP2Nn",
        "outputId": "0523e33a-0b8e-4db0-9fdd-b160ce3109ef"
      },
      "execution_count": 404,
      "outputs": [
        {
          "output_type": "display_data",
          "data": {
            "text/plain": [
              "<Figure size 640x480 with 1 Axes>"
            ],
            "image/png": "[encoded data removed]"
          },
          "metadata": {}
        }
      ]
    },
    {
      "cell_type": "code",
      "source": [
        "train_predictions = predicted\n",
        "\n",
        "dummies = np.zeros((X_train.shape[0], lookback+1))\n",
        "dummies[:, 0] = train_predictions\n",
        "dummies = scaler.inverse_transform(dummies)\n",
        "\n",
        "train_predictions = dc(dummies[:, 0])\n",
        "# train_predictions"
      ],
      "metadata": {
        "id": "WkxScz5hM9ud"
      },
      "execution_count": 405,
      "outputs": []
    },
    {
      "cell_type": "code",
      "source": [
        "dummies = np.zeros((X_train.shape[0], lookback+1))\n",
        "dummies[:, 0] = y_train.flatten()\n",
        "dummies = scaler.inverse_transform(dummies)\n",
        "\n",
        "new_y_train = dc(dummies[:, 0])\n",
        "# new_y_train"
      ],
      "metadata": {
        "id": "PU57pAGPNosU"
      },
      "execution_count": 406,
      "outputs": []
    },
    {
      "cell_type": "code",
      "source": [
        "plt.plot(new_y_train, label='Actual Close',color = '#27aeef')\n",
        "plt.plot(train_predictions, label='Predicted Close',color = '#f46a9b')\n",
        "plt.xlabel('Day')\n",
        "plt.ylabel('Close')\n",
        "plt.title(\"Train Predictions for NIFTY\")\n",
        "plt.legend()\n",
        "plt.show()"
      ],
      "metadata": {
        "colab": {
          "base_uri": "https://localhost:8080/",
          "height": 472
        },
        "id": "CHyxM3O9Npg5",
        "outputId": "095adc32-1c9b-4dd5-c739-68d9bce964e7"
      },
      "execution_count": 407,
      "outputs": [
        {
          "output_type": "display_data",
          "data": {
            "text/plain": [
              "<Figure size 640x480 with 1 Axes>"
            ],
            "image/png": "[encoded data removed]"
          },
          "metadata": {}
        }
      ]
    },
    {
      "cell_type": "code",
      "source": [
        "train_predictions.shape"
      ],
      "metadata": {
        "colab": {
          "base_uri": "https://localhost:8080/"
        },
        "id": "dUPB1DZUI2rY",
        "outputId": "57bfb550-7420-49a4-ee56-e464bdb1dfe0"
      },
      "execution_count": 408,
      "outputs": [
        {
          "output_type": "execute_result",
          "data": {
            "text/plain": [
              "(934,)"
            ]
          },
          "metadata": {},
          "execution_count": 408
        }
      ]
    },
    {
      "cell_type": "code",
      "source": [
        "new_y_train.shape"
      ],
      "metadata": {
        "colab": {
          "base_uri": "https://localhost:8080/"
        },
        "id": "6jFE8n7aJIAB",
        "outputId": "125d3719-ac69-4764-ed91-84869e8e23ce"
      },
      "execution_count": 409,
      "outputs": [
        {
          "output_type": "execute_result",
          "data": {
            "text/plain": [
              "(934,)"
            ]
          },
          "metadata": {},
          "execution_count": 409
        }
      ]
    },
    {
      "cell_type": "code",
      "source": [
        "rmse = np.sqrt(np.mean((train_predictions - new_y_train)**2))\n",
        "print(f\"Score (RMSE): {rmse:.4f}\")"
      ],
      "metadata": {
        "colab": {
          "base_uri": "https://localhost:8080/"
        },
        "id": "1o-_U07fIlPM",
        "outputId": "8db149bd-7e3a-4fd7-dcdf-b39329ad1cb5"
      },
      "execution_count": 410,
      "outputs": [
        {
          "output_type": "stream",
          "name": "stdout",
          "text": [
            "Score (RMSE): 15.6278\n"
          ]
        }
      ]
    },
    {
      "cell_type": "markdown",
      "source": [
        "#Validation Predictions"
      ],
      "metadata": {
        "id": "47mjG2PhQPiQ"
      }
    },
    {
      "cell_type": "code",
      "source": [
        "X_val.shape"
      ],
      "metadata": {
        "colab": {
          "base_uri": "https://localhost:8080/"
        },
        "id": "eFpqGlC0J5ih",
        "outputId": "8d29b91a-4ba2-4869-8f95-83abb9df99eb"
      },
      "execution_count": 411,
      "outputs": [
        {
          "output_type": "execute_result",
          "data": {
            "text/plain": [
              "torch.Size([50, 6, 1])"
            ]
          },
          "metadata": {},
          "execution_count": 411
        }
      ]
    },
    {
      "cell_type": "code",
      "source": [
        "val_predictions = model(X_val.to(device)).detach().cpu().numpy().flatten()\n",
        "\n",
        "dummies = np.zeros((X_val.shape[0], lookback+1))\n",
        "dummies[:, 0] = val_predictions\n",
        "dummies = scaler.inverse_transform(dummies)\n",
        "\n",
        "val_predictions = dc(dummies[:, 0])\n",
        "val_predictions"
      ],
      "metadata": {
        "colab": {
          "base_uri": "https://localhost:8080/"
        },
        "id": "rP-yghxKpj9I",
        "outputId": "fb36dc7a-4771-4b26-ff15-0aea5db0f7c8"
      },
      "execution_count": 412,
      "outputs": [
        {
          "output_type": "execute_result",
          "data": {
            "text/plain": [
              "array([22314.48705376, 22313.51090867, 22317.58862539, 22311.35377162,\n",
              "       22307.21876658, 22301.52276703, 22285.41831758, 22271.6735336 ,\n",
              "       22251.57445792, 22257.17693391, 22262.52236036, 22259.36338823,\n",
              "       22253.46508463, 22260.86096172, 22268.22871818, 22280.13313361,\n",
              "       22283.01404051, 22286.54131073, 22285.49793039, 22287.27798167,\n",
              "       22288.82499065, 22301.60761507, 22309.61403158, 22310.61313687,\n",
              "       22309.76173971, 22314.62425405, 22317.5656278 , 22317.94192829,\n",
              "       22317.82495841, 22322.74734128, 22334.3641185 , 22339.59564141,\n",
              "       22348.17385667, 22369.98724415, 22384.40886793, 22393.9766155 ,\n",
              "       22397.14519801, 22402.1647691 , 22405.5110875 , 22403.25665005,\n",
              "       22403.38992392, 22413.03859311, 22426.1922454 , 22430.05116712,\n",
              "       22433.85983067, 22425.353338  , 22426.67306342, 22429.69491006,\n",
              "       22433.5151285 , 22442.19565501])"
            ]
          },
          "metadata": {},
          "execution_count": 412
        }
      ]
    },
    {
      "cell_type": "code",
      "source": [
        "dummies = np.zeros((X_val.shape[0], lookback+1))\n",
        "dummies[:, 0] = y_val.flatten()\n",
        "dummies = scaler.inverse_transform(dummies)\n",
        "\n",
        "new_y_val = dc(dummies[:, 0])\n",
        "new_y_val"
      ],
      "metadata": {
        "colab": {
          "base_uri": "https://localhost:8080/"
        },
        "id": "kpMlkvZSpyy1",
        "outputId": "17f84004-4b19-4201-bb42-d9c2865b8acf"
      },
      "execution_count": 413,
      "outputs": [
        {
          "output_type": "execute_result",
          "data": {
            "text/plain": [
              "array([22312.27408677, 22319.3367044 , 22306.90293293, 22302.79373007,\n",
              "       22295.52753698, 22272.42235774, 22258.28829738, 22234.82884299,\n",
              "       22251.65515517, 22259.94879856, 22254.52001985, 22246.50990129,\n",
              "       22259.27124827, 22267.89250455, 22283.93506616, 22283.48779098,\n",
              "       22286.7468307 , 22282.47832742, 22285.13942967, 22286.75131804,\n",
              "       22307.28813331, 22315.23632663, 22312.27857411, 22308.9309843 ,\n",
              "       22316.84821501, 22319.36766702, 22318.49540375, 22317.84885347,\n",
              "       22326.26197217, 22344.58496038, 22347.82189997, 22359.75525872,\n",
              "       22396.85284809, 22411.75730919, 22419.07230206, 22415.83554944,\n",
              "       22421.87972884, 22424.33276828, 22416.30047481, 22418.06717626,\n",
              "       22440.76935536, 22465.0303227 , 22461.66504531, 22464.71587265,\n",
              "       22437.8868405 , 22447.17678459, 22455.53231581, 22463.6752969 ,\n",
              "       22482.5738981 , 22493.55078125])"
            ]
          },
          "metadata": {},
          "execution_count": 413
        }
      ]
    },
    {
      "cell_type": "code",
      "source": [
        "plt.figure(figsize=(15,7))\n",
        "plt.plot(new_y_val, label='Actual Close',color = '#27aeef')\n",
        "plt.plot(val_predictions, label='Predicted Close',color = '#f46a9b')\n",
        "plt.xlabel('Day')\n",
        "plt.ylabel('Close')\n",
        "plt.title(\"Validation Predictions for NIFTY\")\n",
        "plt.legend()\n",
        "plt.show()"
      ],
      "metadata": {
        "colab": {
          "base_uri": "https://localhost:8080/",
          "height": 602
        },
        "id": "NWwzolvUp4Sm",
        "outputId": "082f2c1c-0997-467f-a53f-2b312116c41f"
      },
      "execution_count": 414,
      "outputs": [
        {
          "output_type": "display_data",
          "data": {
            "text/plain": [
              "<Figure size 1500x700 with 1 Axes>"
            ],
            "image/png": "[encoded data removed]"
          },
          "metadata": {}
        }
      ]
    },
    {
      "cell_type": "code",
      "source": [
        "rmse = np.sqrt(np.mean((val_predictions - new_y_val)**2))\n",
        "print(f\"Score (RMSE): {rmse:.4f}\")"
      ],
      "metadata": {
        "colab": {
          "base_uri": "https://localhost:8080/"
        },
        "id": "dTNoImu9JvJf",
        "outputId": "4d137f11-dc10-4ba9-9c65-5122983f951f"
      },
      "execution_count": 415,
      "outputs": [
        {
          "output_type": "stream",
          "name": "stdout",
          "text": [
            "Score (RMSE): 23.2272\n"
          ]
        }
      ]
    },
    {
      "cell_type": "code",
      "source": [
        "newdf=pd.DataFrame()\n",
        "newdf[\"Actual\"]=new_y_val\n",
        "newdf[\"Predicted\"]=val_predictions\n",
        "newdf[\"Difference\"]=newdf[\"Actual\"]-newdf[\"Predicted\"]"
      ],
      "metadata": {
        "id": "PHaBS9EIvzCf"
      },
      "execution_count": 416,
      "outputs": []
    },
    {
      "cell_type": "code",
      "source": [
        "newdf"
      ],
      "metadata": {
        "colab": {
          "base_uri": "https://localhost:8080/",
          "height": 1000
        },
        "id": "carYZQiGwMNY",
        "outputId": "d18c4538-4838-411b-83e3-be4ad579e5e4"
      },
      "execution_count": 417,
      "outputs": [
        {
          "output_type": "execute_result",
          "data": {
            "text/plain": [
              "          Actual     Predicted  Difference\n",
              "0   22312.274087  22314.487054   -2.212967\n",
              "1   22319.336704  22313.510909    5.825796\n",
              "2   22306.902933  22317.588625  -10.685692\n",
              "3   22302.793730  22311.353772   -8.560042\n",
              "4   22295.527537  22307.218767  -11.691230\n",
              "5   22272.422358  22301.522767  -29.100409\n",
              "6   22258.288297  22285.418318  -27.130020\n",
              "7   22234.828843  22271.673534  -36.844691\n",
              "8   22251.655155  22251.574458    0.080697\n",
              "9   22259.948799  22257.176934    2.771865\n",
              "10  22254.520020  22262.522360   -8.002341\n",
              "11  22246.509901  22259.363388  -12.853487\n",
              "12  22259.271248  22253.465085    5.806164\n",
              "13  22267.892505  22260.860962    7.031543\n",
              "14  22283.935066  22268.228718   15.706348\n",
              "15  22283.487791  22280.133134    3.354657\n",
              "16  22286.746831  22283.014041    3.732790\n",
              "17  22282.478327  22286.541311   -4.062983\n",
              "18  22285.139430  22285.497930   -0.358501\n",
              "19  22286.751318  22287.277982   -0.526664\n",
              "20  22307.288133  22288.824991   18.463143\n",
              "21  22315.236327  22301.607615   13.628712\n",
              "22  22312.278574  22309.614032    2.664543\n",
              "23  22308.930984  22310.613137   -1.682153\n",
              "24  22316.848215  22309.761740    7.086475\n",
              "25  22319.367667  22314.624254    4.743413\n",
              "26  22318.495404  22317.565628    0.929776\n",
              "27  22317.848853  22317.941928   -0.093075\n",
              "28  22326.261972  22317.824958    8.437014\n",
              "29  22344.584960  22322.747341   21.837619\n",
              "30  22347.821900  22334.364119   13.457781\n",
              "31  22359.755259  22339.595641   20.159617\n",
              "32  22396.852848  22348.173857   48.678991\n",
              "33  22411.757309  22369.987244   41.770065\n",
              "34  22419.072302  22384.408868   34.663434\n",
              "35  22415.835549  22393.976615   21.858934\n",
              "36  22421.879729  22397.145198   24.734531\n",
              "37  22424.332768  22402.164769   22.167999\n",
              "38  22416.300475  22405.511087   10.789387\n",
              "39  22418.067176  22403.256650   14.810526\n",
              "40  22440.769355  22403.389924   37.379431\n",
              "41  22465.030323  22413.038593   51.991730\n",
              "42  22461.665045  22426.192245   35.472800\n",
              "43  22464.715873  22430.051167   34.664706\n",
              "44  22437.886840  22433.859831    4.027010\n",
              "45  22447.176785  22425.353338   21.823447\n",
              "46  22455.532316  22426.673063   28.859252\n",
              "47  22463.675297  22429.694910   33.980387\n",
              "48  22482.573898  22433.515129   49.058770\n",
              "49  22493.550781  22442.195655   51.355126"
            ],
            "text/html": [
              "\n",
              "  <div id=\"df-77e13a76-4d06-4279-9604-76b50ce55ffa\" class=\"colab-df-container\">\n",
              "    <div>\n",
              "<style scoped>\n",
              "    .dataframe tbody tr th:only-of-type {\n",
              "        vertical-align: middle;\n",
              "    }\n",
              "\n",
              "    .dataframe tbody tr th {\n",
              "        vertical-align: top;\n",
              "    }\n",
              "\n",
              "    .dataframe thead th {\n",
              "        text-align: right;\n",
              "    }\n",
              "</style>\n",
              "<table border=\"1\" class=\"dataframe\">\n",
              "  <thead>\n",
              "    <tr style=\"text-align: right;\">\n",
              "      <th></th>\n",
              "      <th>Actual</th>\n",
              "      <th>Predicted</th>\n",
              "      <th>Difference</th>\n",
              "    </tr>\n",
              "  </thead>\n",
              "  <tbody>\n",
              "    <tr>\n",
              "      <th>0</th>\n",
              "      <td>22312.274087</td>\n",
              "      <td>22314.487054</td>\n",
              "      <td>-2.212967</td>\n",
              "    </tr>\n",
              "    <tr>\n",
              "      <th>1</th>\n",
              "      <td>22319.336704</td>\n",
              "      <td>22313.510909</td>\n",
              "      <td>5.825796</td>\n",
              "    </tr>\n",
              "    <tr>\n",
              "      <th>2</th>\n",
              "      <td>22306.902933</td>\n",
              "      <td>22317.588625</td>\n",
              "      <td>-10.685692</td>\n",
              "    </tr>\n",
              "    <tr>\n",
              "      <th>3</th>\n",
              "      <td>22302.793730</td>\n",
              "      <td>22311.353772</td>\n",
              "      <td>-8.560042</td>\n",
              "    </tr>\n",
              "    <tr>\n",
              "      <th>4</th>\n",
              "      <td>22295.527537</td>\n",
              "      <td>22307.218767</td>\n",
              "      <td>-11.691230</td>\n",
              "    </tr>\n",
              "    <tr>\n",
              "      <th>5</th>\n",
              "      <td>22272.422358</td>\n",
              "      <td>22301.522767</td>\n",
              "      <td>-29.100409</td>\n",
              "    </tr>\n",
              "    <tr>\n",
              "      <th>6</th>\n",
              "      <td>22258.288297</td>\n",
              "      <td>22285.418318</td>\n",
              "      <td>-27.130020</td>\n",
              "    </tr>\n",
              "    <tr>\n",
              "      <th>7</th>\n",
              "      <td>22234.828843</td>\n",
              "      <td>22271.673534</td>\n",
              "      <td>-36.844691</td>\n",
              "    </tr>\n",
              "    <tr>\n",
              "      <th>8</th>\n",
              "      <td>22251.655155</td>\n",
              "      <td>22251.574458</td>\n",
              "      <td>0.080697</td>\n",
              "    </tr>\n",
              "    <tr>\n",
              "      <th>9</th>\n",
              "      <td>22259.948799</td>\n",
              "      <td>22257.176934</td>\n",
              "      <td>2.771865</td>\n",
              "    </tr>\n",
              "    <tr>\n",
              "      <th>10</th>\n",
              "      <td>22254.520020</td>\n",
              "      <td>22262.522360</td>\n",
              "      <td>-8.002341</td>\n",
              "    </tr>\n",
              "    <tr>\n",
              "      <th>11</th>\n",
              "      <td>22246.509901</td>\n",
              "      <td>22259.363388</td>\n",
              "      <td>-12.853487</td>\n",
              "    </tr>\n",
              "    <tr>\n",
              "      <th>12</th>\n",
              "      <td>22259.271248</td>\n",
              "      <td>22253.465085</td>\n",
              "      <td>5.806164</td>\n",
              "    </tr>\n",
              "    <tr>\n",
              "      <th>13</th>\n",
              "      <td>22267.892505</td>\n",
              "      <td>22260.860962</td>\n",
              "      <td>7.031543</td>\n",
              "    </tr>\n",
              "    <tr>\n",
              "      <th>14</th>\n",
              "      <td>22283.935066</td>\n",
              "      <td>22268.228718</td>\n",
              "      <td>15.706348</td>\n",
              "    </tr>\n",
              "    <tr>\n",
              "      <th>15</th>\n",
              "      <td>22283.487791</td>\n",
              "      <td>22280.133134</td>\n",
              "      <td>3.354657</td>\n",
              "    </tr>\n",
              "    <tr>\n",
              "      <th>16</th>\n",
              "      <td>22286.746831</td>\n",
              "      <td>22283.014041</td>\n",
              "      <td>3.732790</td>\n",
              "    </tr>\n",
              "    <tr>\n",
              "      <th>17</th>\n",
              "      <td>22282.478327</td>\n",
              "      <td>22286.541311</td>\n",
              "      <td>-4.062983</td>\n",
              "    </tr>\n",
              "    <tr>\n",
              "      <th>18</th>\n",
              "      <td>22285.139430</td>\n",
              "      <td>22285.497930</td>\n",
              "      <td>-0.358501</td>\n",
              "    </tr>\n",
              "    <tr>\n",
              "      <th>19</th>\n",
              "      <td>22286.751318</td>\n",
              "      <td>22287.277982</td>\n",
              "      <td>-0.526664</td>\n",
              "    </tr>\n",
              "    <tr>\n",
              "      <th>20</th>\n",
              "      <td>22307.288133</td>\n",
              "      <td>22288.824991</td>\n",
              "      <td>18.463143</td>\n",
              "    </tr>\n",
              "    <tr>\n",
              "      <th>21</th>\n",
              "      <td>22315.236327</td>\n",
              "      <td>22301.607615</td>\n",
              "      <td>13.628712</td>\n",
              "    </tr>\n",
              "    <tr>\n",
              "      <th>22</th>\n",
              "      <td>22312.278574</td>\n",
              "      <td>22309.614032</td>\n",
              "      <td>2.664543</td>\n",
              "    </tr>\n",
              "    <tr>\n",
              "      <th>23</th>\n",
              "      <td>22308.930984</td>\n",
              "      <td>22310.613137</td>\n",
              "      <td>-1.682153</td>\n",
              "    </tr>\n",
              "    <tr>\n",
              "      <th>24</th>\n",
              "      <td>22316.848215</td>\n",
              "      <td>22309.761740</td>\n",
              "      <td>7.086475</td>\n",
              "    </tr>\n",
              "    <tr>\n",
              "      <th>25</th>\n",
              "      <td>22319.367667</td>\n",
              "      <td>22314.624254</td>\n",
              "      <td>4.743413</td>\n",
              "    </tr>\n",
              "    <tr>\n",
              "      <th>26</th>\n",
              "      <td>22318.495404</td>\n",
              "      <td>22317.565628</td>\n",
              "      <td>0.929776</td>\n",
              "    </tr>\n",
              "    <tr>\n",
              "      <th>27</th>\n",
              "      <td>22317.848853</td>\n",
              "      <td>22317.941928</td>\n",
              "      <td>-0.093075</td>\n",
              "    </tr>\n",
              "    <tr>\n",
              "      <th>28</th>\n",
              "      <td>22326.261972</td>\n",
              "      <td>22317.824958</td>\n",
              "      <td>8.437014</td>\n",
              "    </tr>\n",
              "    <tr>\n",
              "      <th>29</th>\n",
              "      <td>22344.584960</td>\n",
              "      <td>22322.747341</td>\n",
              "      <td>21.837619</td>\n",
              "    </tr>\n",
              "    <tr>\n",
              "      <th>30</th>\n",
              "      <td>22347.821900</td>\n",
              "      <td>22334.364119</td>\n",
              "      <td>13.457781</td>\n",
              "    </tr>\n",
              "    <tr>\n",
              "      <th>31</th>\n",
              "      <td>22359.755259</td>\n",
              "      <td>22339.595641</td>\n",
              "      <td>20.159617</td>\n",
              "    </tr>\n",
              "    <tr>\n",
              "      <th>32</th>\n",
              "      <td>22396.852848</td>\n",
              "      <td>22348.173857</td>\n",
              "      <td>48.678991</td>\n",
              "    </tr>\n",
              "    <tr>\n",
              "      <th>33</th>\n",
              "      <td>22411.757309</td>\n",
              "      <td>22369.987244</td>\n",
              "      <td>41.770065</td>\n",
              "    </tr>\n",
              "    <tr>\n",
              "      <th>34</th>\n",
              "      <td>22419.072302</td>\n",
              "      <td>22384.408868</td>\n",
              "      <td>34.663434</td>\n",
              "    </tr>\n",
              "    <tr>\n",
              "      <th>35</th>\n",
              "      <td>22415.835549</td>\n",
              "      <td>22393.976615</td>\n",
              "      <td>21.858934</td>\n",
              "    </tr>\n",
              "    <tr>\n",
              "      <th>36</th>\n",
              "      <td>22421.879729</td>\n",
              "      <td>22397.145198</td>\n",
              "      <td>24.734531</td>\n",
              "    </tr>\n",
              "    <tr>\n",
              "      <th>37</th>\n",
              "      <td>22424.332768</td>\n",
              "      <td>22402.164769</td>\n",
              "      <td>22.167999</td>\n",
              "    </tr>\n",
              "    <tr>\n",
              "      <th>38</th>\n",
              "      <td>22416.300475</td>\n",
              "      <td>22405.511087</td>\n",
              "      <td>10.789387</td>\n",
              "    </tr>\n",
              "    <tr>\n",
              "      <th>39</th>\n",
              "      <td>22418.067176</td>\n",
              "      <td>22403.256650</td>\n",
              "      <td>14.810526</td>\n",
              "    </tr>\n",
              "    <tr>\n",
              "      <th>40</th>\n",
              "      <td>22440.769355</td>\n",
              "      <td>22403.389924</td>\n",
              "      <td>37.379431</td>\n",
              "    </tr>\n",
              "    <tr>\n",
              "      <th>41</th>\n",
              "      <td>22465.030323</td>\n",
              "      <td>22413.038593</td>\n",
              "      <td>51.991730</td>\n",
              "    </tr>\n",
              "    <tr>\n",
              "      <th>42</th>\n",
              "      <td>22461.665045</td>\n",
              "      <td>22426.192245</td>\n",
              "      <td>35.472800</td>\n",
              "    </tr>\n",
              "    <tr>\n",
              "      <th>43</th>\n",
              "      <td>22464.715873</td>\n",
              "      <td>22430.051167</td>\n",
              "      <td>34.664706</td>\n",
              "    </tr>\n",
              "    <tr>\n",
              "      <th>44</th>\n",
              "      <td>22437.886840</td>\n",
              "      <td>22433.859831</td>\n",
              "      <td>4.027010</td>\n",
              "    </tr>\n",
              "    <tr>\n",
              "      <th>45</th>\n",
              "      <td>22447.176785</td>\n",
              "      <td>22425.353338</td>\n",
              "      <td>21.823447</td>\n",
              "    </tr>\n",
              "    <tr>\n",
              "      <th>46</th>\n",
              "      <td>22455.532316</td>\n",
              "      <td>22426.673063</td>\n",
              "      <td>28.859252</td>\n",
              "    </tr>\n",
              "    <tr>\n",
              "      <th>47</th>\n",
              "      <td>22463.675297</td>\n",
              "      <td>22429.694910</td>\n",
              "      <td>33.980387</td>\n",
              "    </tr>\n",
              "    <tr>\n",
              "      <th>48</th>\n",
              "      <td>22482.573898</td>\n",
              "      <td>22433.515129</td>\n",
              "      <td>49.058770</td>\n",
              "    </tr>\n",
              "    <tr>\n",
              "      <th>49</th>\n",
              "      <td>22493.550781</td>\n",
              "      <td>22442.195655</td>\n",
              "      <td>51.355126</td>\n",
              "    </tr>\n",
              "  </tbody>\n",
              "</table>\n",
              "</div>\n",
              "    <div class=\"colab-df-buttons\">\n",
              "\n",
              "  <div class=\"colab-df-container\">\n",
              "    <button class=\"colab-df-convert\" onclick=\"convertToInteractive('df-77e13a76-4d06-4279-9604-76b50ce55ffa')\"\n",
              "            title=\"Convert this dataframe to an interactive table.\"\n",
              "            style=\"display:none;\">\n",
              "\n",
              "  <svg xmlns=\"http://www.w3.org/2000/svg\" height=\"24px\" viewBox=\"0 -960 960 960\">\n",
              "    <path d=\"M120-120v-720h720v720H120Zm60-500h600v-160H180v160Zm220 220h160v-160H400v160Zm0 220h160v-160H400v160ZM180-400h160v-160H180v160Zm440 0h160v-160H620v160ZM180-180h160v-160H180v160Zm440 0h160v-160H620v160Z\"/>\n",
              "  </svg>\n",
              "    </button>\n",
              "\n",
              "  <style>\n",
              "    .colab-df-container {\n",
              "      display:flex;\n",
              "      gap: 12px;\n",
              "    }\n",
              "\n",
              "    .colab-df-convert {\n",
              "      background-color: #E8F0FE;\n",
              "      border: none;\n",
              "      border-radius: 50%;\n",
              "      cursor: pointer;\n",
              "      display: none;\n",
              "      fill: #1967D2;\n",
              "      height: 32px;\n",
              "      padding: 0 0 0 0;\n",
              "      width: 32px;\n",
              "    }\n",
              "\n",
              "    .colab-df-convert:hover {\n",
              "      background-color: #E2EBFA;\n",
              "      box-shadow: 0px 1px 2px rgba(60, 64, 67, 0.3), 0px 1px 3px 1px rgba(60, 64, 67, 0.15);\n",
              "      fill: #174EA6;\n",
              "    }\n",
              "\n",
              "    .colab-df-buttons div {\n",
              "      margin-bottom: 4px;\n",
              "    }\n",
              "\n",
              "    [theme=dark] .colab-df-convert {\n",
              "      background-color: #3B4455;\n",
              "      fill: #D2E3FC;\n",
              "    }\n",
              "\n",
              "    [theme=dark] .colab-df-convert:hover {\n",
              "      background-color: #434B5C;\n",
              "      box-shadow: 0px 1px 3px 1px rgba(0, 0, 0, 0.15);\n",
              "      filter: drop-shadow(0px 1px 2px rgba(0, 0, 0, 0.3));\n",
              "      fill: #FFFFFF;\n",
              "    }\n",
              "  </style>\n",
              "\n",
              "    <script>\n",
              "      const buttonEl =\n",
              "        document.querySelector('#df-77e13a76-4d06-4279-9604-76b50ce55ffa button.colab-df-convert');\n",
              "      buttonEl.style.display =\n",
              "        google.colab.kernel.accessAllowed ? 'block' : 'none';\n",
              "\n",
              "      async function convertToInteractive(key) {\n",
              "        const element = document.querySelector('#df-77e13a76-4d06-4279-9604-76b50ce55ffa');\n",
              "        const dataTable =\n",
              "          await google.colab.kernel.invokeFunction('convertToInteractive',\n",
              "                                                    [key], {});\n",
              "        if (!dataTable) return;\n",
              "\n",
              "        const docLinkHtml = 'Like what you see? Visit the ' +\n",
              "          '<a target=\"_blank\" href=https://colab.research.google.com/notebooks/data_table.ipynb>data table notebook</a>'\n",
              "          + ' to learn more about interactive tables.';\n",
              "        element.innerHTML = '';\n",
              "        dataTable['output_type'] = 'display_data';\n",
              "        await google.colab.output.renderOutput(dataTable, element);\n",
              "        const docLink = document.createElement('div');\n",
              "        docLink.innerHTML = docLinkHtml;\n",
              "        element.appendChild(docLink);\n",
              "      }\n",
              "    </script>\n",
              "  </div>\n",
              "\n",
              "\n",
              "<div id=\"df-1bc0ea75-d00e-4b45-a60c-d9d8db93c320\">\n",
              "  <button class=\"colab-df-quickchart\" onclick=\"quickchart('df-1bc0ea75-d00e-4b45-a60c-d9d8db93c320')\"\n",
              "            title=\"Suggest charts\"\n",
              "            style=\"display:none;\">\n",
              "\n",
              "<svg xmlns=\"http://www.w3.org/2000/svg\" height=\"24px\"viewBox=\"0 0 24 24\"\n",
              "     width=\"24px\">\n",
              "    <g>\n",
              "        <path d=\"M19 3H5c-1.1 0-2 .9-2 2v14c0 1.1.9 2 2 2h14c1.1 0 2-.9 2-2V5c0-1.1-.9-2-2-2zM9 17H7v-7h2v7zm4 0h-2V7h2v10zm4 0h-2v-4h2v4z\"/>\n",
              "    </g>\n",
              "</svg>\n",
              "  </button>\n",
              "\n",
              "<style>\n",
              "  .colab-df-quickchart {\n",
              "      --bg-color: #E8F0FE;\n",
              "      --fill-color: #1967D2;\n",
              "      --hover-bg-color: #E2EBFA;\n",
              "      --hover-fill-color: #174EA6;\n",
              "      --disabled-fill-color: #AAA;\n",
              "      --disabled-bg-color: #DDD;\n",
              "  }\n",
              "\n",
              "  [theme=dark] .colab-df-quickchart {\n",
              "      --bg-color: #3B4455;\n",
              "      --fill-color: #D2E3FC;\n",
              "      --hover-bg-color: #434B5C;\n",
              "      --hover-fill-color: #FFFFFF;\n",
              "      --disabled-bg-color: #3B4455;\n",
              "      --disabled-fill-color: #666;\n",
              "  }\n",
              "\n",
              "  .colab-df-quickchart {\n",
              "    background-color: var(--bg-color);\n",
              "    border: none;\n",
              "    border-radius: 50%;\n",
              "    cursor: pointer;\n",
              "    display: none;\n",
              "    fill: var(--fill-color);\n",
              "    height: 32px;\n",
              "    padding: 0;\n",
              "    width: 32px;\n",
              "  }\n",
              "\n",
              "  .colab-df-quickchart:hover {\n",
              "    background-color: var(--hover-bg-color);\n",
              "    box-shadow: 0 1px 2px rgba(60, 64, 67, 0.3), 0 1px 3px 1px rgba(60, 64, 67, 0.15);\n",
              "    fill: var(--button-hover-fill-color);\n",
              "  }\n",
              "\n",
              "  .colab-df-quickchart-complete:disabled,\n",
              "  .colab-df-quickchart-complete:disabled:hover {\n",
              "    background-color: var(--disabled-bg-color);\n",
              "    fill: var(--disabled-fill-color);\n",
              "    box-shadow: none;\n",
              "  }\n",
              "\n",
              "  .colab-df-spinner {\n",
              "    border: 2px solid var(--fill-color);\n",
              "    border-color: transparent;\n",
              "    border-bottom-color: var(--fill-color);\n",
              "    animation:\n",
              "      spin 1s steps(1) infinite;\n",
              "  }\n",
              "\n",
              "  @keyframes spin {\n",
              "    0% {\n",
              "      border-color: transparent;\n",
              "      border-bottom-color: var(--fill-color);\n",
              "      border-left-color: var(--fill-color);\n",
              "    }\n",
              "    20% {\n",
              "      border-color: transparent;\n",
              "      border-left-color: var(--fill-color);\n",
              "      border-top-color: var(--fill-color);\n",
              "    }\n",
              "    30% {\n",
              "      border-color: transparent;\n",
              "      border-left-color: var(--fill-color);\n",
              "      border-top-color: var(--fill-color);\n",
              "      border-right-color: var(--fill-color);\n",
              "    }\n",
              "    40% {\n",
              "      border-color: transparent;\n",
              "      border-right-color: var(--fill-color);\n",
              "      border-top-color: var(--fill-color);\n",
              "    }\n",
              "    60% {\n",
              "      border-color: transparent;\n",
              "      border-right-color: var(--fill-color);\n",
              "    }\n",
              "    80% {\n",
              "      border-color: transparent;\n",
              "      border-right-color: var(--fill-color);\n",
              "      border-bottom-color: var(--fill-color);\n",
              "    }\n",
              "    90% {\n",
              "      border-color: transparent;\n",
              "      border-bottom-color: var(--fill-color);\n",
              "    }\n",
              "  }\n",
              "</style>\n",
              "\n",
              "  <script>\n",
              "    async function quickchart(key) {\n",
              "      const quickchartButtonEl =\n",
              "        document.querySelector('#' + key + ' button');\n",
              "      quickchartButtonEl.disabled = true;  // To prevent multiple clicks.\n",
              "      quickchartButtonEl.classList.add('colab-df-spinner');\n",
              "      try {\n",
              "        const charts = await google.colab.kernel.invokeFunction(\n",
              "            'suggestCharts', [key], {});\n",
              "      } catch (error) {\n",
              "        console.error('Error during call to suggestCharts:', error);\n",
              "      }\n",
              "      quickchartButtonEl.classList.remove('colab-df-spinner');\n",
              "      quickchartButtonEl.classList.add('colab-df-quickchart-complete');\n",
              "    }\n",
              "    (() => {\n",
              "      let quickchartButtonEl =\n",
              "        document.querySelector('#df-1bc0ea75-d00e-4b45-a60c-d9d8db93c320 button');\n",
              "      quickchartButtonEl.style.display =\n",
              "        google.colab.kernel.accessAllowed ? 'block' : 'none';\n",
              "    })();\n",
              "  </script>\n",
              "</div>\n",
              "\n",
              "  <div id=\"id_c382f289-cc5d-45a9-ba3f-4ba819294ad7\">\n",
              "    <style>\n",
              "      .colab-df-generate {\n",
              "        background-color: #E8F0FE;\n",
              "        border: none;\n",
              "        border-radius: 50%;\n",
              "        cursor: pointer;\n",
              "        display: none;\n",
              "        fill: #1967D2;\n",
              "        height: 32px;\n",
              "        padding: 0 0 0 0;\n",
              "        width: 32px;\n",
              "      }\n",
              "\n",
              "      .colab-df-generate:hover {\n",
              "        background-color: #E2EBFA;\n",
              "        box-shadow: 0px 1px 2px rgba(60, 64, 67, 0.3), 0px 1px 3px 1px rgba(60, 64, 67, 0.15);\n",
              "        fill: #174EA6;\n",
              "      }\n",
              "\n",
              "      [theme=dark] .colab-df-generate {\n",
              "        background-color: #3B4455;\n",
              "        fill: #D2E3FC;\n",
              "      }\n",
              "\n",
              "      [theme=dark] .colab-df-generate:hover {\n",
              "        background-color: #434B5C;\n",
              "        box-shadow: 0px 1px 3px 1px rgba(0, 0, 0, 0.15);\n",
              "        filter: drop-shadow(0px 1px 2px rgba(0, 0, 0, 0.3));\n",
              "        fill: #FFFFFF;\n",
              "      }\n",
              "    </style>\n",
              "    <button class=\"colab-df-generate\" onclick=\"generateWithVariable('newdf')\"\n",
              "            title=\"Generate code using this dataframe.\"\n",
              "            style=\"display:none;\">\n",
              "\n",
              "  <svg xmlns=\"http://www.w3.org/2000/svg\" height=\"24px\"viewBox=\"0 0 24 24\"\n",
              "       width=\"24px\">\n",
              "    <path d=\"M7,19H8.4L18.45,9,17,7.55,7,17.6ZM5,21V16.75L18.45,3.32a2,2,0,0,1,2.83,0l1.4,1.43a1.91,1.91,0,0,1,.58,1.4,1.91,1.91,0,0,1-.58,1.4L9.25,21ZM18.45,9,17,7.55Zm-12,3A5.31,5.31,0,0,0,4.9,8.1,5.31,5.31,0,0,0,1,6.5,5.31,5.31,0,0,0,4.9,4.9,5.31,5.31,0,0,0,6.5,1,5.31,5.31,0,0,0,8.1,4.9,5.31,5.31,0,0,0,12,6.5,5.46,5.46,0,0,0,6.5,12Z\"/>\n",
              "  </svg>\n",
              "    </button>\n",
              "    <script>\n",
              "      (() => {\n",
              "      const buttonEl =\n",
              "        document.querySelector('#id_c382f289-cc5d-45a9-ba3f-4ba819294ad7 button.colab-df-generate');\n",
              "      buttonEl.style.display =\n",
              "        google.colab.kernel.accessAllowed ? 'block' : 'none';\n",
              "\n",
              "      buttonEl.onclick = () => {\n",
              "        google.colab.notebook.generateWithVariable('newdf');\n",
              "      }\n",
              "      })();\n",
              "    </script>\n",
              "  </div>\n",
              "\n",
              "    </div>\n",
              "  </div>\n"
            ],
            "application/vnd.google.colaboratory.intrinsic+json": {
              "type": "dataframe",
              "variable_name": "newdf",
              "summary": "{\n  \"name\": \"newdf\",\n  \"rows\": 50,\n  \"fields\": [\n    {\n      \"column\": \"Actual\",\n      \"properties\": {\n        \"dtype\": \"number\",\n        \"std\": 76.56026906567406,\n        \"min\": 22234.8288429901,\n        \"max\": 22493.55078125,\n        \"num_unique_values\": 50,\n        \"samples\": [\n          22267.892504550517,\n          22418.067176260054,\n          22347.821899972856\n        ],\n        \"semantic_type\": \"\",\n        \"description\": \"\"\n      }\n    },\n    {\n      \"column\": \"Predicted\",\n      \"properties\": {\n        \"dtype\": \"number\",\n        \"std\": 60.60144230803038,\n        \"min\": 22251.574457921088,\n        \"max\": 22442.19565501064,\n        \"num_unique_values\": 50,\n        \"samples\": [\n          22260.860961720347,\n          22403.256650052965,\n          22334.364118501544\n        ],\n        \"semantic_type\": \"\",\n        \"description\": \"\"\n      }\n    },\n    {\n      \"column\": \"Difference\",\n      \"properties\": {\n        \"dtype\": \"number\",\n        \"std\": 20.44263549132995,\n        \"min\": -36.84469060599804,\n        \"max\": 51.991729594767094,\n        \"num_unique_values\": 50,\n        \"samples\": [\n          7.031542830169201,\n          14.810526207089424,\n          13.457781471312046\n        ],\n        \"semantic_type\": \"\",\n        \"description\": \"\"\n      }\n    }\n  ]\n}"
            }
          },
          "metadata": {},
          "execution_count": 417
        }
      ]
    },
    {
      "cell_type": "markdown",
      "source": [
        "#Unseen Data"
      ],
      "metadata": {
        "id": "ZJ1nzJ_bkeuU"
      }
    },
    {
      "cell_type": "code",
      "source": [
        "X_test.shape"
      ],
      "metadata": {
        "colab": {
          "base_uri": "https://localhost:8080/"
        },
        "id": "WmV_a4F53yWJ",
        "outputId": "47ef364a-16a8-4616-e257-feba4506acfe"
      },
      "execution_count": 418,
      "outputs": [
        {
          "output_type": "execute_result",
          "data": {
            "text/plain": [
              "torch.Size([44, 6, 1])"
            ]
          },
          "metadata": {},
          "execution_count": 418
        }
      ]
    },
    {
      "cell_type": "code",
      "source": [
        "unseen_predictions = model(X_test.to(device)).detach().cpu().numpy().flatten()\n",
        "\n",
        "dummies = np.zeros((X_test.shape[0], lookback+1))\n",
        "dummies[:, 0] = unseen_predictions\n",
        "dummies = scaler.inverse_transform(dummies)\n",
        "\n",
        "unseen_predictions = dc(dummies[:, 0])\n",
        "unseen_predictions"
      ],
      "metadata": {
        "colab": {
          "base_uri": "https://localhost:8080/"
        },
        "id": "JbxdrP-8kibD",
        "outputId": "dbf8568d-445b-4e6e-9334-f19a5433b00f"
      },
      "execution_count": 419,
      "outputs": [
        {
          "output_type": "execute_result",
          "data": {
            "text/plain": [
              "array([21536.92444357, 21542.47550217, 21619.96427311, 21652.49379215,\n",
              "       21907.72605098, 22106.76211496, 22031.45489965, 21598.74598113,\n",
              "       21487.89357024, 21624.33037594, 21374.22718854, 21426.47211605,\n",
              "       21383.25825075, 21676.8728512 , 21543.43070636, 21703.02193981,\n",
              "       21709.68708234, 21858.62983082, 21777.83733378, 21929.52403194,\n",
              "       21941.37859121, 21714.26137885, 21780.77981067, 21637.31365906,\n",
              "       21742.79314922, 21861.29430792, 21919.15981969, 22040.38475375,\n",
              "       22114.07056379, 22177.87213822, 22070.45197821, 22195.44465694,\n",
              "       22211.02786496, 22141.51791341, 22193.56397716, 21987.4399795 ,\n",
              "       21991.40698056, 22280.83996377, 22340.13427127, 22336.54036412,\n",
              "       22397.61719093, 22426.92218534, 22373.42278574, 22356.21527439])"
            ]
          },
          "metadata": {},
          "execution_count": 419
        }
      ]
    },
    {
      "cell_type": "code",
      "source": [
        "dummies = np.zeros((X_test.shape[0], lookback+1))\n",
        "dummies[:, 0] = y_test.flatten()\n",
        "dummies = scaler.inverse_transform(dummies)\n",
        "\n",
        "new_y_unseen = dc(dummies[:, 0])\n",
        "new_y_unseen"
      ],
      "metadata": {
        "colab": {
          "base_uri": "https://localhost:8080/"
        },
        "id": "-jncK53-kwlk",
        "outputId": "277691cf-a3ae-4cd9-d369-5f32edb27617"
      },
      "execution_count": 420,
      "outputs": [
        {
          "output_type": "execute_result",
          "data": {
            "text/plain": [
              "array([21544.8496019 , 21618.69921839, 21647.19922217, 21894.55078235,\n",
              "       22097.44921067, 22032.30078113, 21571.9492204 , 21462.25001738,\n",
              "       21622.40039156, 21238.80078125, 21453.94923165, 21352.59961414,\n",
              "       21737.59960974, 21522.09959528, 21725.69921421, 21697.44921112,\n",
              "       21853.80078102, 21771.69921948, 21929.40039182, 21930.49999941,\n",
              "       21717.94922089, 21782.50000275, 21616.05077418, 21743.24999739,\n",
              "       21840.05078168, 21910.75000105, 22040.6992225 , 22122.25000449,\n",
              "       22196.9492232 , 22055.05078775, 22217.44920492, 22212.69921052,\n",
              "       22122.05078548, 22198.34960848, 21951.15039101, 21982.8007849 ,\n",
              "       22338.750003  , 22405.5996002 , 22356.30079553, 22474.05076489,\n",
              "       22493.55078125, 22332.650405  , 22335.69921305, 21997.69921614])"
            ]
          },
          "metadata": {},
          "execution_count": 420
        }
      ]
    },
    {
      "cell_type": "code",
      "source": [
        "plt.figure(figsize=(15,7))\n",
        "plt.plot(new_y_unseen, label='Actual Close',color = '#27aeef')\n",
        "plt.plot(unseen_predictions, label='Predicted Close', color = '#f46a9b')\n",
        "plt.xlabel('Day')\n",
        "plt.ylabel('Close')\n",
        "plt.title(\"Predictions for NIFTY 1st January 2024 to 15th March 2024\")\n",
        "plt.legend()\n",
        "plt.show()"
      ],
      "metadata": {
        "colab": {
          "base_uri": "https://localhost:8080/",
          "height": 602
        },
        "id": "_rhC-LMmk5cO",
        "outputId": "625ec617-3293-4282-c306-9985762eb76b"
      },
      "execution_count": 421,
      "outputs": [
        {
          "output_type": "display_data",
          "data": {
            "text/plain": [
              "<Figure size 1500x700 with 1 Axes>"
            ],
            "image/png": "[encoded data removed]"
          },
          "metadata": {}
        }
      ]
    },
    {
      "cell_type": "code",
      "source": [
        "rmse = np.sqrt(np.mean((unseen_predictions - new_y_unseen)**2))\n",
        "print(f\"Score (RMSE): {rmse:.4f}\")"
      ],
      "metadata": {
        "colab": {
          "base_uri": "https://localhost:8080/"
        },
        "id": "3TRl7kPwdnTw",
        "outputId": "409d6e6c-2ae4-4461-d35a-e62fb210de3e"
      },
      "execution_count": 422,
      "outputs": [
        {
          "output_type": "stream",
          "name": "stdout",
          "text": [
            "Score (RMSE): 171.4020\n"
          ]
        }
      ]
    },
    {
      "cell_type": "code",
      "source": [
        "neww=pd.DataFrame()\n",
        "neww[\"Actual\"]=new_y_unseen\n",
        "neww[\"Predicted\"]=unseen_predictions\n",
        "neww[\"Difference\"]=neww[\"Actual\"]-neww[\"Predicted\"]"
      ],
      "metadata": {
        "id": "OVnOL805xTe9"
      },
      "execution_count": 423,
      "outputs": []
    },
    {
      "cell_type": "code",
      "source": [
        "neww"
      ],
      "metadata": {
        "colab": {
          "base_uri": "https://localhost:8080/",
          "height": 1000
        },
        "id": "aMK7-7GRxcMy",
        "outputId": "8d0f0f35-84fc-4005-93bf-67f7001f223d"
      },
      "execution_count": 424,
      "outputs": [
        {
          "output_type": "execute_result",
          "data": {
            "text/plain": [
              "          Actual     Predicted  Difference\n",
              "0   21544.849602  21536.924444    7.925158\n",
              "1   21618.699218  21542.475502   76.223716\n",
              "2   21647.199222  21619.964273   27.234949\n",
              "3   21894.550782  21652.493792  242.056990\n",
              "4   22097.449211  21907.726051  189.723160\n",
              "5   22032.300781  22106.762115  -74.461334\n",
              "6   21571.949220  22031.454900 -459.505679\n",
              "7   21462.250017  21598.745981 -136.495964\n",
              "8   21622.400392  21487.893570  134.506821\n",
              "9   21238.800781  21624.330376 -385.529595\n",
              "10  21453.949232  21374.227189   79.722043\n",
              "11  21352.599614  21426.472116  -73.872502\n",
              "12  21737.599610  21383.258251  354.341359\n",
              "13  21522.099595  21676.872851 -154.773256\n",
              "14  21725.699214  21543.430706  182.268508\n",
              "15  21697.449211  21703.021940   -5.572729\n",
              "16  21853.800781  21709.687082  144.113699\n",
              "17  21771.699219  21858.629831  -86.930611\n",
              "18  21929.400392  21777.837334  151.563058\n",
              "19  21930.499999  21929.524032    0.975967\n",
              "20  21717.949221  21941.378591 -223.429370\n",
              "21  21782.500003  21714.261379   68.238624\n",
              "22  21616.050774  21780.779811 -164.729036\n",
              "23  21743.249997  21637.313659  105.936338\n",
              "24  21840.050782  21742.793149   97.257632\n",
              "25  21910.750001  21861.294308   49.455693\n",
              "26  22040.699222  21919.159820  121.539403\n",
              "27  22122.250004  22040.384754   81.865251\n",
              "28  22196.949223  22114.070564   82.878659\n",
              "29  22055.050788  22177.872138 -122.821350\n",
              "30  22217.449205  22070.451978  146.997227\n",
              "31  22212.699211  22195.444657   17.254554\n",
              "32  22122.050785  22211.027865  -88.977079\n",
              "33  22198.349608  22141.517913   56.831695\n",
              "34  21951.150391  22193.563977 -242.413586\n",
              "35  21982.800785  21987.439979   -4.639195\n",
              "36  22338.750003  21991.406981  347.343022\n",
              "37  22405.599600  22280.839964  124.759636\n",
              "38  22356.300796  22340.134271   16.166524\n",
              "39  22474.050765  22336.540364  137.510401\n",
              "40  22493.550781  22397.617191   95.933590\n",
              "41  22332.650405  22426.922185  -94.271780\n",
              "42  22335.699213  22373.422786  -37.723573\n",
              "43  21997.699216  22356.215274 -358.516058"
            ],
            "text/html": [
              "\n",
              "  <div id=\"df-93b58f3c-2fe8-444b-a4b5-e8132046abe8\" class=\"colab-df-container\">\n",
              "    <div>\n",
              "<style scoped>\n",
              "    .dataframe tbody tr th:only-of-type {\n",
              "        vertical-align: middle;\n",
              "    }\n",
              "\n",
              "    .dataframe tbody tr th {\n",
              "        vertical-align: top;\n",
              "    }\n",
              "\n",
              "    .dataframe thead th {\n",
              "        text-align: right;\n",
              "    }\n",
              "</style>\n",
              "<table border=\"1\" class=\"dataframe\">\n",
              "  <thead>\n",
              "    <tr style=\"text-align: right;\">\n",
              "      <th></th>\n",
              "      <th>Actual</th>\n",
              "      <th>Predicted</th>\n",
              "      <th>Difference</th>\n",
              "    </tr>\n",
              "  </thead>\n",
              "  <tbody>\n",
              "    <tr>\n",
              "      <th>0</th>\n",
              "      <td>21544.849602</td>\n",
              "      <td>21536.924444</td>\n",
              "      <td>7.925158</td>\n",
              "    </tr>\n",
              "    <tr>\n",
              "      <th>1</th>\n",
              "      <td>21618.699218</td>\n",
              "      <td>21542.475502</td>\n",
              "      <td>76.223716</td>\n",
              "    </tr>\n",
              "    <tr>\n",
              "      <th>2</th>\n",
              "      <td>21647.199222</td>\n",
              "      <td>21619.964273</td>\n",
              "      <td>27.234949</td>\n",
              "    </tr>\n",
              "    <tr>\n",
              "      <th>3</th>\n",
              "      <td>21894.550782</td>\n",
              "      <td>21652.493792</td>\n",
              "      <td>242.056990</td>\n",
              "    </tr>\n",
              "    <tr>\n",
              "      <th>4</th>\n",
              "      <td>22097.449211</td>\n",
              "      <td>21907.726051</td>\n",
              "      <td>189.723160</td>\n",
              "    </tr>\n",
              "    <tr>\n",
              "      <th>5</th>\n",
              "      <td>22032.300781</td>\n",
              "      <td>22106.762115</td>\n",
              "      <td>-74.461334</td>\n",
              "    </tr>\n",
              "    <tr>\n",
              "      <th>6</th>\n",
              "      <td>21571.949220</td>\n",
              "      <td>22031.454900</td>\n",
              "      <td>-459.505679</td>\n",
              "    </tr>\n",
              "    <tr>\n",
              "      <th>7</th>\n",
              "      <td>21462.250017</td>\n",
              "      <td>21598.745981</td>\n",
              "      <td>-136.495964</td>\n",
              "    </tr>\n",
              "    <tr>\n",
              "      <th>8</th>\n",
              "      <td>21622.400392</td>\n",
              "      <td>21487.893570</td>\n",
              "      <td>134.506821</td>\n",
              "    </tr>\n",
              "    <tr>\n",
              "      <th>9</th>\n",
              "      <td>21238.800781</td>\n",
              "      <td>21624.330376</td>\n",
              "      <td>-385.529595</td>\n",
              "    </tr>\n",
              "    <tr>\n",
              "      <th>10</th>\n",
              "      <td>21453.949232</td>\n",
              "      <td>21374.227189</td>\n",
              "      <td>79.722043</td>\n",
              "    </tr>\n",
              "    <tr>\n",
              "      <th>11</th>\n",
              "      <td>21352.599614</td>\n",
              "      <td>21426.472116</td>\n",
              "      <td>-73.872502</td>\n",
              "    </tr>\n",
              "    <tr>\n",
              "      <th>12</th>\n",
              "      <td>21737.599610</td>\n",
              "      <td>21383.258251</td>\n",
              "      <td>354.341359</td>\n",
              "    </tr>\n",
              "    <tr>\n",
              "      <th>13</th>\n",
              "      <td>21522.099595</td>\n",
              "      <td>21676.872851</td>\n",
              "      <td>-154.773256</td>\n",
              "    </tr>\n",
              "    <tr>\n",
              "      <th>14</th>\n",
              "      <td>21725.699214</td>\n",
              "      <td>21543.430706</td>\n",
              "      <td>182.268508</td>\n",
              "    </tr>\n",
              "    <tr>\n",
              "      <th>15</th>\n",
              "      <td>21697.449211</td>\n",
              "      <td>21703.021940</td>\n",
              "      <td>-5.572729</td>\n",
              "    </tr>\n",
              "    <tr>\n",
              "      <th>16</th>\n",
              "      <td>21853.800781</td>\n",
              "      <td>21709.687082</td>\n",
              "      <td>144.113699</td>\n",
              "    </tr>\n",
              "    <tr>\n",
              "      <th>17</th>\n",
              "      <td>21771.699219</td>\n",
              "      <td>21858.629831</td>\n",
              "      <td>-86.930611</td>\n",
              "    </tr>\n",
              "    <tr>\n",
              "      <th>18</th>\n",
              "      <td>21929.400392</td>\n",
              "      <td>21777.837334</td>\n",
              "      <td>151.563058</td>\n",
              "    </tr>\n",
              "    <tr>\n",
              "      <th>19</th>\n",
              "      <td>21930.499999</td>\n",
              "      <td>21929.524032</td>\n",
              "      <td>0.975967</td>\n",
              "    </tr>\n",
              "    <tr>\n",
              "      <th>20</th>\n",
              "      <td>21717.949221</td>\n",
              "      <td>21941.378591</td>\n",
              "      <td>-223.429370</td>\n",
              "    </tr>\n",
              "    <tr>\n",
              "      <th>21</th>\n",
              "      <td>21782.500003</td>\n",
              "      <td>21714.261379</td>\n",
              "      <td>68.238624</td>\n",
              "    </tr>\n",
              "    <tr>\n",
              "      <th>22</th>\n",
              "      <td>21616.050774</td>\n",
              "      <td>21780.779811</td>\n",
              "      <td>-164.729036</td>\n",
              "    </tr>\n",
              "    <tr>\n",
              "      <th>23</th>\n",
              "      <td>21743.249997</td>\n",
              "      <td>21637.313659</td>\n",
              "      <td>105.936338</td>\n",
              "    </tr>\n",
              "    <tr>\n",
              "      <th>24</th>\n",
              "      <td>21840.050782</td>\n",
              "      <td>21742.793149</td>\n",
              "      <td>97.257632</td>\n",
              "    </tr>\n",
              "    <tr>\n",
              "      <th>25</th>\n",
              "      <td>21910.750001</td>\n",
              "      <td>21861.294308</td>\n",
              "      <td>49.455693</td>\n",
              "    </tr>\n",
              "    <tr>\n",
              "      <th>26</th>\n",
              "      <td>22040.699222</td>\n",
              "      <td>21919.159820</td>\n",
              "      <td>121.539403</td>\n",
              "    </tr>\n",
              "    <tr>\n",
              "      <th>27</th>\n",
              "      <td>22122.250004</td>\n",
              "      <td>22040.384754</td>\n",
              "      <td>81.865251</td>\n",
              "    </tr>\n",
              "    <tr>\n",
              "      <th>28</th>\n",
              "      <td>22196.949223</td>\n",
              "      <td>22114.070564</td>\n",
              "      <td>82.878659</td>\n",
              "    </tr>\n",
              "    <tr>\n",
              "      <th>29</th>\n",
              "      <td>22055.050788</td>\n",
              "      <td>22177.872138</td>\n",
              "      <td>-122.821350</td>\n",
              "    </tr>\n",
              "    <tr>\n",
              "      <th>30</th>\n",
              "      <td>22217.449205</td>\n",
              "      <td>22070.451978</td>\n",
              "      <td>146.997227</td>\n",
              "    </tr>\n",
              "    <tr>\n",
              "      <th>31</th>\n",
              "      <td>22212.699211</td>\n",
              "      <td>22195.444657</td>\n",
              "      <td>17.254554</td>\n",
              "    </tr>\n",
              "    <tr>\n",
              "      <th>32</th>\n",
              "      <td>22122.050785</td>\n",
              "      <td>22211.027865</td>\n",
              "      <td>-88.977079</td>\n",
              "    </tr>\n",
              "    <tr>\n",
              "      <th>33</th>\n",
              "      <td>22198.349608</td>\n",
              "      <td>22141.517913</td>\n",
              "      <td>56.831695</td>\n",
              "    </tr>\n",
              "    <tr>\n",
              "      <th>34</th>\n",
              "      <td>21951.150391</td>\n",
              "      <td>22193.563977</td>\n",
              "      <td>-242.413586</td>\n",
              "    </tr>\n",
              "    <tr>\n",
              "      <th>35</th>\n",
              "      <td>21982.800785</td>\n",
              "      <td>21987.439979</td>\n",
              "      <td>-4.639195</td>\n",
              "    </tr>\n",
              "    <tr>\n",
              "      <th>36</th>\n",
              "      <td>22338.750003</td>\n",
              "      <td>21991.406981</td>\n",
              "      <td>347.343022</td>\n",
              "    </tr>\n",
              "    <tr>\n",
              "      <th>37</th>\n",
              "      <td>22405.599600</td>\n",
              "      <td>22280.839964</td>\n",
              "      <td>124.759636</td>\n",
              "    </tr>\n",
              "    <tr>\n",
              "      <th>38</th>\n",
              "      <td>22356.300796</td>\n",
              "      <td>22340.134271</td>\n",
              "      <td>16.166524</td>\n",
              "    </tr>\n",
              "    <tr>\n",
              "      <th>39</th>\n",
              "      <td>22474.050765</td>\n",
              "      <td>22336.540364</td>\n",
              "      <td>137.510401</td>\n",
              "    </tr>\n",
              "    <tr>\n",
              "      <th>40</th>\n",
              "      <td>22493.550781</td>\n",
              "      <td>22397.617191</td>\n",
              "      <td>95.933590</td>\n",
              "    </tr>\n",
              "    <tr>\n",
              "      <th>41</th>\n",
              "      <td>22332.650405</td>\n",
              "      <td>22426.922185</td>\n",
              "      <td>-94.271780</td>\n",
              "    </tr>\n",
              "    <tr>\n",
              "      <th>42</th>\n",
              "      <td>22335.699213</td>\n",
              "      <td>22373.422786</td>\n",
              "      <td>-37.723573</td>\n",
              "    </tr>\n",
              "    <tr>\n",
              "      <th>43</th>\n",
              "      <td>21997.699216</td>\n",
              "      <td>22356.215274</td>\n",
              "      <td>-358.516058</td>\n",
              "    </tr>\n",
              "  </tbody>\n",
              "</table>\n",
              "</div>\n",
              "    <div class=\"colab-df-buttons\">\n",
              "\n",
              "  <div class=\"colab-df-container\">\n",
              "    <button class=\"colab-df-convert\" onclick=\"convertToInteractive('df-93b58f3c-2fe8-444b-a4b5-e8132046abe8')\"\n",
              "            title=\"Convert this dataframe to an interactive table.\"\n",
              "            style=\"display:none;\">\n",
              "\n",
              "  <svg xmlns=\"http://www.w3.org/2000/svg\" height=\"24px\" viewBox=\"0 -960 960 960\">\n",
              "    <path d=\"M120-120v-720h720v720H120Zm60-500h600v-160H180v160Zm220 220h160v-160H400v160Zm0 220h160v-160H400v160ZM180-400h160v-160H180v160Zm440 0h160v-160H620v160ZM180-180h160v-160H180v160Zm440 0h160v-160H620v160Z\"/>\n",
              "  </svg>\n",
              "    </button>\n",
              "\n",
              "  <style>\n",
              "    .colab-df-container {\n",
              "      display:flex;\n",
              "      gap: 12px;\n",
              "    }\n",
              "\n",
              "    .colab-df-convert {\n",
              "      background-color: #E8F0FE;\n",
              "      border: none;\n",
              "      border-radius: 50%;\n",
              "      cursor: pointer;\n",
              "      display: none;\n",
              "      fill: #1967D2;\n",
              "      height: 32px;\n",
              "      padding: 0 0 0 0;\n",
              "      width: 32px;\n",
              "    }\n",
              "\n",
              "    .colab-df-convert:hover {\n",
              "      background-color: #E2EBFA;\n",
              "      box-shadow: 0px 1px 2px rgba(60, 64, 67, 0.3), 0px 1px 3px 1px rgba(60, 64, 67, 0.15);\n",
              "      fill: #174EA6;\n",
              "    }\n",
              "\n",
              "    .colab-df-buttons div {\n",
              "      margin-bottom: 4px;\n",
              "    }\n",
              "\n",
              "    [theme=dark] .colab-df-convert {\n",
              "      background-color: #3B4455;\n",
              "      fill: #D2E3FC;\n",
              "    }\n",
              "\n",
              "    [theme=dark] .colab-df-convert:hover {\n",
              "      background-color: #434B5C;\n",
              "      box-shadow: 0px 1px 3px 1px rgba(0, 0, 0, 0.15);\n",
              "      filter: drop-shadow(0px 1px 2px rgba(0, 0, 0, 0.3));\n",
              "      fill: #FFFFFF;\n",
              "    }\n",
              "  </style>\n",
              "\n",
              "    <script>\n",
              "      const buttonEl =\n",
              "        document.querySelector('#df-93b58f3c-2fe8-444b-a4b5-e8132046abe8 button.colab-df-convert');\n",
              "      buttonEl.style.display =\n",
              "        google.colab.kernel.accessAllowed ? 'block' : 'none';\n",
              "\n",
              "      async function convertToInteractive(key) {\n",
              "        const element = document.querySelector('#df-93b58f3c-2fe8-444b-a4b5-e8132046abe8');\n",
              "        const dataTable =\n",
              "          await google.colab.kernel.invokeFunction('convertToInteractive',\n",
              "                                                    [key], {});\n",
              "        if (!dataTable) return;\n",
              "\n",
              "        const docLinkHtml = 'Like what you see? Visit the ' +\n",
              "          '<a target=\"_blank\" href=https://colab.research.google.com/notebooks/data_table.ipynb>data table notebook</a>'\n",
              "          + ' to learn more about interactive tables.';\n",
              "        element.innerHTML = '';\n",
              "        dataTable['output_type'] = 'display_data';\n",
              "        await google.colab.output.renderOutput(dataTable, element);\n",
              "        const docLink = document.createElement('div');\n",
              "        docLink.innerHTML = docLinkHtml;\n",
              "        element.appendChild(docLink);\n",
              "      }\n",
              "    </script>\n",
              "  </div>\n",
              "\n",
              "\n",
              "<div id=\"df-9ba3fc76-c091-42c3-ba11-d016151ff9ff\">\n",
              "  <button class=\"colab-df-quickchart\" onclick=\"quickchart('df-9ba3fc76-c091-42c3-ba11-d016151ff9ff')\"\n",
              "            title=\"Suggest charts\"\n",
              "            style=\"display:none;\">\n",
              "\n",
              "<svg xmlns=\"http://www.w3.org/2000/svg\" height=\"24px\"viewBox=\"0 0 24 24\"\n",
              "     width=\"24px\">\n",
              "    <g>\n",
              "        <path d=\"M19 3H5c-1.1 0-2 .9-2 2v14c0 1.1.9 2 2 2h14c1.1 0 2-.9 2-2V5c0-1.1-.9-2-2-2zM9 17H7v-7h2v7zm4 0h-2V7h2v10zm4 0h-2v-4h2v4z\"/>\n",
              "    </g>\n",
              "</svg>\n",
              "  </button>\n",
              "\n",
              "<style>\n",
              "  .colab-df-quickchart {\n",
              "      --bg-color: #E8F0FE;\n",
              "      --fill-color: #1967D2;\n",
              "      --hover-bg-color: #E2EBFA;\n",
              "      --hover-fill-color: #174EA6;\n",
              "      --disabled-fill-color: #AAA;\n",
              "      --disabled-bg-color: #DDD;\n",
              "  }\n",
              "\n",
              "  [theme=dark] .colab-df-quickchart {\n",
              "      --bg-color: #3B4455;\n",
              "      --fill-color: #D2E3FC;\n",
              "      --hover-bg-color: #434B5C;\n",
              "      --hover-fill-color: #FFFFFF;\n",
              "      --disabled-bg-color: #3B4455;\n",
              "      --disabled-fill-color: #666;\n",
              "  }\n",
              "\n",
              "  .colab-df-quickchart {\n",
              "    background-color: var(--bg-color);\n",
              "    border: none;\n",
              "    border-radius: 50%;\n",
              "    cursor: pointer;\n",
              "    display: none;\n",
              "    fill: var(--fill-color);\n",
              "    height: 32px;\n",
              "    padding: 0;\n",
              "    width: 32px;\n",
              "  }\n",
              "\n",
              "  .colab-df-quickchart:hover {\n",
              "    background-color: var(--hover-bg-color);\n",
              "    box-shadow: 0 1px 2px rgba(60, 64, 67, 0.3), 0 1px 3px 1px rgba(60, 64, 67, 0.15);\n",
              "    fill: var(--button-hover-fill-color);\n",
              "  }\n",
              "\n",
              "  .colab-df-quickchart-complete:disabled,\n",
              "  .colab-df-quickchart-complete:disabled:hover {\n",
              "    background-color: var(--disabled-bg-color);\n",
              "    fill: var(--disabled-fill-color);\n",
              "    box-shadow: none;\n",
              "  }\n",
              "\n",
              "  .colab-df-spinner {\n",
              "    border: 2px solid var(--fill-color);\n",
              "    border-color: transparent;\n",
              "    border-bottom-color: var(--fill-color);\n",
              "    animation:\n",
              "      spin 1s steps(1) infinite;\n",
              "  }\n",
              "\n",
              "  @keyframes spin {\n",
              "    0% {\n",
              "      border-color: transparent;\n",
              "      border-bottom-color: var(--fill-color);\n",
              "      border-left-color: var(--fill-color);\n",
              "    }\n",
              "    20% {\n",
              "      border-color: transparent;\n",
              "      border-left-color: var(--fill-color);\n",
              "      border-top-color: var(--fill-color);\n",
              "    }\n",
              "    30% {\n",
              "      border-color: transparent;\n",
              "      border-left-color: var(--fill-color);\n",
              "      border-top-color: var(--fill-color);\n",
              "      border-right-color: var(--fill-color);\n",
              "    }\n",
              "    40% {\n",
              "      border-color: transparent;\n",
              "      border-right-color: var(--fill-color);\n",
              "      border-top-color: var(--fill-color);\n",
              "    }\n",
              "    60% {\n",
              "      border-color: transparent;\n",
              "      border-right-color: var(--fill-color);\n",
              "    }\n",
              "    80% {\n",
              "      border-color: transparent;\n",
              "      border-right-color: var(--fill-color);\n",
              "      border-bottom-color: var(--fill-color);\n",
              "    }\n",
              "    90% {\n",
              "      border-color: transparent;\n",
              "      border-bottom-color: var(--fill-color);\n",
              "    }\n",
              "  }\n",
              "</style>\n",
              "\n",
              "  <script>\n",
              "    async function quickchart(key) {\n",
              "      const quickchartButtonEl =\n",
              "        document.querySelector('#' + key + ' button');\n",
              "      quickchartButtonEl.disabled = true;  // To prevent multiple clicks.\n",
              "      quickchartButtonEl.classList.add('colab-df-spinner');\n",
              "      try {\n",
              "        const charts = await google.colab.kernel.invokeFunction(\n",
              "            'suggestCharts', [key], {});\n",
              "      } catch (error) {\n",
              "        console.error('Error during call to suggestCharts:', error);\n",
              "      }\n",
              "      quickchartButtonEl.classList.remove('colab-df-spinner');\n",
              "      quickchartButtonEl.classList.add('colab-df-quickchart-complete');\n",
              "    }\n",
              "    (() => {\n",
              "      let quickchartButtonEl =\n",
              "        document.querySelector('#df-9ba3fc76-c091-42c3-ba11-d016151ff9ff button');\n",
              "      quickchartButtonEl.style.display =\n",
              "        google.colab.kernel.accessAllowed ? 'block' : 'none';\n",
              "    })();\n",
              "  </script>\n",
              "</div>\n",
              "\n",
              "  <div id=\"id_e8bd09e5-83b6-4155-a905-44a7d6671735\">\n",
              "    <style>\n",
              "      .colab-df-generate {\n",
              "        background-color: #E8F0FE;\n",
              "        border: none;\n",
              "        border-radius: 50%;\n",
              "        cursor: pointer;\n",
              "        display: none;\n",
              "        fill: #1967D2;\n",
              "        height: 32px;\n",
              "        padding: 0 0 0 0;\n",
              "        width: 32px;\n",
              "      }\n",
              "\n",
              "      .colab-df-generate:hover {\n",
              "        background-color: #E2EBFA;\n",
              "        box-shadow: 0px 1px 2px rgba(60, 64, 67, 0.3), 0px 1px 3px 1px rgba(60, 64, 67, 0.15);\n",
              "        fill: #174EA6;\n",
              "      }\n",
              "\n",
              "      [theme=dark] .colab-df-generate {\n",
              "        background-color: #3B4455;\n",
              "        fill: #D2E3FC;\n",
              "      }\n",
              "\n",
              "      [theme=dark] .colab-df-generate:hover {\n",
              "        background-color: #434B5C;\n",
              "        box-shadow: 0px 1px 3px 1px rgba(0, 0, 0, 0.15);\n",
              "        filter: drop-shadow(0px 1px 2px rgba(0, 0, 0, 0.3));\n",
              "        fill: #FFFFFF;\n",
              "      }\n",
              "    </style>\n",
              "    <button class=\"colab-df-generate\" onclick=\"generateWithVariable('neww')\"\n",
              "            title=\"Generate code using this dataframe.\"\n",
              "            style=\"display:none;\">\n",
              "\n",
              "  <svg xmlns=\"http://www.w3.org/2000/svg\" height=\"24px\"viewBox=\"0 0 24 24\"\n",
              "       width=\"24px\">\n",
              "    <path d=\"M7,19H8.4L18.45,9,17,7.55,7,17.6ZM5,21V16.75L18.45,3.32a2,2,0,0,1,2.83,0l1.4,1.43a1.91,1.91,0,0,1,.58,1.4,1.91,1.91,0,0,1-.58,1.4L9.25,21ZM18.45,9,17,7.55Zm-12,3A5.31,5.31,0,0,0,4.9,8.1,5.31,5.31,0,0,0,1,6.5,5.31,5.31,0,0,0,4.9,4.9,5.31,5.31,0,0,0,6.5,1,5.31,5.31,0,0,0,8.1,4.9,5.31,5.31,0,0,0,12,6.5,5.46,5.46,0,0,0,6.5,12Z\"/>\n",
              "  </svg>\n",
              "    </button>\n",
              "    <script>\n",
              "      (() => {\n",
              "      const buttonEl =\n",
              "        document.querySelector('#id_e8bd09e5-83b6-4155-a905-44a7d6671735 button.colab-df-generate');\n",
              "      buttonEl.style.display =\n",
              "        google.colab.kernel.accessAllowed ? 'block' : 'none';\n",
              "\n",
              "      buttonEl.onclick = () => {\n",
              "        google.colab.notebook.generateWithVariable('neww');\n",
              "      }\n",
              "      })();\n",
              "    </script>\n",
              "  </div>\n",
              "\n",
              "    </div>\n",
              "  </div>\n"
            ],
            "application/vnd.google.colaboratory.intrinsic+json": {
              "type": "dataframe",
              "variable_name": "neww",
              "summary": "{\n  \"name\": \"neww\",\n  \"rows\": 44,\n  \"fields\": [\n    {\n      \"column\": \"Actual\",\n      \"properties\": {\n        \"dtype\": \"number\",\n        \"std\": 316.2373637101991,\n        \"min\": 21238.80078125,\n        \"max\": 22493.55078125,\n        \"num_unique_values\": 44,\n        \"samples\": [\n          22405.599600195885,\n          21840.0507816826,\n          21910.750001054257\n        ],\n        \"semantic_type\": \"\",\n        \"description\": \"\"\n      }\n    },\n    {\n      \"column\": \"Predicted\",\n      \"properties\": {\n        \"dtype\": \"number\",\n        \"std\": 304.3098817942766,\n        \"min\": 21374.227188535035,\n        \"max\": 22426.922185339034,\n        \"num_unique_values\": 44,\n        \"samples\": [\n          22280.839963771403,\n          21742.793149219826,\n          21861.294307917356\n        ],\n        \"semantic_type\": \"\",\n        \"description\": \"\"\n      }\n    },\n    {\n      \"column\": \"Difference\",\n      \"properties\": {\n        \"dtype\": \"number\",\n        \"std\": 173.1067809951781,\n        \"min\": -459.50567925721407,\n        \"max\": 354.34135898575187,\n        \"num_unique_values\": 44,\n        \"samples\": [\n          124.75963642448187,\n          97.25763246277347,\n          49.45569313690066\n        ],\n        \"semantic_type\": \"\",\n        \"description\": \"\"\n      }\n    }\n  ]\n}"
            }
          },
          "metadata": {},
          "execution_count": 424
        }
      ]
    },
    {
      "cell_type": "code",
      "source": [],
      "metadata": {
        "id": "skgaiLmpxcns"
      },
      "execution_count": 125,
      "outputs": []
    },
    {
      "cell_type": "markdown",
      "source": [
        "#Bayesian Optimisation"
      ],
      "metadata": {
        "id": "7hLgD5Snl7EP"
      }
    },
    {
      "cell_type": "code",
      "source": [
        "!pip install bayesian-optimization\n"
      ],
      "metadata": {
        "colab": {
          "base_uri": "https://localhost:8080/"
        },
        "id": "KNX3CShxl-GR",
        "outputId": "3c992934-c237-4df0-a07d-9abc36d8b16a"
      },
      "execution_count": 126,
      "outputs": [
        {
          "output_type": "stream",
          "name": "stdout",
          "text": [
            "Collecting bayesian-optimization\n",
            "  Downloading bayesian_optimization-1.4.3-py3-none-any.whl (18 kB)\n",
            "Requirement already satisfied: numpy>=1.9.0 in /usr/local/lib/python3.10/dist-packages (from bayesian-optimization) (1.25.2)\n",
            "Requirement already satisfied: scipy>=1.0.0 in /usr/local/lib/python3.10/dist-packages (from bayesian-optimization) (1.11.4)\n",
            "Requirement already satisfied: scikit-learn>=0.18.0 in /usr/local/lib/python3.10/dist-packages (from bayesian-optimization) (1.2.2)\n",
            "Collecting colorama>=0.4.6 (from bayesian-optimization)\n",
            "  Downloading colorama-0.4.6-py2.py3-none-any.whl (25 kB)\n",
            "Requirement already satisfied: joblib>=1.1.1 in /usr/local/lib/python3.10/dist-packages (from scikit-learn>=0.18.0->bayesian-optimization) (1.3.2)\n",
            "Requirement already satisfied: threadpoolctl>=2.0.0 in /usr/local/lib/python3.10/dist-packages (from scikit-learn>=0.18.0->bayesian-optimization) (3.3.0)\n",
            "Installing collected packages: colorama, bayesian-optimization\n",
            "Successfully installed bayesian-optimization-1.4.3 colorama-0.4.6\n"
          ]
        }
      ]
    },
    {
      "cell_type": "code",
      "source": [
        "import time\n",
        "import statistics\n",
        "from scipy.stats import zscore\n",
        "from sklearn import metrics\n"
      ],
      "metadata": {
        "id": "5jpLSgLynnkS"
      },
      "execution_count": 342,
      "outputs": []
    },
    {
      "cell_type": "code",
      "source": [
        "SPLITS = 2\n",
        "EPOCHS = 500\n",
        "PATIENCE = 10\n",
        "def evaluate_network(learning_rate, dropout):\n",
        "    mean_benchmark = []\n",
        "    epochs_needed = []\n",
        "\n",
        "    model = LSTM(1,4,2, dropout=dropout).to(device)\n",
        "    criterion = nn.MSELoss()\n",
        "    optimizer = torch.optim.Adam(model.parameters(), lr=learning_rate)\n",
        "\n",
        "    loader_train = train_loader\n",
        "\n",
        "    best_loss = float('inf')\n",
        "    patience_counter = 0\n",
        "\n",
        "    for epoch in range(EPOCHS):\n",
        "        model.train()\n",
        "        for batch_x, batch_y in loader_train:\n",
        "            optimizer.zero_grad()\n",
        "            outputs = model(batch_x)\n",
        "            loss = criterion(outputs, batch_y)\n",
        "            loss.backward()\n",
        "            optimizer.step()\n",
        "\n",
        "        model.eval()\n",
        "        with torch.no_grad():\n",
        "            outputs_test = model(X_test)\n",
        "            val_loss = criterion(outputs_test, y_test).item()\n",
        "\n",
        "        if val_loss < best_loss:\n",
        "            best_loss = val_loss\n",
        "            patience_counter = 0\n",
        "        else:\n",
        "            patience_counter += 1\n",
        "\n",
        "        if patience_counter >= PATIENCE:\n",
        "            epochs_needed.append(epoch)\n",
        "            break\n",
        "\n",
        "    running_loss = 0.0\n",
        "    with torch.no_grad():\n",
        "        output = model(x_batch)\n",
        "        loss = loss_function(output, y_batch)\n",
        "        running_loss += loss.item()\n",
        "\n",
        "    avg_loss_across_batches = running_loss\n",
        "    return -avg_loss_across_batches  # Minimize the loss, so negate it\n",
        "\n"
      ],
      "metadata": {
        "id": "qEsy8495nfJd"
      },
      "execution_count": 343,
      "outputs": []
    },
    {
      "cell_type": "code",
      "source": [
        "from bayes_opt import BayesianOptimization\n",
        "import time\n",
        "\n",
        "# Supress NaN warnings\n",
        "import warnings\n",
        "warnings.filterwarnings(\"ignore\", category=RuntimeWarning)\n",
        "\n",
        "# Bounded region of parameter space\n",
        "pbounds = {'dropout': (0.0, 0.499),\n",
        "           'learning_rate': (0.0, 0.1)\n",
        "           }\n",
        "\n",
        "optimizer = BayesianOptimization(\n",
        "    f=evaluate_network,\n",
        "    pbounds=pbounds,\n",
        "    verbose=2,\n",
        "    random_state=1,\n",
        ")\n",
        "\n",
        "start_time = time.time()\n",
        "optimizer.maximize(init_points=10, n_iter=20)\n",
        "time_took = time.time() - start_time\n",
        "\n",
        "print(optimizer.max)"
      ],
      "metadata": {
        "colab": {
          "base_uri": "https://localhost:8080/"
        },
        "id": "lDFQnJXUl_GH",
        "outputId": "6eb63dd1-fbbf-4050-ad88-0eae5c10547b"
      },
      "execution_count": 344,
      "outputs": [
        {
          "output_type": "stream",
          "name": "stdout",
          "text": [
            "|   iter    |  target   |  dropout  | learni... |\n",
            "-------------------------------------------------\n",
            "| \u001b[0m1        \u001b[0m | \u001b[0m-0.001723\u001b[0m | \u001b[0m0.2081   \u001b[0m | \u001b[0m0.07203  \u001b[0m |\n",
            "| \u001b[95m2        \u001b[0m | \u001b[95m-0.000465\u001b[0m | \u001b[95m5.707e-05\u001b[0m | \u001b[95m0.03023  \u001b[0m |\n",
            "| \u001b[0m3        \u001b[0m | \u001b[0m-0.000788\u001b[0m | \u001b[0m0.07323  \u001b[0m | \u001b[0m0.009234 \u001b[0m |\n",
            "| \u001b[95m4        \u001b[0m | \u001b[95m-0.000337\u001b[0m | \u001b[95m0.09294  \u001b[0m | \u001b[95m0.03456  \u001b[0m |\n",
            "| \u001b[0m5        \u001b[0m | \u001b[0m-0.00427 \u001b[0m | \u001b[0m0.198    \u001b[0m | \u001b[0m0.05388  \u001b[0m |\n",
            "| \u001b[0m6        \u001b[0m | \u001b[0m-0.001069\u001b[0m | \u001b[0m0.2092   \u001b[0m | \u001b[0m0.06852  \u001b[0m |\n",
            "| \u001b[0m7        \u001b[0m | \u001b[0m-0.000377\u001b[0m | \u001b[0m0.102    \u001b[0m | \u001b[0m0.08781  \u001b[0m |\n",
            "| \u001b[0m8        \u001b[0m | \u001b[0m-0.003023\u001b[0m | \u001b[0m0.01367  \u001b[0m | \u001b[0m0.06705  \u001b[0m |\n",
            "| \u001b[0m9        \u001b[0m | \u001b[0m-0.00111 \u001b[0m | \u001b[0m0.2082   \u001b[0m | \u001b[0m0.05587  \u001b[0m |\n",
            "| \u001b[95m10       \u001b[0m | \u001b[95m-0.000312\u001b[0m | \u001b[95m0.07005  \u001b[0m | \u001b[95m0.01981  \u001b[0m |\n",
            "| \u001b[0m11       \u001b[0m | \u001b[0m-0.003705\u001b[0m | \u001b[0m0.05428  \u001b[0m | \u001b[0m0.03689  \u001b[0m |\n",
            "| \u001b[0m12       \u001b[0m | \u001b[0m-0.009041\u001b[0m | \u001b[0m0.4142   \u001b[0m | \u001b[0m0.06601  \u001b[0m |\n",
            "| \u001b[0m13       \u001b[0m | \u001b[0m-0.000748\u001b[0m | \u001b[0m0.07104  \u001b[0m | \u001b[0m0.01952  \u001b[0m |\n",
            "| \u001b[0m14       \u001b[0m | \u001b[0m-0.000529\u001b[0m | \u001b[0m0.06005  \u001b[0m | \u001b[0m0.01616  \u001b[0m |\n",
            "| \u001b[0m15       \u001b[0m | \u001b[0m-0.003779\u001b[0m | \u001b[0m0.2221   \u001b[0m | \u001b[0m0.05959  \u001b[0m |\n",
            "| \u001b[0m16       \u001b[0m | \u001b[0m-0.005629\u001b[0m | \u001b[0m0.443    \u001b[0m | \u001b[0m0.04472  \u001b[0m |\n",
            "| \u001b[0m17       \u001b[0m | \u001b[0m-0.000326\u001b[0m | \u001b[0m0.09771  \u001b[0m | \u001b[0m0.04619  \u001b[0m |\n",
            "| \u001b[0m18       \u001b[0m | \u001b[0m-0.000704\u001b[0m | \u001b[0m0.1071   \u001b[0m | \u001b[0m0.03551  \u001b[0m |\n",
            "| \u001b[0m19       \u001b[0m | \u001b[0m-0.003677\u001b[0m | \u001b[0m0.276    \u001b[0m | \u001b[0m0.0702   \u001b[0m |\n",
            "| \u001b[0m20       \u001b[0m | \u001b[0m-0.001986\u001b[0m | \u001b[0m0.07407  \u001b[0m | \u001b[0m0.04067  \u001b[0m |\n",
            "| \u001b[0m21       \u001b[0m | \u001b[0m-0.000648\u001b[0m | \u001b[0m0.1007   \u001b[0m | \u001b[0m0.07417  \u001b[0m |\n",
            "| \u001b[0m22       \u001b[0m | \u001b[0m-0.000829\u001b[0m | \u001b[0m0.114    \u001b[0m | \u001b[0m0.08101  \u001b[0m |\n",
            "| \u001b[0m23       \u001b[0m | \u001b[0m-0.003945\u001b[0m | \u001b[0m0.1088   \u001b[0m | \u001b[0m0.0564   \u001b[0m |\n",
            "| \u001b[0m24       \u001b[0m | \u001b[0m-0.001141\u001b[0m | \u001b[0m0.08945  \u001b[0m | \u001b[0m0.08344  \u001b[0m |\n",
            "| \u001b[0m25       \u001b[0m | \u001b[0m-0.002287\u001b[0m | \u001b[0m0.2082   \u001b[0m | \u001b[0m0.07196  \u001b[0m |\n",
            "| \u001b[0m26       \u001b[0m | \u001b[0m-0.000446\u001b[0m | \u001b[0m0.103    \u001b[0m | \u001b[0m0.08681  \u001b[0m |\n",
            "| \u001b[0m27       \u001b[0m | \u001b[0m-0.000587\u001b[0m | \u001b[0m0.03979  \u001b[0m | \u001b[0m0.06272  \u001b[0m |\n",
            "| \u001b[0m28       \u001b[0m | \u001b[0m-0.001113\u001b[0m | \u001b[0m0.2062   \u001b[0m | \u001b[0m0.07195  \u001b[0m |\n",
            "| \u001b[0m29       \u001b[0m | \u001b[0m-0.00453 \u001b[0m | \u001b[0m0.1095   \u001b[0m | \u001b[0m0.08328  \u001b[0m |\n",
            "| \u001b[0m30       \u001b[0m | \u001b[0m-0.000458\u001b[0m | \u001b[0m0.1014   \u001b[0m | \u001b[0m0.08635  \u001b[0m |\n",
            "=================================================\n",
            "{'target': -0.00031288916943594813, 'params': {'dropout': 0.07005308235902165, 'learning_rate': 0.019810148908487882}}\n"
          ]
        }
      ]
    }
  ]
}