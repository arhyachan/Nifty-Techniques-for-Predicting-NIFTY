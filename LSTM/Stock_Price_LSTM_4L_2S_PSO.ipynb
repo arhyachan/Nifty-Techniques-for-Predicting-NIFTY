{
  "nbformat": 4,
  "nbformat_minor": 0,
  "metadata": {
    "colab": {
      "provenance": [],
      "toc_visible": true
    },
    "kernelspec": {
      "name": "python3",
      "display_name": "Python 3"
    },
    "language_info": {
      "name": "python"
    }
  },
  "cells": [
    {
      "cell_type": "markdown",
      "source": [
        "**This Notebook has the best performing model for LSTM**\n",
        "\n",
        "\n",
        "Architecture\n",
        "\n",
        "4 Hidden Layers\n",
        "\n",
        "2 Stacks of LSTM"
      ],
      "metadata": {
        "id": "p8qp7Pz1Lr--"
      }
    },
    {
      "cell_type": "markdown",
      "source": [
        "#Imports"
      ],
      "metadata": {
        "id": "hAaj8cj_NgpT"
      }
    },
    {
      "cell_type": "code",
      "source": [
        "from google.colab import drive\n",
        "drive.mount('/content/drive')"
      ],
      "metadata": {
        "colab": {
          "base_uri": "https://localhost:8080/"
        },
        "id": "eoLzd_9umEPH",
        "outputId": "56dc2f4b-5ed6-4563-f0a2-1f41fe0ad330"
      },
      "execution_count": 313,
      "outputs": [
        {
          "output_type": "stream",
          "name": "stdout",
          "text": [
            "Drive already mounted at /content/drive; to attempt to forcibly remount, call drive.mount(\"/content/drive\", force_remount=True).\n"
          ]
        }
      ]
    },
    {
      "cell_type": "code",
      "source": [
        "!pip install torch-pso"
      ],
      "metadata": {
        "colab": {
          "base_uri": "https://localhost:8080/"
        },
        "id": "YD4BzKFrYuEN",
        "outputId": "d742d98a-5d47-44f3-91e5-6b9af6063837"
      },
      "execution_count": 314,
      "outputs": [
        {
          "output_type": "stream",
          "name": "stdout",
          "text": [
            "Requirement already satisfied: torch-pso in /usr/local/lib/python3.10/dist-packages (1.2.1)\n",
            "Requirement already satisfied: torch in /usr/local/lib/python3.10/dist-packages (from torch-pso) (2.2.1+cu121)\n",
            "Requirement already satisfied: filelock in /usr/local/lib/python3.10/dist-packages (from torch->torch-pso) (3.13.1)\n",
            "Requirement already satisfied: typing-extensions>=4.8.0 in /usr/local/lib/python3.10/dist-packages (from torch->torch-pso) (4.10.0)\n",
            "Requirement already satisfied: sympy in /usr/local/lib/python3.10/dist-packages (from torch->torch-pso) (1.12)\n",
            "Requirement already satisfied: networkx in /usr/local/lib/python3.10/dist-packages (from torch->torch-pso) (3.2.1)\n",
            "Requirement already satisfied: jinja2 in /usr/local/lib/python3.10/dist-packages (from torch->torch-pso) (3.1.3)\n",
            "Requirement already satisfied: fsspec in /usr/local/lib/python3.10/dist-packages (from torch->torch-pso) (2023.6.0)\n",
            "Requirement already satisfied: nvidia-cuda-nvrtc-cu12==12.1.105 in /usr/local/lib/python3.10/dist-packages (from torch->torch-pso) (12.1.105)\n",
            "Requirement already satisfied: nvidia-cuda-runtime-cu12==12.1.105 in /usr/local/lib/python3.10/dist-packages (from torch->torch-pso) (12.1.105)\n",
            "Requirement already satisfied: nvidia-cuda-cupti-cu12==12.1.105 in /usr/local/lib/python3.10/dist-packages (from torch->torch-pso) (12.1.105)\n",
            "Requirement already satisfied: nvidia-cudnn-cu12==8.9.2.26 in /usr/local/lib/python3.10/dist-packages (from torch->torch-pso) (8.9.2.26)\n",
            "Requirement already satisfied: nvidia-cublas-cu12==12.1.3.1 in /usr/local/lib/python3.10/dist-packages (from torch->torch-pso) (12.1.3.1)\n",
            "Requirement already satisfied: nvidia-cufft-cu12==11.0.2.54 in /usr/local/lib/python3.10/dist-packages (from torch->torch-pso) (11.0.2.54)\n",
            "Requirement already satisfied: nvidia-curand-cu12==10.3.2.106 in /usr/local/lib/python3.10/dist-packages (from torch->torch-pso) (10.3.2.106)\n",
            "Requirement already satisfied: nvidia-cusolver-cu12==11.4.5.107 in /usr/local/lib/python3.10/dist-packages (from torch->torch-pso) (11.4.5.107)\n",
            "Requirement already satisfied: nvidia-cusparse-cu12==12.1.0.106 in /usr/local/lib/python3.10/dist-packages (from torch->torch-pso) (12.1.0.106)\n",
            "Requirement already satisfied: nvidia-nccl-cu12==2.19.3 in /usr/local/lib/python3.10/dist-packages (from torch->torch-pso) (2.19.3)\n",
            "Requirement already satisfied: nvidia-nvtx-cu12==12.1.105 in /usr/local/lib/python3.10/dist-packages (from torch->torch-pso) (12.1.105)\n",
            "Requirement already satisfied: triton==2.2.0 in /usr/local/lib/python3.10/dist-packages (from torch->torch-pso) (2.2.0)\n",
            "Requirement already satisfied: nvidia-nvjitlink-cu12 in /usr/local/lib/python3.10/dist-packages (from nvidia-cusolver-cu12==11.4.5.107->torch->torch-pso) (12.4.99)\n",
            "Requirement already satisfied: MarkupSafe>=2.0 in /usr/local/lib/python3.10/dist-packages (from jinja2->torch->torch-pso) (2.1.5)\n",
            "Requirement already satisfied: mpmath>=0.19 in /usr/local/lib/python3.10/dist-packages (from sympy->torch->torch-pso) (1.3.0)\n"
          ]
        }
      ]
    },
    {
      "cell_type": "code",
      "execution_count": 315,
      "metadata": {
        "id": "vvBFGth2MI96"
      },
      "outputs": [],
      "source": [
        "import pandas as pd\n",
        "import numpy as np\n",
        "import matplotlib.pyplot as plt\n",
        "import torch\n",
        "import torch.nn as nn\n",
        "from copy import deepcopy as dc\n",
        "from sklearn.preprocessing import MinMaxScaler\n",
        "from torch.utils.data import Dataset\n",
        "from torch.utils.data import DataLoader\n",
        "import random\n",
        "from torch_pso import ParticleSwarmOptimizer\n"
      ]
    },
    {
      "cell_type": "markdown",
      "source": [
        "#Data Pipeline Functions"
      ],
      "metadata": {
        "id": "lwg1D4oqR9Jn"
      }
    },
    {
      "cell_type": "code",
      "source": [
        "def data(filename):\n",
        "  df = pd.read_csv(filename)\n",
        "  df = df[['Date','Close']]\n",
        "  df[\"Date\"] = pd.to_datetime(df['Date'])\n",
        "  return df"
      ],
      "metadata": {
        "id": "8heTIRYKQ9Ps"
      },
      "execution_count": 316,
      "outputs": []
    },
    {
      "cell_type": "code",
      "source": [
        "def split_data(stock_tr,stock_ts, lookback):\n",
        "    data_raw_tr = stock_tr.to_numpy()\n",
        "    data_tr = []\n",
        "    for index in range(len(data_raw_tr) - lookback):\n",
        "        data_tr.append(data_raw_tr[index: index + lookback])\n",
        "\n",
        "    data_raw_ts = stock_ts.to_numpy()\n",
        "    data_ts = []\n",
        "\n",
        "    for index in range(len(data_raw_ts) - lookback):\n",
        "        data_ts.append(data_raw_ts[index: index + lookback])\n",
        "\n",
        "    data_tr = np.array(data_tr);\n",
        "    data_ts = np.array(data_ts);\n",
        "\n",
        "    x_train = data_tr[:,:-1,:]\n",
        "    y_train = data_tr[:,-1,:]\n",
        "\n",
        "    x_test = data_ts[:,:-1]\n",
        "    y_test = data_ts[:,-1,:]\n",
        "\n",
        "    return [x_train, y_train, x_test, y_test]"
      ],
      "metadata": {
        "id": "exoUFlrqGCfm"
      },
      "execution_count": 317,
      "outputs": []
    },
    {
      "cell_type": "code",
      "source": [
        "class TimeSeriesDataset(Dataset):\n",
        "    def __init__(self, X, y):\n",
        "        self.X = X\n",
        "        self.y = y\n",
        "\n",
        "    def __len__(self):\n",
        "        return len(self.X)\n",
        "\n",
        "    def __getitem__(self, i):\n",
        "        return self.X[i], self.y[i]"
      ],
      "metadata": {
        "id": "nDQpBgtAcOLK"
      },
      "execution_count": 318,
      "outputs": []
    },
    {
      "cell_type": "code",
      "source": [
        "device = 'cuda:0' if torch.cuda.is_available() else 'cpu'\n",
        "device"
      ],
      "metadata": {
        "colab": {
          "base_uri": "https://localhost:8080/",
          "height": 35
        },
        "id": "LgVV7zBA-Ifx",
        "outputId": "c304a198-90b8-4254-8c02-415e5e57520a"
      },
      "execution_count": 319,
      "outputs": [
        {
          "output_type": "execute_result",
          "data": {
            "text/plain": [
              "'cpu'"
            ],
            "application/vnd.google.colaboratory.intrinsic+json": {
              "type": "string"
            }
          },
          "metadata": {},
          "execution_count": 319
        }
      ]
    },
    {
      "cell_type": "markdown",
      "source": [
        "#Load Data"
      ],
      "metadata": {
        "id": "5M58xUHzNkTv"
      }
    },
    {
      "cell_type": "code",
      "source": [
        "main_df = data(\"/content/drive/MyDrive/STOCK PRICE PRED/NSE_train.csv\")"
      ],
      "metadata": {
        "id": "owREpY5RRnON"
      },
      "execution_count": 320,
      "outputs": []
    },
    {
      "cell_type": "code",
      "source": [
        "test_df = data(\"/content/drive/MyDrive/STOCK PRICE PRED/NSE_test.csv\")"
      ],
      "metadata": {
        "id": "CPB6hgzic6Cl"
      },
      "execution_count": 321,
      "outputs": []
    },
    {
      "cell_type": "code",
      "source": [
        "test_df.info()"
      ],
      "metadata": {
        "colab": {
          "base_uri": "https://localhost:8080/"
        },
        "id": "k-TBDuRbdD2Q",
        "outputId": "c5254536-424d-4166-98d5-dfe71d8d55fb"
      },
      "execution_count": 322,
      "outputs": [
        {
          "output_type": "stream",
          "name": "stdout",
          "text": [
            "<class 'pandas.core.frame.DataFrame'>\n",
            "RangeIndex: 51 entries, 0 to 50\n",
            "Data columns (total 2 columns):\n",
            " #   Column  Non-Null Count  Dtype         \n",
            "---  ------  --------------  -----         \n",
            " 0   Date    51 non-null     datetime64[ns]\n",
            " 1   Close   51 non-null     float64       \n",
            "dtypes: datetime64[ns](1), float64(1)\n",
            "memory usage: 944.0 bytes\n"
          ]
        }
      ]
    },
    {
      "cell_type": "code",
      "source": [
        "main_df.info()"
      ],
      "metadata": {
        "colab": {
          "base_uri": "https://localhost:8080/"
        },
        "id": "ruyWWP9ZRvKT",
        "outputId": "66b3b1d7-a4aa-4843-c094-a915136fbaf8"
      },
      "execution_count": 323,
      "outputs": [
        {
          "output_type": "stream",
          "name": "stdout",
          "text": [
            "<class 'pandas.core.frame.DataFrame'>\n",
            "RangeIndex: 991 entries, 0 to 990\n",
            "Data columns (total 2 columns):\n",
            " #   Column  Non-Null Count  Dtype         \n",
            "---  ------  --------------  -----         \n",
            " 0   Date    991 non-null    datetime64[ns]\n",
            " 1   Close   991 non-null    float64       \n",
            "dtypes: datetime64[ns](1), float64(1)\n",
            "memory usage: 15.6 KB\n"
          ]
        }
      ]
    },
    {
      "cell_type": "markdown",
      "source": [
        "#Scale Features"
      ],
      "metadata": {
        "id": "myDsC1D5FbJn"
      }
    },
    {
      "cell_type": "code",
      "source": [
        "price_train = main_df[['Close']]\n",
        "\n",
        "scaler = MinMaxScaler(feature_range=(-1, 1))\n",
        "price_train['Close'] = scaler.fit_transform(price_train['Close'].values.reshape(-1,1))\n",
        "print(price_train.head())\n",
        "print(price_train.shape)\n",
        "\n",
        "price_test = test_df[['Close']]\n",
        "\n",
        "scaler = MinMaxScaler(feature_range=(-1, 1))\n",
        "price_test['Close'] = scaler.fit_transform(price_test['Close'].values.reshape(-1,1))\n",
        "print(price_test.shape)"
      ],
      "metadata": {
        "colab": {
          "base_uri": "https://localhost:8080/"
        },
        "id": "nInMc5ZrFKoE",
        "outputId": "8ca6909a-969c-45df-d75d-74e39cda28a8"
      },
      "execution_count": 324,
      "outputs": [
        {
          "output_type": "stream",
          "name": "stdout",
          "text": [
            "      Close\n",
            "0 -0.354587\n",
            "1 -0.340514\n",
            "2 -0.348355\n",
            "3 -0.381330\n",
            "4 -0.372874\n",
            "(991, 1)\n",
            "(51, 1)\n"
          ]
        },
        {
          "output_type": "stream",
          "name": "stderr",
          "text": [
            "<ipython-input-324-4d2e8f9f7ed6>:4: SettingWithCopyWarning: \n",
            "A value is trying to be set on a copy of a slice from a DataFrame.\n",
            "Try using .loc[row_indexer,col_indexer] = value instead\n",
            "\n",
            "See the caveats in the documentation: https://pandas.pydata.org/pandas-docs/stable/user_guide/indexing.html#returning-a-view-versus-a-copy\n",
            "  price_train['Close'] = scaler.fit_transform(price_train['Close'].values.reshape(-1,1))\n",
            "<ipython-input-324-4d2e8f9f7ed6>:11: SettingWithCopyWarning: \n",
            "A value is trying to be set on a copy of a slice from a DataFrame.\n",
            "Try using .loc[row_indexer,col_indexer] = value instead\n",
            "\n",
            "See the caveats in the documentation: https://pandas.pydata.org/pandas-docs/stable/user_guide/indexing.html#returning-a-view-versus-a-copy\n",
            "  price_test['Close'] = scaler.fit_transform(price_test['Close'].values.reshape(-1,1))\n"
          ]
        }
      ]
    },
    {
      "cell_type": "code",
      "source": [
        "price_train"
      ],
      "metadata": {
        "colab": {
          "base_uri": "https://localhost:8080/",
          "height": 423
        },
        "id": "ZTQWlliRFh5-",
        "outputId": "0f3e7a2e-6fb6-49a9-c5e2-396bebd69e68"
      },
      "execution_count": 325,
      "outputs": [
        {
          "output_type": "execute_result",
          "data": {
            "text/plain": [
              "        Close\n",
              "0   -0.354587\n",
              "1   -0.340514\n",
              "2   -0.348355\n",
              "3   -0.381330\n",
              "4   -0.372874\n",
              "..        ...\n",
              "986  0.939401\n",
              "987  0.952380\n",
              "988  0.982503\n",
              "989  1.000000\n",
              "990  0.993323\n",
              "\n",
              "[991 rows x 1 columns]"
            ],
            "text/html": [
              "\n",
              "  <div id=\"df-7c89a006-0108-49c8-84bd-19e6bf55e201\" class=\"colab-df-container\">\n",
              "    <div>\n",
              "<style scoped>\n",
              "    .dataframe tbody tr th:only-of-type {\n",
              "        vertical-align: middle;\n",
              "    }\n",
              "\n",
              "    .dataframe tbody tr th {\n",
              "        vertical-align: top;\n",
              "    }\n",
              "\n",
              "    .dataframe thead th {\n",
              "        text-align: right;\n",
              "    }\n",
              "</style>\n",
              "<table border=\"1\" class=\"dataframe\">\n",
              "  <thead>\n",
              "    <tr style=\"text-align: right;\">\n",
              "      <th></th>\n",
              "      <th>Close</th>\n",
              "    </tr>\n",
              "  </thead>\n",
              "  <tbody>\n",
              "    <tr>\n",
              "      <th>0</th>\n",
              "      <td>-0.354587</td>\n",
              "    </tr>\n",
              "    <tr>\n",
              "      <th>1</th>\n",
              "      <td>-0.340514</td>\n",
              "    </tr>\n",
              "    <tr>\n",
              "      <th>2</th>\n",
              "      <td>-0.348355</td>\n",
              "    </tr>\n",
              "    <tr>\n",
              "      <th>3</th>\n",
              "      <td>-0.381330</td>\n",
              "    </tr>\n",
              "    <tr>\n",
              "      <th>4</th>\n",
              "      <td>-0.372874</td>\n",
              "    </tr>\n",
              "    <tr>\n",
              "      <th>...</th>\n",
              "      <td>...</td>\n",
              "    </tr>\n",
              "    <tr>\n",
              "      <th>986</th>\n",
              "      <td>0.939401</td>\n",
              "    </tr>\n",
              "    <tr>\n",
              "      <th>987</th>\n",
              "      <td>0.952380</td>\n",
              "    </tr>\n",
              "    <tr>\n",
              "      <th>988</th>\n",
              "      <td>0.982503</td>\n",
              "    </tr>\n",
              "    <tr>\n",
              "      <th>989</th>\n",
              "      <td>1.000000</td>\n",
              "    </tr>\n",
              "    <tr>\n",
              "      <th>990</th>\n",
              "      <td>0.993323</td>\n",
              "    </tr>\n",
              "  </tbody>\n",
              "</table>\n",
              "<p>991 rows × 1 columns</p>\n",
              "</div>\n",
              "    <div class=\"colab-df-buttons\">\n",
              "\n",
              "  <div class=\"colab-df-container\">\n",
              "    <button class=\"colab-df-convert\" onclick=\"convertToInteractive('df-7c89a006-0108-49c8-84bd-19e6bf55e201')\"\n",
              "            title=\"Convert this dataframe to an interactive table.\"\n",
              "            style=\"display:none;\">\n",
              "\n",
              "  <svg xmlns=\"http://www.w3.org/2000/svg\" height=\"24px\" viewBox=\"0 -960 960 960\">\n",
              "    <path d=\"M120-120v-720h720v720H120Zm60-500h600v-160H180v160Zm220 220h160v-160H400v160Zm0 220h160v-160H400v160ZM180-400h160v-160H180v160Zm440 0h160v-160H620v160ZM180-180h160v-160H180v160Zm440 0h160v-160H620v160Z\"/>\n",
              "  </svg>\n",
              "    </button>\n",
              "\n",
              "  <style>\n",
              "    .colab-df-container {\n",
              "      display:flex;\n",
              "      gap: 12px;\n",
              "    }\n",
              "\n",
              "    .colab-df-convert {\n",
              "      background-color: #E8F0FE;\n",
              "      border: none;\n",
              "      border-radius: 50%;\n",
              "      cursor: pointer;\n",
              "      display: none;\n",
              "      fill: #1967D2;\n",
              "      height: 32px;\n",
              "      padding: 0 0 0 0;\n",
              "      width: 32px;\n",
              "    }\n",
              "\n",
              "    .colab-df-convert:hover {\n",
              "      background-color: #E2EBFA;\n",
              "      box-shadow: 0px 1px 2px rgba(60, 64, 67, 0.3), 0px 1px 3px 1px rgba(60, 64, 67, 0.15);\n",
              "      fill: #174EA6;\n",
              "    }\n",
              "\n",
              "    .colab-df-buttons div {\n",
              "      margin-bottom: 4px;\n",
              "    }\n",
              "\n",
              "    [theme=dark] .colab-df-convert {\n",
              "      background-color: #3B4455;\n",
              "      fill: #D2E3FC;\n",
              "    }\n",
              "\n",
              "    [theme=dark] .colab-df-convert:hover {\n",
              "      background-color: #434B5C;\n",
              "      box-shadow: 0px 1px 3px 1px rgba(0, 0, 0, 0.15);\n",
              "      filter: drop-shadow(0px 1px 2px rgba(0, 0, 0, 0.3));\n",
              "      fill: #FFFFFF;\n",
              "    }\n",
              "  </style>\n",
              "\n",
              "    <script>\n",
              "      const buttonEl =\n",
              "        document.querySelector('#df-7c89a006-0108-49c8-84bd-19e6bf55e201 button.colab-df-convert');\n",
              "      buttonEl.style.display =\n",
              "        google.colab.kernel.accessAllowed ? 'block' : 'none';\n",
              "\n",
              "      async function convertToInteractive(key) {\n",
              "        const element = document.querySelector('#df-7c89a006-0108-49c8-84bd-19e6bf55e201');\n",
              "        const dataTable =\n",
              "          await google.colab.kernel.invokeFunction('convertToInteractive',\n",
              "                                                    [key], {});\n",
              "        if (!dataTable) return;\n",
              "\n",
              "        const docLinkHtml = 'Like what you see? Visit the ' +\n",
              "          '<a target=\"_blank\" href=https://colab.research.google.com/notebooks/data_table.ipynb>data table notebook</a>'\n",
              "          + ' to learn more about interactive tables.';\n",
              "        element.innerHTML = '';\n",
              "        dataTable['output_type'] = 'display_data';\n",
              "        await google.colab.output.renderOutput(dataTable, element);\n",
              "        const docLink = document.createElement('div');\n",
              "        docLink.innerHTML = docLinkHtml;\n",
              "        element.appendChild(docLink);\n",
              "      }\n",
              "    </script>\n",
              "  </div>\n",
              "\n",
              "\n",
              "<div id=\"df-29a34d6a-07c7-4925-b3f8-d254c62712d5\">\n",
              "  <button class=\"colab-df-quickchart\" onclick=\"quickchart('df-29a34d6a-07c7-4925-b3f8-d254c62712d5')\"\n",
              "            title=\"Suggest charts\"\n",
              "            style=\"display:none;\">\n",
              "\n",
              "<svg xmlns=\"http://www.w3.org/2000/svg\" height=\"24px\"viewBox=\"0 0 24 24\"\n",
              "     width=\"24px\">\n",
              "    <g>\n",
              "        <path d=\"M19 3H5c-1.1 0-2 .9-2 2v14c0 1.1.9 2 2 2h14c1.1 0 2-.9 2-2V5c0-1.1-.9-2-2-2zM9 17H7v-7h2v7zm4 0h-2V7h2v10zm4 0h-2v-4h2v4z\"/>\n",
              "    </g>\n",
              "</svg>\n",
              "  </button>\n",
              "\n",
              "<style>\n",
              "  .colab-df-quickchart {\n",
              "      --bg-color: #E8F0FE;\n",
              "      --fill-color: #1967D2;\n",
              "      --hover-bg-color: #E2EBFA;\n",
              "      --hover-fill-color: #174EA6;\n",
              "      --disabled-fill-color: #AAA;\n",
              "      --disabled-bg-color: #DDD;\n",
              "  }\n",
              "\n",
              "  [theme=dark] .colab-df-quickchart {\n",
              "      --bg-color: #3B4455;\n",
              "      --fill-color: #D2E3FC;\n",
              "      --hover-bg-color: #434B5C;\n",
              "      --hover-fill-color: #FFFFFF;\n",
              "      --disabled-bg-color: #3B4455;\n",
              "      --disabled-fill-color: #666;\n",
              "  }\n",
              "\n",
              "  .colab-df-quickchart {\n",
              "    background-color: var(--bg-color);\n",
              "    border: none;\n",
              "    border-radius: 50%;\n",
              "    cursor: pointer;\n",
              "    display: none;\n",
              "    fill: var(--fill-color);\n",
              "    height: 32px;\n",
              "    padding: 0;\n",
              "    width: 32px;\n",
              "  }\n",
              "\n",
              "  .colab-df-quickchart:hover {\n",
              "    background-color: var(--hover-bg-color);\n",
              "    box-shadow: 0 1px 2px rgba(60, 64, 67, 0.3), 0 1px 3px 1px rgba(60, 64, 67, 0.15);\n",
              "    fill: var(--button-hover-fill-color);\n",
              "  }\n",
              "\n",
              "  .colab-df-quickchart-complete:disabled,\n",
              "  .colab-df-quickchart-complete:disabled:hover {\n",
              "    background-color: var(--disabled-bg-color);\n",
              "    fill: var(--disabled-fill-color);\n",
              "    box-shadow: none;\n",
              "  }\n",
              "\n",
              "  .colab-df-spinner {\n",
              "    border: 2px solid var(--fill-color);\n",
              "    border-color: transparent;\n",
              "    border-bottom-color: var(--fill-color);\n",
              "    animation:\n",
              "      spin 1s steps(1) infinite;\n",
              "  }\n",
              "\n",
              "  @keyframes spin {\n",
              "    0% {\n",
              "      border-color: transparent;\n",
              "      border-bottom-color: var(--fill-color);\n",
              "      border-left-color: var(--fill-color);\n",
              "    }\n",
              "    20% {\n",
              "      border-color: transparent;\n",
              "      border-left-color: var(--fill-color);\n",
              "      border-top-color: var(--fill-color);\n",
              "    }\n",
              "    30% {\n",
              "      border-color: transparent;\n",
              "      border-left-color: var(--fill-color);\n",
              "      border-top-color: var(--fill-color);\n",
              "      border-right-color: var(--fill-color);\n",
              "    }\n",
              "    40% {\n",
              "      border-color: transparent;\n",
              "      border-right-color: var(--fill-color);\n",
              "      border-top-color: var(--fill-color);\n",
              "    }\n",
              "    60% {\n",
              "      border-color: transparent;\n",
              "      border-right-color: var(--fill-color);\n",
              "    }\n",
              "    80% {\n",
              "      border-color: transparent;\n",
              "      border-right-color: var(--fill-color);\n",
              "      border-bottom-color: var(--fill-color);\n",
              "    }\n",
              "    90% {\n",
              "      border-color: transparent;\n",
              "      border-bottom-color: var(--fill-color);\n",
              "    }\n",
              "  }\n",
              "</style>\n",
              "\n",
              "  <script>\n",
              "    async function quickchart(key) {\n",
              "      const quickchartButtonEl =\n",
              "        document.querySelector('#' + key + ' button');\n",
              "      quickchartButtonEl.disabled = true;  // To prevent multiple clicks.\n",
              "      quickchartButtonEl.classList.add('colab-df-spinner');\n",
              "      try {\n",
              "        const charts = await google.colab.kernel.invokeFunction(\n",
              "            'suggestCharts', [key], {});\n",
              "      } catch (error) {\n",
              "        console.error('Error during call to suggestCharts:', error);\n",
              "      }\n",
              "      quickchartButtonEl.classList.remove('colab-df-spinner');\n",
              "      quickchartButtonEl.classList.add('colab-df-quickchart-complete');\n",
              "    }\n",
              "    (() => {\n",
              "      let quickchartButtonEl =\n",
              "        document.querySelector('#df-29a34d6a-07c7-4925-b3f8-d254c62712d5 button');\n",
              "      quickchartButtonEl.style.display =\n",
              "        google.colab.kernel.accessAllowed ? 'block' : 'none';\n",
              "    })();\n",
              "  </script>\n",
              "</div>\n",
              "\n",
              "  <div id=\"id_ec6cd853-8d27-4326-8005-7126848b6643\">\n",
              "    <style>\n",
              "      .colab-df-generate {\n",
              "        background-color: #E8F0FE;\n",
              "        border: none;\n",
              "        border-radius: 50%;\n",
              "        cursor: pointer;\n",
              "        display: none;\n",
              "        fill: #1967D2;\n",
              "        height: 32px;\n",
              "        padding: 0 0 0 0;\n",
              "        width: 32px;\n",
              "      }\n",
              "\n",
              "      .colab-df-generate:hover {\n",
              "        background-color: #E2EBFA;\n",
              "        box-shadow: 0px 1px 2px rgba(60, 64, 67, 0.3), 0px 1px 3px 1px rgba(60, 64, 67, 0.15);\n",
              "        fill: #174EA6;\n",
              "      }\n",
              "\n",
              "      [theme=dark] .colab-df-generate {\n",
              "        background-color: #3B4455;\n",
              "        fill: #D2E3FC;\n",
              "      }\n",
              "\n",
              "      [theme=dark] .colab-df-generate:hover {\n",
              "        background-color: #434B5C;\n",
              "        box-shadow: 0px 1px 3px 1px rgba(0, 0, 0, 0.15);\n",
              "        filter: drop-shadow(0px 1px 2px rgba(0, 0, 0, 0.3));\n",
              "        fill: #FFFFFF;\n",
              "      }\n",
              "    </style>\n",
              "    <button class=\"colab-df-generate\" onclick=\"generateWithVariable('price_train')\"\n",
              "            title=\"Generate code using this dataframe.\"\n",
              "            style=\"display:none;\">\n",
              "\n",
              "  <svg xmlns=\"http://www.w3.org/2000/svg\" height=\"24px\"viewBox=\"0 0 24 24\"\n",
              "       width=\"24px\">\n",
              "    <path d=\"M7,19H8.4L18.45,9,17,7.55,7,17.6ZM5,21V16.75L18.45,3.32a2,2,0,0,1,2.83,0l1.4,1.43a1.91,1.91,0,0,1,.58,1.4,1.91,1.91,0,0,1-.58,1.4L9.25,21ZM18.45,9,17,7.55Zm-12,3A5.31,5.31,0,0,0,4.9,8.1,5.31,5.31,0,0,0,1,6.5,5.31,5.31,0,0,0,4.9,4.9,5.31,5.31,0,0,0,6.5,1,5.31,5.31,0,0,0,8.1,4.9,5.31,5.31,0,0,0,12,6.5,5.46,5.46,0,0,0,6.5,12Z\"/>\n",
              "  </svg>\n",
              "    </button>\n",
              "    <script>\n",
              "      (() => {\n",
              "      const buttonEl =\n",
              "        document.querySelector('#id_ec6cd853-8d27-4326-8005-7126848b6643 button.colab-df-generate');\n",
              "      buttonEl.style.display =\n",
              "        google.colab.kernel.accessAllowed ? 'block' : 'none';\n",
              "\n",
              "      buttonEl.onclick = () => {\n",
              "        google.colab.notebook.generateWithVariable('price_train');\n",
              "      }\n",
              "      })();\n",
              "    </script>\n",
              "  </div>\n",
              "\n",
              "    </div>\n",
              "  </div>\n"
            ],
            "application/vnd.google.colaboratory.intrinsic+json": {
              "type": "dataframe",
              "variable_name": "price_train",
              "summary": "{\n  \"name\": \"price_train\",\n  \"rows\": 991,\n  \"fields\": [\n    {\n      \"column\": \"Close\",\n      \"properties\": {\n        \"dtype\": \"number\",\n        \"std\": 0.4409835556116085,\n        \"min\": -0.9999999999999998,\n        \"max\": 1.0000000000000004,\n        \"num_unique_values\": 987,\n        \"samples\": [\n          -0.0005327914162269742,\n          -0.5029025759534482,\n          0.4307353238365508\n        ],\n        \"semantic_type\": \"\",\n        \"description\": \"\"\n      }\n    }\n  ]\n}"
            }
          },
          "metadata": {},
          "execution_count": 325
        }
      ]
    },
    {
      "cell_type": "markdown",
      "source": [
        "#Prepare Historical Dataset for LSTM training and testing"
      ],
      "metadata": {
        "id": "0nCmdnHuNvsZ"
      }
    },
    {
      "cell_type": "markdown",
      "source": [
        "create a dataset that has historical value upto a week before, leading up to the current price"
      ],
      "metadata": {
        "id": "w4iPYXkPC14s"
      }
    },
    {
      "cell_type": "code",
      "source": [
        "lookback = 7\n",
        "X, y, X_test, y_test = split_data(price_train,price_test, lookback)\n",
        "print('x_train.shape = ',X.shape)\n",
        "print('y_train.shape = ',y.shape)\n",
        "print('x_test.shape = ',X_test.shape)\n",
        "print('y_test.shape = ',y_test.shape)"
      ],
      "metadata": {
        "colab": {
          "base_uri": "https://localhost:8080/"
        },
        "id": "7YbVaSBDHBU5",
        "outputId": "2d79f10a-7a2e-4e20-d1d1-7da897f6d63c"
      },
      "execution_count": 326,
      "outputs": [
        {
          "output_type": "stream",
          "name": "stdout",
          "text": [
            "x_train.shape =  (984, 6, 1)\n",
            "y_train.shape =  (984, 1)\n",
            "x_test.shape =  (44, 6, 1)\n",
            "y_test.shape =  (44, 1)\n"
          ]
        }
      ]
    },
    {
      "cell_type": "markdown",
      "source": [
        "#Split into train-val"
      ],
      "metadata": {
        "id": "TfYhnMUeGfSB"
      }
    },
    {
      "cell_type": "code",
      "source": [
        "split_index = int(len(X) * 0.95)\n",
        "\n",
        "X_train = X[:split_index]\n",
        "X_val = X[split_index:]\n",
        "\n",
        "y_train = y[:split_index]\n",
        "y_val = y[split_index:]\n",
        "\n",
        "X_train.shape, X_val.shape, y_train.shape, y_val.shape"
      ],
      "metadata": {
        "colab": {
          "base_uri": "https://localhost:8080/"
        },
        "id": "H8Pj0hVcGejr",
        "outputId": "64d31523-1b0c-446b-97c4-75fa94af9436"
      },
      "execution_count": 327,
      "outputs": [
        {
          "output_type": "execute_result",
          "data": {
            "text/plain": [
              "((934, 6, 1), (50, 6, 1), (934, 1), (50, 1))"
            ]
          },
          "metadata": {},
          "execution_count": 327
        }
      ]
    },
    {
      "cell_type": "code",
      "source": [
        "n_features = X.shape[1]\n",
        "n_classes = y.shape[1]"
      ],
      "metadata": {
        "id": "D7h2_wpoZIoV"
      },
      "execution_count": 328,
      "outputs": []
    },
    {
      "cell_type": "markdown",
      "source": [
        "#Make torch tensors, make a Dataset and wrap in Data loaders"
      ],
      "metadata": {
        "id": "ylOQ399VOJIU"
      }
    },
    {
      "cell_type": "markdown",
      "source": [
        "Wrap in torch tensors"
      ],
      "metadata": {
        "id": "ZZvalhyoDdc4"
      }
    },
    {
      "cell_type": "code",
      "source": [
        "X_train = torch.tensor(X_train).float()\n",
        "y_train = torch.tensor(y_train).float()\n",
        "X_val = torch.tensor(X_val).float()\n",
        "y_val = torch.tensor(y_val).float()\n",
        "\n",
        "X_train.shape, X_val.shape, y_train.shape, y_val.shape"
      ],
      "metadata": {
        "colab": {
          "base_uri": "https://localhost:8080/"
        },
        "id": "baSlLLOtCUSg",
        "outputId": "a033b2c4-5ddc-4c05-eb9e-d154baaf996d"
      },
      "execution_count": 329,
      "outputs": [
        {
          "output_type": "execute_result",
          "data": {
            "text/plain": [
              "(torch.Size([934, 6, 1]),\n",
              " torch.Size([50, 6, 1]),\n",
              " torch.Size([934, 1]),\n",
              " torch.Size([50, 1]))"
            ]
          },
          "metadata": {},
          "execution_count": 329
        }
      ]
    },
    {
      "cell_type": "code",
      "source": [
        "X_test = torch.tensor(X_test).float()\n",
        "y_test = torch.tensor(y_test).float()\n",
        "\n",
        "X_test.shape, y_test.shape"
      ],
      "metadata": {
        "colab": {
          "base_uri": "https://localhost:8080/"
        },
        "id": "bYb4Gg9nd_MJ",
        "outputId": "1120ed48-8fbe-4c9a-f078-8719b6cfe5bd"
      },
      "execution_count": 330,
      "outputs": [
        {
          "output_type": "execute_result",
          "data": {
            "text/plain": [
              "(torch.Size([44, 6, 1]), torch.Size([44, 1]))"
            ]
          },
          "metadata": {},
          "execution_count": 330
        }
      ]
    },
    {
      "cell_type": "markdown",
      "source": [
        "Make a torch dataset"
      ],
      "metadata": {
        "id": "bhaR-0uODzZl"
      }
    },
    {
      "cell_type": "code",
      "source": [
        "train_dataset = TimeSeriesDataset(X_train, y_train)\n",
        "val_dataset = TimeSeriesDataset(X_val, y_val)\n",
        "unseen_dataset = TimeSeriesDataset(X_test, y_test)"
      ],
      "metadata": {
        "id": "trCLgPr7DmRv"
      },
      "execution_count": 331,
      "outputs": []
    },
    {
      "cell_type": "code",
      "source": [
        "train_dataset"
      ],
      "metadata": {
        "colab": {
          "base_uri": "https://localhost:8080/"
        },
        "id": "JHvpaStQDmV4",
        "outputId": "54a1bba4-c692-4b35-f26a-0d556bad40b5"
      },
      "execution_count": 332,
      "outputs": [
        {
          "output_type": "execute_result",
          "data": {
            "text/plain": [
              "<__main__.TimeSeriesDataset at 0x7b7a0751de10>"
            ]
          },
          "metadata": {},
          "execution_count": 332
        }
      ]
    },
    {
      "cell_type": "markdown",
      "source": [
        "Wrap dataset in data loaders"
      ],
      "metadata": {
        "id": "GQEcHFBCELdD"
      }
    },
    {
      "cell_type": "code",
      "source": [
        "batch_size = 16\n",
        "\n",
        "train_loader = DataLoader(train_dataset, batch_size=batch_size, shuffle=True)\n",
        "val_loader = DataLoader(val_dataset, batch_size=batch_size, shuffle=False)\n",
        "unseen_loader = DataLoader(unseen_dataset, batch_size=batch_size, shuffle=False)"
      ],
      "metadata": {
        "id": "bIc01aodDmam"
      },
      "execution_count": 333,
      "outputs": []
    },
    {
      "cell_type": "markdown",
      "source": [
        "ex-visualisation"
      ],
      "metadata": {
        "id": "Tq3LAvJhEwu-"
      }
    },
    {
      "cell_type": "code",
      "source": [
        "for _, batch in enumerate(train_loader):\n",
        "    x_batch, y_batch = batch[0].to(device), batch[1].to(device)\n",
        "    print(x_batch.shape, y_batch.shape)\n",
        "    break"
      ],
      "metadata": {
        "colab": {
          "base_uri": "https://localhost:8080/"
        },
        "id": "SPuVe7RqDmdw",
        "outputId": "33948a7b-72b6-4e4f-c73a-feacec2c7f87"
      },
      "execution_count": 334,
      "outputs": [
        {
          "output_type": "stream",
          "name": "stdout",
          "text": [
            "torch.Size([16, 6, 1]) torch.Size([16, 1])\n"
          ]
        }
      ]
    },
    {
      "cell_type": "markdown",
      "source": [
        "#LSTM"
      ],
      "metadata": {
        "id": "FNaaKaJ2Ode_"
      }
    },
    {
      "cell_type": "markdown",
      "source": [
        "LSTM"
      ],
      "metadata": {
        "id": "TCyP3PcBE4Yz"
      }
    },
    {
      "cell_type": "code",
      "source": [
        "class LSTM(nn.Module):\n",
        "    def __init__(self, input_size, hidden_size, num_stacked_layers, dropout=0.2):\n",
        "        super().__init__()\n",
        "        self.hidden_size = hidden_size\n",
        "        self.num_stacked_layers = num_stacked_layers\n",
        "        self.dropout = dropout\n",
        "\n",
        "        self.lstm = nn.LSTM(input_size, hidden_size, num_stacked_layers, batch_first=True, dropout=self.dropout if num_stacked_layers > 1 else 0)\n",
        "        # Apply dropout only if there are more than one stacked layer\n",
        "\n",
        "        self.fc = nn.Linear(hidden_size, 1)\n",
        "\n",
        "    def forward(self, x):\n",
        "        batch_size = x.size(0)\n",
        "        h0 = torch.zeros(self.num_stacked_layers, batch_size, self.hidden_size).to(x.device)\n",
        "        c0 = torch.zeros(self.num_stacked_layers, batch_size, self.hidden_size).to(x.device)\n",
        "\n",
        "        out, _ = self.lstm(x, (h0, c0))\n",
        "\n",
        "        out = self.fc(out[:, -1, :])\n",
        "        return out\n",
        "\n",
        "model = LSTM(1, 4, 2) #lstm with 4 hidden layers\n",
        "model.to(device)\n",
        "model"
      ],
      "metadata": {
        "colab": {
          "base_uri": "https://localhost:8080/"
        },
        "id": "zUZQHCulEg-E",
        "outputId": "8f6a3d80-52e1-469e-dce3-37f813c009f1"
      },
      "execution_count": 335,
      "outputs": [
        {
          "output_type": "execute_result",
          "data": {
            "text/plain": [
              "LSTM(\n",
              "  (lstm): LSTM(1, 4, num_layers=2, batch_first=True, dropout=0.2)\n",
              "  (fc): Linear(in_features=4, out_features=1, bias=True)\n",
              ")"
            ]
          },
          "metadata": {},
          "execution_count": 335
        }
      ]
    },
    {
      "cell_type": "code",
      "source": [
        "# train_loss = []\n",
        "def train_one_epoch():\n",
        "    model.train(True)\n",
        "    print(f'Epoch: {epoch + 1}')\n",
        "    running_loss = 0.0\n",
        "\n",
        "    for batch_index, batch in enumerate(train_loader):\n",
        "        x_batch, y_batch = batch[0].to(device), batch[1].to(device)   #extracts the input features (x_batch) and target labels (y_batch) from the batch\n",
        "        x_batch = x_batch.float()\n",
        "        y_batch = y_batch.float()\n",
        "        model.to(torch.float32)\n",
        "\n",
        "        def closure():\n",
        "          optimizer.zero_grad()\n",
        "          return loss_function(model(x_batch), y_batch)\n",
        "        output = model(x_batch)\n",
        "        loss = loss_function(output, y_batch)\n",
        "        running_loss += loss.item()\n",
        "        optimizer.step(closure)\n",
        "\n",
        "    #     if batch_index % 100 == 99:  # print every 100 batches\n",
        "    #         avg_loss_across_batches = running_loss / 100\n",
        "    #         print('Batch {0}, Loss: {1:.3f}'.format(batch_index+1,avg_loss_across_batches))\n",
        "    #         running_loss = 0.0\n",
        "    # avg_loss_across_batches_b = running_loss / len(train_loader)\n",
        "    # # print('Batch Loss: {0:.3f}'.format(avg_loss_across_batches_b))\n",
        "    # # train_loss.append(avg_loss_across_batches_b)\n",
        "\n",
        "    print()"
      ],
      "metadata": {
        "id": "RFI8dx8_ILMg"
      },
      "execution_count": 336,
      "outputs": []
    },
    {
      "cell_type": "code",
      "source": [
        "val_loss=[]\n",
        "def validate_one_epoch():\n",
        "    model.train(False)\n",
        "    running_loss = 0.0\n",
        "\n",
        "    for batch_index, batch in enumerate(val_loader):\n",
        "        x_batch, y_batch = batch[0].to(device), batch[1].to(device)\n",
        "        x_batch = x_batch.float()\n",
        "        y_batch = y_batch.float()\n",
        "        model.to(torch.float32)\n",
        "        #no gradients since no updates\n",
        "        with torch.no_grad():\n",
        "          def closure():\n",
        "            optimizer.zero_grad()\n",
        "            return loss_function(model(x_batch), y_batch)\n",
        "          output = model(x_batch)\n",
        "          loss = loss_function(output, y_batch)\n",
        "          running_loss += loss.item()\n",
        "\n",
        "    avg_loss_across_batches = running_loss\n",
        "    val_loss.append(avg_loss_across_batches)\n",
        "    print('Val Loss: {0:.3f}'.format(avg_loss_across_batches))\n",
        "    print('***************************************************')\n",
        "    print()"
      ],
      "metadata": {
        "id": "M5zZGPToITdS"
      },
      "execution_count": 337,
      "outputs": []
    },
    {
      "cell_type": "code",
      "source": [
        "num_epochs = 25\n",
        "loss_function = nn.MSELoss()\n",
        "optimizer = ParticleSwarmOptimizer(model.parameters(),inertial_weight=0.5,num_particles=100,max_param_value=1, min_param_value=-1)\n",
        "\n",
        "for epoch in range(num_epochs):\n",
        "    train_one_epoch()\n",
        "    validate_one_epoch()"
      ],
      "metadata": {
        "colab": {
          "base_uri": "https://localhost:8080/"
        },
        "id": "esTriMfYpVYU",
        "outputId": "b5fff54a-0eae-4eff-b711-ef7e82efb76a"
      },
      "execution_count": 338,
      "outputs": [
        {
          "output_type": "stream",
          "name": "stdout",
          "text": [
            "Epoch: 1\n",
            "\n",
            "Val Loss: 0.035\n",
            "***************************************************\n",
            "\n",
            "Epoch: 2\n",
            "\n",
            "Val Loss: 0.035\n",
            "***************************************************\n",
            "\n",
            "Epoch: 3\n",
            "\n",
            "Val Loss: 0.035\n",
            "***************************************************\n",
            "\n",
            "Epoch: 4\n",
            "\n",
            "Val Loss: 0.035\n",
            "***************************************************\n",
            "\n",
            "Epoch: 5\n",
            "\n",
            "Val Loss: 0.035\n",
            "***************************************************\n",
            "\n",
            "Epoch: 6\n",
            "\n",
            "Val Loss: 0.035\n",
            "***************************************************\n",
            "\n",
            "Epoch: 7\n",
            "\n",
            "Val Loss: 0.035\n",
            "***************************************************\n",
            "\n",
            "Epoch: 8\n",
            "\n",
            "Val Loss: 0.035\n",
            "***************************************************\n",
            "\n",
            "Epoch: 9\n",
            "\n",
            "Val Loss: 0.035\n",
            "***************************************************\n",
            "\n",
            "Epoch: 10\n",
            "\n",
            "Val Loss: 0.035\n",
            "***************************************************\n",
            "\n",
            "Epoch: 11\n",
            "\n",
            "Val Loss: 0.035\n",
            "***************************************************\n",
            "\n",
            "Epoch: 12\n",
            "\n",
            "Val Loss: 0.035\n",
            "***************************************************\n",
            "\n",
            "Epoch: 13\n",
            "\n",
            "Val Loss: 0.035\n",
            "***************************************************\n",
            "\n",
            "Epoch: 14\n",
            "\n",
            "Val Loss: 0.035\n",
            "***************************************************\n",
            "\n",
            "Epoch: 15\n",
            "\n",
            "Val Loss: 0.035\n",
            "***************************************************\n",
            "\n",
            "Epoch: 16\n",
            "\n",
            "Val Loss: 0.035\n",
            "***************************************************\n",
            "\n",
            "Epoch: 17\n",
            "\n",
            "Val Loss: 0.035\n",
            "***************************************************\n",
            "\n",
            "Epoch: 18\n",
            "\n",
            "Val Loss: 0.035\n",
            "***************************************************\n",
            "\n",
            "Epoch: 19\n",
            "\n",
            "Val Loss: 0.035\n",
            "***************************************************\n",
            "\n",
            "Epoch: 20\n",
            "\n",
            "Val Loss: 0.035\n",
            "***************************************************\n",
            "\n",
            "Epoch: 21\n",
            "\n",
            "Val Loss: 0.035\n",
            "***************************************************\n",
            "\n",
            "Epoch: 22\n",
            "\n",
            "Val Loss: 0.035\n",
            "***************************************************\n",
            "\n",
            "Epoch: 23\n",
            "\n",
            "Val Loss: 0.035\n",
            "***************************************************\n",
            "\n",
            "Epoch: 24\n",
            "\n",
            "Val Loss: 0.035\n",
            "***************************************************\n",
            "\n",
            "Epoch: 25\n",
            "\n",
            "Val Loss: 0.035\n",
            "***************************************************\n",
            "\n"
          ]
        }
      ]
    },
    {
      "cell_type": "code",
      "source": [
        "epochs = np.arange(num_epochs)\n",
        "plt.figure(figsize=(10,5))\n",
        "plt.plot(epochs, val_loss, color = '#f46a9b', linewidth=2, label = 'Validation  Loss')\n",
        "plt.title('Error Loss')\n",
        "plt.xlabel('Epoch')\n",
        "plt.ylabel('Loss')\n",
        "plt.legend()\n",
        "plt.show()"
      ],
      "metadata": {
        "colab": {
          "base_uri": "https://localhost:8080/",
          "height": 487
        },
        "id": "NTtkxdftjZw-",
        "outputId": "df808fe8-e86f-4d34-ccf5-81e698572f3b"
      },
      "execution_count": 339,
      "outputs": [
        {
          "output_type": "display_data",
          "data": {
            "text/plain": [
              "<Figure size 1000x500 with 1 Axes>"
            ],
            "image/png": "[encoded data removed]"
          },
          "metadata": {}
        }
      ]
    },
    {
      "cell_type": "markdown",
      "source": [
        "#Training Predictions"
      ],
      "metadata": {
        "id": "PwlFdvBmP8-c"
      }
    },
    {
      "cell_type": "code",
      "source": [
        "with torch.no_grad():\n",
        "  predicted = model(X_train.to(device)).detach().cpu().numpy().flatten()"
      ],
      "metadata": {
        "id": "kKQ9Z0B_jXKF"
      },
      "execution_count": 340,
      "outputs": []
    },
    {
      "cell_type": "code",
      "source": [
        "plt.plot(y_train, label='Actual Close',color = '#27aeef')\n",
        "plt.plot(predicted, label='Predicted Close',color = '#f46a9b')\n",
        "plt.xlabel('Day')\n",
        "plt.ylabel('Close')\n",
        "plt.legend()\n",
        "plt.show()"
      ],
      "metadata": {
        "colab": {
          "base_uri": "https://localhost:8080/",
          "height": 449
        },
        "id": "iV2eX6TwP2Nn",
        "outputId": "e4680eb8-b9db-4291-e586-b9c4f53e021b"
      },
      "execution_count": 341,
      "outputs": [
        {
          "output_type": "display_data",
          "data": {
            "text/plain": [
              "<Figure size 640x480 with 1 Axes>"
            ],
            "image/png": "[encoded data removed]"
          },
          "metadata": {}
        }
      ]
    },
    {
      "cell_type": "code",
      "source": [
        "train_predictions = predicted\n",
        "\n",
        "dummies = np.zeros((X_train.shape[0], lookback+1))\n",
        "dummies[:, 0] = train_predictions\n",
        "dummies = scaler.inverse_transform(dummies)\n",
        "\n",
        "train_predictions = dc(dummies[:, 0])\n",
        "# train_predictions"
      ],
      "metadata": {
        "id": "WkxScz5hM9ud"
      },
      "execution_count": 342,
      "outputs": []
    },
    {
      "cell_type": "code",
      "source": [
        "dummies = np.zeros((X_train.shape[0], lookback+1))\n",
        "dummies[:, 0] = y_train.flatten()\n",
        "dummies = scaler.inverse_transform(dummies)\n",
        "\n",
        "new_y_train = dc(dummies[:, 0])\n",
        "# new_y_train"
      ],
      "metadata": {
        "id": "PU57pAGPNosU"
      },
      "execution_count": 343,
      "outputs": []
    },
    {
      "cell_type": "code",
      "source": [
        "plt.plot(new_y_train, label='Actual Close',color = '#27aeef')\n",
        "plt.plot(train_predictions, label='Predicted Close',color = '#f46a9b')\n",
        "plt.xlabel('Day')\n",
        "plt.ylabel('Close')\n",
        "plt.title(\"Train Predictions for NIFTY\")\n",
        "plt.legend()\n",
        "plt.show()"
      ],
      "metadata": {
        "colab": {
          "base_uri": "https://localhost:8080/",
          "height": 472
        },
        "id": "CHyxM3O9Npg5",
        "outputId": "03c758db-41f2-43e7-cd53-5c3edf5679c6"
      },
      "execution_count": 344,
      "outputs": [
        {
          "output_type": "display_data",
          "data": {
            "text/plain": [
              "<Figure size 640x480 with 1 Axes>"
            ],
            "image/png": "[encoded data removed]"
          },
          "metadata": {}
        }
      ]
    },
    {
      "cell_type": "code",
      "source": [
        "train_predictions.shape"
      ],
      "metadata": {
        "colab": {
          "base_uri": "https://localhost:8080/"
        },
        "id": "dUPB1DZUI2rY",
        "outputId": "d3887e05-40bc-4316-dc20-a6894996603c"
      },
      "execution_count": 345,
      "outputs": [
        {
          "output_type": "execute_result",
          "data": {
            "text/plain": [
              "(934,)"
            ]
          },
          "metadata": {},
          "execution_count": 345
        }
      ]
    },
    {
      "cell_type": "code",
      "source": [
        "new_y_train.shape"
      ],
      "metadata": {
        "colab": {
          "base_uri": "https://localhost:8080/"
        },
        "id": "6jFE8n7aJIAB",
        "outputId": "912c1fab-ba75-432f-febd-05fb5bdd3136"
      },
      "execution_count": 346,
      "outputs": [
        {
          "output_type": "execute_result",
          "data": {
            "text/plain": [
              "(934,)"
            ]
          },
          "metadata": {},
          "execution_count": 346
        }
      ]
    },
    {
      "cell_type": "code",
      "source": [
        "rmse = np.sqrt(np.mean((train_predictions - new_y_train)**2))\n",
        "print(f\"Score (RMSE): {rmse:.4f}\")"
      ],
      "metadata": {
        "colab": {
          "base_uri": "https://localhost:8080/"
        },
        "id": "1o-_U07fIlPM",
        "outputId": "ecef09dc-3299-4c00-f2bf-cf3da45cf169"
      },
      "execution_count": 347,
      "outputs": [
        {
          "output_type": "stream",
          "name": "stdout",
          "text": [
            "Score (RMSE): 39.3545\n"
          ]
        }
      ]
    },
    {
      "cell_type": "markdown",
      "source": [
        "#Validation Predictions"
      ],
      "metadata": {
        "id": "47mjG2PhQPiQ"
      }
    },
    {
      "cell_type": "code",
      "source": [
        "X_val.shape"
      ],
      "metadata": {
        "colab": {
          "base_uri": "https://localhost:8080/"
        },
        "id": "eFpqGlC0J5ih",
        "outputId": "7561e1b6-33be-40bd-d6d5-085c63093dbf"
      },
      "execution_count": 348,
      "outputs": [
        {
          "output_type": "execute_result",
          "data": {
            "text/plain": [
              "torch.Size([50, 6, 1])"
            ]
          },
          "metadata": {},
          "execution_count": 348
        }
      ]
    },
    {
      "cell_type": "code",
      "source": [
        "val_predictions = model(X_val.to(device)).detach().cpu().numpy().flatten()\n",
        "\n",
        "dummies = np.zeros((X_val.shape[0], lookback+1))\n",
        "dummies[:, 0] = val_predictions\n",
        "dummies = scaler.inverse_transform(dummies)\n",
        "\n",
        "val_predictions = dc(dummies[:, 0])\n",
        "val_predictions"
      ],
      "metadata": {
        "colab": {
          "base_uri": "https://localhost:8080/"
        },
        "id": "rP-yghxKpj9I",
        "outputId": "c5f5991b-fca9-4dee-8396-75ce362cfd4e"
      },
      "execution_count": 349,
      "outputs": [
        {
          "output_type": "execute_result",
          "data": {
            "text/plain": [
              "array([22312.42635703, 22312.85856225, 22315.07209015, 22310.07641412,\n",
              "       22307.10071225, 22302.06838965, 22287.7992605 , 22273.81111334,\n",
              "       22252.26053415, 22254.12935989, 22256.83574682, 22255.46920353,\n",
              "       22251.71203215, 22259.23011436, 22264.75021034, 22275.57463627,\n",
              "       22280.4540903 , 22285.84943835, 22285.6519208 , 22287.16527475,\n",
              "       22287.74877797, 22297.70774642, 22304.59827472, 22307.78675109,\n",
              "       22308.93663086, 22312.94516782, 22314.39367978, 22314.90875113,\n",
              "       22315.4878418 , 22319.21472366, 22326.73871419, 22331.13383512,\n",
              "       22338.22412466, 22351.41427395, 22360.33965941, 22367.34035181,\n",
              "       22371.75611448, 22375.57939927, 22376.95304751, 22376.17643929,\n",
              "       22376.40402199, 22379.90855637, 22383.9416241 , 22385.96159826,\n",
              "       22388.94732185, 22387.61189075, 22388.49342784, 22388.43756051,\n",
              "       22388.95360412, 22391.16915132])"
            ]
          },
          "metadata": {},
          "execution_count": 349
        }
      ]
    },
    {
      "cell_type": "code",
      "source": [
        "dummies = np.zeros((X_val.shape[0], lookback+1))\n",
        "dummies[:, 0] = y_val.flatten()\n",
        "dummies = scaler.inverse_transform(dummies)\n",
        "\n",
        "new_y_val = dc(dummies[:, 0])\n",
        "new_y_val"
      ],
      "metadata": {
        "colab": {
          "base_uri": "https://localhost:8080/"
        },
        "id": "kpMlkvZSpyy1",
        "outputId": "6f5b09f0-09a6-446a-8b38-a246e43e392d"
      },
      "execution_count": 350,
      "outputs": [
        {
          "output_type": "execute_result",
          "data": {
            "text/plain": [
              "array([22312.27408677, 22319.3367044 , 22306.90293293, 22302.79373007,\n",
              "       22295.52753698, 22272.42235774, 22258.28829738, 22234.82884299,\n",
              "       22251.65515517, 22259.94879856, 22254.52001985, 22246.50990129,\n",
              "       22259.27124827, 22267.89250455, 22283.93506616, 22283.48779098,\n",
              "       22286.7468307 , 22282.47832742, 22285.13942967, 22286.75131804,\n",
              "       22307.28813331, 22315.23632663, 22312.27857411, 22308.9309843 ,\n",
              "       22316.84821501, 22319.36766702, 22318.49540375, 22317.84885347,\n",
              "       22326.26197217, 22344.58496038, 22347.82189997, 22359.75525872,\n",
              "       22396.85284809, 22411.75730919, 22419.07230206, 22415.83554944,\n",
              "       22421.87972884, 22424.33276828, 22416.30047481, 22418.06717626,\n",
              "       22440.76935536, 22465.0303227 , 22461.66504531, 22464.71587265,\n",
              "       22437.8868405 , 22447.17678459, 22455.53231581, 22463.6752969 ,\n",
              "       22482.5738981 , 22493.55078125])"
            ]
          },
          "metadata": {},
          "execution_count": 350
        }
      ]
    },
    {
      "cell_type": "code",
      "source": [
        "plt.figure(figsize=(15,7))\n",
        "plt.plot(new_y_val, label='Actual Close',color = '#27aeef')\n",
        "plt.plot(val_predictions, label='Predicted Close',color = '#f46a9b')\n",
        "plt.xlabel('Day')\n",
        "plt.ylabel('Close')\n",
        "plt.title(\"Validation Predictions for NIFTY\")\n",
        "plt.legend()\n",
        "plt.show()"
      ],
      "metadata": {
        "colab": {
          "base_uri": "https://localhost:8080/",
          "height": 602
        },
        "id": "NWwzolvUp4Sm",
        "outputId": "d49c000c-ea5e-4395-a1b6-c51e313fb298"
      },
      "execution_count": 351,
      "outputs": [
        {
          "output_type": "display_data",
          "data": {
            "text/plain": [
              "<Figure size 1500x700 with 1 Axes>"
            ],
            "image/png": "[encoded data removed]"
          },
          "metadata": {}
        }
      ]
    },
    {
      "cell_type": "code",
      "source": [
        "rmse = np.sqrt(np.mean((val_predictions - new_y_val)**2))\n",
        "print(f\"Score (RMSE): {rmse:.4f}\")"
      ],
      "metadata": {
        "colab": {
          "base_uri": "https://localhost:8080/"
        },
        "id": "dTNoImu9JvJf",
        "outputId": "cdbf9328-5be4-4432-d2f9-69606c97b593"
      },
      "execution_count": 352,
      "outputs": [
        {
          "output_type": "stream",
          "name": "stdout",
          "text": [
            "Score (RMSE): 41.7732\n"
          ]
        }
      ]
    },
    {
      "cell_type": "code",
      "source": [
        "newdf=pd.DataFrame()\n",
        "newdf[\"Actual\"]=new_y_val\n",
        "newdf[\"Predicted\"]=val_predictions\n",
        "newdf[\"Difference\"]=newdf[\"Actual\"]-newdf[\"Predicted\"]"
      ],
      "metadata": {
        "id": "PHaBS9EIvzCf"
      },
      "execution_count": 353,
      "outputs": []
    },
    {
      "cell_type": "code",
      "source": [
        "newdf"
      ],
      "metadata": {
        "colab": {
          "base_uri": "https://localhost:8080/",
          "height": 1000
        },
        "id": "carYZQiGwMNY",
        "outputId": "89f1dfa0-6bfe-46ea-e142-ef7f6850a86b"
      },
      "execution_count": 354,
      "outputs": [
        {
          "output_type": "execute_result",
          "data": {
            "text/plain": [
              "          Actual     Predicted  Difference\n",
              "0   22312.274087  22312.426357   -0.152270\n",
              "1   22319.336704  22312.858562    6.478142\n",
              "2   22306.902933  22315.072090   -8.169157\n",
              "3   22302.793730  22310.076414   -7.282684\n",
              "4   22295.527537  22307.100712  -11.573175\n",
              "5   22272.422358  22302.068390  -29.646032\n",
              "6   22258.288297  22287.799260  -29.510963\n",
              "7   22234.828843  22273.811113  -38.982270\n",
              "8   22251.655155  22252.260534   -0.605379\n",
              "9   22259.948799  22254.129360    5.819439\n",
              "10  22254.520020  22256.835747   -2.315727\n",
              "11  22246.509901  22255.469204   -8.959302\n",
              "12  22259.271248  22251.712032    7.559216\n",
              "13  22267.892505  22259.230114    8.662390\n",
              "14  22283.935066  22264.750210   19.184856\n",
              "15  22283.487791  22275.574636    7.913155\n",
              "16  22286.746831  22280.454090    6.292740\n",
              "17  22282.478327  22285.849438   -3.371111\n",
              "18  22285.139430  22285.651921   -0.512491\n",
              "19  22286.751318  22287.165275   -0.413957\n",
              "20  22307.288133  22287.748778   19.539355\n",
              "21  22315.236327  22297.707746   17.528580\n",
              "22  22312.278574  22304.598275    7.680299\n",
              "23  22308.930984  22307.786751    1.144233\n",
              "24  22316.848215  22308.936631    7.911584\n",
              "25  22319.367667  22312.945168    6.422499\n",
              "26  22318.495404  22314.393680    4.101724\n",
              "27  22317.848853  22314.908751    2.940102\n",
              "28  22326.261972  22315.487842   10.774130\n",
              "29  22344.584960  22319.214724   25.370237\n",
              "30  22347.821900  22326.738714   21.083186\n",
              "31  22359.755259  22331.133835   28.621424\n",
              "32  22396.852848  22338.224125   58.628723\n",
              "33  22411.757309  22351.414274   60.343035\n",
              "34  22419.072302  22360.339659   58.732643\n",
              "35  22415.835549  22367.340352   48.495198\n",
              "36  22421.879729  22371.756114   50.123614\n",
              "37  22424.332768  22375.579399   48.753369\n",
              "38  22416.300475  22376.953048   39.347427\n",
              "39  22418.067176  22376.176439   41.890737\n",
              "40  22440.769355  22376.404022   64.365333\n",
              "41  22465.030323  22379.908556   85.121766\n",
              "42  22461.665045  22383.941624   77.723421\n",
              "43  22464.715873  22385.961598   78.754274\n",
              "44  22437.886840  22388.947322   48.939519\n",
              "45  22447.176785  22387.611891   59.564894\n",
              "46  22455.532316  22388.493428   67.038888\n",
              "47  22463.675297  22388.437561   75.237736\n",
              "48  22482.573898  22388.953604   93.620294\n",
              "49  22493.550781  22391.169151  102.381630"
            ],
            "text/html": [
              "\n",
              "  <div id=\"df-d44101df-1c3e-480f-b06f-fb839a0f2714\" class=\"colab-df-container\">\n",
              "    <div>\n",
              "<style scoped>\n",
              "    .dataframe tbody tr th:only-of-type {\n",
              "        vertical-align: middle;\n",
              "    }\n",
              "\n",
              "    .dataframe tbody tr th {\n",
              "        vertical-align: top;\n",
              "    }\n",
              "\n",
              "    .dataframe thead th {\n",
              "        text-align: right;\n",
              "    }\n",
              "</style>\n",
              "<table border=\"1\" class=\"dataframe\">\n",
              "  <thead>\n",
              "    <tr style=\"text-align: right;\">\n",
              "      <th></th>\n",
              "      <th>Actual</th>\n",
              "      <th>Predicted</th>\n",
              "      <th>Difference</th>\n",
              "    </tr>\n",
              "  </thead>\n",
              "  <tbody>\n",
              "    <tr>\n",
              "      <th>0</th>\n",
              "      <td>22312.274087</td>\n",
              "      <td>22312.426357</td>\n",
              "      <td>-0.152270</td>\n",
              "    </tr>\n",
              "    <tr>\n",
              "      <th>1</th>\n",
              "      <td>22319.336704</td>\n",
              "      <td>22312.858562</td>\n",
              "      <td>6.478142</td>\n",
              "    </tr>\n",
              "    <tr>\n",
              "      <th>2</th>\n",
              "      <td>22306.902933</td>\n",
              "      <td>22315.072090</td>\n",
              "      <td>-8.169157</td>\n",
              "    </tr>\n",
              "    <tr>\n",
              "      <th>3</th>\n",
              "      <td>22302.793730</td>\n",
              "      <td>22310.076414</td>\n",
              "      <td>-7.282684</td>\n",
              "    </tr>\n",
              "    <tr>\n",
              "      <th>4</th>\n",
              "      <td>22295.527537</td>\n",
              "      <td>22307.100712</td>\n",
              "      <td>-11.573175</td>\n",
              "    </tr>\n",
              "    <tr>\n",
              "      <th>5</th>\n",
              "      <td>22272.422358</td>\n",
              "      <td>22302.068390</td>\n",
              "      <td>-29.646032</td>\n",
              "    </tr>\n",
              "    <tr>\n",
              "      <th>6</th>\n",
              "      <td>22258.288297</td>\n",
              "      <td>22287.799260</td>\n",
              "      <td>-29.510963</td>\n",
              "    </tr>\n",
              "    <tr>\n",
              "      <th>7</th>\n",
              "      <td>22234.828843</td>\n",
              "      <td>22273.811113</td>\n",
              "      <td>-38.982270</td>\n",
              "    </tr>\n",
              "    <tr>\n",
              "      <th>8</th>\n",
              "      <td>22251.655155</td>\n",
              "      <td>22252.260534</td>\n",
              "      <td>-0.605379</td>\n",
              "    </tr>\n",
              "    <tr>\n",
              "      <th>9</th>\n",
              "      <td>22259.948799</td>\n",
              "      <td>22254.129360</td>\n",
              "      <td>5.819439</td>\n",
              "    </tr>\n",
              "    <tr>\n",
              "      <th>10</th>\n",
              "      <td>22254.520020</td>\n",
              "      <td>22256.835747</td>\n",
              "      <td>-2.315727</td>\n",
              "    </tr>\n",
              "    <tr>\n",
              "      <th>11</th>\n",
              "      <td>22246.509901</td>\n",
              "      <td>22255.469204</td>\n",
              "      <td>-8.959302</td>\n",
              "    </tr>\n",
              "    <tr>\n",
              "      <th>12</th>\n",
              "      <td>22259.271248</td>\n",
              "      <td>22251.712032</td>\n",
              "      <td>7.559216</td>\n",
              "    </tr>\n",
              "    <tr>\n",
              "      <th>13</th>\n",
              "      <td>22267.892505</td>\n",
              "      <td>22259.230114</td>\n",
              "      <td>8.662390</td>\n",
              "    </tr>\n",
              "    <tr>\n",
              "      <th>14</th>\n",
              "      <td>22283.935066</td>\n",
              "      <td>22264.750210</td>\n",
              "      <td>19.184856</td>\n",
              "    </tr>\n",
              "    <tr>\n",
              "      <th>15</th>\n",
              "      <td>22283.487791</td>\n",
              "      <td>22275.574636</td>\n",
              "      <td>7.913155</td>\n",
              "    </tr>\n",
              "    <tr>\n",
              "      <th>16</th>\n",
              "      <td>22286.746831</td>\n",
              "      <td>22280.454090</td>\n",
              "      <td>6.292740</td>\n",
              "    </tr>\n",
              "    <tr>\n",
              "      <th>17</th>\n",
              "      <td>22282.478327</td>\n",
              "      <td>22285.849438</td>\n",
              "      <td>-3.371111</td>\n",
              "    </tr>\n",
              "    <tr>\n",
              "      <th>18</th>\n",
              "      <td>22285.139430</td>\n",
              "      <td>22285.651921</td>\n",
              "      <td>-0.512491</td>\n",
              "    </tr>\n",
              "    <tr>\n",
              "      <th>19</th>\n",
              "      <td>22286.751318</td>\n",
              "      <td>22287.165275</td>\n",
              "      <td>-0.413957</td>\n",
              "    </tr>\n",
              "    <tr>\n",
              "      <th>20</th>\n",
              "      <td>22307.288133</td>\n",
              "      <td>22287.748778</td>\n",
              "      <td>19.539355</td>\n",
              "    </tr>\n",
              "    <tr>\n",
              "      <th>21</th>\n",
              "      <td>22315.236327</td>\n",
              "      <td>22297.707746</td>\n",
              "      <td>17.528580</td>\n",
              "    </tr>\n",
              "    <tr>\n",
              "      <th>22</th>\n",
              "      <td>22312.278574</td>\n",
              "      <td>22304.598275</td>\n",
              "      <td>7.680299</td>\n",
              "    </tr>\n",
              "    <tr>\n",
              "      <th>23</th>\n",
              "      <td>22308.930984</td>\n",
              "      <td>22307.786751</td>\n",
              "      <td>1.144233</td>\n",
              "    </tr>\n",
              "    <tr>\n",
              "      <th>24</th>\n",
              "      <td>22316.848215</td>\n",
              "      <td>22308.936631</td>\n",
              "      <td>7.911584</td>\n",
              "    </tr>\n",
              "    <tr>\n",
              "      <th>25</th>\n",
              "      <td>22319.367667</td>\n",
              "      <td>22312.945168</td>\n",
              "      <td>6.422499</td>\n",
              "    </tr>\n",
              "    <tr>\n",
              "      <th>26</th>\n",
              "      <td>22318.495404</td>\n",
              "      <td>22314.393680</td>\n",
              "      <td>4.101724</td>\n",
              "    </tr>\n",
              "    <tr>\n",
              "      <th>27</th>\n",
              "      <td>22317.848853</td>\n",
              "      <td>22314.908751</td>\n",
              "      <td>2.940102</td>\n",
              "    </tr>\n",
              "    <tr>\n",
              "      <th>28</th>\n",
              "      <td>22326.261972</td>\n",
              "      <td>22315.487842</td>\n",
              "      <td>10.774130</td>\n",
              "    </tr>\n",
              "    <tr>\n",
              "      <th>29</th>\n",
              "      <td>22344.584960</td>\n",
              "      <td>22319.214724</td>\n",
              "      <td>25.370237</td>\n",
              "    </tr>\n",
              "    <tr>\n",
              "      <th>30</th>\n",
              "      <td>22347.821900</td>\n",
              "      <td>22326.738714</td>\n",
              "      <td>21.083186</td>\n",
              "    </tr>\n",
              "    <tr>\n",
              "      <th>31</th>\n",
              "      <td>22359.755259</td>\n",
              "      <td>22331.133835</td>\n",
              "      <td>28.621424</td>\n",
              "    </tr>\n",
              "    <tr>\n",
              "      <th>32</th>\n",
              "      <td>22396.852848</td>\n",
              "      <td>22338.224125</td>\n",
              "      <td>58.628723</td>\n",
              "    </tr>\n",
              "    <tr>\n",
              "      <th>33</th>\n",
              "      <td>22411.757309</td>\n",
              "      <td>22351.414274</td>\n",
              "      <td>60.343035</td>\n",
              "    </tr>\n",
              "    <tr>\n",
              "      <th>34</th>\n",
              "      <td>22419.072302</td>\n",
              "      <td>22360.339659</td>\n",
              "      <td>58.732643</td>\n",
              "    </tr>\n",
              "    <tr>\n",
              "      <th>35</th>\n",
              "      <td>22415.835549</td>\n",
              "      <td>22367.340352</td>\n",
              "      <td>48.495198</td>\n",
              "    </tr>\n",
              "    <tr>\n",
              "      <th>36</th>\n",
              "      <td>22421.879729</td>\n",
              "      <td>22371.756114</td>\n",
              "      <td>50.123614</td>\n",
              "    </tr>\n",
              "    <tr>\n",
              "      <th>37</th>\n",
              "      <td>22424.332768</td>\n",
              "      <td>22375.579399</td>\n",
              "      <td>48.753369</td>\n",
              "    </tr>\n",
              "    <tr>\n",
              "      <th>38</th>\n",
              "      <td>22416.300475</td>\n",
              "      <td>22376.953048</td>\n",
              "      <td>39.347427</td>\n",
              "    </tr>\n",
              "    <tr>\n",
              "      <th>39</th>\n",
              "      <td>22418.067176</td>\n",
              "      <td>22376.176439</td>\n",
              "      <td>41.890737</td>\n",
              "    </tr>\n",
              "    <tr>\n",
              "      <th>40</th>\n",
              "      <td>22440.769355</td>\n",
              "      <td>22376.404022</td>\n",
              "      <td>64.365333</td>\n",
              "    </tr>\n",
              "    <tr>\n",
              "      <th>41</th>\n",
              "      <td>22465.030323</td>\n",
              "      <td>22379.908556</td>\n",
              "      <td>85.121766</td>\n",
              "    </tr>\n",
              "    <tr>\n",
              "      <th>42</th>\n",
              "      <td>22461.665045</td>\n",
              "      <td>22383.941624</td>\n",
              "      <td>77.723421</td>\n",
              "    </tr>\n",
              "    <tr>\n",
              "      <th>43</th>\n",
              "      <td>22464.715873</td>\n",
              "      <td>22385.961598</td>\n",
              "      <td>78.754274</td>\n",
              "    </tr>\n",
              "    <tr>\n",
              "      <th>44</th>\n",
              "      <td>22437.886840</td>\n",
              "      <td>22388.947322</td>\n",
              "      <td>48.939519</td>\n",
              "    </tr>\n",
              "    <tr>\n",
              "      <th>45</th>\n",
              "      <td>22447.176785</td>\n",
              "      <td>22387.611891</td>\n",
              "      <td>59.564894</td>\n",
              "    </tr>\n",
              "    <tr>\n",
              "      <th>46</th>\n",
              "      <td>22455.532316</td>\n",
              "      <td>22388.493428</td>\n",
              "      <td>67.038888</td>\n",
              "    </tr>\n",
              "    <tr>\n",
              "      <th>47</th>\n",
              "      <td>22463.675297</td>\n",
              "      <td>22388.437561</td>\n",
              "      <td>75.237736</td>\n",
              "    </tr>\n",
              "    <tr>\n",
              "      <th>48</th>\n",
              "      <td>22482.573898</td>\n",
              "      <td>22388.953604</td>\n",
              "      <td>93.620294</td>\n",
              "    </tr>\n",
              "    <tr>\n",
              "      <th>49</th>\n",
              "      <td>22493.550781</td>\n",
              "      <td>22391.169151</td>\n",
              "      <td>102.381630</td>\n",
              "    </tr>\n",
              "  </tbody>\n",
              "</table>\n",
              "</div>\n",
              "    <div class=\"colab-df-buttons\">\n",
              "\n",
              "  <div class=\"colab-df-container\">\n",
              "    <button class=\"colab-df-convert\" onclick=\"convertToInteractive('df-d44101df-1c3e-480f-b06f-fb839a0f2714')\"\n",
              "            title=\"Convert this dataframe to an interactive table.\"\n",
              "            style=\"display:none;\">\n",
              "\n",
              "  <svg xmlns=\"http://www.w3.org/2000/svg\" height=\"24px\" viewBox=\"0 -960 960 960\">\n",
              "    <path d=\"M120-120v-720h720v720H120Zm60-500h600v-160H180v160Zm220 220h160v-160H400v160Zm0 220h160v-160H400v160ZM180-400h160v-160H180v160Zm440 0h160v-160H620v160ZM180-180h160v-160H180v160Zm440 0h160v-160H620v160Z\"/>\n",
              "  </svg>\n",
              "    </button>\n",
              "\n",
              "  <style>\n",
              "    .colab-df-container {\n",
              "      display:flex;\n",
              "      gap: 12px;\n",
              "    }\n",
              "\n",
              "    .colab-df-convert {\n",
              "      background-color: #E8F0FE;\n",
              "      border: none;\n",
              "      border-radius: 50%;\n",
              "      cursor: pointer;\n",
              "      display: none;\n",
              "      fill: #1967D2;\n",
              "      height: 32px;\n",
              "      padding: 0 0 0 0;\n",
              "      width: 32px;\n",
              "    }\n",
              "\n",
              "    .colab-df-convert:hover {\n",
              "      background-color: #E2EBFA;\n",
              "      box-shadow: 0px 1px 2px rgba(60, 64, 67, 0.3), 0px 1px 3px 1px rgba(60, 64, 67, 0.15);\n",
              "      fill: #174EA6;\n",
              "    }\n",
              "\n",
              "    .colab-df-buttons div {\n",
              "      margin-bottom: 4px;\n",
              "    }\n",
              "\n",
              "    [theme=dark] .colab-df-convert {\n",
              "      background-color: #3B4455;\n",
              "      fill: #D2E3FC;\n",
              "    }\n",
              "\n",
              "    [theme=dark] .colab-df-convert:hover {\n",
              "      background-color: #434B5C;\n",
              "      box-shadow: 0px 1px 3px 1px rgba(0, 0, 0, 0.15);\n",
              "      filter: drop-shadow(0px 1px 2px rgba(0, 0, 0, 0.3));\n",
              "      fill: #FFFFFF;\n",
              "    }\n",
              "  </style>\n",
              "\n",
              "    <script>\n",
              "      const buttonEl =\n",
              "        document.querySelector('#df-d44101df-1c3e-480f-b06f-fb839a0f2714 button.colab-df-convert');\n",
              "      buttonEl.style.display =\n",
              "        google.colab.kernel.accessAllowed ? 'block' : 'none';\n",
              "\n",
              "      async function convertToInteractive(key) {\n",
              "        const element = document.querySelector('#df-d44101df-1c3e-480f-b06f-fb839a0f2714');\n",
              "        const dataTable =\n",
              "          await google.colab.kernel.invokeFunction('convertToInteractive',\n",
              "                                                    [key], {});\n",
              "        if (!dataTable) return;\n",
              "\n",
              "        const docLinkHtml = 'Like what you see? Visit the ' +\n",
              "          '<a target=\"_blank\" href=https://colab.research.google.com/notebooks/data_table.ipynb>data table notebook</a>'\n",
              "          + ' to learn more about interactive tables.';\n",
              "        element.innerHTML = '';\n",
              "        dataTable['output_type'] = 'display_data';\n",
              "        await google.colab.output.renderOutput(dataTable, element);\n",
              "        const docLink = document.createElement('div');\n",
              "        docLink.innerHTML = docLinkHtml;\n",
              "        element.appendChild(docLink);\n",
              "      }\n",
              "    </script>\n",
              "  </div>\n",
              "\n",
              "\n",
              "<div id=\"df-be3ef795-756f-49aa-af27-d46978ffa715\">\n",
              "  <button class=\"colab-df-quickchart\" onclick=\"quickchart('df-be3ef795-756f-49aa-af27-d46978ffa715')\"\n",
              "            title=\"Suggest charts\"\n",
              "            style=\"display:none;\">\n",
              "\n",
              "<svg xmlns=\"http://www.w3.org/2000/svg\" height=\"24px\"viewBox=\"0 0 24 24\"\n",
              "     width=\"24px\">\n",
              "    <g>\n",
              "        <path d=\"M19 3H5c-1.1 0-2 .9-2 2v14c0 1.1.9 2 2 2h14c1.1 0 2-.9 2-2V5c0-1.1-.9-2-2-2zM9 17H7v-7h2v7zm4 0h-2V7h2v10zm4 0h-2v-4h2v4z\"/>\n",
              "    </g>\n",
              "</svg>\n",
              "  </button>\n",
              "\n",
              "<style>\n",
              "  .colab-df-quickchart {\n",
              "      --bg-color: #E8F0FE;\n",
              "      --fill-color: #1967D2;\n",
              "      --hover-bg-color: #E2EBFA;\n",
              "      --hover-fill-color: #174EA6;\n",
              "      --disabled-fill-color: #AAA;\n",
              "      --disabled-bg-color: #DDD;\n",
              "  }\n",
              "\n",
              "  [theme=dark] .colab-df-quickchart {\n",
              "      --bg-color: #3B4455;\n",
              "      --fill-color: #D2E3FC;\n",
              "      --hover-bg-color: #434B5C;\n",
              "      --hover-fill-color: #FFFFFF;\n",
              "      --disabled-bg-color: #3B4455;\n",
              "      --disabled-fill-color: #666;\n",
              "  }\n",
              "\n",
              "  .colab-df-quickchart {\n",
              "    background-color: var(--bg-color);\n",
              "    border: none;\n",
              "    border-radius: 50%;\n",
              "    cursor: pointer;\n",
              "    display: none;\n",
              "    fill: var(--fill-color);\n",
              "    height: 32px;\n",
              "    padding: 0;\n",
              "    width: 32px;\n",
              "  }\n",
              "\n",
              "  .colab-df-quickchart:hover {\n",
              "    background-color: var(--hover-bg-color);\n",
              "    box-shadow: 0 1px 2px rgba(60, 64, 67, 0.3), 0 1px 3px 1px rgba(60, 64, 67, 0.15);\n",
              "    fill: var(--button-hover-fill-color);\n",
              "  }\n",
              "\n",
              "  .colab-df-quickchart-complete:disabled,\n",
              "  .colab-df-quickchart-complete:disabled:hover {\n",
              "    background-color: var(--disabled-bg-color);\n",
              "    fill: var(--disabled-fill-color);\n",
              "    box-shadow: none;\n",
              "  }\n",
              "\n",
              "  .colab-df-spinner {\n",
              "    border: 2px solid var(--fill-color);\n",
              "    border-color: transparent;\n",
              "    border-bottom-color: var(--fill-color);\n",
              "    animation:\n",
              "      spin 1s steps(1) infinite;\n",
              "  }\n",
              "\n",
              "  @keyframes spin {\n",
              "    0% {\n",
              "      border-color: transparent;\n",
              "      border-bottom-color: var(--fill-color);\n",
              "      border-left-color: var(--fill-color);\n",
              "    }\n",
              "    20% {\n",
              "      border-color: transparent;\n",
              "      border-left-color: var(--fill-color);\n",
              "      border-top-color: var(--fill-color);\n",
              "    }\n",
              "    30% {\n",
              "      border-color: transparent;\n",
              "      border-left-color: var(--fill-color);\n",
              "      border-top-color: var(--fill-color);\n",
              "      border-right-color: var(--fill-color);\n",
              "    }\n",
              "    40% {\n",
              "      border-color: transparent;\n",
              "      border-right-color: var(--fill-color);\n",
              "      border-top-color: var(--fill-color);\n",
              "    }\n",
              "    60% {\n",
              "      border-color: transparent;\n",
              "      border-right-color: var(--fill-color);\n",
              "    }\n",
              "    80% {\n",
              "      border-color: transparent;\n",
              "      border-right-color: var(--fill-color);\n",
              "      border-bottom-color: var(--fill-color);\n",
              "    }\n",
              "    90% {\n",
              "      border-color: transparent;\n",
              "      border-bottom-color: var(--fill-color);\n",
              "    }\n",
              "  }\n",
              "</style>\n",
              "\n",
              "  <script>\n",
              "    async function quickchart(key) {\n",
              "      const quickchartButtonEl =\n",
              "        document.querySelector('#' + key + ' button');\n",
              "      quickchartButtonEl.disabled = true;  // To prevent multiple clicks.\n",
              "      quickchartButtonEl.classList.add('colab-df-spinner');\n",
              "      try {\n",
              "        const charts = await google.colab.kernel.invokeFunction(\n",
              "            'suggestCharts', [key], {});\n",
              "      } catch (error) {\n",
              "        console.error('Error during call to suggestCharts:', error);\n",
              "      }\n",
              "      quickchartButtonEl.classList.remove('colab-df-spinner');\n",
              "      quickchartButtonEl.classList.add('colab-df-quickchart-complete');\n",
              "    }\n",
              "    (() => {\n",
              "      let quickchartButtonEl =\n",
              "        document.querySelector('#df-be3ef795-756f-49aa-af27-d46978ffa715 button');\n",
              "      quickchartButtonEl.style.display =\n",
              "        google.colab.kernel.accessAllowed ? 'block' : 'none';\n",
              "    })();\n",
              "  </script>\n",
              "</div>\n",
              "\n",
              "  <div id=\"id_cd416998-782b-402a-9ca4-9898aad5d3f8\">\n",
              "    <style>\n",
              "      .colab-df-generate {\n",
              "        background-color: #E8F0FE;\n",
              "        border: none;\n",
              "        border-radius: 50%;\n",
              "        cursor: pointer;\n",
              "        display: none;\n",
              "        fill: #1967D2;\n",
              "        height: 32px;\n",
              "        padding: 0 0 0 0;\n",
              "        width: 32px;\n",
              "      }\n",
              "\n",
              "      .colab-df-generate:hover {\n",
              "        background-color: #E2EBFA;\n",
              "        box-shadow: 0px 1px 2px rgba(60, 64, 67, 0.3), 0px 1px 3px 1px rgba(60, 64, 67, 0.15);\n",
              "        fill: #174EA6;\n",
              "      }\n",
              "\n",
              "      [theme=dark] .colab-df-generate {\n",
              "        background-color: #3B4455;\n",
              "        fill: #D2E3FC;\n",
              "      }\n",
              "\n",
              "      [theme=dark] .colab-df-generate:hover {\n",
              "        background-color: #434B5C;\n",
              "        box-shadow: 0px 1px 3px 1px rgba(0, 0, 0, 0.15);\n",
              "        filter: drop-shadow(0px 1px 2px rgba(0, 0, 0, 0.3));\n",
              "        fill: #FFFFFF;\n",
              "      }\n",
              "    </style>\n",
              "    <button class=\"colab-df-generate\" onclick=\"generateWithVariable('newdf')\"\n",
              "            title=\"Generate code using this dataframe.\"\n",
              "            style=\"display:none;\">\n",
              "\n",
              "  <svg xmlns=\"http://www.w3.org/2000/svg\" height=\"24px\"viewBox=\"0 0 24 24\"\n",
              "       width=\"24px\">\n",
              "    <path d=\"M7,19H8.4L18.45,9,17,7.55,7,17.6ZM5,21V16.75L18.45,3.32a2,2,0,0,1,2.83,0l1.4,1.43a1.91,1.91,0,0,1,.58,1.4,1.91,1.91,0,0,1-.58,1.4L9.25,21ZM18.45,9,17,7.55Zm-12,3A5.31,5.31,0,0,0,4.9,8.1,5.31,5.31,0,0,0,1,6.5,5.31,5.31,0,0,0,4.9,4.9,5.31,5.31,0,0,0,6.5,1,5.31,5.31,0,0,0,8.1,4.9,5.31,5.31,0,0,0,12,6.5,5.46,5.46,0,0,0,6.5,12Z\"/>\n",
              "  </svg>\n",
              "    </button>\n",
              "    <script>\n",
              "      (() => {\n",
              "      const buttonEl =\n",
              "        document.querySelector('#id_cd416998-782b-402a-9ca4-9898aad5d3f8 button.colab-df-generate');\n",
              "      buttonEl.style.display =\n",
              "        google.colab.kernel.accessAllowed ? 'block' : 'none';\n",
              "\n",
              "      buttonEl.onclick = () => {\n",
              "        google.colab.notebook.generateWithVariable('newdf');\n",
              "      }\n",
              "      })();\n",
              "    </script>\n",
              "  </div>\n",
              "\n",
              "    </div>\n",
              "  </div>\n"
            ],
            "application/vnd.google.colaboratory.intrinsic+json": {
              "type": "dataframe",
              "variable_name": "newdf",
              "summary": "{\n  \"name\": \"newdf\",\n  \"rows\": 50,\n  \"fields\": [\n    {\n      \"column\": \"Actual\",\n      \"properties\": {\n        \"dtype\": \"number\",\n        \"std\": 76.56026906567406,\n        \"min\": 22234.8288429901,\n        \"max\": 22493.55078125,\n        \"num_unique_values\": 50,\n        \"samples\": [\n          22267.892504550517,\n          22418.067176260054,\n          22347.821899972856\n        ],\n        \"semantic_type\": \"\",\n        \"description\": \"\"\n      }\n    },\n    {\n      \"column\": \"Predicted\",\n      \"properties\": {\n        \"dtype\": \"number\",\n        \"std\": 45.69684334502872,\n        \"min\": 22251.712032154202,\n        \"max\": 22391.169151321054,\n        \"num_unique_values\": 50,\n        \"samples\": [\n          22259.230114355683,\n          22376.17643928528,\n          22326.738714188337\n        ],\n        \"semantic_type\": \"\",\n        \"description\": \"\"\n      }\n    },\n    {\n      \"column\": \"Difference\",\n      \"properties\": {\n        \"dtype\": \"number\",\n        \"std\": 34.06602622481752,\n        \"min\": -38.9822703525424,\n        \"max\": 102.3816299289465,\n        \"num_unique_values\": 50,\n        \"samples\": [\n          8.662390194833279,\n          41.89073697477579,\n          21.08318578451872\n        ],\n        \"semantic_type\": \"\",\n        \"description\": \"\"\n      }\n    }\n  ]\n}"
            }
          },
          "metadata": {},
          "execution_count": 354
        }
      ]
    },
    {
      "cell_type": "markdown",
      "source": [
        "#Unseen Data"
      ],
      "metadata": {
        "id": "ZJ1nzJ_bkeuU"
      }
    },
    {
      "cell_type": "code",
      "source": [
        "X_test.shape"
      ],
      "metadata": {
        "colab": {
          "base_uri": "https://localhost:8080/"
        },
        "id": "WmV_a4F53yWJ",
        "outputId": "8ae1450e-0d77-4b7a-88a4-16f5809ce21a"
      },
      "execution_count": 355,
      "outputs": [
        {
          "output_type": "execute_result",
          "data": {
            "text/plain": [
              "torch.Size([44, 6, 1])"
            ]
          },
          "metadata": {},
          "execution_count": 355
        }
      ]
    },
    {
      "cell_type": "code",
      "source": [
        "unseen_predictions = model(X_test.to(device)).detach().cpu().numpy().flatten()\n",
        "\n",
        "dummies = np.zeros((X_test.shape[0], lookback+1))\n",
        "dummies[:, 0] = unseen_predictions\n",
        "dummies = scaler.inverse_transform(dummies)\n",
        "\n",
        "unseen_predictions = dc(dummies[:, 0])\n",
        "unseen_predictions"
      ],
      "metadata": {
        "colab": {
          "base_uri": "https://localhost:8080/"
        },
        "id": "JbxdrP-8kibD",
        "outputId": "1d20d285-3438-4656-fd6e-53e7f61cb392"
      },
      "execution_count": 356,
      "outputs": [
        {
          "output_type": "execute_result",
          "data": {
            "text/plain": [
              "array([21628.69115006, 21598.09387777, 21648.9410937 , 21677.54183816,\n",
              "       21874.09222668, 22037.32523219, 22066.14178011, 21822.92971932,\n",
              "       21624.03701637, 21646.27329785, 21507.78316212, 21500.74515005,\n",
              "       21484.28698637, 21732.06502339, 21638.53133499, 21722.78495144,\n",
              "       21732.78542774, 21850.65386276, 21820.38080047, 21927.20489272,\n",
              "       21960.88324448, 21821.86177082, 21801.74601722, 21702.52754761,\n",
              "       21748.52359842, 21844.79542166, 21920.7231607 , 22027.55547974,\n",
              "       22105.44627856, 22175.1811952 , 22139.58592843, 22210.48306501,\n",
              "       22210.02071986, 22129.52053533, 22180.46406071, 21922.68786584,\n",
              "       21902.28922311, 22170.51758201, 22262.37738203, 22302.345707  ,\n",
              "       22361.99787952, 22383.66886888, 22356.37457481, 22353.39139405])"
            ]
          },
          "metadata": {},
          "execution_count": 356
        }
      ]
    },
    {
      "cell_type": "code",
      "source": [
        "dummies = np.zeros((X_test.shape[0], lookback+1))\n",
        "dummies[:, 0] = y_test.flatten()\n",
        "dummies = scaler.inverse_transform(dummies)\n",
        "\n",
        "new_y_unseen = dc(dummies[:, 0])\n",
        "new_y_unseen"
      ],
      "metadata": {
        "colab": {
          "base_uri": "https://localhost:8080/"
        },
        "id": "-jncK53-kwlk",
        "outputId": "4869996e-0098-4f53-dcfd-9beaf1627f82"
      },
      "execution_count": 357,
      "outputs": [
        {
          "output_type": "execute_result",
          "data": {
            "text/plain": [
              "array([21544.8496019 , 21618.69921839, 21647.19922217, 21894.55078235,\n",
              "       22097.44921067, 22032.30078113, 21571.9492204 , 21462.25001738,\n",
              "       21622.40039156, 21238.80078125, 21453.94923165, 21352.59961414,\n",
              "       21737.59960974, 21522.09959528, 21725.69921421, 21697.44921112,\n",
              "       21853.80078102, 21771.69921948, 21929.40039182, 21930.49999941,\n",
              "       21717.94922089, 21782.50000275, 21616.05077418, 21743.24999739,\n",
              "       21840.05078168, 21910.75000105, 22040.6992225 , 22122.25000449,\n",
              "       22196.9492232 , 22055.05078775, 22217.44920492, 22212.69921052,\n",
              "       22122.05078548, 22198.34960848, 21951.15039101, 21982.8007849 ,\n",
              "       22338.750003  , 22405.5996002 , 22356.30079553, 22474.05076489,\n",
              "       22493.55078125, 22332.650405  , 22335.69921305, 21997.69921614])"
            ]
          },
          "metadata": {},
          "execution_count": 357
        }
      ]
    },
    {
      "cell_type": "code",
      "source": [
        "plt.figure(figsize=(15,7))\n",
        "plt.plot(new_y_unseen, label='Actual Close',color = '#27aeef')\n",
        "plt.plot(unseen_predictions, label='Predicted Close', color = '#f46a9b')\n",
        "plt.xlabel('Day')\n",
        "plt.ylabel('Close')\n",
        "plt.title(\"Predictions for NIFTY 1st January 2024 to 15th March 2024\")\n",
        "plt.legend()\n",
        "plt.show()"
      ],
      "metadata": {
        "colab": {
          "base_uri": "https://localhost:8080/",
          "height": 602
        },
        "id": "_rhC-LMmk5cO",
        "outputId": "88363a2b-6495-449a-8a71-a0e64ae7ceb1"
      },
      "execution_count": 358,
      "outputs": [
        {
          "output_type": "display_data",
          "data": {
            "text/plain": [
              "<Figure size 1500x700 with 1 Axes>"
            ],
            "image/png": "[encoded data removed]"
          },
          "metadata": {}
        }
      ]
    },
    {
      "cell_type": "code",
      "source": [
        "rmse = np.sqrt(np.mean((unseen_predictions - new_y_unseen)**2))\n",
        "print(f\"Score (RMSE): {rmse:.4f}\")"
      ],
      "metadata": {
        "colab": {
          "base_uri": "https://localhost:8080/"
        },
        "id": "3TRl7kPwdnTw",
        "outputId": "3173f7ca-5927-4c94-8571-0c11e87c2573"
      },
      "execution_count": 359,
      "outputs": [
        {
          "output_type": "stream",
          "name": "stdout",
          "text": [
            "Score (RMSE): 183.4140\n"
          ]
        }
      ]
    },
    {
      "cell_type": "code",
      "source": [
        "neww=pd.DataFrame()\n",
        "neww[\"Actual\"]=new_y_unseen\n",
        "neww[\"Predicted\"]=unseen_predictions\n",
        "neww[\"Difference\"]=neww[\"Actual\"]-neww[\"Predicted\"]"
      ],
      "metadata": {
        "id": "OVnOL805xTe9"
      },
      "execution_count": 360,
      "outputs": []
    },
    {
      "cell_type": "code",
      "source": [
        "neww"
      ],
      "metadata": {
        "colab": {
          "base_uri": "https://localhost:8080/",
          "height": 1000
        },
        "id": "aMK7-7GRxcMy",
        "outputId": "29e33f9d-515b-49f5-9049-a1dfd66709d4"
      },
      "execution_count": 361,
      "outputs": [
        {
          "output_type": "execute_result",
          "data": {
            "text/plain": [
              "          Actual     Predicted  Difference\n",
              "0   21544.849602  21628.691150  -83.841548\n",
              "1   21618.699218  21598.093878   20.605341\n",
              "2   21647.199222  21648.941094   -1.741872\n",
              "3   21894.550782  21677.541838  217.008944\n",
              "4   22097.449211  21874.092227  223.356984\n",
              "5   22032.300781  22037.325232   -5.024451\n",
              "6   21571.949220  22066.141780 -494.192560\n",
              "7   21462.250017  21822.929719 -360.679702\n",
              "8   21622.400392  21624.037016   -1.636625\n",
              "9   21238.800781  21646.273298 -407.472517\n",
              "10  21453.949232  21507.783162  -53.833930\n",
              "11  21352.599614  21500.745150 -148.145536\n",
              "12  21737.599610  21484.286986  253.312623\n",
              "13  21522.099595  21732.065023 -209.965428\n",
              "14  21725.699214  21638.531335   87.167879\n",
              "15  21697.449211  21722.784951  -25.335740\n",
              "16  21853.800781  21732.785428  121.015353\n",
              "17  21771.699219  21850.653863  -78.954643\n",
              "18  21929.400392  21820.380800  109.019591\n",
              "19  21930.499999  21927.204893    3.295107\n",
              "20  21717.949221  21960.883244 -242.934024\n",
              "21  21782.500003  21821.861771  -39.361768\n",
              "22  21616.050774  21801.746017 -185.695243\n",
              "23  21743.249997  21702.527548   40.722450\n",
              "24  21840.050782  21748.523598   91.527183\n",
              "25  21910.750001  21844.795422   65.954579\n",
              "26  22040.699222  21920.723161  119.976062\n",
              "27  22122.250004  22027.555480   94.694525\n",
              "28  22196.949223  22105.446279   91.502945\n",
              "29  22055.050788  22175.181195 -120.130407\n",
              "30  22217.449205  22139.585928   77.863276\n",
              "31  22212.699211  22210.483065    2.216146\n",
              "32  22122.050785  22210.020720  -87.969934\n",
              "33  22198.349608  22129.520535   68.829073\n",
              "34  21951.150391  22180.464061 -229.313670\n",
              "35  21982.800785  21922.687866   60.112919\n",
              "36  22338.750003  21902.289223  436.460780\n",
              "37  22405.599600  22170.517582  235.082018\n",
              "38  22356.300796  22262.377382   93.923414\n",
              "39  22474.050765  22302.345707  171.705058\n",
              "40  22493.550781  22361.997880  131.552902\n",
              "41  22332.650405  22383.668869  -51.018464\n",
              "42  22335.699213  22356.374575  -20.675362\n",
              "43  21997.699216  22353.391394 -355.692178"
            ],
            "text/html": [
              "\n",
              "  <div id=\"df-cf613f93-4fa3-4e5d-811d-e813db9f1eaa\" class=\"colab-df-container\">\n",
              "    <div>\n",
              "<style scoped>\n",
              "    .dataframe tbody tr th:only-of-type {\n",
              "        vertical-align: middle;\n",
              "    }\n",
              "\n",
              "    .dataframe tbody tr th {\n",
              "        vertical-align: top;\n",
              "    }\n",
              "\n",
              "    .dataframe thead th {\n",
              "        text-align: right;\n",
              "    }\n",
              "</style>\n",
              "<table border=\"1\" class=\"dataframe\">\n",
              "  <thead>\n",
              "    <tr style=\"text-align: right;\">\n",
              "      <th></th>\n",
              "      <th>Actual</th>\n",
              "      <th>Predicted</th>\n",
              "      <th>Difference</th>\n",
              "    </tr>\n",
              "  </thead>\n",
              "  <tbody>\n",
              "    <tr>\n",
              "      <th>0</th>\n",
              "      <td>21544.849602</td>\n",
              "      <td>21628.691150</td>\n",
              "      <td>-83.841548</td>\n",
              "    </tr>\n",
              "    <tr>\n",
              "      <th>1</th>\n",
              "      <td>21618.699218</td>\n",
              "      <td>21598.093878</td>\n",
              "      <td>20.605341</td>\n",
              "    </tr>\n",
              "    <tr>\n",
              "      <th>2</th>\n",
              "      <td>21647.199222</td>\n",
              "      <td>21648.941094</td>\n",
              "      <td>-1.741872</td>\n",
              "    </tr>\n",
              "    <tr>\n",
              "      <th>3</th>\n",
              "      <td>21894.550782</td>\n",
              "      <td>21677.541838</td>\n",
              "      <td>217.008944</td>\n",
              "    </tr>\n",
              "    <tr>\n",
              "      <th>4</th>\n",
              "      <td>22097.449211</td>\n",
              "      <td>21874.092227</td>\n",
              "      <td>223.356984</td>\n",
              "    </tr>\n",
              "    <tr>\n",
              "      <th>5</th>\n",
              "      <td>22032.300781</td>\n",
              "      <td>22037.325232</td>\n",
              "      <td>-5.024451</td>\n",
              "    </tr>\n",
              "    <tr>\n",
              "      <th>6</th>\n",
              "      <td>21571.949220</td>\n",
              "      <td>22066.141780</td>\n",
              "      <td>-494.192560</td>\n",
              "    </tr>\n",
              "    <tr>\n",
              "      <th>7</th>\n",
              "      <td>21462.250017</td>\n",
              "      <td>21822.929719</td>\n",
              "      <td>-360.679702</td>\n",
              "    </tr>\n",
              "    <tr>\n",
              "      <th>8</th>\n",
              "      <td>21622.400392</td>\n",
              "      <td>21624.037016</td>\n",
              "      <td>-1.636625</td>\n",
              "    </tr>\n",
              "    <tr>\n",
              "      <th>9</th>\n",
              "      <td>21238.800781</td>\n",
              "      <td>21646.273298</td>\n",
              "      <td>-407.472517</td>\n",
              "    </tr>\n",
              "    <tr>\n",
              "      <th>10</th>\n",
              "      <td>21453.949232</td>\n",
              "      <td>21507.783162</td>\n",
              "      <td>-53.833930</td>\n",
              "    </tr>\n",
              "    <tr>\n",
              "      <th>11</th>\n",
              "      <td>21352.599614</td>\n",
              "      <td>21500.745150</td>\n",
              "      <td>-148.145536</td>\n",
              "    </tr>\n",
              "    <tr>\n",
              "      <th>12</th>\n",
              "      <td>21737.599610</td>\n",
              "      <td>21484.286986</td>\n",
              "      <td>253.312623</td>\n",
              "    </tr>\n",
              "    <tr>\n",
              "      <th>13</th>\n",
              "      <td>21522.099595</td>\n",
              "      <td>21732.065023</td>\n",
              "      <td>-209.965428</td>\n",
              "    </tr>\n",
              "    <tr>\n",
              "      <th>14</th>\n",
              "      <td>21725.699214</td>\n",
              "      <td>21638.531335</td>\n",
              "      <td>87.167879</td>\n",
              "    </tr>\n",
              "    <tr>\n",
              "      <th>15</th>\n",
              "      <td>21697.449211</td>\n",
              "      <td>21722.784951</td>\n",
              "      <td>-25.335740</td>\n",
              "    </tr>\n",
              "    <tr>\n",
              "      <th>16</th>\n",
              "      <td>21853.800781</td>\n",
              "      <td>21732.785428</td>\n",
              "      <td>121.015353</td>\n",
              "    </tr>\n",
              "    <tr>\n",
              "      <th>17</th>\n",
              "      <td>21771.699219</td>\n",
              "      <td>21850.653863</td>\n",
              "      <td>-78.954643</td>\n",
              "    </tr>\n",
              "    <tr>\n",
              "      <th>18</th>\n",
              "      <td>21929.400392</td>\n",
              "      <td>21820.380800</td>\n",
              "      <td>109.019591</td>\n",
              "    </tr>\n",
              "    <tr>\n",
              "      <th>19</th>\n",
              "      <td>21930.499999</td>\n",
              "      <td>21927.204893</td>\n",
              "      <td>3.295107</td>\n",
              "    </tr>\n",
              "    <tr>\n",
              "      <th>20</th>\n",
              "      <td>21717.949221</td>\n",
              "      <td>21960.883244</td>\n",
              "      <td>-242.934024</td>\n",
              "    </tr>\n",
              "    <tr>\n",
              "      <th>21</th>\n",
              "      <td>21782.500003</td>\n",
              "      <td>21821.861771</td>\n",
              "      <td>-39.361768</td>\n",
              "    </tr>\n",
              "    <tr>\n",
              "      <th>22</th>\n",
              "      <td>21616.050774</td>\n",
              "      <td>21801.746017</td>\n",
              "      <td>-185.695243</td>\n",
              "    </tr>\n",
              "    <tr>\n",
              "      <th>23</th>\n",
              "      <td>21743.249997</td>\n",
              "      <td>21702.527548</td>\n",
              "      <td>40.722450</td>\n",
              "    </tr>\n",
              "    <tr>\n",
              "      <th>24</th>\n",
              "      <td>21840.050782</td>\n",
              "      <td>21748.523598</td>\n",
              "      <td>91.527183</td>\n",
              "    </tr>\n",
              "    <tr>\n",
              "      <th>25</th>\n",
              "      <td>21910.750001</td>\n",
              "      <td>21844.795422</td>\n",
              "      <td>65.954579</td>\n",
              "    </tr>\n",
              "    <tr>\n",
              "      <th>26</th>\n",
              "      <td>22040.699222</td>\n",
              "      <td>21920.723161</td>\n",
              "      <td>119.976062</td>\n",
              "    </tr>\n",
              "    <tr>\n",
              "      <th>27</th>\n",
              "      <td>22122.250004</td>\n",
              "      <td>22027.555480</td>\n",
              "      <td>94.694525</td>\n",
              "    </tr>\n",
              "    <tr>\n",
              "      <th>28</th>\n",
              "      <td>22196.949223</td>\n",
              "      <td>22105.446279</td>\n",
              "      <td>91.502945</td>\n",
              "    </tr>\n",
              "    <tr>\n",
              "      <th>29</th>\n",
              "      <td>22055.050788</td>\n",
              "      <td>22175.181195</td>\n",
              "      <td>-120.130407</td>\n",
              "    </tr>\n",
              "    <tr>\n",
              "      <th>30</th>\n",
              "      <td>22217.449205</td>\n",
              "      <td>22139.585928</td>\n",
              "      <td>77.863276</td>\n",
              "    </tr>\n",
              "    <tr>\n",
              "      <th>31</th>\n",
              "      <td>22212.699211</td>\n",
              "      <td>22210.483065</td>\n",
              "      <td>2.216146</td>\n",
              "    </tr>\n",
              "    <tr>\n",
              "      <th>32</th>\n",
              "      <td>22122.050785</td>\n",
              "      <td>22210.020720</td>\n",
              "      <td>-87.969934</td>\n",
              "    </tr>\n",
              "    <tr>\n",
              "      <th>33</th>\n",
              "      <td>22198.349608</td>\n",
              "      <td>22129.520535</td>\n",
              "      <td>68.829073</td>\n",
              "    </tr>\n",
              "    <tr>\n",
              "      <th>34</th>\n",
              "      <td>21951.150391</td>\n",
              "      <td>22180.464061</td>\n",
              "      <td>-229.313670</td>\n",
              "    </tr>\n",
              "    <tr>\n",
              "      <th>35</th>\n",
              "      <td>21982.800785</td>\n",
              "      <td>21922.687866</td>\n",
              "      <td>60.112919</td>\n",
              "    </tr>\n",
              "    <tr>\n",
              "      <th>36</th>\n",
              "      <td>22338.750003</td>\n",
              "      <td>21902.289223</td>\n",
              "      <td>436.460780</td>\n",
              "    </tr>\n",
              "    <tr>\n",
              "      <th>37</th>\n",
              "      <td>22405.599600</td>\n",
              "      <td>22170.517582</td>\n",
              "      <td>235.082018</td>\n",
              "    </tr>\n",
              "    <tr>\n",
              "      <th>38</th>\n",
              "      <td>22356.300796</td>\n",
              "      <td>22262.377382</td>\n",
              "      <td>93.923414</td>\n",
              "    </tr>\n",
              "    <tr>\n",
              "      <th>39</th>\n",
              "      <td>22474.050765</td>\n",
              "      <td>22302.345707</td>\n",
              "      <td>171.705058</td>\n",
              "    </tr>\n",
              "    <tr>\n",
              "      <th>40</th>\n",
              "      <td>22493.550781</td>\n",
              "      <td>22361.997880</td>\n",
              "      <td>131.552902</td>\n",
              "    </tr>\n",
              "    <tr>\n",
              "      <th>41</th>\n",
              "      <td>22332.650405</td>\n",
              "      <td>22383.668869</td>\n",
              "      <td>-51.018464</td>\n",
              "    </tr>\n",
              "    <tr>\n",
              "      <th>42</th>\n",
              "      <td>22335.699213</td>\n",
              "      <td>22356.374575</td>\n",
              "      <td>-20.675362</td>\n",
              "    </tr>\n",
              "    <tr>\n",
              "      <th>43</th>\n",
              "      <td>21997.699216</td>\n",
              "      <td>22353.391394</td>\n",
              "      <td>-355.692178</td>\n",
              "    </tr>\n",
              "  </tbody>\n",
              "</table>\n",
              "</div>\n",
              "    <div class=\"colab-df-buttons\">\n",
              "\n",
              "  <div class=\"colab-df-container\">\n",
              "    <button class=\"colab-df-convert\" onclick=\"convertToInteractive('df-cf613f93-4fa3-4e5d-811d-e813db9f1eaa')\"\n",
              "            title=\"Convert this dataframe to an interactive table.\"\n",
              "            style=\"display:none;\">\n",
              "\n",
              "  <svg xmlns=\"http://www.w3.org/2000/svg\" height=\"24px\" viewBox=\"0 -960 960 960\">\n",
              "    <path d=\"M120-120v-720h720v720H120Zm60-500h600v-160H180v160Zm220 220h160v-160H400v160Zm0 220h160v-160H400v160ZM180-400h160v-160H180v160Zm440 0h160v-160H620v160ZM180-180h160v-160H180v160Zm440 0h160v-160H620v160Z\"/>\n",
              "  </svg>\n",
              "    </button>\n",
              "\n",
              "  <style>\n",
              "    .colab-df-container {\n",
              "      display:flex;\n",
              "      gap: 12px;\n",
              "    }\n",
              "\n",
              "    .colab-df-convert {\n",
              "      background-color: #E8F0FE;\n",
              "      border: none;\n",
              "      border-radius: 50%;\n",
              "      cursor: pointer;\n",
              "      display: none;\n",
              "      fill: #1967D2;\n",
              "      height: 32px;\n",
              "      padding: 0 0 0 0;\n",
              "      width: 32px;\n",
              "    }\n",
              "\n",
              "    .colab-df-convert:hover {\n",
              "      background-color: #E2EBFA;\n",
              "      box-shadow: 0px 1px 2px rgba(60, 64, 67, 0.3), 0px 1px 3px 1px rgba(60, 64, 67, 0.15);\n",
              "      fill: #174EA6;\n",
              "    }\n",
              "\n",
              "    .colab-df-buttons div {\n",
              "      margin-bottom: 4px;\n",
              "    }\n",
              "\n",
              "    [theme=dark] .colab-df-convert {\n",
              "      background-color: #3B4455;\n",
              "      fill: #D2E3FC;\n",
              "    }\n",
              "\n",
              "    [theme=dark] .colab-df-convert:hover {\n",
              "      background-color: #434B5C;\n",
              "      box-shadow: 0px 1px 3px 1px rgba(0, 0, 0, 0.15);\n",
              "      filter: drop-shadow(0px 1px 2px rgba(0, 0, 0, 0.3));\n",
              "      fill: #FFFFFF;\n",
              "    }\n",
              "  </style>\n",
              "\n",
              "    <script>\n",
              "      const buttonEl =\n",
              "        document.querySelector('#df-cf613f93-4fa3-4e5d-811d-e813db9f1eaa button.colab-df-convert');\n",
              "      buttonEl.style.display =\n",
              "        google.colab.kernel.accessAllowed ? 'block' : 'none';\n",
              "\n",
              "      async function convertToInteractive(key) {\n",
              "        const element = document.querySelector('#df-cf613f93-4fa3-4e5d-811d-e813db9f1eaa');\n",
              "        const dataTable =\n",
              "          await google.colab.kernel.invokeFunction('convertToInteractive',\n",
              "                                                    [key], {});\n",
              "        if (!dataTable) return;\n",
              "\n",
              "        const docLinkHtml = 'Like what you see? Visit the ' +\n",
              "          '<a target=\"_blank\" href=https://colab.research.google.com/notebooks/data_table.ipynb>data table notebook</a>'\n",
              "          + ' to learn more about interactive tables.';\n",
              "        element.innerHTML = '';\n",
              "        dataTable['output_type'] = 'display_data';\n",
              "        await google.colab.output.renderOutput(dataTable, element);\n",
              "        const docLink = document.createElement('div');\n",
              "        docLink.innerHTML = docLinkHtml;\n",
              "        element.appendChild(docLink);\n",
              "      }\n",
              "    </script>\n",
              "  </div>\n",
              "\n",
              "\n",
              "<div id=\"df-2f64d81e-0375-49e3-884b-2badf623e1bc\">\n",
              "  <button class=\"colab-df-quickchart\" onclick=\"quickchart('df-2f64d81e-0375-49e3-884b-2badf623e1bc')\"\n",
              "            title=\"Suggest charts\"\n",
              "            style=\"display:none;\">\n",
              "\n",
              "<svg xmlns=\"http://www.w3.org/2000/svg\" height=\"24px\"viewBox=\"0 0 24 24\"\n",
              "     width=\"24px\">\n",
              "    <g>\n",
              "        <path d=\"M19 3H5c-1.1 0-2 .9-2 2v14c0 1.1.9 2 2 2h14c1.1 0 2-.9 2-2V5c0-1.1-.9-2-2-2zM9 17H7v-7h2v7zm4 0h-2V7h2v10zm4 0h-2v-4h2v4z\"/>\n",
              "    </g>\n",
              "</svg>\n",
              "  </button>\n",
              "\n",
              "<style>\n",
              "  .colab-df-quickchart {\n",
              "      --bg-color: #E8F0FE;\n",
              "      --fill-color: #1967D2;\n",
              "      --hover-bg-color: #E2EBFA;\n",
              "      --hover-fill-color: #174EA6;\n",
              "      --disabled-fill-color: #AAA;\n",
              "      --disabled-bg-color: #DDD;\n",
              "  }\n",
              "\n",
              "  [theme=dark] .colab-df-quickchart {\n",
              "      --bg-color: #3B4455;\n",
              "      --fill-color: #D2E3FC;\n",
              "      --hover-bg-color: #434B5C;\n",
              "      --hover-fill-color: #FFFFFF;\n",
              "      --disabled-bg-color: #3B4455;\n",
              "      --disabled-fill-color: #666;\n",
              "  }\n",
              "\n",
              "  .colab-df-quickchart {\n",
              "    background-color: var(--bg-color);\n",
              "    border: none;\n",
              "    border-radius: 50%;\n",
              "    cursor: pointer;\n",
              "    display: none;\n",
              "    fill: var(--fill-color);\n",
              "    height: 32px;\n",
              "    padding: 0;\n",
              "    width: 32px;\n",
              "  }\n",
              "\n",
              "  .colab-df-quickchart:hover {\n",
              "    background-color: var(--hover-bg-color);\n",
              "    box-shadow: 0 1px 2px rgba(60, 64, 67, 0.3), 0 1px 3px 1px rgba(60, 64, 67, 0.15);\n",
              "    fill: var(--button-hover-fill-color);\n",
              "  }\n",
              "\n",
              "  .colab-df-quickchart-complete:disabled,\n",
              "  .colab-df-quickchart-complete:disabled:hover {\n",
              "    background-color: var(--disabled-bg-color);\n",
              "    fill: var(--disabled-fill-color);\n",
              "    box-shadow: none;\n",
              "  }\n",
              "\n",
              "  .colab-df-spinner {\n",
              "    border: 2px solid var(--fill-color);\n",
              "    border-color: transparent;\n",
              "    border-bottom-color: var(--fill-color);\n",
              "    animation:\n",
              "      spin 1s steps(1) infinite;\n",
              "  }\n",
              "\n",
              "  @keyframes spin {\n",
              "    0% {\n",
              "      border-color: transparent;\n",
              "      border-bottom-color: var(--fill-color);\n",
              "      border-left-color: var(--fill-color);\n",
              "    }\n",
              "    20% {\n",
              "      border-color: transparent;\n",
              "      border-left-color: var(--fill-color);\n",
              "      border-top-color: var(--fill-color);\n",
              "    }\n",
              "    30% {\n",
              "      border-color: transparent;\n",
              "      border-left-color: var(--fill-color);\n",
              "      border-top-color: var(--fill-color);\n",
              "      border-right-color: var(--fill-color);\n",
              "    }\n",
              "    40% {\n",
              "      border-color: transparent;\n",
              "      border-right-color: var(--fill-color);\n",
              "      border-top-color: var(--fill-color);\n",
              "    }\n",
              "    60% {\n",
              "      border-color: transparent;\n",
              "      border-right-color: var(--fill-color);\n",
              "    }\n",
              "    80% {\n",
              "      border-color: transparent;\n",
              "      border-right-color: var(--fill-color);\n",
              "      border-bottom-color: var(--fill-color);\n",
              "    }\n",
              "    90% {\n",
              "      border-color: transparent;\n",
              "      border-bottom-color: var(--fill-color);\n",
              "    }\n",
              "  }\n",
              "</style>\n",
              "\n",
              "  <script>\n",
              "    async function quickchart(key) {\n",
              "      const quickchartButtonEl =\n",
              "        document.querySelector('#' + key + ' button');\n",
              "      quickchartButtonEl.disabled = true;  // To prevent multiple clicks.\n",
              "      quickchartButtonEl.classList.add('colab-df-spinner');\n",
              "      try {\n",
              "        const charts = await google.colab.kernel.invokeFunction(\n",
              "            'suggestCharts', [key], {});\n",
              "      } catch (error) {\n",
              "        console.error('Error during call to suggestCharts:', error);\n",
              "      }\n",
              "      quickchartButtonEl.classList.remove('colab-df-spinner');\n",
              "      quickchartButtonEl.classList.add('colab-df-quickchart-complete');\n",
              "    }\n",
              "    (() => {\n",
              "      let quickchartButtonEl =\n",
              "        document.querySelector('#df-2f64d81e-0375-49e3-884b-2badf623e1bc button');\n",
              "      quickchartButtonEl.style.display =\n",
              "        google.colab.kernel.accessAllowed ? 'block' : 'none';\n",
              "    })();\n",
              "  </script>\n",
              "</div>\n",
              "\n",
              "  <div id=\"id_9d7f54a8-53af-4bd8-863a-5f466f465558\">\n",
              "    <style>\n",
              "      .colab-df-generate {\n",
              "        background-color: #E8F0FE;\n",
              "        border: none;\n",
              "        border-radius: 50%;\n",
              "        cursor: pointer;\n",
              "        display: none;\n",
              "        fill: #1967D2;\n",
              "        height: 32px;\n",
              "        padding: 0 0 0 0;\n",
              "        width: 32px;\n",
              "      }\n",
              "\n",
              "      .colab-df-generate:hover {\n",
              "        background-color: #E2EBFA;\n",
              "        box-shadow: 0px 1px 2px rgba(60, 64, 67, 0.3), 0px 1px 3px 1px rgba(60, 64, 67, 0.15);\n",
              "        fill: #174EA6;\n",
              "      }\n",
              "\n",
              "      [theme=dark] .colab-df-generate {\n",
              "        background-color: #3B4455;\n",
              "        fill: #D2E3FC;\n",
              "      }\n",
              "\n",
              "      [theme=dark] .colab-df-generate:hover {\n",
              "        background-color: #434B5C;\n",
              "        box-shadow: 0px 1px 3px 1px rgba(0, 0, 0, 0.15);\n",
              "        filter: drop-shadow(0px 1px 2px rgba(0, 0, 0, 0.3));\n",
              "        fill: #FFFFFF;\n",
              "      }\n",
              "    </style>\n",
              "    <button class=\"colab-df-generate\" onclick=\"generateWithVariable('neww')\"\n",
              "            title=\"Generate code using this dataframe.\"\n",
              "            style=\"display:none;\">\n",
              "\n",
              "  <svg xmlns=\"http://www.w3.org/2000/svg\" height=\"24px\"viewBox=\"0 0 24 24\"\n",
              "       width=\"24px\">\n",
              "    <path d=\"M7,19H8.4L18.45,9,17,7.55,7,17.6ZM5,21V16.75L18.45,3.32a2,2,0,0,1,2.83,0l1.4,1.43a1.91,1.91,0,0,1,.58,1.4,1.91,1.91,0,0,1-.58,1.4L9.25,21ZM18.45,9,17,7.55Zm-12,3A5.31,5.31,0,0,0,4.9,8.1,5.31,5.31,0,0,0,1,6.5,5.31,5.31,0,0,0,4.9,4.9,5.31,5.31,0,0,0,6.5,1,5.31,5.31,0,0,0,8.1,4.9,5.31,5.31,0,0,0,12,6.5,5.46,5.46,0,0,0,6.5,12Z\"/>\n",
              "  </svg>\n",
              "    </button>\n",
              "    <script>\n",
              "      (() => {\n",
              "      const buttonEl =\n",
              "        document.querySelector('#id_9d7f54a8-53af-4bd8-863a-5f466f465558 button.colab-df-generate');\n",
              "      buttonEl.style.display =\n",
              "        google.colab.kernel.accessAllowed ? 'block' : 'none';\n",
              "\n",
              "      buttonEl.onclick = () => {\n",
              "        google.colab.notebook.generateWithVariable('neww');\n",
              "      }\n",
              "      })();\n",
              "    </script>\n",
              "  </div>\n",
              "\n",
              "    </div>\n",
              "  </div>\n"
            ],
            "application/vnd.google.colaboratory.intrinsic+json": {
              "type": "dataframe",
              "variable_name": "neww",
              "summary": "{\n  \"name\": \"neww\",\n  \"rows\": 44,\n  \"fields\": [\n    {\n      \"column\": \"Actual\",\n      \"properties\": {\n        \"dtype\": \"number\",\n        \"std\": 316.2373637101991,\n        \"min\": 21238.80078125,\n        \"max\": 22493.55078125,\n        \"num_unique_values\": 44,\n        \"samples\": [\n          22405.599600195885,\n          21840.0507816826,\n          21910.750001054257\n        ],\n        \"semantic_type\": \"\",\n        \"description\": \"\"\n      }\n    },\n    {\n      \"column\": \"Predicted\",\n      \"properties\": {\n        \"dtype\": \"number\",\n        \"std\": 261.0764833467883,\n        \"min\": 21484.286986365914,\n        \"max\": 22383.668868884444,\n        \"num_unique_values\": 44,\n        \"samples\": [\n          22170.517582014203,\n          21748.52359841764,\n          21844.795421659946\n        ],\n        \"semantic_type\": \"\",\n        \"description\": \"\"\n      }\n    },\n    {\n      \"column\": \"Difference\",\n      \"properties\": {\n        \"dtype\": \"number\",\n        \"std\": 185.32130965359758,\n        \"min\": -494.1925597116351,\n        \"max\": 436.46077989041805,\n        \"num_unique_values\": 44,\n        \"samples\": [\n          235.08201818168163,\n          91.5271832649596,\n          65.95457939431071\n        ],\n        \"semantic_type\": \"\",\n        \"description\": \"\"\n      }\n    }\n  ]\n}"
            }
          },
          "metadata": {},
          "execution_count": 361
        }
      ]
    },
    {
      "cell_type": "code",
      "source": [],
      "metadata": {
        "id": "skgaiLmpxcns"
      },
      "execution_count": 361,
      "outputs": []
    }
  ]
}